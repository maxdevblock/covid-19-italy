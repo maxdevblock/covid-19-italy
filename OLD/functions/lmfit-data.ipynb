{
 "cells": [
  {
   "cell_type": "markdown",
   "metadata": {},
   "source": [
    "# Functions evaluation"
   ]
  },
  {
   "cell_type": "code",
   "execution_count": 3,
   "metadata": {},
   "outputs": [
    {
     "name": "stderr",
     "output_type": "stream",
     "text": [
      "\n",
      "Bad key \"text.kerning_factor\" on line 4 in\n",
      "/Users/massimopierini/opt/anaconda3/envs/covid/lib/python3.7/site-packages/matplotlib/mpl-data/stylelib/_classic_test_patch.mplstyle.\n",
      "You probably need to get an updated matplotlibrc file from\n",
      "http://github.com/matplotlib/matplotlib/blob/master/matplotlibrc.template\n",
      "or from the matplotlib source distribution\n"
     ]
    }
   ],
   "source": [
    "import json\n",
    "import urllib.request as ur\n",
    "from tqdm.notebook import tqdm\n",
    "import datetime as dt\n",
    "\n",
    "import xarray as xr\n",
    "import numpy as np\n",
    "import pandas as pd\n",
    "\n",
    "import lmfit\n",
    "import numdifftools\n",
    "import corner\n",
    "from scipy.stats import f_oneway\n",
    "\n",
    "from matplotlib import pyplot as plt\n",
    "\n",
    "from IPython.display import display, Markdown\n",
    "\n",
    "_np = np.seterr(all=\"ignore\", divide=\"raise\")"
   ]
  },
  {
   "cell_type": "code",
   "execution_count": 4,
   "metadata": {},
   "outputs": [],
   "source": [
    "url = 'https://raw.githubusercontent.com/maxdevblock/covid-19-time-series/master/json/COVID-COUNTRIES.json'\n",
    "with ur.urlopen(url) as _url:\n",
    "    _data = json.loads(_url.read().decode())"
   ]
  },
  {
   "cell_type": "code",
   "execution_count": 3,
   "metadata": {},
   "outputs": [],
   "source": [
    "def gompertz_function(x, a, b, k, e):\n",
    "    exp = - np.exp(k * (b - x))\n",
    "    return a * np.exp(exp) + e"
   ]
  },
  {
   "cell_type": "code",
   "execution_count": 4,
   "metadata": {},
   "outputs": [],
   "source": [
    "def double_gompertz_function(x, a1, b1, k1, a2, b2, k2, e):\n",
    "    exp1 = - np.exp(k1 * (b1 - x))\n",
    "    g1 = a1 * np.exp(exp1)\n",
    "    exp2 = - np.exp(k2 * (b2 - x))\n",
    "    g2 = (a2 - a1) * np.exp(exp2)\n",
    "    return g1 + g2 + e"
   ]
  },
  {
   "cell_type": "code",
   "execution_count": 5,
   "metadata": {},
   "outputs": [],
   "source": [
    "def logit_function(x, a, b, k, e):\n",
    "    d = k * (b - np.array(x))\n",
    "    return (a / (1 + np.exp(d))) + e"
   ]
  },
  {
   "cell_type": "code",
   "execution_count": 6,
   "metadata": {},
   "outputs": [],
   "source": [
    "def double_logit_function(x, a1, b1, k1, a2, b2, k2, e):\n",
    "    d1 = k1 * (b1 - np.array(x))\n",
    "    l1 = a1 / (1 + np.exp(d1))\n",
    "    d2 = k2 * (b2 - np.array(x))\n",
    "    l2 = (a2 - a1) / (1 + np.exp(d2))\n",
    "    return l1 + l2 + e"
   ]
  },
  {
   "cell_type": "code",
   "execution_count": 7,
   "metadata": {},
   "outputs": [],
   "source": [
    "def guessed_params(function, model, y):\n",
    "    dy = pd.Series(y).diff()\n",
    "    max_y_i = y.argmax()\n",
    "    \n",
    "    if function == gompertz_function:\n",
    "        p = model.make_params(\n",
    "            a=y[-1],\n",
    "            b=max_y_i,\n",
    "            k=.1,\n",
    "            e=y[0]\n",
    "        )\n",
    "    \n",
    "    if function == logit_function:\n",
    "        p = model.make_params(\n",
    "            a=y[-1],\n",
    "            b=max_y_i,\n",
    "            k=.1,\n",
    "            e=y[0]\n",
    "        )\n",
    "    \n",
    "    if function in [double_logit_function, double_gompertz_function]:\n",
    "        p = model.make_params(\n",
    "            a1=y[max_y_i] * 2,\n",
    "            b1=max_y_i,\n",
    "            k1=.1,\n",
    "            a2=max(y),\n",
    "            b2=len(y),\n",
    "            k2=.1,\n",
    "            e=y[0]\n",
    "        )\n",
    "    \n",
    "    return p"
   ]
  },
  {
   "cell_type": "code",
   "execution_count": 8,
   "metadata": {},
   "outputs": [],
   "source": [
    "def get_stats(country, function, print_res=False):\n",
    "    x_dates = np.array(list(_data[country][\"Confirmed\"].keys()))\n",
    "    x = np.arange(0, len(x_dates))\n",
    "    y = np.array(list(_data[country][\"Confirmed\"].values()))\n",
    "    \n",
    "    # define model\n",
    "    model = lmfit.Model(function)\n",
    "    \n",
    "    p = guessed_params(function, model, y)\n",
    "    \n",
    "    # get model fit optimal results\n",
    "    result = model.fit(data=y, params=p, x=x, method='Nelder', nan_policy='omit')\n",
    "\n",
    "    if print_res:\n",
    "        lmfit.report_fit(result)\n",
    "        result.plot()\n",
    "        plt.show()\n",
    "    \n",
    "        # get stats for model fit\n",
    "        emcee_kws = dict(\n",
    "            steps=1000, burn=300, thin=20, is_weighted=False, progress=False\n",
    "        )\n",
    "        emcee_params = result.params.copy()\n",
    "        emcee_params.add('__lnsigma', value=np.log(0.1), min=np.log(0.001), max=np.log(2.0))\n",
    "\n",
    "        result_emcee = model.fit(\n",
    "            data=y, x=x, params=emcee_params, method='emcee',\n",
    "            nan_policy='omit', fit_kws=emcee_kws\n",
    "        )\n",
    "\n",
    "        lmfit.report_fit(result_emcee)\n",
    "\n",
    "        ax = plt.plot(x, model.eval(params=result.params, x=x), label='Nelder', zorder=100)\n",
    "        result_emcee.plot_fit(ax=ax, data_kws=dict(color='gray', markersize=2))\n",
    "        plt.show()\n",
    "\n",
    "        plt.plot(result_emcee.acceptance_fraction)\n",
    "        plt.xlabel('walker')\n",
    "        plt.ylabel('acceptance fraction')\n",
    "        plt.show()\n",
    "\n",
    "        if hasattr(result_emcee, \"acor\"):\n",
    "            print(\"Autocorrelation time for the parameters:\")\n",
    "            print(\"----------------------------------------\")\n",
    "            for i, p in enumerate(result.params):\n",
    "                print(p, result.acor[i])\n",
    "\n",
    "        emcee_corner = corner.corner(\n",
    "            result_emcee.flatchain, labels=result_emcee.var_names,\n",
    "            truths=list(result_emcee.params.valuesdict().values())\n",
    "        )\n",
    "        plt.show()\n",
    "\n",
    "    return result"
   ]
  },
  {
   "cell_type": "code",
   "execution_count": 10,
   "metadata": {
    "scrolled": false
   },
   "outputs": [
    {
     "data": {
      "application/vnd.jupyter.widget-view+json": {
       "model_id": "507dd45f7af4455b82d768d8a61ac4e9",
       "version_major": 2,
       "version_minor": 0
      },
      "text/plain": [
       "HBox(children=(FloatProgress(value=0.0, max=185.0), HTML(value='')))"
      ]
     },
     "metadata": {},
     "output_type": "display_data"
    },
    {
     "name": "stdout",
     "output_type": "stream",
     "text": [
      "Yemen - <function gompertz_function at 0x1a1a4c8a70> ERR divide by zero encountered in log\n",
      "Yemen - <function logit_function at 0x1a1a4c8e60> ERR divide by zero encountered in double_scalars\n",
      "\n"
     ]
    }
   ],
   "source": [
    "functions = [gompertz_function, logit_function, double_gompertz_function, double_logit_function]\n",
    "\n",
    "cols = [\"countries\"]\n",
    "for function in functions:\n",
    "    func_name = function.__name__.replace(\"_\", \" \").title()\n",
    "    cols.append(func_name)\n",
    "\n",
    "results = []\n",
    "\n",
    "for i, country in enumerate(tqdm(list(_data.keys()))):\n",
    "    results.append([f\"{country}\"])\n",
    "    results[i].append(np.array(list(_data[country][\"Confirmed\"].values())))\n",
    "    f_stats = {\"best_fit\": [], \"residual\": []}\n",
    "    for function in functions:\n",
    "        try:\n",
    "            result = get_stats(country, function, print_res=False)\n",
    "            results[i].append(result)\n",
    "        except Exception as err:\n",
    "            print(f\"{country} - {function} ERR {err}\")"
   ]
  },
  {
   "cell_type": "code",
   "execution_count": 11,
   "metadata": {},
   "outputs": [],
   "source": [
    "cols = [\"countries\", \"measured\"]\n",
    "for function in functions:\n",
    "    func_name = function.__name__.replace(\"_\", \" \").title()\n",
    "    cols.append(func_name)\n",
    "\n",
    "res_df = pd.DataFrame(data=results, columns=cols)\n",
    "res_df.set_index(\"countries\", inplace=True)"
   ]
  },
  {
   "cell_type": "code",
   "execution_count": 18,
   "metadata": {},
   "outputs": [],
   "source": [
    "today = dt.datetime.now().strftime(\"%Y-%m-%d\")\n",
    "res_df.to_pickle(f\"data-confirmed-{today}.pkl\")"
   ]
  },
  {
   "cell_type": "code",
   "execution_count": 17,
   "metadata": {},
   "outputs": [
    {
     "data": {
      "text/plain": [
       "'2020-04-29'"
      ]
     },
     "execution_count": 17,
     "metadata": {},
     "output_type": "execute_result"
    }
   ],
   "source": []
  },
  {
   "cell_type": "code",
   "execution_count": 157,
   "metadata": {},
   "outputs": [
    {
     "data": {
      "text/html": [
       "<h2> Model</h2> Model(logit_function) <h2>Fit Statistics</h2><table><tr><td>fitting method</td><td>Nelder-Mead</td><td></td></tr><tr><td># function evals</td><td>652</td><td></td></tr><tr><td># data points</td><td>97</td><td></td></tr><tr><td># variables</td><td>4</td><td></td></tr><tr><td>chi-square</td><td> 3.2353e+08</td><td></td></tr><tr><td>reduced chi-square</td><td> 3478787.88</td><td></td></tr><tr><td>Akaike info crit.</td><td> 1464.94805</td><td></td></tr><tr><td>Bayesian info crit.</td><td> 1475.24689</td><td></td></tr></table><h2>Variables</h2><table><tr><th> name </th><th> value </th><th> standard error </th><th> relative error </th><th> initial value </th><th> min </th><th> max </th><th> vary </th></tr><tr><td> a </td><td>  84324.2517 </td><td>  1158.82150 </td><td> (1.37%) </td><td> 83918 </td><td>        -inf </td><td>         inf </td><td> True </td></tr><tr><td> b </td><td>  17.6135611 </td><td>  0.21768840 </td><td> (1.24%) </td><td> 96 </td><td>        -inf </td><td>         inf </td><td> True </td></tr><tr><td> k </td><td>  0.20410178 </td><td>  0.00709834 </td><td> (3.48%) </td><td> 0.1 </td><td>        -inf </td><td>         inf </td><td> True </td></tr><tr><td> e </td><td> -2132.40120 </td><td>  1091.08524 </td><td> (51.17%) </td><td> 548 </td><td>        -inf </td><td>         inf </td><td> True </td></tr></table><h2>Correlations (unreported correlations are < 0.100)</h2><table><tr><td>a</td><td>e</td><td>-0.9785</td></tr><tr><td>b</td><td>e</td><td>0.8128</td></tr><tr><td>a</td><td>k</td><td>-0.7746</td></tr><tr><td>a</td><td>b</td><td>-0.7566</td></tr><tr><td>k</td><td>e</td><td>0.7511</td></tr><tr><td>b</td><td>k</td><td>0.5817</td></tr></table>"
      ],
      "text/plain": [
       "<lmfit.model.ModelResult at 0x1a1c700490>"
      ]
     },
     "execution_count": 157,
     "metadata": {},
     "output_type": "execute_result"
    }
   ],
   "source": [
    "res_df[\"Logit Function\"][\"China\"]"
   ]
  },
  {
   "cell_type": "code",
   "execution_count": 2,
   "metadata": {},
   "outputs": [
    {
     "ename": "NameError",
     "evalue": "name 'res_df' is not defined",
     "output_type": "error",
     "traceback": [
      "\u001b[0;31m---------------------------------------------------------------------------\u001b[0m",
      "\u001b[0;31mNameError\u001b[0m                                 Traceback (most recent call last)",
      "\u001b[0;32m<ipython-input-2-6e3f1b8d999b>\u001b[0m in \u001b[0;36m<module>\u001b[0;34m\u001b[0m\n\u001b[0;32m----> 1\u001b[0;31m \u001b[0mres_df\u001b[0m\u001b[0;34m[\u001b[0m\u001b[0;34m\"measured\"\u001b[0m\u001b[0;34m]\u001b[0m\u001b[0;34m\u001b[0m\u001b[0;34m\u001b[0m\u001b[0m\n\u001b[0m",
      "\u001b[0;31mNameError\u001b[0m: name 'res_df' is not defined"
     ]
    }
   ],
   "source": [
    "res_df[\"measured\"]"
   ]
  },
  {
   "cell_type": "code",
   "execution_count": null,
   "metadata": {},
   "outputs": [],
   "source": []
  }
 ],
 "metadata": {
  "kernelspec": {
   "display_name": "Python 3",
   "language": "python",
   "name": "python3"
  },
  "language_info": {
   "codemirror_mode": {
    "name": "ipython",
    "version": 3
   },
   "file_extension": ".py",
   "mimetype": "text/x-python",
   "name": "python",
   "nbconvert_exporter": "python",
   "pygments_lexer": "ipython3",
   "version": "3.7.7"
  }
 },
 "nbformat": 4,
 "nbformat_minor": 4
}
