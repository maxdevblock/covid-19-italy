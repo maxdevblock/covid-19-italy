{
 "cells": [
  {
   "cell_type": "markdown",
   "metadata": {},
   "source": [
    "# Models fitting"
   ]
  },
  {
   "cell_type": "code",
   "execution_count": 1,
   "metadata": {},
   "outputs": [],
   "source": [
    "import json\n",
    "import urllib.request as ur\n",
    "from tqdm.notebook import tqdm\n",
    "import datetime as dt\n",
    "\n",
    "import numpy as np\n",
    "import pandas as pd\n",
    "\n",
    "import lmfit\n",
    "\n",
    "_np = np.seterr(all=\"ignore\", divide=\"raise\")"
   ]
  },
  {
   "cell_type": "code",
   "execution_count": 2,
   "metadata": {},
   "outputs": [],
   "source": [
    "url = 'https://raw.githubusercontent.com/maxdevblock/covid-19-time-series/master/json/COVID-COUNTRIES.json'\n",
    "with ur.urlopen(url) as _url:\n",
    "    _data = json.loads(_url.read().decode())"
   ]
  },
  {
   "cell_type": "code",
   "execution_count": 3,
   "metadata": {},
   "outputs": [],
   "source": [
    "def simple_gompertz_function(x, a, b, k, e):\n",
    "    exp = - np.exp(k * (b - x))\n",
    "    return a * np.exp(exp) + e"
   ]
  },
  {
   "cell_type": "code",
   "execution_count": 4,
   "metadata": {},
   "outputs": [],
   "source": [
    "def double_gompertz_function(x, a1, b1, k1, a2, b2, k2, e):\n",
    "    exp1 = - np.exp(k1 * (b1 - x))\n",
    "    g1 = a1 * np.exp(exp1)\n",
    "    exp2 = - np.exp(k2 * (b2 - x))\n",
    "    g2 = (a2 - a1) * np.exp(exp2)\n",
    "    return g1 + g2 + e"
   ]
  },
  {
   "cell_type": "code",
   "execution_count": 5,
   "metadata": {},
   "outputs": [],
   "source": [
    "def simple_logistic_function(x, a, b, k, e):\n",
    "    d = k * (b - np.array(x))\n",
    "    return (a / (1 + np.exp(d))) + e"
   ]
  },
  {
   "cell_type": "code",
   "execution_count": 6,
   "metadata": {},
   "outputs": [],
   "source": [
    "def double_logistic_function(x, a1, b1, k1, a2, b2, k2, e):\n",
    "    d1 = k1 * (b1 - np.array(x))\n",
    "    l1 = a1 / (1 + np.exp(d1))\n",
    "    d2 = k2 * (b2 - np.array(x))\n",
    "    l2 = (a2 - a1) / (1 + np.exp(d2))\n",
    "    return l1 + l2 + e"
   ]
  },
  {
   "cell_type": "code",
   "execution_count": 7,
   "metadata": {},
   "outputs": [],
   "source": [
    "def guessed_params(function, model, y):\n",
    "    dy = pd.Series(y).diff()\n",
    "    max_y_i = dy.argmax()\n",
    "    \n",
    "    if function == simple_gompertz_function:\n",
    "        p = model.make_params(\n",
    "            a=y[-1],\n",
    "            b=max_y_i,\n",
    "            k=.1,\n",
    "            e=y[0]\n",
    "        )\n",
    "    \n",
    "    if function == simple_logistic_function:\n",
    "        p = model.make_params(\n",
    "            a=y[-1],\n",
    "            b=max_y_i,\n",
    "            k=.1,\n",
    "            e=y[0]\n",
    "        )\n",
    "    \n",
    "    if function in [double_logistic_function, double_gompertz_function]:\n",
    "        p = model.make_params(\n",
    "            a1=y[max_y_i] * 2,\n",
    "            b1=max_y_i,\n",
    "            k1=.1,\n",
    "            a2=max(y),\n",
    "            b2=len(y),\n",
    "            k2=.1,\n",
    "            e=y[0]\n",
    "        )\n",
    "    \n",
    "    return p"
   ]
  },
  {
   "cell_type": "code",
   "execution_count": 8,
   "metadata": {},
   "outputs": [],
   "source": [
    "def get_stats(country, function, print_res=False):\n",
    "    x_dates = np.array(list(_data[country][\"Confirmed\"].keys()))\n",
    "    x = np.arange(0, len(x_dates))\n",
    "    y = np.array(list(_data[country][\"Confirmed\"].values()))\n",
    "    \n",
    "    # define model\n",
    "    model = lmfit.Model(function)\n",
    "    \n",
    "    p = guessed_params(function, model, y)\n",
    "    \n",
    "    # get model fit optimal results\n",
    "    result = model.fit(data=y, params=p, x=x, method='Nelder', nan_policy='omit')\n",
    "\n",
    "    if print_res:\n",
    "        lmfit.report_fit(result)\n",
    "        result.plot()\n",
    "        plt.show()\n",
    "    \n",
    "        # get stats for model fit\n",
    "        emcee_kws = dict(\n",
    "            steps=1000, burn=300, thin=20, is_weighted=False, progress=False\n",
    "        )\n",
    "        emcee_params = result.params.copy()\n",
    "        emcee_params.add('__lnsigma', value=np.log(0.1), min=np.log(0.001), max=np.log(2.0))\n",
    "\n",
    "        result_emcee = model.fit(\n",
    "            data=y, x=x, params=emcee_params, method='emcee',\n",
    "            nan_policy='omit', fit_kws=emcee_kws\n",
    "        )\n",
    "\n",
    "        lmfit.report_fit(result_emcee)\n",
    "\n",
    "        ax = plt.plot(x, model.eval(params=result.params, x=x), label='Nelder', zorder=100)\n",
    "        result_emcee.plot_fit(ax=ax, data_kws=dict(color='gray', markersize=2))\n",
    "        plt.show()\n",
    "\n",
    "        plt.plot(result_emcee.acceptance_fraction)\n",
    "        plt.xlabel('walker')\n",
    "        plt.ylabel('acceptance fraction')\n",
    "        plt.show()\n",
    "\n",
    "        if hasattr(result_emcee, \"acor\"):\n",
    "            print(\"Autocorrelation time for the parameters:\")\n",
    "            print(\"----------------------------------------\")\n",
    "            for i, p in enumerate(result.params):\n",
    "                print(p, result.acor[i])\n",
    "\n",
    "        emcee_corner = corner.corner(\n",
    "            result_emcee.flatchain, labels=result_emcee.var_names,\n",
    "            truths=list(result_emcee.params.valuesdict().values())\n",
    "        )\n",
    "        plt.show()\n",
    "\n",
    "    return result"
   ]
  },
  {
   "cell_type": "code",
   "execution_count": 9,
   "metadata": {
    "scrolled": false
   },
   "outputs": [
    {
     "data": {
      "application/vnd.jupyter.widget-view+json": {
       "model_id": "13a7f2073dd44991bf53ce37e84d80e4",
       "version_major": 2,
       "version_minor": 0
      },
      "text/plain": [
       "HBox(children=(FloatProgress(value=0.0, max=187.0), HTML(value='')))"
      ]
     },
     "metadata": {},
     "output_type": "display_data"
    },
    {
     "name": "stdout",
     "output_type": "stream",
     "text": [
      "\n"
     ]
    }
   ],
   "source": [
    "functions = [simple_gompertz_function, simple_logistic_function, double_gompertz_function, double_logistic_function]\n",
    "\n",
    "cols = [\"countries\"]\n",
    "for function in functions:\n",
    "    func_name = function.__name__.replace(\"_\", \" \").title()\n",
    "    cols.append(func_name)\n",
    "\n",
    "results = []\n",
    "\n",
    "for i, country in enumerate(tqdm(list(_data.keys()))):\n",
    "    results.append([f\"{country}\"])\n",
    "    results[i].append(np.array(list(_data[country][\"Confirmed\"].values())))\n",
    "    f_stats = {\"best_fit\": [], \"residual\": []}\n",
    "    for function in functions:\n",
    "        try:\n",
    "            result = get_stats(country, function, print_res=False)\n",
    "            results[i].append(result)\n",
    "        except Exception as err:\n",
    "            print(f\"{country} - {function} ERR {err}\")"
   ]
  },
  {
   "cell_type": "code",
   "execution_count": 10,
   "metadata": {},
   "outputs": [],
   "source": [
    "cols = [\"countries\", \"measured\"]\n",
    "for function in functions:\n",
    "    func_name = function.__name__.replace(\"_\", \" \").title()\n",
    "    cols.append(func_name)\n",
    "\n",
    "res_df = pd.DataFrame(data=results, columns=cols)\n",
    "res_df.set_index(\"countries\", inplace=True)"
   ]
  },
  {
   "cell_type": "code",
   "execution_count": 11,
   "metadata": {},
   "outputs": [],
   "source": [
    "today = dt.datetime.now().strftime(\"%Y-%m-%d\")\n",
    "res_df.to_pickle(f\"data-confirmed-{today}.pkl\")"
   ]
  },
  {
   "cell_type": "code",
   "execution_count": null,
   "metadata": {},
   "outputs": [],
   "source": []
  }
 ],
 "metadata": {
  "kernelspec": {
   "display_name": "Python 3",
   "language": "python",
   "name": "python3"
  },
  "language_info": {
   "codemirror_mode": {
    "name": "ipython",
    "version": 3
   },
   "file_extension": ".py",
   "mimetype": "text/x-python",
   "name": "python",
   "nbconvert_exporter": "python",
   "pygments_lexer": "ipython3",
   "version": "3.7.7"
  }
 },
 "nbformat": 4,
 "nbformat_minor": 4
}
