{
 "cells": [
  {
   "cell_type": "markdown",
   "metadata": {},
   "source": [
    "$y$ measured - observed\n",
    "\n",
    "$\\hat{y}$ fitted - expected\n",
    "\n",
    "***"
   ]
  },
  {
   "cell_type": "markdown",
   "metadata": {},
   "source": [
    "- Varianza\n",
    "- MSE, Mean Squared Error\n",
    "- mean squared deviation (MSD)\n",
    "- Errore quadratico medio\n",
    "\n",
    "$$ \\mathbf{MSE} = \\sigma_y^2 = \\frac{1}{n} \\sum (y - \\hat{y})^2 $$"
   ]
  },
  {
   "cell_type": "markdown",
   "metadata": {},
   "source": [
    "- RMSE, Root Mean Squared Error\n",
    "- SCOSTAMENTO MEDIO\n",
    "- media quadratica degli scostamenti\n",
    "- Scarto quadratico medio\n",
    "- deviazione standard\n",
    "\n",
    "$$ \\mathbf{RMSE} = \\mathbf{S_m} = \\sigma_y = \\sqrt{ \\frac{1}{n} \\sum \\left( y - \\hat{y} \\right)^2 } $$\n",
    "\n",
    "Root mean‐squared error (RMSE) is very commonly used as a measure of deviation from the observed value. Although is has been criticized as being ambiguous [Willmott and Matsuura, 2006](https://agupubs.onlinelibrary.wiley.com/doi/10.1029/2008JD010100#jgrd14842-bib-0064) and its dependence on the squared error means that it is not resistant to outliers deviating from a Gaussian distribution. Sensitivity to large outliers."
   ]
  },
  {
   "cell_type": "markdown",
   "metadata": {},
   "source": [
    "- Indice di scostamento quadratico - INDICE QUADRATICO RELATIVO\n",
    "- Normalized Root Mean Square Error (NRMSE)\n",
    "\n",
    "$$ \\mathbf{I}_2 = \\mathbf{NRMSE} = \\frac{ \\mathbf{RMSE}}{\\frac{1}{n} \\sum{\\hat{y}} } = \n",
    "\\frac{\n",
    "    \\sqrt{ \\frac{1}{n} \\sum \\left( y - \\hat{y} \\right)^2 }\n",
    "}{\n",
    "    \\frac{1}{n} \\sum{\\hat{y}}\n",
    "}\n",
    "$$"
   ]
  },
  {
   "cell_type": "markdown",
   "metadata": {},
   "source": [
    "SCOSTAMENTO RELATIVO\n",
    "\n",
    "$$ \\mathbf{S_r} = \\sqrt{ \n",
    "\\frac{ \\sum \\left( y - \\hat{y} \\right)^2 }{ \\sum y^2 }\n",
    "}\n",
    "$$"
   ]
  },
  {
   "cell_type": "markdown",
   "metadata": {},
   "source": [
    "***"
   ]
  },
  {
   "cell_type": "markdown",
   "metadata": {},
   "source": [
    "- MAE, Mean Absolute Error\n",
    "- mean deviation\n",
    "- mean absolute deviation\n",
    "- scarto medio assoluto\n",
    "- scarto medio semplice\n",
    "- errore medio assoluto\n",
    "\n",
    "$$ \\mathbf{MAE} = \\mathbf{MD} = \\frac{ \\sum \\left| y - \\hat{y} \\right| }{ n }$$\n",
    "\n",
    "Mean absolute error (MAE) is a natural, unambiguous, measure of average error [Willmott and Matsuura, 2006](https://agupubs.onlinelibrary.wiley.com/doi/10.1029/2008JD010100#jgrd14842-bib-0064). It shows the errors in the same unit as the variable itself. MAE is bounded below by 0 (best case) and unbounded above."
   ]
  },
  {
   "cell_type": "markdown",
   "metadata": {},
   "source": [
    "- INDICE LINEARE RELATIVO\n",
    "- Normalized Absolute Error (NAE) ???\n",
    "\n",
    "$$ \\mathbf{I}_1 = \\mathbf{NAE} = \n",
    "\\frac{\n",
    "    \\sum \\left| y - \\hat{y} \\right|\n",
    "}{\n",
    "    \\sum{\\hat{y}}\n",
    "}\n",
    "$$"
   ]
  },
  {
   "cell_type": "markdown",
   "metadata": {},
   "source": [
    "***"
   ]
  },
  {
   "cell_type": "markdown",
   "metadata": {},
   "source": [
    "https://en.wikipedia.org/wiki/Mean_absolute_percentage_error"
   ]
  },
  {
   "cell_type": "code",
   "execution_count": null,
   "metadata": {},
   "outputs": [],
   "source": []
  }
 ],
 "metadata": {
  "kernelspec": {
   "display_name": "Python 3",
   "language": "python",
   "name": "python3"
  },
  "language_info": {
   "codemirror_mode": {
    "name": "ipython",
    "version": 3
   },
   "file_extension": ".py",
   "mimetype": "text/x-python",
   "name": "python",
   "nbconvert_exporter": "python",
   "pygments_lexer": "ipython3",
   "version": "3.7.7"
  }
 },
 "nbformat": 4,
 "nbformat_minor": 4
}
