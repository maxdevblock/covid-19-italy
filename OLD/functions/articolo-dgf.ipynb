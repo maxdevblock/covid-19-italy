{
 "cells": [
  {
   "cell_type": "code",
   "execution_count": 1,
   "metadata": {},
   "outputs": [],
   "source": [
    "import pandas as pd\n",
    "import datetime as dt\n",
    "from IPython.display import display, Markdown"
   ]
  },
  {
   "cell_type": "code",
   "execution_count": 2,
   "metadata": {},
   "outputs": [],
   "source": [
    "def simple_gompertz_function(x, a, b, k, e):\n",
    "    exp = - np.exp(k * (b - x))\n",
    "    return a * np.exp(exp) + e\n",
    "\n",
    "def double_gompertz_function(x, a1, b1, k1, a2, b2, k2, e):\n",
    "    exp1 = - np.exp(k1 * (b1 - x))\n",
    "    g1 = a1 * np.exp(exp1)\n",
    "    exp2 = - np.exp(k2 * (b2 - x))\n",
    "    g2 = (a2 - a1) * np.exp(exp2)\n",
    "    return g1 + g2 + e\n",
    "\n",
    "def simple_logistic_function(x, a, b, k, e):\n",
    "    d = k * (b - np.array(x))\n",
    "    return (a / (1 + np.exp(d))) + e\n",
    "\n",
    "def double_logistic_function(x, a1, b1, k1, a2, b2, k2, e):\n",
    "    d1 = k1 * (b1 - np.array(x))\n",
    "    l1 = a1 / (1 + np.exp(d1))\n",
    "    d2 = k2 * (b2 - np.array(x))\n",
    "    l2 = (a2 - a1) / (1 + np.exp(d2))\n",
    "    return l1 + l2 + e"
   ]
  },
  {
   "cell_type": "code",
   "execution_count": 3,
   "metadata": {},
   "outputs": [],
   "source": [
    "today = dt.datetime.now().strftime(\"%Y-%m-%d\")\n",
    "df = pd.read_pickle(f\"data-confirmed-{today}.pkl\")\n",
    "\n",
    "countries = df[\"measured\"].size\n",
    "start = pd.Timestamp(\"2020-01-22\")\n",
    "period = df[\"measured\"][\"China\"].size\n",
    "end = start + pd.Timedelta(days=period)\n",
    "\n",
    "errors = []\n",
    "values = 0\n",
    "for f in df.columns:\n",
    "    if f == \"measured\":\n",
    "        continue\n",
    "    for c in df[f].index:\n",
    "        if not df[f][c]:\n",
    "            errors.append(c)\n",
    "        values += df[f][c].best_fit.size"
   ]
  },
  {
   "cell_type": "markdown",
   "metadata": {},
   "source": [
    "# Abstract"
   ]
  },
  {
   "cell_type": "code",
   "execution_count": 4,
   "metadata": {},
   "outputs": [
    {
     "data": {
      "text/markdown": [
       "\n",
       "Four different models have been compared for fitting SARS-nCoV-2 total cumulative cases curves in \n",
       "187 countries over a period of 102 days. Evaluated models have been: _Simple Logistic Function_ (**SLF**), \n",
       "_Simple Gompertz Function_ (**SGF**), _Double Logistic Function_ (**DLF**) and _Double Gompertz Function_ (**DGF**). \n",
       "**DGF** model showed lower MSE, RMSE, NRMSE, MAE, NAE and higher Pearson R compared to the others. \n",
       "$R^2$ ($p>.99$), $R^2_{adj}$ ($p>.99$), $\\Delta$AIC ($>0$) and $\\Delta$BIC ($p<.5$) showed higher \n",
       "percentages for **DGF** compared with the others.\n",
       "\n",
       "Results suggest that _Double Gompertz Function_ may be a good fitting model for SARS-nCoV-2 cumulative cases curve.\n",
       "    "
      ],
      "text/plain": [
       "<IPython.core.display.Markdown object>"
      ]
     },
     "metadata": {},
     "output_type": "display_data"
    }
   ],
   "source": [
    "display(\n",
    "    Markdown(f\"\"\"\n",
    "Four different models have been compared for fitting SARS-nCoV-2 total cumulative cases curves in \n",
    "{countries} countries over a period of {period} days. Evaluated models have been: _Simple Logistic Function_ (**SLF**), \n",
    "_Simple Gompertz Function_ (**SGF**), _Double Logistic Function_ (**DLF**) and _Double Gompertz Function_ (**DGF**). \n",
    "**DGF** model showed lower MSE, RMSE, NRMSE, MAE, NAE and higher Pearson R compared to the others. \n",
    "$R^2$ ($p>.99$), $R^2_{{adj}}$ ($p>.99$), $\\Delta$AIC ($>0$) and $\\Delta$BIC ($p<.5$) showed higher \n",
    "percentages for **DGF** compared with the others.\n",
    "\n",
    "Results suggest that _Double Gompertz Function_ may be a good fitting model for SARS-nCoV-2 cumulative cases curve.\n",
    "    \"\"\"    \n",
    "    )\n",
    ")"
   ]
  },
  {
   "cell_type": "markdown",
   "metadata": {},
   "source": [
    "# Methods"
   ]
  },
  {
   "cell_type": "markdown",
   "metadata": {},
   "source": [
    "## Data"
   ]
  },
  {
   "cell_type": "code",
   "execution_count": 5,
   "metadata": {},
   "outputs": [
    {
     "data": {
      "text/markdown": [
       "\n",
       "SARS-nCoV-2 total cumulative cases data have been gathered from Johns Hopkins University GitHub \n",
       "repository <cite data-cite=\"jhu\"></cite> and summed into single countries where regional level \n",
       "was provided <cite data-cite=\"maxdevblock\"></cite>. \n",
       "Data have been used \"as is\" without rejecting any outlier and/or error (negative daily $\\Delta$).\n",
       "Data and results have been stored in a `pandas` n-dimensional `DataFrame`.\n",
       "\n",
       "Raw data contained 187 countries and daily cumulative confirmed cases for \n",
       "102 days, from 2020-01-22 to 2020-05-03.\n",
       "    "
      ],
      "text/plain": [
       "<IPython.core.display.Markdown object>"
      ]
     },
     "metadata": {},
     "output_type": "display_data"
    }
   ],
   "source": [
    "display(\n",
    "    Markdown(f\"\"\"\n",
    "SARS-nCoV-2 total cumulative cases data have been gathered from Johns Hopkins University GitHub \n",
    "repository <cite data-cite=\"jhu\"></cite> and summed into single countries where regional level \n",
    "was provided <cite data-cite=\"maxdevblock\"></cite>. \n",
    "Data have been used \"as is\" without rejecting any outlier and/or error (negative daily $\\Delta$).\n",
    "Data and results have been stored in a `pandas` n-dimensional `DataFrame`.\n",
    "\n",
    "Raw data contained {countries} countries and daily cumulative confirmed cases for \n",
    "{period} days, from 2020-01-22 to {end.strftime('%Y-%m-%d')}.\n",
    "    \"\"\")\n",
    ")"
   ]
  },
  {
   "cell_type": "markdown",
   "metadata": {},
   "source": [
    "## Models"
   ]
  },
  {
   "cell_type": "markdown",
   "metadata": {},
   "source": [
    "Models have been defined with `lmfit` (implementation of classical `curve_fit` in `scipy`) using Nelder-Mead method for fitting <cite data-cite=\"maxdevblock\"></cite>.\n",
    "\n",
    "Total residual from each function have been initially compared (unsorted, sorted, gaussian distribution) to find the model with residual $\\mu$ closer to $0$ and shorter $\\sigma$. _Akaike Information Criterion_ differences ($\\Delta$**AIC**) in relative probability density space, _Bayesian Information Criterion_ differences ($\\Delta$**BIC**), $R^2$ and $R^2_{adj}$ coefficients mean have been used to find the likely better fitting model that has been finally compared, country by country. See [Appendix](#Appendix) for formulae.\n",
    "\n",
    "Models have been defined as follow:\n",
    "\n",
    "- Simple Logisic Function (**SLF**):\n",
    "\n",
    "```python\n",
    "def simple_logistic_function(x, a, b, k, e):\n",
    "    d = k * (b - np.array(x))\n",
    "    return (a / (1 + np.exp(d))) + e\n",
    "\n",
    "```\n",
    "$$ f(t) = \\frac{ a }{ 1 + e^{ k (b - t) } } + \\varepsilon $$\n",
    "\n",
    "- Double Logisic Function (**DLF**):\n",
    "\n",
    "```python\n",
    "def double_logistic_function(x, a1, b1, k1, a2, b2, k2, e):\n",
    "    d1 = k1 * (b1 - np.array(x))\n",
    "    g1 = a1 / (1 + np.exp(d1))\n",
    "    d2 = k2 * (b2 - np.array(x))\n",
    "    g2 = (a2 - a1) / (1 + np.exp(d2))\n",
    "    return g1 + g2 + e\n",
    "```\n",
    "$$ f(t) = \\frac{ a_1 }{ 1 + e^{ k_1 (b_1 - t) } } + \\frac{ a_2 - a_1 }{ 1 + e^{ k_2 (b_2 - t) } } + \\varepsilon $$\n",
    "\n",
    "- Simple Gompertz Function (**SGF**):\n",
    "\n",
    "```python\n",
    "def simple_gompertz_function(x, a, b, k, e):\n",
    "    exp = - np.exp(k * (b - x))\n",
    "    return a * np.exp(exp) + e\n",
    "```\n",
    "$$ f(t) = a \\cdot e^{ -e^{ k (b - t) } } + \\varepsilon $$\n",
    "\n",
    "- Double Gompertz Function (**DGF**):\n",
    "\n",
    "```python\n",
    "def double_gompertz_function(x, a1, b1, k1, a2, b2, k2, e):\n",
    "    exp1 = - np.exp(k1 * (b1 - x))\n",
    "    g1 = a1 * np.exp(exp1)\n",
    "    exp2 = - np.exp(k2 * (b2 - x))\n",
    "    g2 = (a2 - a1) * np.exp(exp2)\n",
    "    return g1 + g2 + e\n",
    "```\n",
    "$$ f(t) = a_1 \\cdot e^{ -e^{ k_1 (b_1 - t) } } + (a_2 - a_1) \\cdot e^{ -e^{ k_2 (b_2 - t) } } + \\varepsilon $$"
   ]
  },
  {
   "cell_type": "markdown",
   "metadata": {},
   "source": [
    "# Model fitting"
   ]
  },
  {
   "cell_type": "markdown",
   "metadata": {},
   "source": [
    "Fitting has been performed with `lmfit` using Nelder-Mead method\n",
    "\n",
    "```python\n",
    "model = lmfit.Model(function)\n",
    "result = model.fit(data=y, params=p, x=x, method='Nelder', nan_policy='omit')\n",
    "```\n",
    "\n",
    "initial parameters `p` have been guessed as follows (where $y$ are observed values):\n",
    "\n",
    "- **SLF** and **SGF**\n",
    "\n",
    "```python\n",
    "p = model.make_params(\n",
    "    a=y[-1],\n",
    "    b=max_y_i,\n",
    "    k=.1,\n",
    "    e=y[0]\n",
    ")\n",
    "```\n",
    "\n",
    "$$ a = y_{-1} $$\n",
    "$$ b = x_{\\mathbf{max}(dy)} $$\n",
    "$$ k = 0.1 $$\n",
    "$$ \\varepsilon = y_0 $$\n",
    "\n",
    "- **DLF** and **DGF**\n",
    "\n",
    "```python\n",
    "p = model.make_params(\n",
    "    a1=y[max_y_i] * 2,\n",
    "    b1=max_y_i,\n",
    "    k1=.1,\n",
    "    a2=max(y),\n",
    "    b2=len(y),\n",
    "    k2=.1,\n",
    "    e=y[0]\n",
    ")\n",
    "```\n",
    "\n",
    "$$ a_1 = 2 y_{\\mathbf{max}(dy)} $$\n",
    "$$ b_1 = x_{\\mathbf{max}(dy)} $$\n",
    "$$ k_1 = 0.1 $$\n",
    "$$ a_2 = \\mathbf{max}(y) $$\n",
    "$$ b_2 = x_{y_{-1}} $$\n",
    "$$ k_2 = 0.1 $$\n",
    "$$ \\varepsilon = y_0$$"
   ]
  },
  {
   "cell_type": "code",
   "execution_count": 6,
   "metadata": {},
   "outputs": [
    {
     "data": {
      "text/markdown": [
       "\n",
       "Fitting failed for 0 countries returning best fit information from 187 countries, \n",
       "for a total of 19074 observed and 76296 predicted values.\n",
       "\n",
       "Complete `python` backend for data gathering, fitting and analysis along \n",
       "with a `pickle` saved dataframe of all measured data and results is online \n",
       "avalaible <cite data-cite=\"maxdevblock\"></cite>.\n",
       "    "
      ],
      "text/plain": [
       "<IPython.core.display.Markdown object>"
      ]
     },
     "metadata": {},
     "output_type": "display_data"
    }
   ],
   "source": [
    "display(\n",
    "    Markdown(f\"\"\"\n",
    "Fitting failed for {len(errors)} countries returning best fit information from {countries} countries, \n",
    "for a total of {countries*period} observed and {values} predicted values.\n",
    "\n",
    "Complete `python` backend for data gathering, fitting and analysis along \n",
    "with a `pickle` saved dataframe of all measured data and results is online \n",
    "avalaible <cite data-cite=\"maxdevblock\"></cite>.\n",
    "    \"\"\")\n",
    ")"
   ]
  },
  {
   "cell_type": "markdown",
   "metadata": {},
   "source": [
    "Fitting examples are reported in figures [REF] [REF] [REF]."
   ]
  },
  {
   "cell_type": "markdown",
   "metadata": {},
   "source": [
    "# Analysis"
   ]
  },
  {
   "cell_type": "markdown",
   "metadata": {},
   "source": [
    "Several skill score have been used to evaluate to average skil and skill interpolating extreme values (outliers).\n",
    "\n",
    "Mean absolute error (**MAE**) is a natural, unambiguous, measure of average error <cite data-cite=\"willmott2006use\"></cite>. It shows the errors in the same unit as variables themselves. MAE is bounded below by 0 (best case) and unbounded above. Advantage over Mean Bias Error (**MBE**) is that, taking absolute error values, positive and negative errors can't cancel out <cite data-cite=\"hofstra2008comparison\"></cite>.\n",
    "\n",
    "Normalized Absolute Error (**NAE**), bounded below 0 (best case) and \"virtually\" unbounded above. If more than 1 errors are greater than observed values themselves. Advantage over Normalized Bias Error (**NBE**) is that, taking absolute error values, positive and negative errors can't cancel out. [REF]\n",
    "\n",
    "Mean Squared Error (**MSE**), variance, taking the square of residual is highly sensitive to large outliers <cite data-cite=\"hofstra2008comparison\"></cite>. Bounded below 0 (best case) and unbounded above.\n",
    "\n",
    "Root Mean Squared Error (**RMSE**) is very commonly used as a measure of deviation from the observed value. Although it has been criticized as being ambiguous <cite data-cite=\"willmott2006use\"></cite> and its dependence on the squared error means that it is not resistant to outliers deviating from a Gaussian distribution. It has been included because of its sensitivity to large outliers. Bounded below 0 (best case) and unbounded above.\n",
    "\n",
    "Normalized Root Mean Squared Error (**NRMSE**) allows to compare **RMSE** of different models, normalized on observed values, on a $(0, 1]$ scale [REF].\n",
    "\n",
    "Pearson Correlation coefficient (**Pearson R**) depends on squared deviations and so is not a resistant measure. However, this statistic removes the effect of any bias in the interpolated data. Problems with correctly capturing the variance will not be highlighted as the measure normalizes the observed and modeled values by their standard deviations <cite data-cite=\"hofstra2008comparison\"></cite>. The statistic is standardized. However, because of its insensitivity to biases and errors in variance, the correlation coefficient should be considered as a measure of potential skill <cite data-cite=\"murphy1989skill\"></cite>.\n",
    "\n",
    "$R^2$ coefficient test ...\n",
    "Bounded from $0$ to $1$, $R^2 > .99$ has been fixed to evaluate model $H_0$ against alternative model $H_1$ <cite data-cite=\"fitcurves\"></cite>.\n",
    "\n",
    "$R^2_{adj}$ coefficient test ...\n",
    "Bounded from $0$ to $1$, $R^2_{adj} > .99$ has been fixed to evaluate model $H_0$ against alternative model $H_1$ <cite data-cite=\"fitcurves\"></cite>.\n",
    "\n",
    "Akaike Information Criterion (**AIC**), its score (or weight) and its relative probability distribution space ...\n",
    "Within the probability distribution space, bounded from $0$ to $1$, a $\\Delta\\mathbf{AIC}_p$ value less than $0.5$ means model $H_0$ has more chances to be better fitting than alternative model $H_1$ <cite data-cite=\"motulsky2002comparing\"></cite>.\n",
    "\n",
    "Bayesian Information Criterion (**BIC**) and its delta ...\n",
    "A $\\Delta\\mathbf{BIC} > 0$ means model $H_0$ has evidence to be better fitting than alternative model $H_1$. Look in Appendix for formulae <cite data-cite=\"fabozzi2014basics\"></cite>."
   ]
  },
  {
   "cell_type": "markdown",
   "metadata": {},
   "source": [
    "## Analysis Example"
   ]
  },
  {
   "cell_type": "markdown",
   "metadata": {},
   "source": [
    "Example of analysis of two fitting models for a noisy observed sample.\n",
    "\n",
    "Observed $o$ values are generated by\n",
    "\n",
    "$$\n",
    "o = f(x) = a \\cdot x^2 + b + \\varepsilon_x\n",
    "$$\n",
    "\n",
    "where $x=(0, 100]$, $a=2.3$, $b=3000$ and $\\varepsilon_x$ is a random noise $(0, 1000]$.\n",
    "\n",
    "Observed are fitted with two models using `scipy.optimize.curve_fit` (least squares method):\n",
    "\n",
    "$$\n",
    "e_1(x) = a \\cdot x^2\n",
    "$$\n",
    "\n",
    "and\n",
    "\n",
    "$$\n",
    "e_2(x) = a \\cdot x^2 + b\n",
    "$$\n",
    "\n",
    "Model $e_2$ is taken as null hypothesis $H_0$."
   ]
  },
  {
   "cell_type": "markdown",
   "metadata": {},
   "source": [
    "***"
   ]
  },
  {
   "cell_type": "markdown",
   "metadata": {},
   "source": [
    "```python\n",
    "import numpy as np\n",
    "from scipy import stats as sts\n",
    "from scipy.optimize import curve_fit\n",
    "import sklearn.metrics as skl\n",
    "from matplotlib import pyplot as plt\n",
    "\n",
    "def AIC_test(diff):\n",
    "    try:\n",
    "        return np.exp(-.5 * diff) / (1 + np.exp(-.5 * diff))\n",
    "    except Exception as err:\n",
    "        if diff > 0:\n",
    "            return 1.\n",
    "        return 0.\n",
    "\n",
    "def func_noise(x, a, b, err=False):\n",
    "    noise = np.random.normal(0,1000,len(x))\n",
    "    return a * np.array(x) ** 2 + b + (noise if err else 0)\n",
    "\n",
    "def func(x, a):\n",
    "    return a * np.array(x) ** 2\n",
    "\n",
    "def func2(x, a, b):\n",
    "    return b + a * np.array(x) ** 2\n",
    "\n",
    "def report(o, E, P):\n",
    "    mae, nae, mbe, nbe, mse, rmse, nrmse, r, r2, r2a, aic, bic = (\n",
    "        [] for _ in range(12)\n",
    "    )\n",
    "    print(\"                e1 H1          e2 H0\")\n",
    "    print(\"------  -------------  -------------\")\n",
    "    for i, e in enumerate(E):\n",
    "        mae.append(skl.mean_absolute_error(o, e))\n",
    "        nae.append(np.sum(np.abs(o - e)) / np.sum(o))\n",
    "        mbe.append(np.sum(o - e) / len(x))\n",
    "        nbe.append(np.sum(o - e) / np.sum(o))\n",
    "        _mse = skl.mean_squared_error(o, e)\n",
    "        mse.append(_mse)\n",
    "        _rmse = np.sqrt(_mse)\n",
    "        rmse.append(_rmse)\n",
    "        _nrmse = _rmse / np.sum(o)\n",
    "        nrmse.append(_nrmse)\n",
    "        r.append(sts.pearsonr(o, e)[0])\n",
    "        r2.append(skl.r2_score(o, e))\n",
    "        rss = np.sum(np.abs(o - e) ** 2)\n",
    "        tss = np.sum(np.abs(o - np.mean(o)) ** 2)\n",
    "        r2a.append(1 - (rss / tss) * ((len(x) - 1) / (len(x) - P[i] - 1)))\n",
    "        aic.append(len(x) * np.log(rss / len(x)) + 2 * 1)\n",
    "        bic.append(len(x) * np.log(rss / len(x)) + np.log(len(x)) * P[i])\n",
    "    print(f\"  MAE: {mae[0]:>14.6f} {mae[1]:>14.6f}\")\n",
    "    print(f\"  NAE: {nae[0]:>14.6f} {nae[1]:>14.6f}\")\n",
    "    print(f\"  BME: {mbe[0]:>14.9f} {mbe[1]:>14.6e}\")\n",
    "    print(f\"  NBE: {nbe[0]:>14.9f} {nbe[1]:>14.6e}\")\n",
    "    print(f\"  MSE: {mse[0]:>14.6f} {mse[1]:>14.5f}\")\n",
    "    print(f\" RMSE: {rmse[0]:>14.6f} {rmse[1]:>14.6f}\")\n",
    "    print(f\"NRMSE: {nrmse[0]:>14.9f} {nrmse[1]:>14.9f}\")\n",
    "    print(f\"    R: {r[0]:>14.9f} {r[1]:>14.9f}\")\n",
    "    print(f\"   R2: {r2[0]:>14.9f} {r2[1]:>14.9f}\")\n",
    "    print(f\"R2adj: {r2a[0]:>14.9f} {r2a[1]:>14.9f}\")\n",
    "    print(f\"  AIC: {aic[0]:>14.6f} {aic[1]:>14.6f}   p:{AIC_test(aic[0]-aic[1]):.3e}\")\n",
    "    print(f\"  BIC: {bic[0]:>14.6f} {bic[1]:>14.6f}   \\U00000394:{bic[0] - bic[1]:.5f}\")\n",
    "\n",
    "x = np.arange(0, 100)\n",
    "o = func_noise(x, 2.3, 3e3, err=True)\n",
    "popt, pcov = curve_fit(func, x, o)\n",
    "e1 = func(x, *popt)\n",
    "popt, pcov = curve_fit(func2, x, o)\n",
    "e2 = func2(x, *popt)\n",
    "\n",
    "report(o, [e1, e2], [1, 2])\n",
    "\n",
    "plt.plot(x, o, label=\"o\")\n",
    "plt.plot(x, e1, label=\"e1\")\n",
    "plt.plot(x, e2, label=\"e2\")\n",
    "plt.legend(loc=\"best\")\n",
    "plt.show()\n",
    "```"
   ]
  },
  {
   "cell_type": "markdown",
   "metadata": {},
   "source": [
    "***\n",
    "\n",
    "Fitting and analysis report (figure [REF])."
   ]
  },
  {
   "cell_type": "code",
   "execution_count": 7,
   "metadata": {},
   "outputs": [
    {
     "name": "stdout",
     "output_type": "stream",
     "text": [
      "                e1 H1          e2 H0\n",
      "------  -------------  -------------\n",
      "  MAE:    1838.663712     677.483916\n",
      "  NAE:       0.173400       0.063892\n",
      "  BME: 1329.503655772  -1.596445e-08\n",
      "  NBE:    0.125382682  -1.505574e-12\n",
      "  MSE: 4713409.837272   760892.61021\n",
      " RMSE:    2171.038884     872.291586\n",
      "NRMSE:    0.002047461    0.000822640\n",
      "    R:  5.9215009e-90  5.9215009e-90   Δ:-4.020931e-102\n",
      "   R2:    0.901527731    0.984103478\n",
      "R2adj:    0.900522912    0.983775715\n",
      "  AIC:    1538.592216    1356.224751   p:2.508465e-40\n",
      "  BIC:    1541.197386    1363.435091   Δ:177.7622949\n"
     ]
    },
    {
     "data": {
      "image/png": "[encoded data removed]",
      "text/plain": [
       "<Figure size 432x288 with 1 Axes>"
      ]
     },
     "metadata": {
      "needs_background": "light"
     },
     "output_type": "display_data"
    }
   ],
   "source": [
    "import numpy as np\n",
    "from scipy import stats as sts\n",
    "from scipy.optimize import curve_fit\n",
    "import sklearn.metrics as skl\n",
    "from matplotlib import pyplot as plt\n",
    "\n",
    "def AIC_test(diff):\n",
    "    try:\n",
    "        return np.exp(-.5 * diff) / (1 + np.exp(-.5 * diff))\n",
    "    except Exception as err:\n",
    "        if diff > 0:\n",
    "            return 1.\n",
    "        return 0.\n",
    "\n",
    "def func_noise(x, a, b, err=False):\n",
    "    noise = np.random.normal(0,1000,len(x))\n",
    "    return a * np.array(x) ** 2 + b + (noise if err else 0)\n",
    "\n",
    "def func(x, a):\n",
    "    return a * np.array(x) ** 2\n",
    "\n",
    "def func2(x, a, b):\n",
    "    return b + a * np.array(x) ** 2\n",
    "\n",
    "def report(o, E, P):\n",
    "    mae, nae, mbe, nbe, mse, rmse, nrmse, r, r2, r2a, aic, bic = (\n",
    "        [] for _ in range(12)\n",
    "    )\n",
    "    print(\"                e1 H1          e2 H0\")\n",
    "    print(\"------  -------------  -------------\")\n",
    "    for i, e in enumerate(E):\n",
    "        mae.append(skl.mean_absolute_error(o, e))\n",
    "        nae.append(np.sum(np.abs(o - e)) / np.sum(o))\n",
    "        mbe.append(np.sum(o - e) / len(x))\n",
    "        nbe.append(np.sum(o - e) / np.sum(o))\n",
    "        _mse = skl.mean_squared_error(o, e)\n",
    "        mse.append(_mse)\n",
    "        _rmse = np.sqrt(_mse)\n",
    "        rmse.append(_rmse)\n",
    "        _nrmse = _rmse / np.sum(o)\n",
    "        nrmse.append(_nrmse)\n",
    "        r.append(sts.pearsonr(o, e)[1])\n",
    "        r2.append(skl.r2_score(o, e))\n",
    "        rss = np.sum(np.abs(o - e) ** 2)\n",
    "        tss = np.sum(np.abs(o - np.mean(o)) ** 2)\n",
    "        r2a.append(1 - (rss / tss) * ((len(x) - 1) / (len(x) - P[i] - 1)))\n",
    "        aic.append(len(x) * np.log(rss / len(x)) + 2 * 1)\n",
    "        bic.append(len(x) * np.log(rss / len(x)) + np.log(len(x)) * P[i])\n",
    "    print(f\"  MAE: {mae[0]:>14.6f} {mae[1]:>14.6f}\")\n",
    "    print(f\"  NAE: {nae[0]:>14.6f} {nae[1]:>14.6f}\")\n",
    "    print(f\"  BME: {mbe[0]:>14.9f} {mbe[1]:>14.6e}\")\n",
    "    print(f\"  NBE: {nbe[0]:>14.9f} {nbe[1]:>14.6e}\")\n",
    "    print(f\"  MSE: {mse[0]:>14.6f} {mse[1]:>14.5f}\")\n",
    "    print(f\" RMSE: {rmse[0]:>14.6f} {rmse[1]:>14.6f}\")\n",
    "    print(f\"NRMSE: {nrmse[0]:>14.9f} {nrmse[1]:>14.9f}\")\n",
    "    print(f\"    R: {r[0]:>14.7e} {r[1]:>14.7e}   \\U00000394:{r[0]-r[1]:.6e}\")\n",
    "    print(f\"   R2: {r2[0]:>14.9f} {r2[1]:>14.9f}\")\n",
    "    print(f\"R2adj: {r2a[0]:>14.9f} {r2a[1]:>14.9f}\")\n",
    "    print(f\"  AIC: {aic[0]:>14.6f} {aic[1]:>14.6f}   p:{AIC_test(aic[0]-aic[1]):.6e}\")\n",
    "    print(f\"  BIC: {bic[0]:>14.6f} {bic[1]:>14.6f}   \\U00000394:{bic[0] - bic[1]:.7f}\")\n",
    "\n",
    "x = np.arange(0, 100)\n",
    "o = func_noise(x, 2.3, 3e3, err=True)\n",
    "popt, pcov = curve_fit(func, x, o)\n",
    "e1 = func(x, *popt)\n",
    "popt, pcov = curve_fit(func2, x, o)\n",
    "e2 = func2(x, *popt)\n",
    "\n",
    "report(o, [e1, e2], [1, 2])\n",
    "\n",
    "plt.plot(x, o, label=\"$o$\")\n",
    "plt.plot(x, e1, label=\"$e_1$\")\n",
    "plt.plot(x, e2, label=\"$e_2$\")\n",
    "plt.legend(loc=\"best\")\n",
    "plt.show()"
   ]
  },
  {
   "cell_type": "markdown",
   "metadata": {},
   "source": [
    "## Residual"
   ]
  },
  {
   "cell_type": "markdown",
   "metadata": {},
   "source": [
    "Total residual from each model have been collected and compared to get a first \"rough\" evidence of the most likely better fitting model [FIG]."
   ]
  },
  {
   "cell_type": "markdown",
   "metadata": {},
   "source": [
    "![img](residualstats3.png)"
   ]
  },
  {
   "cell_type": "markdown",
   "metadata": {},
   "source": [
    "**DGF** showed the lower residual standard deviation while the mean of all four models has been very close to $0$.\n",
    "\n",
    "Mean Squared Error (**MSE**, Variance), Root Mean Squared Error (**RMSE**, Standard Deviation), Normalize Root Mean Squared Error (**NRMSE**, Normalized Standard Deviation), Mean Absolute Error (**MAE**), Normalized Absolute Error (**NAE**) and Pearson Correlation Coefficient (**Pearson R**) have been computed for all models residual [figure](#Errors-tests) (see Appendix for formulae [Appendix](#Appendix)). **DGF** showed the best results for all values confirming the first null hypothesis that could have been the best fitting model among the chosen ones."
   ]
  },
  {
   "cell_type": "markdown",
   "metadata": {},
   "source": [
    "## Errors tests"
   ]
  },
  {
   "cell_type": "markdown",
   "metadata": {},
   "source": [
    "![img](residualstatsok.png)"
   ]
  },
  {
   "cell_type": "markdown",
   "metadata": {},
   "source": [
    "Coefficient of Determination $R^2$, Adjusted Coefficient of Determination $R^2_{adj}$, Akaike Information Criterion (**AIC**) and Bayesian Information Criterion (**BIC**) have computed and collected from all fits and compared with each other."
   ]
  },
  {
   "cell_type": "markdown",
   "metadata": {},
   "source": [
    "## R2"
   ]
  },
  {
   "cell_type": "markdown",
   "metadata": {},
   "source": [
    "![img](testr2.png)"
   ]
  },
  {
   "cell_type": "markdown",
   "metadata": {},
   "source": [
    "## Adjusted R2"
   ]
  },
  {
   "cell_type": "markdown",
   "metadata": {},
   "source": [
    "![img](testr2adj.png)"
   ]
  },
  {
   "cell_type": "markdown",
   "metadata": {},
   "source": [
    "## Information Criteria"
   ]
  },
  {
   "cell_type": "markdown",
   "metadata": {},
   "source": [
    "![img](aicbic.png)"
   ]
  },
  {
   "cell_type": "markdown",
   "metadata": {},
   "source": [
    "### AIC"
   ]
  },
  {
   "cell_type": "markdown",
   "metadata": {},
   "source": [
    "![img](testaic.png)"
   ]
  },
  {
   "cell_type": "markdown",
   "metadata": {},
   "source": [
    "### BIC"
   ]
  },
  {
   "cell_type": "markdown",
   "metadata": {},
   "source": [
    "![img](testbic.png)"
   ]
  },
  {
   "cell_type": "markdown",
   "metadata": {},
   "source": [
    "## Results"
   ]
  },
  {
   "cell_type": "markdown",
   "metadata": {},
   "source": [
    "All tests strongly confirmed _Double Gompertz Function_ as the better fitting model for SARS-nCoV-2 cumulative cases curve fitting. Results also showed that **DGF** is not only much more fitting than models with less parameters (**SLF** and **SGF**) as expected but also compared to _Double Logistic Function_ with the same degrees of freedom."
   ]
  },
  {
   "cell_type": "markdown",
   "metadata": {},
   "source": [
    "![img](testtable.png)"
   ]
  },
  {
   "cell_type": "markdown",
   "metadata": {},
   "source": [
    "# Conclusions"
   ]
  },
  {
   "cell_type": "markdown",
   "metadata": {},
   "source": [
    "Among the compared models _Double Gompertz Function_ has showed the best results and scores fitting data of SARS-nCoV-2 cumulative cases, suggesting that this model should be studied more deeply (possibly improved) and compared to other existing models for further analysis, including forecasting capabilities."
   ]
  },
  {
   "cell_type": "markdown",
   "metadata": {},
   "source": [
    "# Plots"
   ]
  },
  {
   "cell_type": "markdown",
   "metadata": {},
   "source": [
    "## Fit examples"
   ]
  },
  {
   "cell_type": "code",
   "execution_count": 8,
   "metadata": {
    "scrolled": false
   },
   "outputs": [
    {
     "data": {
      "text/markdown": [
       "![img](fit1.png)\n",
       "\n",
       "***\n",
       "\n"
      ],
      "text/plain": [
       "<IPython.core.display.Markdown object>"
      ]
     },
     "metadata": {},
     "output_type": "display_data"
    },
    {
     "data": {
      "text/markdown": [
       "![img](fit2.png)\n",
       "\n",
       "***\n",
       "\n"
      ],
      "text/plain": [
       "<IPython.core.display.Markdown object>"
      ]
     },
     "metadata": {},
     "output_type": "display_data"
    },
    {
     "data": {
      "text/markdown": [
       "![img](fit3.png)\n",
       "\n",
       "***\n",
       "\n"
      ],
      "text/plain": [
       "<IPython.core.display.Markdown object>"
      ]
     },
     "metadata": {},
     "output_type": "display_data"
    },
    {
     "data": {
      "text/markdown": [
       "![img](fit4.png)\n",
       "\n",
       "***\n",
       "\n"
      ],
      "text/plain": [
       "<IPython.core.display.Markdown object>"
      ]
     },
     "metadata": {},
     "output_type": "display_data"
    },
    {
     "data": {
      "text/markdown": [
       "![img](fit5.png)\n",
       "\n",
       "***\n",
       "\n"
      ],
      "text/plain": [
       "<IPython.core.display.Markdown object>"
      ]
     },
     "metadata": {},
     "output_type": "display_data"
    },
    {
     "data": {
      "text/markdown": [
       "![img](fit6.png)\n",
       "\n",
       "***\n",
       "\n"
      ],
      "text/plain": [
       "<IPython.core.display.Markdown object>"
      ]
     },
     "metadata": {},
     "output_type": "display_data"
    }
   ],
   "source": [
    "from IPython.display import display, Markdown\n",
    "for j in range(6):\n",
    "    display(Markdown(f\"![img](fit{j+1}.png)\\n\\n***\\n\\n\"))"
   ]
  },
  {
   "cell_type": "markdown",
   "metadata": {},
   "source": [
    "# Appendix"
   ]
  },
  {
   "cell_type": "markdown",
   "metadata": {},
   "source": [
    "## Statistics formulae"
   ]
  },
  {
   "cell_type": "markdown",
   "metadata": {},
   "source": [
    "In all formulae we assume: $y$ as the observed (measured) values and $\\hat{y}$ as expected (predicted by fitting model) values; $n$ is the number of values and $n_{var}$ the number of model's variable parameters.\n",
    "\n",
    "***\n",
    "\n",
    "- **MBE**: Mean Bias Error\n",
    "\n",
    "$$ \\mathbf{MBE} = \\frac{ \\sum \\left( y - \\hat{y} \\right) }{ n }$$\n",
    "\n",
    "- **MAE**: Mean Absolute Error (aka Mean Deviation)\n",
    "\n",
    "$$ \\mathbf{MAE} = \\frac{ \\sum \\left| y - \\hat{y} \\right| }{ n }$$\n",
    "\n",
    "- **NBE**: Normalized Bias Error\n",
    "\n",
    "$$\n",
    "\\mathbf{NBE} = \n",
    "\\frac{\n",
    "    \\sum \\left( y - \\hat{y} \\right)\n",
    "}{\n",
    "    \\sum{y}\n",
    "}\n",
    "$$\n",
    "\n",
    "- **NAE**: Normalized Absolute Error (aka Normalized Mean Deviation)\n",
    "\n",
    "$$\n",
    "\\mathbf{NAE} = \n",
    "\\frac{\n",
    "    \\sum \\left| y - \\hat{y} \\right|\n",
    "}{\n",
    "    \\sum{y}\n",
    "}\n",
    "$$\n",
    "\n",
    "- **RSS**: Residual Sum of Squares\n",
    "\n",
    "$$\n",
    "\\mathbf{RSS} =\n",
    "    \\sum \\left(y - \\hat{y}\\right)^2\n",
    "$$\n",
    "\n",
    "- **TSS**: Total Sum of Squares\n",
    "\n",
    "$$\n",
    "\\mathbf{TSS} =\n",
    "    \\sum \\left( y - \\frac{\\sum{y}}{n} \\right)^2\n",
    "$$\n",
    "\n",
    "- **MSE**: Mean Squared Error (aka Variance)\n",
    "\n",
    "$$ \\mathbf{MSE} = \\sigma^2 = \\frac{\\mathbf{RSS}}{n} $$\n",
    "\n",
    "- **RMSE**: Root Mean Squared Error (aka Standard Deviation)\n",
    "\n",
    "$$ \\mathbf{RMSE} = \\sigma = \\sqrt{ \\mathbf{MSE} } $$\n",
    "\n",
    "- **NRMSE**: Normalized Root Mean Squared Error (aka Normalized Standard Deviation)\n",
    "\n",
    "$$ \\mathbf{NRMSE} = \\sigma_\\nu = \n",
    "\\frac{\n",
    "    \\mathbf{RMSE}\n",
    "}{\n",
    "    \\sum{y}\n",
    "}\n",
    "$$\n",
    "\n",
    "- $R^2$: Coefficient of Determination:\n",
    "\n",
    "$$\n",
    "R^2 = 1 - \\frac{\\mathbf{RSS}}{\\mathbf{TSS}}\n",
    "$$\n",
    "\n",
    "- $R^2_{adj}$: Adjusted Coefficient of Determination:\n",
    "\n",
    "$$\n",
    "R^2_{adj} = 1 - \\frac{\\mathbf{RSS}}{\\mathbf{TSS}} \\left( \\frac{ n - 1 }{ n - n_{var} - 1 } \\right)\n",
    "$$\n",
    "\n",
    "- **Pearson R**: Pearson Correlation Coefficient\n",
    "\n",
    "$$\n",
    "\\mathbf{R} = \\frac{\n",
    "    \\sum y \\hat{y} - \\frac{1}{n} \\sum y \\sum \\hat{y}\n",
    "    }{\n",
    "    \\sqrt{ \\sum y^2 - \\frac{1}{n} \\left(\\sum y\\right)^2 }\n",
    "    \\sqrt{ \\sum \\hat{y}^2 - \\frac{1}{n} \\left(\\sum \\hat{y} \\right)^2 }\n",
    "    }\n",
    "$$\n",
    "\n",
    "- **AIC**: Aikake Information Criterion\n",
    "\n",
    "$$\n",
    "\\mathbf{AIC} = n \\ln{ \\left( \\frac{\\mathbf{RSS}}{n} \\right) } + 2 n_{var}\n",
    "$$\n",
    "\n",
    "- **AIC p**: Aikake Information Criterion score (or weight) in **AIC** relative probability distribution space [FIG]:\n",
    "\n",
    "$$ \\mathbf{AIC_p} =\n",
    "\\frac{\n",
    "    e^{\n",
    "        -0.5 \\cdot (\\mathbf{AIC_1} - \\mathbf{AIC_0})\n",
    "    }\n",
    "}{\n",
    "    1 + e^{\n",
    "        -0.5 \\cdot (\\mathbf{AIC_1} - \\mathbf{AIC_0})\n",
    "    }\n",
    "} $$\n",
    "\n",
    "$$\\mathbf{AIC_p} < .5 \\Rightarrow P(H_0) > P(H_1) $$\n",
    "\n",
    "- **BIC**: Bayesian Information Criterion\n",
    "\n",
    "$$\n",
    "\\mathbf{BIC} = n \\ln{ \\left( \\frac{\\mathbf{RSS}}{n} \\right) } + \\ln{\\left(n \\right)} n_{var}\n",
    "$$\n",
    "\n",
    "- $\\Delta$**BIC**: Bayesian Information Criterion difference [FIG]:\n",
    "\n",
    "$$ \\Delta\\mathbf{BIC} = \\mathbf{BIC}_1 - \\mathbf{BIC}_0 $$\n",
    "\n",
    "$$ \\Delta\\mathbf{BIC} > 10 \\Rightarrow H_0 \\textrm{ Very strong evidence} $$\n",
    "\n",
    "$$ \\Delta\\mathbf{BIC} = \\left(6, 10\\right] \\Rightarrow H_0 \\textrm{ Strong evidence} $$\n",
    "\n",
    "$$ \\Delta\\mathbf{BIC} = \\left(2, 6\\right] \\Rightarrow H_0 \\textrm{ Mild evidence} $$\n",
    "\n",
    "$$ \\Delta\\mathbf{BIC} = \\left(0, 2\\right] \\Rightarrow H_0 \\textrm{ Weak evidence} $$"
   ]
  },
  {
   "cell_type": "markdown",
   "metadata": {},
   "source": [
    "![img](deltaaic.png)"
   ]
  },
  {
   "cell_type": "markdown",
   "metadata": {},
   "source": [
    "![img](deltabic.png)"
   ]
  },
  {
   "cell_type": "code",
   "execution_count": null,
   "metadata": {},
   "outputs": [],
   "source": []
  }
 ],
 "metadata": {
  "kernelspec": {
   "display_name": "Python 3",
   "language": "python",
   "name": "python3"
  },
  "language_info": {
   "codemirror_mode": {
    "name": "ipython",
    "version": 3
   },
   "file_extension": ".py",
   "mimetype": "text/x-python",
   "name": "python",
   "nbconvert_exporter": "python",
   "pygments_lexer": "ipython3",
   "version": "3.7.7"
  }
 },
 "nbformat": 4,
 "nbformat_minor": 4
}
