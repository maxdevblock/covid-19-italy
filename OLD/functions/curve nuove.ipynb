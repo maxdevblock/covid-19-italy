{
 "cells": [
  {
   "cell_type": "code",
   "execution_count": 1,
   "metadata": {},
   "outputs": [],
   "source": [
    "import json\n",
    "import urllib.request as ur\n",
    "from tqdm.notebook import tqdm\n",
    "import datetime as dt\n",
    "\n",
    "import numpy as np\n",
    "import pandas as pd\n",
    "\n",
    "import lmfit\n",
    "#import numdifftools\n",
    "#import corner\n",
    "\n",
    "_np = np.seterr(all=\"ignore\", divide=\"raise\")"
   ]
  },
  {
   "cell_type": "code",
   "execution_count": 4,
   "metadata": {},
   "outputs": [],
   "source": [
    "def logistic_gompertz_function(x, a1, b1, k1, a2, b2, k2, e):\n",
    "    d1 = k1 * (b1 - np.array(x))\n",
    "    l1 = a1 / (1 + np.exp(d1))\n",
    "    exp2 = - np.exp(k2 * (b2 - x))\n",
    "    g2 = (a2 - a1) * np.exp(exp2)\n",
    "    return l1 + g2 + e"
   ]
  },
  {
   "cell_type": "code",
   "execution_count": 29,
   "metadata": {},
   "outputs": [],
   "source": [
    "def gompertz_logistic_function(x, a1, b1, k1, a2, b2, k2, e):\n",
    "    exp1 = - np.exp(k1 * (b1 - x))\n",
    "    g1 = a1 * np.exp(exp1)\n",
    "    d2 = k2 * (b2 - np.array(x))\n",
    "    l2 = (a2 - a1) / (1 + np.exp(d2))\n",
    "    return g1 + l2 + e"
   ]
  },
  {
   "cell_type": "code",
   "execution_count": 12,
   "metadata": {},
   "outputs": [],
   "source": [
    "def double_gompertz_function(x, a1, b1, k1, a2, b2, k2, e):\n",
    "    exp1 = - np.exp(k1 * (b1 - x))\n",
    "    g1 = a1 * np.exp(exp1)\n",
    "    exp2 = - np.exp(k2 * (b2 - x))\n",
    "    g2 = (a2 - a1) * np.exp(exp2)\n",
    "    return g1 + g2 + e"
   ]
  },
  {
   "cell_type": "code",
   "execution_count": 13,
   "metadata": {},
   "outputs": [],
   "source": [
    "def double_logistic_function(x, a1, b1, k1, a2, b2, k2, e):\n",
    "    d1 = k1 * (b1 - np.array(x))\n",
    "    l1 = a1 / (1 + np.exp(d1))\n",
    "    d2 = k2 * (b2 - np.array(x))\n",
    "    l2 = (a2 - a1) / (1 + np.exp(d2))\n",
    "    return l1 + l2 + e"
   ]
  },
  {
   "cell_type": "code",
   "execution_count": 18,
   "metadata": {},
   "outputs": [],
   "source": [
    "def simple_gompertz_function(x, a, b, k, e):\n",
    "    exp = - np.exp(k * (b - x))\n",
    "    return a * np.exp(exp) + e"
   ]
  },
  {
   "cell_type": "code",
   "execution_count": 19,
   "metadata": {},
   "outputs": [],
   "source": [
    "def simple_logistic_function(x, a, b, k, e):\n",
    "    d = k * (b - np.array(x))\n",
    "    return (a / (1 + np.exp(d))) + e"
   ]
  },
  {
   "cell_type": "code",
   "execution_count": 3,
   "metadata": {},
   "outputs": [
    {
     "name": "stderr",
     "output_type": "stream",
     "text": [
      "\n",
      "Bad key \"text.kerning_factor\" on line 4 in\n",
      "/Users/massimopierini/opt/anaconda3/envs/covid/lib/python3.7/site-packages/matplotlib/mpl-data/stylelib/_classic_test_patch.mplstyle.\n",
      "You probably need to get an updated matplotlibrc file from\n",
      "http://github.com/matplotlib/matplotlib/blob/master/matplotlibrc.template\n",
      "or from the matplotlib source distribution\n"
     ]
    }
   ],
   "source": [
    "import matplotlib.pyplot as plt"
   ]
  },
  {
   "cell_type": "code",
   "execution_count": 38,
   "metadata": {},
   "outputs": [
    {
     "data": {
      "text/plain": [
       "<matplotlib.legend.Legend at 0x1a24378a50>"
      ]
     },
     "execution_count": 38,
     "metadata": {},
     "output_type": "execute_result"
    },
    {
     "data": {
      "image/png": "[encoded data removed]",
      "text/plain": [
       "<Figure size 432x288 with 1 Axes>"
      ]
     },
     "metadata": {
      "needs_background": "light"
     },
     "output_type": "display_data"
    }
   ],
   "source": [
    "x = np.arange(1, 100)\n",
    "y1 = logistic_gompertz_function(x, 200, 35, .25, 900, 50, .15, 0)\n",
    "y2 = double_gompertz_function(x, 200, 35, .25, 900, 50, .15, 0)\n",
    "y3 = double_logistic_function(x, 200, 35, .25, 900, 50, .15, 0)\n",
    "y4 = gompertz_logistic_function(x, 200, 35, .25, 900, 50, .15, 0)\n",
    "plt.plot(x, y1, label=\"LG\")\n",
    "plt.plot(x, y2, label=\"DG\")\n",
    "plt.plot(x, y3, label=\"DL\")\n",
    "plt.plot(x, y4, label=\"GL\")\n",
    "plt.legend(loc=\"best\")"
   ]
  },
  {
   "cell_type": "code",
   "execution_count": 35,
   "metadata": {},
   "outputs": [
    {
     "data": {
      "text/plain": [
       "<matplotlib.legend.Legend at 0x1a2409ea50>"
      ]
     },
     "execution_count": 35,
     "metadata": {},
     "output_type": "execute_result"
    },
    {
     "data": {
      "image/png": "[encoded data removed]",
      "text/plain": [
       "<Figure size 432x288 with 1 Axes>"
      ]
     },
     "metadata": {
      "needs_background": "light"
     },
     "output_type": "display_data"
    }
   ],
   "source": [
    "x = np.arange(1, 100)\n",
    "y1 = simple_logistic_function(x,  900, 50, .15, 0)\n",
    "y2 = simple_gompertz_function(x, 900, 50, .15, 0)\n",
    "plt.plot(x, y1, label=\"SL\")\n",
    "plt.plot(x, y2, label=\"SG\")\n",
    "plt.legend(loc=\"best\")"
   ]
  },
  {
   "cell_type": "code",
   "execution_count": null,
   "metadata": {},
   "outputs": [],
   "source": []
  }
 ],
 "metadata": {
  "kernelspec": {
   "display_name": "Python 3",
   "language": "python",
   "name": "python3"
  },
  "language_info": {
   "codemirror_mode": {
    "name": "ipython",
    "version": 3
   },
   "file_extension": ".py",
   "mimetype": "text/x-python",
   "name": "python",
   "nbconvert_exporter": "python",
   "pygments_lexer": "ipython3",
   "version": "3.7.7"
  }
 },
 "nbformat": 4,
 "nbformat_minor": 4
}
