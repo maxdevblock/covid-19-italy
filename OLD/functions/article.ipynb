{
 "cells": [
  {
   "cell_type": "markdown",
   "metadata": {},
   "source": [
    "# Abstract"
   ]
  },
  {
   "cell_type": "markdown",
   "metadata": {},
   "source": [
    "Four different models have been compared for fitting SARS-nCoV-2 total cumulative cases curves in 185 countries over a period of 97 days. Evaluated models have been: _Simple Logistic Function_ (**SLF**), _Simple Gompertz Function_ (**SGF**), _Double Logistic Function_ (**DLF**) and _Double Gompertz Function_ (**DGF**). **DGF** model showed lower MSE, RMSE, NRMSE, MAE, $I_2$ and higher Pearson R compared to the others. AIC scores have been found higher in 137 countries compared with **DLF** ($\\mu=0.991$, $\\sigma=0.044$), 153 countries compared with **SGF** ($\\mu=0.991$, $\\sigma=0.049$) and 158 countries compared with **SLF** ($\\mu=0.985$, $\\sigma=0.068$). Results suggest that _Double Gompertz Function_ may be a good fitting model for SARS-nCoV-2 analysis and forecasting."
   ]
  },
  {
   "cell_type": "markdown",
   "metadata": {},
   "source": [
    "# Methods"
   ]
  },
  {
   "cell_type": "markdown",
   "metadata": {},
   "source": [
    "## Data"
   ]
  },
  {
   "cell_type": "markdown",
   "metadata": {},
   "source": [
    "SARS-nCoV-2 total cumulative cases data have been gathered from Johns Hopkins University GitHub repository [REF] and summed into single countries where regional level was provided [REF]. Data have been used \"as is\" without rejecting any outlier and/or error (negative daily $\\Delta$).\n",
    "Data and results have been stored in a `pandas` n-dimensional `DataFrame`.\n",
    "\n",
    "Raw data contained 185 countries and daily cumulative confirmed cases for 97 days, from 2020-01-22 to 2020-04-29."
   ]
  },
  {
   "cell_type": "markdown",
   "metadata": {},
   "source": [
    "## Models"
   ]
  },
  {
   "cell_type": "markdown",
   "metadata": {},
   "source": [
    "Models have been defined with `lmfit` (implentation of classical `curve_fit` in `scipy`) using Nelder-Mead method for fitting [REF].\n",
    "\n",
    "Total residual from each function have been initially compared (unsorted, sorted, gaussian distribution) to find the model with residual $\\mu$ closer to $0$ and shorter $\\sigma$. _Akaike Information Criterion_ (**AIC**) mean have been used to find the likely better fitting model that has been finally compared, country by country, with the others using Akaike weights distribution to get the _AIC scores_ probability **AICp**, defined as\n",
    "\n",
    "$$ \\mathbf{AIC_p} =\n",
    "\\frac{\n",
    "    e^{\n",
    "        -0.5 \\cdot (\\mathbf{AIC_1} - \\mathbf{AIC_0})\n",
    "    }\n",
    "}{\n",
    "    1 + e^{\n",
    "        -0.5 \\cdot (\\mathbf{AIC_1} - \\mathbf{AIC_0})\n",
    "    }\n",
    "} $$\n",
    "\n",
    "where $\\mathbf{AIC_0} \\leq \\mathbf{AIC_1}$.\n",
    "\n",
    "Models have been defined as follow:\n",
    "\n",
    "- Simple Logisic Function (**SLF**):\n",
    "\n",
    "```python\n",
    "def logit_function(x, a, b, k, e):\n",
    "    d = k * (b - np.array(x))\n",
    "    return (a / (1 + np.exp(d))) + e\n",
    "\n",
    "```\n",
    "$$ f(t) = \\frac{ a }{ 1 + e^{ k (b - t) } } + \\varepsilon $$\n",
    "\n",
    "- Double Logisic Function (**DLF**):\n",
    "\n",
    "```python\n",
    "def double_logit_function(x, a1, b1, k1, a2, b2, k2, e):\n",
    "    d1 = k1 * (b1 - np.array(x))\n",
    "    g1 = a1 / (1 + np.exp(d1))\n",
    "    d2 = k2 * (b2 - np.array(x))\n",
    "    g2 = (a2 - a1) / (1 + np.exp(d2))\n",
    "    return g1 + g2 + e\n",
    "```\n",
    "$$ f(t) = \\frac{ a_1 }{ 1 + e^{ k_1 (b_1 - t) } } + \\frac{ a_2 - a_1 }{ 1 + e^{ k_2 (b_2 - t) } } + \\varepsilon $$\n",
    "\n",
    "- Simple Gompertz Function (**SGF**):\n",
    "\n",
    "```python\n",
    "def gompertz_function(x, a, b, k, e):\n",
    "    exp = - np.exp(k * (b - x))\n",
    "    return a * np.exp(exp) + e\n",
    "```\n",
    "$$ f(t) = a \\cdot e^{ -e^{ k (b - t) } } + \\varepsilon $$\n",
    "\n",
    "- Double Gompertz Function (**DGF**):\n",
    "\n",
    "```python\n",
    "def double_gompertz_function(x, a1, b1, k1, a2, b2, k2, e):\n",
    "    exp1 = - np.exp(k1 * (b1 - x))\n",
    "    g1 = a1 * np.exp(exp1)\n",
    "    exp2 = - np.exp(k2 * (b2 - x))\n",
    "    g2 = (a2 - a1) * np.exp(exp2)\n",
    "    return g1 + g2 + e\n",
    "```\n",
    "$$ f(t) = a_1 \\cdot e^{ -e^{ k_1 (b_1 - t) } } + (a_2 - a_1) \\cdot e^{ -e^{ k_2 (b_2 - t) } } + \\varepsilon $$"
   ]
  },
  {
   "cell_type": "markdown",
   "metadata": {},
   "source": [
    "# Model fitting"
   ]
  },
  {
   "cell_type": "markdown",
   "metadata": {},
   "source": [
    "Fitting has been performed with `lmfit` using Nelder-Mead method\n",
    "\n",
    "```python\n",
    "model = lmfit.Model(function)\n",
    "result = model.fit(data=y, params=p, x=x, method='Nelder', nan_policy='omit')\n",
    "```\n",
    "\n",
    "guessing initial parameters `p` as:\n",
    "\n",
    "- **SLF** and **SGF**\n",
    "\n",
    "```python\n",
    "p = model.make_params(\n",
    "    a=y[-1],\n",
    "    b=max_y_i,\n",
    "    k=.1,\n",
    "    e=y[0]\n",
    ")\n",
    "```\n",
    "\n",
    "$$ a = \\hat{y}_{-1} \\\\%\n",
    "b = x_{\\mathbf{max}(\\hat{y})} \\\\%\n",
    "k = 0.1 \\\\%\n",
    "\\varepsilon = \\hat{y}_0$$\n",
    "\n",
    "- **DLF** and **DGF**\n",
    "\n",
    "```python\n",
    "p = model.make_params(\n",
    "    a1=y[max_y_i] * 2,\n",
    "    b1=max_y_i,\n",
    "    k1=.1,\n",
    "    a2=max(y),\n",
    "    b2=len(y),\n",
    "    k2=.1,\n",
    "    e=y[0]\n",
    ")\n",
    "```\n",
    "\n",
    "$$ a_1 = 2 \\hat{y}_{\\mathbf{max}(d\\hat{y})} \\\\%\n",
    "b_1 = x_{\\mathbf{max}(\\hat{y})} \\\\%\n",
    "k_1 = 0.1 \\\\%\n",
    "a_2 = \\mathbf{max}(\\hat{y}) \\\\%\n",
    "b_2 = x_{\\hat{y}_{-1}} \\\\%\n",
    "k_2 = 0.1 \\\\%\n",
    "\\varepsilon = \\hat{y}_0$$"
   ]
  },
  {
   "cell_type": "markdown",
   "metadata": {},
   "source": [
    "Fitting failed for one country only (Yemen) returning best fit information from 184 countries, for a total of 17,848 points for each of the four models.\n",
    "\n",
    "Complete `python` backend for data gathering, fitting and analysis along with a `pickle` saved dataframe of all measured data and results is online avalaible at [REF]."
   ]
  },
  {
   "cell_type": "markdown",
   "metadata": {},
   "source": [
    "Fitting examples are reported in figures [REF] [REF] [REF]."
   ]
  },
  {
   "cell_type": "markdown",
   "metadata": {},
   "source": [
    "# Analysis"
   ]
  },
  {
   "cell_type": "markdown",
   "metadata": {},
   "source": [
    "## Residual"
   ]
  },
  {
   "cell_type": "markdown",
   "metadata": {},
   "source": [
    "Total residual from each model have been collected and compared to get a first \"rough\" evidence of the most likely better fitting model [FIG]."
   ]
  },
  {
   "cell_type": "markdown",
   "metadata": {},
   "source": [
    "![img](modelresidual.png)"
   ]
  },
  {
   "cell_type": "markdown",
   "metadata": {},
   "source": [
    "**SLF** showed a residual mean $\\mu=1.694$ closer to $0$ but the wider standard deviation $\\sigma=1247$. **DGF** showed the lower residual standard deviation $\\sigma=351$ and a mean $\\mu=-5.197$.\n",
    "\n",
    "Mean Squared Error (**MSE**, Variance), Root Mean Squared Error (**RMSE**, Standard Deviation), Normalize Root Mean Squared Error (**NRMSE**, Normalized Standard Deviation), Pearson Correlation (**Pearson R**), Mean Absolute Error (**MAE**) and (**I2**) have been calculated for all models residual [FIG]. **SGF** showed the best results for all indices confirming the first hypothesis that **DGF** could have been the best fitting model among the chosen ones."
   ]
  },
  {
   "cell_type": "markdown",
   "metadata": {},
   "source": [
    "![img](residualstats.png)"
   ]
  },
  {
   "cell_type": "markdown",
   "metadata": {},
   "source": [
    "Since compared models are nested (**SLF** and **SGF** have 4 parameters; **DLF** and **DGF** have 7 parameters) Akaike Information Criterion (**AIC**) and score has been used instead of classical $H_0$ null hypothesis. **AIC**s has been then collected from all fits and compared with each other, country by country using the **AIC** values returned by `lmfit.minimize`. Plots are reported in [FIG] [FIG] [FIG]."
   ]
  },
  {
   "cell_type": "markdown",
   "metadata": {},
   "source": [
    "![img](aicscores.png)"
   ]
  },
  {
   "cell_type": "markdown",
   "metadata": {},
   "source": [
    "Calcuting mean $\\mu$ and standard deviation $\\sigma$, **AIC** scores strongly confirmed _Double Gompertz Function_ as the better fitting model for SARS-nCoV-2 cumulative cases curve fitting. Results also showed that **DGF** is not only much more fitting than models with less parameters (**SLF** and **SGF**) but also compared with _Double Logistic Function_."
   ]
  },
  {
   "cell_type": "markdown",
   "metadata": {},
   "source": [
    "# Conclusions"
   ]
  },
  {
   "cell_type": "markdown",
   "metadata": {},
   "source": [
    "Among the compared models _Double Gompertz Function_ has showed the best results and scores fitting data of SARS-nCoV-2 cumulative cases, suggesting that this model should be studied more deeply (possibly improved) and compared to other existing models for further analysis, including forecasting capabilities."
   ]
  },
  {
   "cell_type": "markdown",
   "metadata": {},
   "source": [
    "# Plots"
   ]
  },
  {
   "cell_type": "markdown",
   "metadata": {},
   "source": [
    "## AICs scores"
   ]
  },
  {
   "cell_type": "markdown",
   "metadata": {},
   "source": [
    "### DGF vs SLF"
   ]
  },
  {
   "cell_type": "markdown",
   "metadata": {},
   "source": [
    "![img](dgf_slf.png)"
   ]
  },
  {
   "cell_type": "markdown",
   "metadata": {},
   "source": [
    "### DGF vs SGF"
   ]
  },
  {
   "cell_type": "markdown",
   "metadata": {},
   "source": [
    "![img](dgf_sgf.png)"
   ]
  },
  {
   "cell_type": "markdown",
   "metadata": {},
   "source": [
    "### DGF vs DLF"
   ]
  },
  {
   "cell_type": "markdown",
   "metadata": {},
   "source": [
    "![img](dgf_dlf.png)"
   ]
  },
  {
   "cell_type": "markdown",
   "metadata": {},
   "source": [
    "## Fit examples"
   ]
  },
  {
   "cell_type": "code",
   "execution_count": 5,
   "metadata": {
    "scrolled": false
   },
   "outputs": [
    {
     "data": {
      "text/markdown": [
       "![img](fit1.png)\n",
       "\n",
       "***\n",
       "\n"
      ],
      "text/plain": [
       "<IPython.core.display.Markdown object>"
      ]
     },
     "metadata": {},
     "output_type": "display_data"
    },
    {
     "data": {
      "text/markdown": [
       "![img](fit2.png)\n",
       "\n",
       "***\n",
       "\n"
      ],
      "text/plain": [
       "<IPython.core.display.Markdown object>"
      ]
     },
     "metadata": {},
     "output_type": "display_data"
    },
    {
     "data": {
      "text/markdown": [
       "![img](fit3.png)\n",
       "\n",
       "***\n",
       "\n"
      ],
      "text/plain": [
       "<IPython.core.display.Markdown object>"
      ]
     },
     "metadata": {},
     "output_type": "display_data"
    },
    {
     "data": {
      "text/markdown": [
       "![img](fit4.png)\n",
       "\n",
       "***\n",
       "\n"
      ],
      "text/plain": [
       "<IPython.core.display.Markdown object>"
      ]
     },
     "metadata": {},
     "output_type": "display_data"
    },
    {
     "data": {
      "text/markdown": [
       "![img](fit5.png)\n",
       "\n",
       "***\n",
       "\n"
      ],
      "text/plain": [
       "<IPython.core.display.Markdown object>"
      ]
     },
     "metadata": {},
     "output_type": "display_data"
    },
    {
     "data": {
      "text/markdown": [
       "![img](fit6.png)\n",
       "\n",
       "***\n",
       "\n"
      ],
      "text/plain": [
       "<IPython.core.display.Markdown object>"
      ]
     },
     "metadata": {},
     "output_type": "display_data"
    }
   ],
   "source": [
    "from IPython.display import display, Markdown\n",
    "for j in range(6):\n",
    "    display(Markdown(f\"![img](fit{j+1}.png)\\n\\n***\\n\\n\"))"
   ]
  }
 ],
 "metadata": {
  "kernelspec": {
   "display_name": "Python 3",
   "language": "python",
   "name": "python3"
  },
  "language_info": {
   "codemirror_mode": {
    "name": "ipython",
    "version": 3
   },
   "file_extension": ".py",
   "mimetype": "text/x-python",
   "name": "python",
   "nbconvert_exporter": "python",
   "pygments_lexer": "ipython3",
   "version": "3.7.7"
  }
 },
 "nbformat": 4,
 "nbformat_minor": 4
}
