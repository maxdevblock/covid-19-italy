{
 "cells": [
  {
   "cell_type": "markdown",
   "metadata": {},
   "source": [
    "\\begin{table}\n",
    "  \\begin{center}\n",
    "    \\label{tab:lambda}\n",
    "    \\resizebox{\\textwidth}{!}{\n",
    "    \\begin{tabular}{r|c|c|c|c|c}\n",
    "        \\toprule\n",
    "          & 0 & 1 & $\\cdots$ & 72 & 73 \\\\\n",
    "        \\midrule\n",
    "        0 & 101.52 & 121.65 & $\\cdots$ & 1143.85 & 1158.73 \\\\\n",
    "        \\midrule\n",
    "        0.01 & 101.66 & 121.81 & $\\cdots$ & 1145.38 & 1160.28 \\\\\n",
    "        \\midrule\n",
    "        $\\vdots$ & $\\vdots$ & $\\vdots$ & $\\vdots$ & $\\vdots$ & $\\vdots$ \\\\\n",
    "        \\midrule\n",
    "        11.99 & 502.16 & 601.73 & $\\cdots$ & 5657.98 & 5731.58 \\\\\n",
    "        \\midrule\n",
    "        12.00 & 502.83 & 602.53 & $\\cdots$ & 5665.53 & 5739.22 \\\\\n",
    "        \\bottomrule\n",
    "    \\end{tabular} }\n",
    "  \\end{center}\n",
    "\\end{table}"
   ]
  },
  {
   "cell_type": "code",
   "execution_count": null,
   "metadata": {},
   "outputs": [],
   "source": []
  }
 ],
 "metadata": {
  "kernelspec": {
   "display_name": "Python 3",
   "language": "python",
   "name": "python3"
  },
  "language_info": {
   "codemirror_mode": {
    "name": "ipython",
    "version": 3
   },
   "file_extension": ".py",
   "mimetype": "text/x-python",
   "name": "python",
   "nbconvert_exporter": "python",
   "pygments_lexer": "ipython3",
   "version": "3.7.7"
  }
 },
 "nbformat": 4,
 "nbformat_minor": 4
}
