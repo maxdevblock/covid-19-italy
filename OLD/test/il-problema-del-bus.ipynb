{
 "cells": [
  {
   "cell_type": "code",
   "execution_count": 1,
   "metadata": {},
   "outputs": [],
   "source": [
    "import pandas as pd\n",
    "\n",
    "from IPython.display import display, Markdown"
   ]
  },
  {
   "cell_type": "code",
   "execution_count": 2,
   "metadata": {},
   "outputs": [],
   "source": [
    "url = 'https://raw.githubusercontent.com/pcm-dpc/COVID-19/master/dati-andamento-nazionale/dpc-covid19-ita-andamento-nazionale.csv'\n",
    "italy = pd.read_csv(url,\n",
    "                     parse_dates=['data'],\n",
    "                     index_col=['data'],\n",
    "                     squeeze=True).sort_index()"
   ]
  },
  {
   "cell_type": "code",
   "execution_count": 3,
   "metadata": {},
   "outputs": [
    {
     "data": {
      "text/markdown": [
       "\n",
       "\\begin{figure}\n",
       "\\centering\n",
       "    \\includegraphics[width=0.6\\textwidth,height=0.6\\textheight,keepaspectratio]{bus.png}\n",
       "    \\caption{Double Decker Bus}\n",
       "    \\label{fig:bus}\n",
       "\\end{figure}\n"
      ],
      "text/plain": [
       "<IPython.core.display.Markdown object>"
      ]
     },
     "metadata": {},
     "output_type": "display_data"
    }
   ],
   "source": [
    "display(Markdown(fr\"\"\"\n",
    "\\begin{{figure}}\n",
    "\\centering\n",
    "    \\includegraphics[width=0.6\\textwidth,height=0.6\\textheight,keepaspectratio]{{bus.png}}\n",
    "    \\caption{{Double Decker Bus}}\n",
    "    \\label{{fig:bus}}\n",
    "\\end{{figure}}\n",
    "\"\"\"))"
   ]
  },
  {
   "cell_type": "markdown",
   "metadata": {},
   "source": [
    "Abbiamo un Double Decker Bus (figura $\\ref{fig:bus}$). Chi esce dal bus non può più rientrare. Scelto un posto (al piano superiore o inferiore), non si può cambiare. Abbiamo alcune informazioni in due tempi, $t_{i}$ e $t_{i+1}$. In $\\Delta t$, ovvero tra $t_{i}$ e $t_{i+1}$, il bus ha effettuato una fermata permettendo uscita ed entrata.\n",
    "\n",
    "***"
   ]
  },
  {
   "cell_type": "code",
   "execution_count": 6,
   "metadata": {},
   "outputs": [],
   "source": [
    "t1 = -9\n",
    "t2 = t1+1"
   ]
  },
  {
   "cell_type": "code",
   "execution_count": 7,
   "metadata": {},
   "outputs": [
    {
     "data": {
      "text/markdown": [
       "\n",
       "Sappiamo che:\n",
       "\n",
       "- al tempo $t_i$\n",
       "  - sul bus ci sono 83324 passeggeri \n",
       "di cui 68679 al piano inferiore e \n",
       "14645 al piano superiore\n",
       "  - il numero totale di persone entrate nel bus dall'inizio della corsa è 219070 e \n",
       "  il numero totale di passeggeri usciti dal bus è 135746\n",
       "- al tempo $t_{i+1}$\n",
       "  - sul bus ci sono 82488 passeggeri \n",
       "di cui 67950 al piano inferiore e \n",
       "14538 al piano superiore\n",
       "  - il numero totale di persone entrate nel bus dall'inizio della corsa è 219814 e \n",
       "il numero totale di passeggeri usciti dal bus è 137326.\n",
       "\n",
       "***\n",
       "\n",
       "Possiamo calcolare che nella fermata in $\\Delta t$:\n",
       "\n",
       "- sono usciti 1580 passeggeri\n",
       "- sono entrate 744 persone\n",
       "- ci sono infatti 836 passeggeri in meno sul bus \n",
       "($1580-744$), di cui:\n",
       "  - 729 in meno al piano inferiore\n",
       "  - 107 in meno al piano superiore\n",
       "\n",
       "***\n",
       "\n",
       "Domanda: è possibile calcolare\n",
       "\n",
       "1. quante delle persone entrate in $\\Delta t$ \n",
       "sono andate al piano superiore e quante al piano inferiore?\n",
       "2. quanti dei passeggeri usciti in $\\Delta t$ \n",
       "erano al piano superiore e quanti al piano inferiore?\n"
      ],
      "text/plain": [
       "<IPython.core.display.Markdown object>"
      ]
     },
     "metadata": {},
     "output_type": "display_data"
    }
   ],
   "source": [
    "display(Markdown(fr\"\"\"\n",
    "Sappiamo che:\n",
    "\n",
    "- al tempo $t_i$\n",
    "  - sul bus ci sono {italy[\"totale_positivi\"][t1]} passeggeri \n",
    "di cui {italy[\"isolamento_domiciliare\"][t1]} al piano inferiore e \n",
    "{italy[\"totale_ospedalizzati\"][t1]} al piano superiore\n",
    "  - il numero totale di persone entrate nel bus dall'inizio della corsa è {italy[\"totale_casi\"][t1]} e \n",
    "  il numero totale di passeggeri usciti dal bus è {italy[\"deceduti\"][t1]+italy[\"dimessi_guariti\"][t1]}\n",
    "- al tempo $t_{{i+1}}$\n",
    "  - sul bus ci sono {italy[\"totale_positivi\"][t2]} passeggeri \n",
    "di cui {italy[\"isolamento_domiciliare\"][t2]} al piano inferiore e \n",
    "{italy[\"totale_ospedalizzati\"][t2]} al piano superiore\n",
    "  - il numero totale di persone entrate nel bus dall'inizio della corsa è {italy[\"totale_casi\"][t2]} e \n",
    "il numero totale di passeggeri usciti dal bus è {italy[\"deceduti\"][t2]+italy[\"dimessi_guariti\"][t2]}.\n",
    "\n",
    "***\n",
    "\n",
    "Possiamo calcolare che nella fermata in $\\Delta t$:\n",
    "\n",
    "- sono usciti {italy[\"deceduti\"].diff()[t2]+italy[\"dimessi_guariti\"].diff()[t2]:.0f} passeggeri\n",
    "- sono entrate {italy[\"totale_casi\"].diff()[t2]:.0f} persone\n",
    "- ci sono infatti {-italy[\"totale_positivi\"].diff()[t2]:.0f} passeggeri in meno sul bus \n",
    "(${italy[\"deceduti\"].diff()[t2]+italy[\"dimessi_guariti\"].diff()[t2]:.0f}-{italy[\"totale_casi\"].diff()[t2]:.0f}$), di cui:\n",
    "  - {-italy[\"isolamento_domiciliare\"].diff()[t2]:.0f} in meno al piano inferiore\n",
    "  - {-italy[\"totale_ospedalizzati\"].diff()[t2]:.0f} in meno al piano superiore\n",
    "\n",
    "***\n",
    "\n",
    "Domanda: è possibile calcolare\n",
    "\n",
    "1. quante delle persone entrate in $\\Delta t$ \n",
    "sono andate al piano superiore e quante al piano inferiore?\n",
    "2. quanti dei passeggeri usciti in $\\Delta t$ \n",
    "erano al piano superiore e quanti al piano inferiore?\n",
    "\"\"\"))"
   ]
  },
  {
   "cell_type": "code",
   "execution_count": null,
   "metadata": {},
   "outputs": [],
   "source": []
  }
 ],
 "metadata": {
  "kernelspec": {
   "display_name": "Python 3",
   "language": "python",
   "name": "python3"
  },
  "language_info": {
   "codemirror_mode": {
    "name": "ipython",
    "version": 3
   },
   "file_extension": ".py",
   "mimetype": "text/x-python",
   "name": "python",
   "nbconvert_exporter": "python",
   "pygments_lexer": "ipython3",
   "version": "3.7.7"
  }
 },
 "nbformat": 4,
 "nbformat_minor": 4
}
