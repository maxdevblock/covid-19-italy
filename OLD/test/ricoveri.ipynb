{
 "cells": [
  {
   "cell_type": "code",
   "execution_count": 1,
   "metadata": {},
   "outputs": [],
   "source": [
    "import pandas as pd\n",
    "\n",
    "import matplotlib.pyplot as plt\n",
    "import matplotlib.image as mpimg\n",
    "\n",
    "from IPython.display import display, Markdown"
   ]
  },
  {
   "cell_type": "code",
   "execution_count": 2,
   "metadata": {},
   "outputs": [],
   "source": [
    "url = 'https://raw.githubusercontent.com/pcm-dpc/COVID-19/master/dati-andamento-nazionale/dpc-covid19-ita-andamento-nazionale.csv'\n",
    "italy = pd.read_csv(url,\n",
    "                     parse_dates=['data'],\n",
    "                     index_col=['data'],\n",
    "                     squeeze=True).sort_index()"
   ]
  },
  {
   "cell_type": "code",
   "execution_count": 3,
   "metadata": {},
   "outputs": [
    {
     "data": {
      "text/markdown": [
       "\n",
       "\\begin{figure}\n",
       "\\centering\n",
       "    \\includegraphics[width=0.6\\textwidth,height=0.6\\textheight,keepaspectratio]{bus.png}\n",
       "    \\caption{Double Decker Bus}\n",
       "    \\label{fig:bus}\n",
       "\\end{figure}\n"
      ],
      "text/plain": [
       "<IPython.core.display.Markdown object>"
      ]
     },
     "metadata": {},
     "output_type": "display_data"
    }
   ],
   "source": [
    "display(Markdown(fr\"\"\"\n",
    "\\begin{{figure}}\n",
    "\\centering\n",
    "    \\includegraphics[width=0.6\\textwidth,height=0.6\\textheight,keepaspectratio]{{bus.png}}\n",
    "    \\caption{{Double Decker Bus}}\n",
    "    \\label{{fig:bus}}\n",
    "\\end{{figure}}\n",
    "\"\"\"))"
   ]
  },
  {
   "cell_type": "markdown",
   "metadata": {},
   "source": [
    "Abbiamo un Double Decker Bus (figura $\\ref{fig:bus}$). Chi esce dal bus non può più rientrare. Scelto un posto (al piano superiore o inferiore), non si può cambiare. Abbiamo alcune informazioni in due tempi, $t_{i}$ e $t_{i+1}$. In $\\Delta t$, ovvero tra $t_{i}$ e $t_{i+1}$, il bus ha effettuato una fermata permettendo uscita ed entrata."
   ]
  },
  {
   "cell_type": "code",
   "execution_count": 15,
   "metadata": {},
   "outputs": [
    {
     "data": {
      "text/markdown": [
       "\n",
       "Sappiamo che:\n",
       "\n",
       "- al tempo $t_i$\n",
       "\n",
       "  - sul bus ci sono 70187 passeggeri \n",
       "di cui 59012 al piano inferiore e \n",
       "11175 al piano superiore\n",
       "\n",
       "  - il numero totale di persone entrate nel bus dall'inizio della corsa è 224760 e \n",
       "  il numero totale di passeggeri usciti dal bus è 154573\n",
       "\n",
       "- al tempo $t_{i+1}$\n",
       "  \n",
       "  - sul bus ci sono 68351 passeggeri \n",
       "di cui 57278 al piano inferiore e \n",
       "11073 al piano superiore\n",
       "  \n",
       "  - il numero totale di persone entrate nel bus dall'inizio della corsa è 225435 e \n",
       "il numero totale di passeggeri usciti dal bus è 157084.\n",
       "\n",
       "Possiamo calcolare che in $\\Delta t$:\n",
       "\n",
       "- sono entrati 2511 passeggeri\n",
       "\n",
       "- sono uscite 675 persone\n",
       "\n",
       "- ci sono infatti 1836 passeggeri in meno sul bus \n",
       "($2511-675$), di cui:\n",
       "\n",
       "  - 1734 al piano inferiore\n",
       "  \n",
       "  - 102 al piano superiore\n",
       "  \n",
       "\n",
       "È possibile calcolare quante delle persone entrate in $\\Delta t$ \n",
       "sono andate al piano superiore e quante al piano inferiore?\n",
       "\n",
       "***\n",
       "\n"
      ],
      "text/plain": [
       "<IPython.core.display.Markdown object>"
      ]
     },
     "metadata": {},
     "output_type": "display_data"
    }
   ],
   "source": [
    "display(Markdown(fr\"\"\"\n",
    "Sappiamo che:\n",
    "\n",
    "- al tempo $t_i$\n",
    "\n",
    "  - sul bus ci sono {italy[\"totale_positivi\"][-2]} passeggeri \n",
    "di cui {italy[\"isolamento_domiciliare\"][-2]} al piano inferiore e \n",
    "{italy[\"totale_ospedalizzati\"][-2]} al piano superiore\n",
    "\n",
    "  - il numero totale di persone entrate nel bus dall'inizio della corsa è {italy[\"totale_casi\"][-2]} e \n",
    "  il numero totale di passeggeri usciti dal bus è {italy[\"deceduti\"][-2]+italy[\"dimessi_guariti\"][-2]}\n",
    "\n",
    "- al tempo $t_{{i+1}}$\n",
    "  \n",
    "  - sul bus ci sono {italy[\"totale_positivi\"][-1]} passeggeri \n",
    "di cui {italy[\"isolamento_domiciliare\"][-1]} al piano inferiore e \n",
    "{italy[\"totale_ospedalizzati\"][-1]} al piano superiore\n",
    "  \n",
    "  - il numero totale di persone entrate nel bus dall'inizio della corsa è {italy[\"totale_casi\"][-1]} e \n",
    "il numero totale di passeggeri usciti dal bus è {italy[\"deceduti\"][-1]+italy[\"dimessi_guariti\"][-1]}.\n",
    "\n",
    "Possiamo calcolare che in $\\Delta t$:\n",
    "\n",
    "- sono entrati {italy[\"deceduti\"].diff()[-1]+italy[\"dimessi_guariti\"].diff()[-1]:.0f} passeggeri\n",
    "\n",
    "- sono uscite {italy[\"totale_casi\"].diff()[-1]:.0f} persone\n",
    "\n",
    "- ci sono infatti {-italy[\"totale_positivi\"].diff()[-1]:.0f} passeggeri in meno sul bus \n",
    "(${italy[\"deceduti\"].diff()[-1]+italy[\"dimessi_guariti\"].diff()[-1]:.0f}-{italy[\"totale_casi\"].diff()[-1]:.0f}$), di cui:\n",
    "\n",
    "  - {-italy[\"isolamento_domiciliare\"].diff()[-1]:.0f} al piano inferiore\n",
    "  \n",
    "  - {-italy[\"totale_ospedalizzati\"].diff()[-1]:.0f} al piano superiore\n",
    "  \n",
    "\n",
    "È possibile calcolare quante delle persone entrate in $\\Delta t$ \n",
    "sono andate al piano superiore e quante al piano inferiore?\n",
    "\n",
    "***\n",
    "\n",
    "\"\"\"))"
   ]
  },
  {
   "cell_type": "markdown",
   "metadata": {},
   "source": [
    "$$\n",
    "\\mathrm{Pass}(sup)_{i+1} = \\mathrm{Pass}(sup)_{i} + \\mathrm{Saliti}(sup)_{\\Delta t} - \\mathrm{Scesi}(sup)_{\\Delta t}\n",
    "$$\n",
    "\n",
    "$$\n",
    "\\mathrm{Saliti}(sup)_{\\Delta t} = \\mathrm{Pass}(sup)_{i+1} - \\mathrm{Pass}(sup)_{i} + \\mathrm{Scesi}(sup)_{\\Delta t}\n",
    "$$\n",
    "\n",
    "$$\n",
    "\\mathrm{Saliti}(sup)_{\\Delta t} = \\Delta \\mathrm{Pass}(sup) + \\mathrm{Scesi}(sup)_{\\Delta t}\n",
    "$$\n",
    "\n",
    "Non conosciamo però $\\mathrm{Scesi}(sup)_{\\Delta t}$ ovvero quanti passeggeri sono scesi dal piano superiore in $\\Delta t$ ma solamente quanti ne sono scesi in tutto dal bus in totale $\\mathrm{Scesi}_{\\Delta t}=\\mathrm{Scesi}(sup)_{\\Delta t}+\\mathrm{Scesi}(inf)_{\\Delta t}$"
   ]
  },
  {
   "cell_type": "code",
   "execution_count": 5,
   "metadata": {},
   "outputs": [],
   "source": [
    "sup_rate = italy[\"totale_ospedalizzati\"].diff()[-1] / italy[\"totale_positivi\"].diff()[-1]"
   ]
  },
  {
   "cell_type": "code",
   "execution_count": 6,
   "metadata": {},
   "outputs": [],
   "source": [
    "inf_rate = italy[\"isolamento_domiciliare\"].diff()[-1] / italy[\"totale_positivi\"].diff()[-1]"
   ]
  },
  {
   "cell_type": "code",
   "execution_count": 7,
   "metadata": {},
   "outputs": [
    {
     "data": {
      "text/markdown": [
       "\n",
       "\n",
       "***\n",
       "\n",
       "In proporzione, si può dire che in $\\Delta t$, dei 1836 passeggeri in meno sul bus:\n",
       "\n",
       "- $\\sim$ 5.6% era al piano superiore\n",
       "\n",
       "- $\\sim$ 94.4% era al piano inferiore\n",
       "\n",
       "si può quindi stimare che delle 675 persone salite sul bus:\n",
       "\n",
       "- $\\sim$ 37.5 potrebbero essere salite al piano superiore\n",
       "\n",
       "- $\\sim$ 637.5 potrebbero essere salite al piano inferiore\n"
      ],
      "text/plain": [
       "<IPython.core.display.Markdown object>"
      ]
     },
     "metadata": {},
     "output_type": "display_data"
    }
   ],
   "source": [
    "display(Markdown(fr\"\"\"\n",
    "\n",
    "***\n",
    "\n",
    "In proporzione, si può dire che in $\\Delta t$, dei {-italy[\"totale_positivi\"].diff()[-1]:.0f} passeggeri in meno sul bus:\n",
    "\n",
    "- $\\sim$ {sup_rate:.1%} era al piano superiore\n",
    "\n",
    "- $\\sim$ {inf_rate:.1%} era al piano inferiore\n",
    "\n",
    "si può quindi stimare che delle {italy[\"totale_casi\"].diff()[-1]:.0f} persone salite sul bus:\n",
    "\n",
    "- $\\sim$ {(italy[\"totale_casi\"].diff()[-1]*sup_rate):.1f} potrebbero essere salite al piano superiore\n",
    "\n",
    "- $\\sim$ {(italy[\"totale_casi\"].diff()[-1]*inf_rate):.1f} potrebbero essere salite al piano inferiore\n",
    "\"\"\"))"
   ]
  },
  {
   "cell_type": "code",
   "execution_count": 8,
   "metadata": {},
   "outputs": [
    {
     "data": {
      "text/markdown": [
       "\n",
       "\n",
       "***\n",
       "\n",
       "In proporzione, si può dire che in $t_{i+1}$, dei 68351 passeggeri sul bus:\n",
       "\n",
       "- $\\sim$ 16.2% era al piano superiore\n",
       "\n",
       "- $\\sim$ 83.8% era al piano inferiore\n",
       "\n",
       "si può quindi stimare che delle 675 persone salite sul bus:\n",
       "\n",
       "- $\\sim$ 109.4 potrebbero essere salite al piano superiore\n",
       "\n",
       "- $\\sim$ 565.6 potrebbero essere salite al piano inferiore\n"
      ],
      "text/plain": [
       "<IPython.core.display.Markdown object>"
      ]
     },
     "metadata": {},
     "output_type": "display_data"
    }
   ],
   "source": [
    "SUP_rate = italy[\"totale_ospedalizzati\"][-1] / italy[\"totale_positivi\"][-1]\n",
    "INF_rate = italy[\"isolamento_domiciliare\"][-1] / italy[\"totale_positivi\"][-1]\n",
    "display(Markdown(fr\"\"\"\n",
    "\n",
    "***\n",
    "\n",
    "In proporzione, si può dire che in $t_{{i+1}}$, dei {italy[\"totale_positivi\"][-1]:.0f} passeggeri sul bus:\n",
    "\n",
    "- $\\sim$ {SUP_rate:.1%} era al piano superiore\n",
    "\n",
    "- $\\sim$ {INF_rate:.1%} era al piano inferiore\n",
    "\n",
    "si può quindi stimare che delle {italy[\"totale_casi\"].diff()[-1]:.0f} persone salite sul bus:\n",
    "\n",
    "- $\\sim$ {(italy[\"totale_casi\"].diff()[-1]*SUP_rate):.1f} potrebbero essere salite al piano superiore\n",
    "\n",
    "- $\\sim$ {(italy[\"totale_casi\"].diff()[-1]*INF_rate):.1f} potrebbero essere salite al piano inferiore\n",
    "\"\"\"))"
   ]
  },
  {
   "cell_type": "code",
   "execution_count": 9,
   "metadata": {},
   "outputs": [
    {
     "data": {
      "text/markdown": [
       "\n",
       "\n",
       "***\n",
       "\n",
       "In proporzione, si può dire che in $t_{i}$, dei 70187 passeggeri sul bus:\n",
       "\n",
       "- $\\sim$ 15.9% era al piano superiore\n",
       "\n",
       "- $\\sim$ 84.1% era al piano inferiore\n",
       "\n",
       "si può quindi stimare che delle 675 persone salite sul bus:\n",
       "\n",
       "- $\\sim$ 107.5 potrebbero essere salite al piano superiore\n",
       "\n",
       "- $\\sim$ 567.5 potrebbero essere salite al piano inferiore\n"
      ],
      "text/plain": [
       "<IPython.core.display.Markdown object>"
      ]
     },
     "metadata": {},
     "output_type": "display_data"
    }
   ],
   "source": [
    "SUP2_rate = italy[\"totale_ospedalizzati\"][-2] / italy[\"totale_positivi\"][-2]\n",
    "INF2_rate = italy[\"isolamento_domiciliare\"][-2] / italy[\"totale_positivi\"][-2]\n",
    "display(Markdown(fr\"\"\"\n",
    "\n",
    "***\n",
    "\n",
    "In proporzione, si può dire che in $t_{{i}}$, dei {italy[\"totale_positivi\"][-2]:.0f} passeggeri sul bus:\n",
    "\n",
    "- $\\sim$ {SUP2_rate:.1%} era al piano superiore\n",
    "\n",
    "- $\\sim$ {INF2_rate:.1%} era al piano inferiore\n",
    "\n",
    "si può quindi stimare che delle {italy[\"totale_casi\"].diff()[-1]:.0f} persone salite sul bus:\n",
    "\n",
    "- $\\sim$ {(italy[\"totale_casi\"].diff()[-1]*SUP2_rate):.1f} potrebbero essere salite al piano superiore\n",
    "\n",
    "- $\\sim$ {(italy[\"totale_casi\"].diff()[-1]*INF2_rate):.1f} potrebbero essere salite al piano inferiore\n",
    "\"\"\"))"
   ]
  },
  {
   "cell_type": "code",
   "execution_count": 10,
   "metadata": {},
   "outputs": [
    {
     "data": {
      "text/markdown": [
       "\n",
       "\\begin{figure}\n",
       "\\centering\n",
       "    \\includegraphics[width=0.6\\textwidth,height=0.6\\textheight,keepaspectratio]{busi.png}\n",
       "    \\caption{Double Decker Bus degli Infetti attuali.}\n",
       "    \\label{fig:busi}\n",
       "\\end{figure}\n"
      ],
      "text/plain": [
       "<IPython.core.display.Markdown object>"
      ]
     },
     "metadata": {},
     "output_type": "display_data"
    }
   ],
   "source": [
    "display(Markdown(fr\"\"\"\n",
    "\\begin{{figure}}\n",
    "\\centering\n",
    "    \\includegraphics[width=0.6\\textwidth,height=0.6\\textheight,keepaspectratio]{{busi.png}}\n",
    "    \\caption{{Double Decker Bus degli Infetti attuali.}}\n",
    "    \\label{{fig:busi}}\n",
    "\\end{{figure}}\n",
    "\"\"\"))"
   ]
  },
  {
   "cell_type": "code",
   "execution_count": null,
   "metadata": {},
   "outputs": [],
   "source": []
  }
 ],
 "metadata": {
  "kernelspec": {
   "display_name": "Python 3",
   "language": "python",
   "name": "python3"
  },
  "language_info": {
   "codemirror_mode": {
    "name": "ipython",
    "version": 3
   },
   "file_extension": ".py",
   "mimetype": "text/x-python",
   "name": "python",
   "nbconvert_exporter": "python",
   "pygments_lexer": "ipython3",
   "version": "3.7.7"
  }
 },
 "nbformat": 4,
 "nbformat_minor": 4
}
