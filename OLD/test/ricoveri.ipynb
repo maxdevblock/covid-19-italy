{
 "cells": [
  {
   "cell_type": "code",
   "execution_count": 1,
   "metadata": {},
   "outputs": [],
   "source": [
    "import pandas as pd\n",
    "\n",
    "import matplotlib.pyplot as plt\n",
    "import matplotlib.image as mpimg\n",
    "\n",
    "from IPython.display import display, Markdown"
   ]
  },
  {
   "cell_type": "code",
   "execution_count": 2,
   "metadata": {},
   "outputs": [],
   "source": [
    "url = 'https://raw.githubusercontent.com/pcm-dpc/COVID-19/master/dati-andamento-nazionale/dpc-covid19-ita-andamento-nazionale.csv'\n",
    "italy = pd.read_csv(url,\n",
    "                     parse_dates=['data'],\n",
    "                     index_col=['data'],\n",
    "                     squeeze=True).sort_index()"
   ]
  },
  {
   "cell_type": "code",
   "execution_count": 3,
   "metadata": {},
   "outputs": [
    {
     "data": {
      "text/markdown": [
       "\n",
       "\\begin{figure}\n",
       "\\centering\n",
       "    \\includegraphics[width=0.6\\textwidth,height=0.6\\textheight,keepaspectratio]{bus.png}\n",
       "    \\caption{Double Decker Bus}\n",
       "    \\label{fig:bus}\n",
       "\\end{figure}\n"
      ],
      "text/plain": [
       "<IPython.core.display.Markdown object>"
      ]
     },
     "metadata": {},
     "output_type": "display_data"
    }
   ],
   "source": [
    "display(Markdown(fr\"\"\"\n",
    "\\begin{{figure}}\n",
    "\\centering\n",
    "    \\includegraphics[width=0.6\\textwidth,height=0.6\\textheight,keepaspectratio]{{bus.png}}\n",
    "    \\caption{{Double Decker Bus}}\n",
    "    \\label{{fig:bus}}\n",
    "\\end{{figure}}\n",
    "\"\"\"))"
   ]
  },
  {
   "cell_type": "markdown",
   "metadata": {},
   "source": [
    "Abbiamo un Double Decker Bus (figura $\\ref{fig:bus}$)."
   ]
  },
  {
   "cell_type": "code",
   "execution_count": 4,
   "metadata": {},
   "outputs": [
    {
     "data": {
      "text/markdown": [
       "\n",
       "Sappiamo che:\n",
       "\n",
       "- al tempo $t_i$\n",
       "  - sul bus ci sono 70187 passeggeri \n",
       "di cui 59012 al piano inferiore e \n",
       "11175 al piano superiore\n",
       "  - il numero totale di persone salite sul bus dall'inizio della corsa è 224760 e \n",
       "il numero totale di passeggeri scesi dal bus è 154573\n",
       "\n",
       "- al tempo $t_{i+1}$\n",
       "  - sul bus ci sono 68351 passeggeri \n",
       "di cui 57278 al piano inferiore e \n",
       "11073 al piano superiore\n",
       "  - il numero totale di persone salite sul bus dall'inizio della corsa è 225435 e \n",
       "il numero totale di passeggeri scesi dal bus è 157084.\n",
       "\n",
       "Possiamo calcolare che tra $t_{i}$ e $t_{i+1}$, ovvero in $\\Delta t$:\n",
       "\n",
       "- sono scesi 2511 passeggeri\n",
       "- sono salite 675 persone\n",
       "- ci sono infatti 1836 passeggeri in meno ($2511-675$), di cui:\n",
       "  - 1734 al piano inferiore\n",
       "  - 102 al piano superiore\n",
       "  \n",
       "\n",
       "È possibile calcolare quante persone sono salite al piano superiore in $\\Delta t$?\n"
      ],
      "text/plain": [
       "<IPython.core.display.Markdown object>"
      ]
     },
     "metadata": {},
     "output_type": "display_data"
    }
   ],
   "source": [
    "display(Markdown(fr\"\"\"\n",
    "Sappiamo che:\n",
    "\n",
    "- al tempo $t_i$\n",
    "  - sul bus ci sono {italy[\"totale_positivi\"][-2]} passeggeri \n",
    "di cui {italy[\"isolamento_domiciliare\"][-2]} al piano inferiore e \n",
    "{italy[\"totale_ospedalizzati\"][-2]} al piano superiore\n",
    "  - il numero totale di persone salite sul bus dall'inizio della corsa è {italy[\"totale_casi\"][-2]} e \n",
    "il numero totale di passeggeri scesi dal bus è {italy[\"deceduti\"][-2]+italy[\"dimessi_guariti\"][-2]}\n",
    "\n",
    "- al tempo $t_{{i+1}}$\n",
    "  - sul bus ci sono {italy[\"totale_positivi\"][-1]} passeggeri \n",
    "di cui {italy[\"isolamento_domiciliare\"][-1]} al piano inferiore e \n",
    "{italy[\"totale_ospedalizzati\"][-1]} al piano superiore\n",
    "  - il numero totale di persone salite sul bus dall'inizio della corsa è {italy[\"totale_casi\"][-1]} e \n",
    "il numero totale di passeggeri scesi dal bus è {italy[\"deceduti\"][-1]+italy[\"dimessi_guariti\"][-1]}.\n",
    "\n",
    "Possiamo calcolare che tra $t_{{i}}$ e $t_{{i+1}}$, ovvero in $\\Delta t$:\n",
    "\n",
    "- sono scesi {italy[\"deceduti\"].diff()[-1]+italy[\"dimessi_guariti\"].diff()[-1]:.0f} passeggeri\n",
    "- sono salite {italy[\"totale_casi\"].diff()[-1]:.0f} persone\n",
    "- ci sono infatti {-italy[\"totale_positivi\"].diff()[-1]:.0f} passeggeri in meno (${italy[\"deceduti\"].diff()[-1]+italy[\"dimessi_guariti\"].diff()[-1]:.0f}-{italy[\"totale_casi\"].diff()[-1]:.0f}$), di cui:\n",
    "  - {-italy[\"isolamento_domiciliare\"].diff()[-1]:.0f} al piano inferiore\n",
    "  - {-italy[\"totale_ospedalizzati\"].diff()[-1]:.0f} al piano superiore\n",
    "  \n",
    "\n",
    "È possibile calcolare quante persone sono salite al piano superiore in $\\Delta t$?\n",
    "\"\"\"))"
   ]
  },
  {
   "cell_type": "markdown",
   "metadata": {},
   "source": [
    "$$\n",
    "P(sup)_{i+1} = P(sup)_{i} + \\mathrm{Saliti}(sup)_{\\Delta t} - \\mathrm{Scesi}(sup)_{\\Delta t}\n",
    "$$\n",
    "\n",
    "$$\n",
    "\\mathrm{Saliti}(sup)_{\\Delta t} = P(sup)_{i+1} - P(sup)_{i} + \\mathrm{Scesi}(sup)_{\\Delta t}\n",
    "$$\n",
    "\n",
    "$$\n",
    "\\mathrm{Saliti}(sup)_{\\Delta t} = \\Delta P(sup) + \\mathrm{Scesi}(sup)_{\\Delta t}\n",
    "$$"
   ]
  },
  {
   "cell_type": "code",
   "execution_count": 39,
   "metadata": {},
   "outputs": [
    {
     "data": {
      "text/plain": [
       "-102"
      ]
     },
     "execution_count": 39,
     "metadata": {},
     "output_type": "execute_result"
    }
   ],
   "source": [
    "italy[\"totale_ospedalizzati\"][-1] - italy[\"totale_ospedalizzati\"][-2] "
   ]
  },
  {
   "cell_type": "code",
   "execution_count": 13,
   "metadata": {},
   "outputs": [],
   "source": [
    "sup_rate = italy[\"totale_ospedalizzati\"].diff()[-1] / italy[\"totale_positivi\"].diff()[-1]"
   ]
  },
  {
   "cell_type": "code",
   "execution_count": 14,
   "metadata": {},
   "outputs": [],
   "source": [
    "inf_rate = italy[\"isolamento_domiciliare\"].diff()[-1] / italy[\"totale_positivi\"].diff()[-1]"
   ]
  },
  {
   "cell_type": "code",
   "execution_count": 36,
   "metadata": {},
   "outputs": [
    {
     "data": {
      "text/markdown": [
       "\n",
       "\n",
       "***\n",
       "\n",
       "In proporzione, si può dire che in $\\Delta t$, dei 1836 passeggeri in meno sul bus:\n",
       "- $\\sim$ 5.6% era al piano superiore\n",
       "- $\\sim$ 94.4% era al piano inferiore\n",
       "\n",
       "si può quindi stimare che delle 675 persone salite sul bus:\n",
       "- $\\sim$ 37.5 potrebbero essere salite al piano superiore\n",
       "- $\\sim$ 637.5 potrebbero essere salite al piano inferiore\n"
      ],
      "text/plain": [
       "<IPython.core.display.Markdown object>"
      ]
     },
     "metadata": {},
     "output_type": "display_data"
    }
   ],
   "source": [
    "display(Markdown(fr\"\"\"\n",
    "\n",
    "***\n",
    "\n",
    "In proporzione, si può dire che in $\\Delta t$, dei {-italy[\"totale_positivi\"].diff()[-1]:.0f} passeggeri in meno sul bus:\n",
    "- $\\sim$ {sup_rate:.1%} era al piano superiore\n",
    "- $\\sim$ {inf_rate:.1%} era al piano inferiore\n",
    "\n",
    "si può quindi stimare che delle {italy[\"totale_casi\"].diff()[-1]:.0f} persone salite sul bus:\n",
    "- $\\sim$ {(italy[\"totale_casi\"].diff()[-1]*sup_rate):.1f} potrebbero essere salite al piano superiore\n",
    "- $\\sim$ {(italy[\"totale_casi\"].diff()[-1]*inf_rate):.1f} potrebbero essere salite al piano inferiore\n",
    "\"\"\"))"
   ]
  },
  {
   "cell_type": "code",
   "execution_count": null,
   "metadata": {},
   "outputs": [],
   "source": []
  }
 ],
 "metadata": {
  "kernelspec": {
   "display_name": "Python 3",
   "language": "python",
   "name": "python3"
  },
  "language_info": {
   "codemirror_mode": {
    "name": "ipython",
    "version": 3
   },
   "file_extension": ".py",
   "mimetype": "text/x-python",
   "name": "python",
   "nbconvert_exporter": "python",
   "pygments_lexer": "ipython3",
   "version": "3.7.7"
  }
 },
 "nbformat": 4,
 "nbformat_minor": 4
}
