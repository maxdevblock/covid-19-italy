{
 "cells": [
  {
   "cell_type": "code",
   "execution_count": 1,
   "metadata": {},
   "outputs": [],
   "source": [
    "import datetime as dt\n",
    "\n",
    "import pandas as pd\n",
    "import numpy as np\n",
    "\n",
    "import plotly.graph_objects as go"
   ]
  },
  {
   "cell_type": "code",
   "execution_count": 2,
   "metadata": {},
   "outputs": [],
   "source": [
    "now = dt.datetime.now()\n",
    "\n",
    "ld = pd.read_csv(\n",
    "    \"https://raw.githubusercontent.com/maxdevblock/covid-19-time-series/master/csv/lockdowns.csv\",\n",
    "    dtype={\"Place\": str}\n",
    ")\n",
    "ld.fillna('', inplace=True)"
   ]
  },
  {
   "cell_type": "code",
   "execution_count": 6,
   "metadata": {},
   "outputs": [
    {
     "data": {
      "application/vnd.plotly.v1+json": {
       "config": {
        "plotlyServerURL": "https://plot.ly"
       },
       "data": [
        {
         "hovertext": "<b>Algeria, Algiers</b><br>2020 03 23 start<br>2020 04 14 end",
         "lat": [
          36.753768
         ],
         "lon": [
          3.0587561
         ],
         "marker": {
          "size": 25
         },
         "mode": "markers",
         "name": "Algeria, Algiers",
         "opacity": 0.5,
         "type": "scattergeo"
        },
        {
         "hovertext": "<b>Algeria, Blida</b><br>2020 03 23 start<br>2020 04 14 end",
         "lat": [
          36.47357150000001
         ],
         "lon": [
          2.8323153
         ],
         "marker": {
          "size": 25
         },
         "mode": "markers",
         "name": "Algeria, Blida",
         "opacity": 0.5,
         "type": "scattergeo"
        },
        {
         "hovertext": "<b>Argentina</b><br>2020 03 19 start<br>2020 04 12 end",
         "lat": [
          -38.416097
         ],
         "lon": [
          -63.61667199999999
         ],
         "marker": {
          "size": 25
         },
         "mode": "markers",
         "name": "Argentina",
         "opacity": 0.5,
         "type": "scattergeo"
        },
        {
         "hovertext": "<b>Australia</b><br>2020 03 23 start<br>2020 04 24 end",
         "lat": [
          -25.274398
         ],
         "lon": [
          133.775136
         ],
         "marker": {
          "size": 25
         },
         "mode": "markers",
         "name": "Australia",
         "opacity": 0.5,
         "type": "scattergeo"
        },
        {
         "hovertext": "<b>Austria</b><br>2020 03 16 start<br>2020 04 13 end",
         "lat": [
          47.516231
         ],
         "lon": [
          14.550072
         ],
         "marker": {
          "size": 25
         },
         "mode": "markers",
         "name": "Austria",
         "opacity": 0.5,
         "type": "scattergeo"
        },
        {
         "hovertext": "<b>Belgium</b><br>2020 03 18 start<br>2020 04 18 end",
         "lat": [
          50.503887
         ],
         "lon": [
          4.469936
         ],
         "marker": {
          "size": 25
         },
         "mode": "markers",
         "name": "Belgium",
         "opacity": 0.5,
         "type": "scattergeo"
        },
        {
         "hovertext": "<b>Bolivia</b><br>2020 03 22 start<br>2020 04 14 end",
         "lat": [
          -16.290154
         ],
         "lon": [
          -63.588653
         ],
         "marker": {
          "size": 25
         },
         "mode": "markers",
         "name": "Bolivia",
         "opacity": 0.5,
         "type": "scattergeo"
        },
        {
         "hovertext": "<b>Chile</b><br>2020 03 19 start<br>2020 04 14 end",
         "lat": [
          -35.675147
         ],
         "lon": [
          -71.542969
         ],
         "marker": {
          "size": 25
         },
         "mode": "markers",
         "name": "Chile",
         "opacity": 0.5,
         "type": "scattergeo"
        },
        {
         "hovertext": "<b>Colombia</b><br>2020 03 25 start<br>2020 04 13 end",
         "lat": [
          4.570868
         ],
         "lon": [
          -74.297333
         ],
         "marker": {
          "size": 25
         },
         "mode": "markers",
         "name": "Colombia",
         "opacity": 0.5,
         "type": "scattergeo"
        },
        {
         "hovertext": "<b>Costa Rica</b><br>2020 03 23 start<br>2020 04 13 end",
         "lat": [
          9.748917
         ],
         "lon": [
          -83.753428
         ],
         "marker": {
          "size": 25
         },
         "mode": "markers",
         "name": "Costa Rica",
         "opacity": 0.5,
         "type": "scattergeo"
        },
        {
         "hovertext": "<b>Cuba</b><br>2020 03 23 start<br>2020 04 19 end",
         "lat": [
          21.521757
         ],
         "lon": [
          -77.78116700000002
         ],
         "marker": {
          "size": 25
         },
         "mode": "markers",
         "name": "Cuba",
         "opacity": 0.5,
         "type": "scattergeo"
        },
        {
         "hovertext": "<b>Denmark</b><br>2020 03 11 start<br>2020 04 13 end",
         "lat": [
          56.26392
         ],
         "lon": [
          9.501785
         ],
         "marker": {
          "size": 25
         },
         "mode": "markers",
         "name": "Denmark",
         "opacity": 0.5,
         "type": "scattergeo"
        },
        {
         "hovertext": "<b>Finland, Uusimaa</b><br>2020 03 27 start<br>2020 04 14 end",
         "lat": [
          60.21872
         ],
         "lon": [
          25.271621
         ],
         "marker": {
          "size": 25
         },
         "mode": "markers",
         "name": "Finland, Uusimaa",
         "opacity": 0.5,
         "type": "scattergeo"
        },
        {
         "hovertext": "<b>France</b><br>2020 03 17 start<br>2020 04 15 end",
         "lat": [
          46.227638
         ],
         "lon": [
          2.213749
         ],
         "marker": {
          "size": 25
         },
         "mode": "markers",
         "name": "France",
         "opacity": 0.5,
         "type": "scattergeo"
        },
        {
         "hovertext": "<b>Ghana, Accra</b><br>2020 03 30 start<br>2020 04 14 end",
         "lat": [
          5.6037168
         ],
         "lon": [
          -0.1869644
         ],
         "marker": {
          "size": 25
         },
         "mode": "markers",
         "name": "Ghana, Accra",
         "opacity": 0.5,
         "type": "scattergeo"
        },
        {
         "hovertext": "<b>Ghana, Kumasi</b><br>2020 03 30 start<br>2020 04 14 end",
         "lat": [
          6.6666004
         ],
         "lon": [
          -1.6162709
         ],
         "marker": {
          "size": 25
         },
         "mode": "markers",
         "name": "Ghana, Kumasi",
         "opacity": 0.5,
         "type": "scattergeo"
        },
        {
         "hovertext": "<b>Honduras</b><br>2020 03 17 start<br>2020 04 12 end",
         "lat": [
          15.199998999999998
         ],
         "lon": [
          -86.241905
         ],
         "marker": {
          "size": 25
         },
         "mode": "markers",
         "name": "Honduras",
         "opacity": 0.5,
         "type": "scattergeo"
        },
        {
         "hovertext": "<b>Hungary</b><br>2020 03 28 start<br>2020 04 11 end",
         "lat": [
          47.162494
         ],
         "lon": [
          19.5033041
         ],
         "marker": {
          "size": 25
         },
         "mode": "markers",
         "name": "Hungary",
         "opacity": 0.5,
         "type": "scattergeo"
        },
        {
         "hovertext": "<b>Indonesia, Tegal</b><br>2020 03 26 start<br>2020 07 25 end",
         "lat": [
          -6.879704100000001
         ],
         "lon": [
          109.12559170000002
         ],
         "marker": {
          "size": 25
         },
         "mode": "markers",
         "name": "Indonesia, Tegal",
         "opacity": 0.5,
         "type": "scattergeo"
        },
        {
         "hovertext": "<b>Iraq</b><br>2020 03 22 start<br>2020 04 11 end",
         "lat": [
          33.223191
         ],
         "lon": [
          43.679291
         ],
         "marker": {
          "size": 25
         },
         "mode": "markers",
         "name": "Iraq",
         "opacity": 0.5,
         "type": "scattergeo"
        },
        {
         "hovertext": "<b>Ireland</b><br>2020 03 12 start<br>2020 04 12 end",
         "lat": [
          53.1423672
         ],
         "lon": [
          -7.692053599999999
         ],
         "marker": {
          "size": 25
         },
         "mode": "markers",
         "name": "Ireland",
         "opacity": 0.5,
         "type": "scattergeo"
        },
        {
         "hovertext": "<b>Italy</b><br>2020 03 09 start<br>2020 04 12 end",
         "lat": [
          41.87194
         ],
         "lon": [
          12.56738
         ],
         "marker": {
          "size": 25
         },
         "mode": "markers",
         "name": "Italy",
         "opacity": 0.5,
         "type": "scattergeo"
        },
        {
         "hovertext": "<b>Jordan</b><br>2020 03 21 start<br>2020 04 12 end",
         "lat": [
          30.585164
         ],
         "lon": [
          36.238414
         ],
         "marker": {
          "size": 25
         },
         "mode": "markers",
         "name": "Jordan",
         "opacity": 0.5,
         "type": "scattergeo"
        },
        {
         "hovertext": "<b>Liberia, Margibi</b><br>2020 03 23 start<br>2020 04 14 end",
         "lat": [
          6.5151875
         ],
         "lon": [
          -10.3048897
         ],
         "marker": {
          "size": 25
         },
         "mode": "markers",
         "name": "Liberia, Margibi",
         "opacity": 0.5,
         "type": "scattergeo"
        },
        {
         "hovertext": "<b>Liberia, Montserrado</b><br>2020 03 23 start<br>2020 04 14 end",
         "lat": [
          6.5525815000000005
         ],
         "lon": [
          -10.5296115
         ],
         "marker": {
          "size": 25
         },
         "mode": "markers",
         "name": "Liberia, Montserrado",
         "opacity": 0.5,
         "type": "scattergeo"
        },
        {
         "hovertext": "<b>Libya</b><br>2020 03 22 start<br>2020 04 20 end",
         "lat": [
          26.3351
         ],
         "lon": [
          17.228331
         ],
         "marker": {
          "size": 25
         },
         "mode": "markers",
         "name": "Libya",
         "opacity": 0.5,
         "type": "scattergeo"
        },
        {
         "hovertext": "<b>Madagascar, Antananarivo</b><br>2020 03 23 start<br>2020 04 12 end",
         "lat": [
          -18.8791902
         ],
         "lon": [
          47.5079055
         ],
         "marker": {
          "size": 25
         },
         "mode": "markers",
         "name": "Madagascar, Antananarivo",
         "opacity": 0.5,
         "type": "scattergeo"
        },
        {
         "hovertext": "<b>Madagascar, Toamasina</b><br>2020 03 23 start<br>2020 04 12 end",
         "lat": [
          -18.1442811
         ],
         "lon": [
          49.3957836
         ],
         "marker": {
          "size": 25
         },
         "mode": "markers",
         "name": "Madagascar, Toamasina",
         "opacity": 0.5,
         "type": "scattergeo"
        },
        {
         "hovertext": "<b>Malaysia</b><br>2020 03 18 start<br>2020 04 14 end",
         "lat": [
          4.210483999999999
         ],
         "lon": [
          101.975766
         ],
         "marker": {
          "size": 25
         },
         "mode": "markers",
         "name": "Malaysia",
         "opacity": 0.5,
         "type": "scattergeo"
        },
        {
         "hovertext": "<b>Montenegro, Tuzi</b><br>2020 03 24 start<br>2020 04 14 end",
         "lat": [
          42.36894239999999
         ],
         "lon": [
          19.3128909
         ],
         "marker": {
          "size": 25
         },
         "mode": "markers",
         "name": "Montenegro, Tuzi",
         "opacity": 0.5,
         "type": "scattergeo"
        },
        {
         "hovertext": "<b>Morocco</b><br>2020 03 19 start<br>2020 04 20 end",
         "lat": [
          31.791702
         ],
         "lon": [
          -7.0926199999999975
         ],
         "marker": {
          "size": 25
         },
         "mode": "markers",
         "name": "Morocco",
         "opacity": 0.5,
         "type": "scattergeo"
        },
        {
         "hovertext": "<b>New Zealand</b><br>2020 03 26 start<br>2020 04 19 end",
         "lat": [
          -40.900557
         ],
         "lon": [
          174.88597099999996
         ],
         "marker": {
          "size": 25
         },
         "mode": "markers",
         "name": "New Zealand",
         "opacity": 0.5,
         "type": "scattergeo"
        },
        {
         "hovertext": "<b>Nigeria, Abuja</b><br>2020 03 30 start<br>2020 04 14 end",
         "lat": [
          9.0764785
         ],
         "lon": [
          7.398574000000001
         ],
         "marker": {
          "size": 25
         },
         "mode": "markers",
         "name": "Nigeria, Abuja",
         "opacity": 0.5,
         "type": "scattergeo"
        },
        {
         "hovertext": "<b>Nigeria, Lagos</b><br>2020 03 30 start<br>2020 04 14 end",
         "lat": [
          6.5243793
         ],
         "lon": [
          3.3792057
         ],
         "marker": {
          "size": 25
         },
         "mode": "markers",
         "name": "Nigeria, Lagos",
         "opacity": 0.5,
         "type": "scattergeo"
        },
        {
         "hovertext": "<b>Nigeria, Ogun</b><br>2020 03 30 start<br>2020 04 14 end",
         "lat": [
          6.997974699999999
         ],
         "lon": [
          3.4737378
         ],
         "marker": {
          "size": 25
         },
         "mode": "markers",
         "name": "Nigeria, Ogun",
         "opacity": 0.5,
         "type": "scattergeo"
        },
        {
         "hovertext": "<b>Norway</b><br>2020 03 12 start<br>2020 04 13 end",
         "lat": [
          60.47202399999999
         ],
         "lon": [
          8.468945999999999
         ],
         "marker": {
          "size": 25
         },
         "mode": "markers",
         "name": "Norway",
         "opacity": 0.5,
         "type": "scattergeo"
        },
        {
         "hovertext": "<b>Panama</b><br>2020 03 25 start<br>2020 04 13 end",
         "lat": [
          8.537981
         ],
         "lon": [
          -80.782127
         ],
         "marker": {
          "size": 25
         },
         "mode": "markers",
         "name": "Panama",
         "opacity": 0.5,
         "type": "scattergeo"
        },
        {
         "hovertext": "<b>Papua New Guinea</b><br>2020 03 24 start<br>2020 04 13 end",
         "lat": [
          -6.314992999999999
         ],
         "lon": [
          143.95555
         ],
         "marker": {
          "size": 25
         },
         "mode": "markers",
         "name": "Papua New Guinea",
         "opacity": 0.5,
         "type": "scattergeo"
        },
        {
         "hovertext": "<b>Paraguay</b><br>2020 03 20 start<br>2020 04 12 end",
         "lat": [
          -23.442503
         ],
         "lon": [
          -58.44383199999999
         ],
         "marker": {
          "size": 25
         },
         "mode": "markers",
         "name": "Paraguay",
         "opacity": 0.5,
         "type": "scattergeo"
        },
        {
         "hovertext": "<b>Philippines, Cebu</b><br>2020 03 27 start<br>2020 04 15 end",
         "lat": [
          10.607936
         ],
         "lon": [
          123.8857747
         ],
         "marker": {
          "size": 25
         },
         "mode": "markers",
         "name": "Philippines, Cebu",
         "opacity": 0.5,
         "type": "scattergeo"
        },
        {
         "hovertext": "<b>Philippines, Davao Region</b><br>2020 03 19 start<br>2020 04 14 end",
         "lat": [
          7.3041622
         ],
         "lon": [
          126.0893406
         ],
         "marker": {
          "size": 25
         },
         "mode": "markers",
         "name": "Philippines, Davao Region",
         "opacity": 0.5,
         "type": "scattergeo"
        },
        {
         "hovertext": "<b>Philippines, Luzon</b><br>2020 03 15 start<br>2020 04 14 end",
         "lat": [
          16.5662318
         ],
         "lon": [
          121.2626366
         ],
         "marker": {
          "size": 25
         },
         "mode": "markers",
         "name": "Philippines, Luzon",
         "opacity": 0.5,
         "type": "scattergeo"
        },
        {
         "hovertext": "<b>Philippines, Soccsksargen</b><br>2020 03 23 start<br>2020 04 14 end",
         "lat": [
          6.2706918
         ],
         "lon": [
          124.6856509
         ],
         "marker": {
          "size": 25
         },
         "mode": "markers",
         "name": "Philippines, Soccsksargen",
         "opacity": 0.5,
         "type": "scattergeo"
        },
        {
         "hovertext": "<b>Poland</b><br>2020 03 13 start<br>2020 04 12 end",
         "lat": [
          51.919438
         ],
         "lon": [
          19.145136
         ],
         "marker": {
          "size": 25
         },
         "mode": "markers",
         "name": "Poland",
         "opacity": 0.5,
         "type": "scattergeo"
        },
        {
         "hovertext": "<b>Romania</b><br>2020 03 25 start<br>2020 04 14 end",
         "lat": [
          45.943161
         ],
         "lon": [
          24.96676
         ],
         "marker": {
          "size": 25
         },
         "mode": "markers",
         "name": "Romania",
         "opacity": 0.5,
         "type": "scattergeo"
        },
        {
         "hovertext": "<b>Russia, Moscow</b><br>2020 03 30 start<br>2020 04 12 end",
         "lat": [
          55.755826
         ],
         "lon": [
          37.6172999
         ],
         "marker": {
          "size": 25
         },
         "mode": "markers",
         "name": "Russia, Moscow",
         "opacity": 0.5,
         "type": "scattergeo"
        },
        {
         "hovertext": "<b>Rwanda</b><br>2020 03 21 start<br>2020 04 12 end",
         "lat": [
          -1.940278
         ],
         "lon": [
          29.873888
         ],
         "marker": {
          "size": 25
         },
         "mode": "markers",
         "name": "Rwanda",
         "opacity": 0.5,
         "type": "scattergeo"
        },
        {
         "hovertext": "<b>Saudi Arabia, Jeddah</b><br>2020 03 29 start<br>2020 04 14 end",
         "lat": [
          21.485811
         ],
         "lon": [
          39.19250479999999
         ],
         "marker": {
          "size": 25
         },
         "mode": "markers",
         "name": "Saudi Arabia, Jeddah",
         "opacity": 0.5,
         "type": "scattergeo"
        },
        {
         "hovertext": "<b>Saudi Arabia, Mecca</b><br>2020 03 26 start<br>2020 04 14 end",
         "lat": [
          21.3890824
         ],
         "lon": [
          39.8579118
         ],
         "marker": {
          "size": 25
         },
         "mode": "markers",
         "name": "Saudi Arabia, Mecca",
         "opacity": 0.5,
         "type": "scattergeo"
        },
        {
         "hovertext": "<b>Saudi Arabia, Medina</b><br>2020 03 26 start<br>2020 04 14 end",
         "lat": [
          24.5246542
         ],
         "lon": [
          39.5691841
         ],
         "marker": {
          "size": 25
         },
         "mode": "markers",
         "name": "Saudi Arabia, Medina",
         "opacity": 0.5,
         "type": "scattergeo"
        },
        {
         "hovertext": "<b>Saudi Arabia, Qatif</b><br>2020 03 09 start<br>2020 04 14 end",
         "lat": [
          26.5764917
         ],
         "lon": [
          49.998236
         ],
         "marker": {
          "size": 25
         },
         "mode": "markers",
         "name": "Saudi Arabia, Qatif",
         "opacity": 0.5,
         "type": "scattergeo"
        },
        {
         "hovertext": "<b>Saudi Arabia, Riyadh</b><br>2020 03 26 start<br>2020 04 14 end",
         "lat": [
          24.7135517
         ],
         "lon": [
          46.67529570000001
         ],
         "marker": {
          "size": 25
         },
         "mode": "markers",
         "name": "Saudi Arabia, Riyadh",
         "opacity": 0.5,
         "type": "scattergeo"
        },
        {
         "hovertext": "<b>South Africa</b><br>2020 03 26 start<br>2020 04 16 end",
         "lat": [
          -30.559482
         ],
         "lon": [
          22.937506
         ],
         "marker": {
          "size": 25
         },
         "mode": "markers",
         "name": "South Africa",
         "opacity": 0.5,
         "type": "scattergeo"
        },
        {
         "hovertext": "<b>Spain</b><br>2020 03 14 start<br>2020 04 14 end",
         "lat": [
          40.46366700000001
         ],
         "lon": [
          -3.74922
         ],
         "marker": {
          "size": 25
         },
         "mode": "markers",
         "name": "Spain",
         "opacity": 0.5,
         "type": "scattergeo"
        },
        {
         "hovertext": "<b>Tunisia</b><br>2020 03 22 start<br>2020 04 11 end",
         "lat": [
          33.886917
         ],
         "lon": [
          9.537499
         ],
         "marker": {
          "size": 25
         },
         "mode": "markers",
         "name": "Tunisia",
         "opacity": 0.5,
         "type": "scattergeo"
        },
        {
         "hovertext": "<b>United Kingdom</b><br>2020 03 23 start<br>2020 04 13 end",
         "lat": [
          55.378051
         ],
         "lon": [
          -3.435973
         ],
         "marker": {
          "size": 25
         },
         "mode": "markers",
         "name": "United Kingdom",
         "opacity": 0.5,
         "type": "scattergeo"
        },
        {
         "hovertext": "<b>United States, Clark County, NV</b><br>2020 03 20 start<br>2020 04 20 end",
         "lat": [
          36.0795613
         ],
         "lon": [
          -115.094045
         ],
         "marker": {
          "size": 25
         },
         "mode": "markers",
         "name": "United States, Clark County, NV",
         "opacity": 0.5,
         "type": "scattergeo"
        },
        {
         "hovertext": "<b>United States, Kansas City, KS</b><br>2020 03 24 start<br>2020 04 23 end",
         "lat": [
          39.11553139999999
         ],
         "lon": [
          -94.6267873
         ],
         "marker": {
          "size": 25
         },
         "mode": "markers",
         "name": "United States, Kansas City, KS",
         "opacity": 0.5,
         "type": "scattergeo"
        },
        {
         "hovertext": "<b>Zimbabwe</b><br>2020 03 30 start<br>2020 04 12 end",
         "lat": [
          -19.015438
         ],
         "lon": [
          29.154857
         ],
         "marker": {
          "size": 25
         },
         "mode": "markers",
         "name": "Zimbabwe",
         "opacity": 0.5,
         "type": "scattergeo"
        },
        {
         "hovertext": "<b>United States, Alaska</b><br>2020 03 28 start<br>2020 04 11 end",
         "lat": [
          64.2008413
         ],
         "lon": [
          -149.4936733
         ],
         "marker": {
          "size": 25
         },
         "mode": "markers",
         "name": "United States, Alaska",
         "opacity": 0.5,
         "type": "scattergeo"
        },
        {
         "hovertext": "<b>United States, Arizona</b><br>2020 03 31 start<br>undefined end",
         "lat": [
          34.048928100000005
         ],
         "lon": [
          -111.0937311
         ],
         "marker": {
          "size": 25
         },
         "mode": "markers",
         "name": "United States, Arizona",
         "opacity": 0.5,
         "type": "scattergeo"
        },
        {
         "hovertext": "<b>United States, California</b><br>2020 03 19 start<br>undefined end",
         "lat": [
          36.778261
         ],
         "lon": [
          -119.4179324
         ],
         "marker": {
          "size": 25
         },
         "mode": "markers",
         "name": "United States, California",
         "opacity": 0.5,
         "type": "scattergeo"
        },
        {
         "hovertext": "<b>United States, Colorado</b><br>2020 03 26 start<br>2020 04 11 end",
         "lat": [
          39.55005070000001
         ],
         "lon": [
          -105.78206740000002
         ],
         "marker": {
          "size": 25
         },
         "mode": "markers",
         "name": "United States, Colorado",
         "opacity": 0.5,
         "type": "scattergeo"
        },
        {
         "hovertext": "<b>United States, Connecticut</b><br>2020 03 23 start<br>undefined end",
         "lat": [
          41.60322070000001
         ],
         "lon": [
          -73.087749
         ],
         "marker": {
          "size": 25
         },
         "mode": "markers",
         "name": "United States, Connecticut",
         "opacity": 0.5,
         "type": "scattergeo"
        },
        {
         "hovertext": "<b>United States, Delaware</b><br>2020 03 24 start<br>2020 05 15 end",
         "lat": [
          38.9108325
         ],
         "lon": [
          -75.52766989999998
         ],
         "marker": {
          "size": 25
         },
         "mode": "markers",
         "name": "United States, Delaware",
         "opacity": 0.5,
         "type": "scattergeo"
        },
        {
         "hovertext": "<b>United States, District of Columbia</b><br>2020 04 01 start<br>undefined end",
         "lat": [
          38.9071923
         ],
         "lon": [
          -77.03687070000002
         ],
         "marker": {
          "size": 25
         },
         "mode": "markers",
         "name": "United States, District of Columbia",
         "opacity": 0.5,
         "type": "scattergeo"
        },
        {
         "hovertext": "<b>United States, Hawaii</b><br>2020 03 25 start<br>2020 04 30 end",
         "lat": [
          19.8967662
         ],
         "lon": [
          -155.58278180000005
         ],
         "marker": {
          "size": 25
         },
         "mode": "markers",
         "name": "United States, Hawaii",
         "opacity": 0.5,
         "type": "scattergeo"
        },
        {
         "hovertext": "<b>United States, Idaho</b><br>2020 03 25 start<br>2020 04 15 end",
         "lat": [
          44.0682019
         ],
         "lon": [
          -114.7420408
         ],
         "marker": {
          "size": 25
         },
         "mode": "markers",
         "name": "United States, Idaho",
         "opacity": 0.5,
         "type": "scattergeo"
        },
        {
         "hovertext": "<b>United States, Kansas</b><br>2020 03 30 start<br>2020 04 19 end",
         "lat": [
          39.011902
         ],
         "lon": [
          -98.4842465
         ],
         "marker": {
          "size": 25
         },
         "mode": "markers",
         "name": "United States, Kansas",
         "opacity": 0.5,
         "type": "scattergeo"
        },
        {
         "hovertext": "<b>United States, Louisiana</b><br>2020 03 23 start<br>2020 04 12 end",
         "lat": [
          30.98429770000001
         ],
         "lon": [
          -91.9623327
         ],
         "marker": {
          "size": 25
         },
         "mode": "markers",
         "name": "United States, Louisiana",
         "opacity": 0.5,
         "type": "scattergeo"
        },
        {
         "hovertext": "<b>United States, Massachusetts</b><br>2020 03 24 start<br>2020 05 04 end",
         "lat": [
          42.4072107
         ],
         "lon": [
          -71.3824374
         ],
         "marker": {
          "size": 25
         },
         "mode": "markers",
         "name": "United States, Massachusetts",
         "opacity": 0.5,
         "type": "scattergeo"
        },
        {
         "hovertext": "<b>United States, Michigan</b><br>2020 03 24 start<br>2020 04 14 end",
         "lat": [
          44.3148443
         ],
         "lon": [
          -85.60236429999998
         ],
         "marker": {
          "size": 25
         },
         "mode": "markers",
         "name": "United States, Michigan",
         "opacity": 0.5,
         "type": "scattergeo"
        },
        {
         "hovertext": "<b>United States, Montana</b><br>2020 03 28 start<br>undefined end",
         "lat": [
          46.87968220000001
         ],
         "lon": [
          -110.3625658
         ],
         "marker": {
          "size": 25
         },
         "mode": "markers",
         "name": "United States, Montana",
         "opacity": 0.5,
         "type": "scattergeo"
        },
        {
         "hovertext": "<b>United States, New Hampshire</b><br>2020 03 27 start<br>2020 05 04 end",
         "lat": [
          43.1938516
         ],
         "lon": [
          -71.5723953
         ],
         "marker": {
          "size": 25
         },
         "mode": "markers",
         "name": "United States, New Hampshire",
         "opacity": 0.5,
         "type": "scattergeo"
        },
        {
         "hovertext": "<b>United States, New Jersey</b><br>2020 03 21 start<br>undefined end",
         "lat": [
          40.0583238
         ],
         "lon": [
          -74.40566120000003
         ],
         "marker": {
          "size": 25
         },
         "mode": "markers",
         "name": "United States, New Jersey",
         "opacity": 0.5,
         "type": "scattergeo"
        },
        {
         "hovertext": "<b>United States, New Mexico</b><br>2020 03 24 start<br>undefined end",
         "lat": [
          34.5199402
         ],
         "lon": [
          -105.87009009999998
         ],
         "marker": {
          "size": 25
         },
         "mode": "markers",
         "name": "United States, New Mexico",
         "opacity": 0.5,
         "type": "scattergeo"
        },
        {
         "hovertext": "<b>United States, New York</b><br>2020 03 22 start<br>undefined end",
         "lat": [
          40.7127753
         ],
         "lon": [
          -74.0059728
         ],
         "marker": {
          "size": 25
         },
         "mode": "markers",
         "name": "United States, New York",
         "opacity": 0.5,
         "type": "scattergeo"
        },
        {
         "hovertext": "<b>United States, North Carolina</b><br>2020 03 30 start<br>undefined end",
         "lat": [
          35.75957310000001
         ],
         "lon": [
          -79.01929969999998
         ],
         "marker": {
          "size": 25
         },
         "mode": "markers",
         "name": "United States, North Carolina",
         "opacity": 0.5,
         "type": "scattergeo"
        },
        {
         "hovertext": "<b>United States, Oregon</b><br>2020 03 23 start<br>undefined end",
         "lat": [
          43.8041334
         ],
         "lon": [
          -120.5542012
         ],
         "marker": {
          "size": 25
         },
         "mode": "markers",
         "name": "United States, Oregon",
         "opacity": 0.5,
         "type": "scattergeo"
        },
        {
         "hovertext": "<b>United States, Rhode Island</b><br>2020 03 30 start<br>2020 04 26 end",
         "lat": [
          41.5800945
         ],
         "lon": [
          -71.4774291
         ],
         "marker": {
          "size": 25
         },
         "mode": "markers",
         "name": "United States, Rhode Island",
         "opacity": 0.5,
         "type": "scattergeo"
        },
        {
         "hovertext": "<b>United States, Washington</b><br>2020 03 25 start<br>undefined end",
         "lat": [
          47.7510741
         ],
         "lon": [
          -120.7401385
         ],
         "marker": {
          "size": 25
         },
         "mode": "markers",
         "name": "United States, Washington",
         "opacity": 0.5,
         "type": "scattergeo"
        },
        {
         "hovertext": "<b>United States, West Virginia</b><br>2020 03 24 start<br>undefined end",
         "lat": [
          38.59762620000001
         ],
         "lon": [
          -80.4549026
         ],
         "marker": {
          "size": 25
         },
         "mode": "markers",
         "name": "United States, West Virginia",
         "opacity": 0.5,
         "type": "scattergeo"
        },
        {
         "hovertext": "<b>United States, Wisconsin</b><br>2020 03 25 start<br>2020 04 24 end",
         "lat": [
          43.78443970000001
         ],
         "lon": [
          -88.7878678
         ],
         "marker": {
          "size": 25
         },
         "mode": "markers",
         "name": "United States, Wisconsin",
         "opacity": 0.5,
         "type": "scattergeo"
        },
        {
         "hovertext": "<b>United States, Vermont</b><br>2020 03 25 start<br>2020 04 15 end",
         "lat": [
          44.5588028
         ],
         "lon": [
          -72.57784149999998
         ],
         "marker": {
          "size": 25
         },
         "mode": "markers",
         "name": "United States, Vermont",
         "opacity": 0.5,
         "type": "scattergeo"
        },
        {
         "hovertext": "<b>United States, Nevada</b><br>2020 03 17 start<br>undefined end",
         "lat": [
          38.8026097
         ],
         "lon": [
          -116.419389
         ],
         "marker": {
          "size": 25
         },
         "mode": "markers",
         "name": "United States, Nevada",
         "opacity": 0.5,
         "type": "scattergeo"
        },
        {
         "hovertext": "<b>United States, Virginia</b><br>2020 03 24 start<br>2020 04 23 end",
         "lat": [
          37.4315734
         ],
         "lon": [
          -78.65689420000002
         ],
         "marker": {
          "size": 25
         },
         "mode": "markers",
         "name": "United States, Virginia",
         "opacity": 0.5,
         "type": "scattergeo"
        },
        {
         "hovertext": "<b>United States, Kentucky</b><br>2020 03 23 start<br>undefined end",
         "lat": [
          37.83933320000001
         ],
         "lon": [
          -84.2700179
         ],
         "marker": {
          "size": 25
         },
         "mode": "markers",
         "name": "United States, Kentucky",
         "opacity": 0.5,
         "type": "scattergeo"
        },
        {
         "hovertext": "<b>United States, Georgia</b><br>2020 03 23 start<br>undefined end",
         "lat": [
          32.1656221
         ],
         "lon": [
          -82.9000751
         ],
         "marker": {
          "size": 25
         },
         "mode": "markers",
         "name": "United States, Georgia",
         "opacity": 0.5,
         "type": "scattergeo"
        },
        {
         "hovertext": "<b>United States, Oklahoma</b><br>2020 03 25 start<br>2020 04 30 end",
         "lat": [
          35.007751899999995
         ],
         "lon": [
          -97.092877
         ],
         "marker": {
          "size": 25
         },
         "mode": "markers",
         "name": "United States, Oklahoma",
         "opacity": 0.5,
         "type": "scattergeo"
        },
        {
         "hovertext": "<b>Lithuania</b><br>2020 03 16 start<br>2020 04 13 end",
         "lat": [
          55.169438
         ],
         "lon": [
          23.881275
         ],
         "marker": {
          "size": 25
         },
         "mode": "markers",
         "name": "Lithuania",
         "opacity": 0.5,
         "type": "scattergeo"
        },
        {
         "hovertext": "<b>Lebanon</b><br>2020 03 22 start<br>2020 04 12 end",
         "lat": [
          33.854721000000005
         ],
         "lon": [
          35.862285
         ],
         "marker": {
          "size": 25
         },
         "mode": "markers",
         "name": "Lebanon",
         "opacity": 0.5,
         "type": "scattergeo"
        },
        {
         "hovertext": "<b>Kuwait</b><br>2020 03 14 start<br>undefined end",
         "lat": [
          29.31166
         ],
         "lon": [
          47.481766
         ],
         "marker": {
          "size": 25
         },
         "mode": "markers",
         "name": "Kuwait",
         "opacity": 0.5,
         "type": "scattergeo"
        },
        {
         "hovertext": "<b>India</b><br>2020 03 24 start<br>2020 04 14 end",
         "lat": [
          20.593684
         ],
         "lon": [
          78.96288
         ],
         "marker": {
          "size": 25
         },
         "mode": "markers",
         "name": "India",
         "opacity": 0.5,
         "type": "scattergeo"
        },
        {
         "hovertext": "<b>Peru</b><br>2020 03 16 start<br>2020 04 12 end",
         "lat": [
          -9.189967
         ],
         "lon": [
          -75.015152
         ],
         "marker": {
          "size": 25
         },
         "mode": "markers",
         "name": "Peru",
         "opacity": 0.5,
         "type": "scattergeo"
        },
        {
         "hovertext": "<b>Canada, Quebec</b><br>2020 03 13 start<br>undefined end",
         "lat": [
          52.9399159
         ],
         "lon": [
          -73.5491361
         ],
         "marker": {
          "size": 25
         },
         "mode": "markers",
         "name": "Canada, Quebec",
         "opacity": 0.5,
         "type": "scattergeo"
        },
        {
         "hovertext": "<b>El Salvador</b><br>2020 03 21 start<br>2020 04 20 end",
         "lat": [
          13.794185
         ],
         "lon": [
          -88.89653
         ],
         "marker": {
          "size": 25
         },
         "mode": "markers",
         "name": "El Salvador",
         "opacity": 0.5,
         "type": "scattergeo"
        },
        {
         "hovertext": "<b>Czech Republic</b><br>2020 03 22 start<br>2020 04 12 end",
         "lat": [
          49.81749199999999
         ],
         "lon": [
          15.472962
         ],
         "marker": {
          "size": 25
         },
         "mode": "markers",
         "name": "Czech Republic",
         "opacity": 0.5,
         "type": "scattergeo"
        },
        {
         "hovertext": "<b>Venezuela</b><br>2020 03 16 start<br>undefined end",
         "lat": [
          6.42375
         ],
         "lon": [
          -66.58973
         ],
         "marker": {
          "size": 25
         },
         "mode": "markers",
         "name": "Venezuela",
         "opacity": 0.5,
         "type": "scattergeo"
        },
        {
         "hovertext": "<b>Mexico, Mexico City</b><br>2020 03 30 start<br>2020 04 30 end",
         "lat": [
          19.4326077
         ],
         "lon": [
          -99.133208
         ],
         "marker": {
          "size": 25
         },
         "mode": "markers",
         "name": "Mexico, Mexico City",
         "opacity": 0.5,
         "type": "scattergeo"
        },
        {
         "hovertext": "<b>Ukraine, Kiev Oblast</b><br>2020 03 20 start<br>undefined end",
         "lat": [
          50.0529506
         ],
         "lon": [
          30.7667134
         ],
         "marker": {
          "size": 25
         },
         "mode": "markers",
         "name": "Ukraine, Kiev Oblast",
         "opacity": 0.5,
         "type": "scattergeo"
        },
        {
         "hovertext": "<b>Ukraine, Chernivtsi Oblast</b><br>2020 03 20 start<br>undefined end",
         "lat": [
          48.291683
         ],
         "lon": [
          25.935217
         ],
         "marker": {
          "size": 25
         },
         "mode": "markers",
         "name": "Ukraine, Chernivtsi Oblast",
         "opacity": 0.5,
         "type": "scattergeo"
        },
        {
         "hovertext": "<b>Ukraine, Zhytomyr Oblast</b><br>2020 03 20 start<br>undefined end",
         "lat": [
          50.25465
         ],
         "lon": [
          28.6586669
         ],
         "marker": {
          "size": 25
         },
         "mode": "markers",
         "name": "Ukraine, Zhytomyr Oblast",
         "opacity": 0.5,
         "type": "scattergeo"
        },
        {
         "hovertext": "<b>Ukraine, Dnipropetrovsk Oblast</b><br>2020 03 20 start<br>undefined end",
         "lat": [
          48.464717
         ],
         "lon": [
          35.046183
         ],
         "marker": {
          "size": 25
         },
         "mode": "markers",
         "name": "Ukraine, Dnipropetrovsk Oblast",
         "opacity": 0.5,
         "type": "scattergeo"
        },
        {
         "hovertext": "<b>Ukraine, Ivano-Frankivsk Oblast</b><br>2020 03 20 start<br>undefined end",
         "lat": [
          48.92263300000001
         ],
         "lon": [
          24.711117
         ],
         "marker": {
          "size": 25
         },
         "mode": "markers",
         "name": "Ukraine, Ivano-Frankivsk Oblast",
         "opacity": 0.5,
         "type": "scattergeo"
        },
        {
         "hovertext": "<b>Sri Lanka</b><br>2020 03 20 start<br>undefined end",
         "lat": [
          7.873053999999999
         ],
         "lon": [
          80.77179699999998
         ],
         "marker": {
          "size": 25
         },
         "mode": "markers",
         "name": "Sri Lanka",
         "opacity": 0.5,
         "type": "scattergeo"
        },
        {
         "hovertext": "<b>Russia</b><br>2020 03 30 start<br>undefined end",
         "lat": [
          61.52401
         ],
         "lon": [
          105.318756
         ],
         "marker": {
          "size": 25
         },
         "mode": "markers",
         "name": "Russia",
         "opacity": 0.5,
         "type": "scattergeo"
        },
        {
         "hovertext": "<b>Puerto Rico</b><br>2020 03 15 start<br>undefined end",
         "lat": [
          18.220833
         ],
         "lon": [
          -66.590149
         ],
         "marker": {
          "size": 25
         },
         "mode": "markers",
         "name": "Puerto Rico",
         "opacity": 0.5,
         "type": "scattergeo"
        }
       ],
       "layout": {
        "geo": {
         "showcountries": true
        },
        "showlegend": false,
        "template": {
         "data": {
          "bar": [
           {
            "error_x": {
             "color": "#2a3f5f"
            },
            "error_y": {
             "color": "#2a3f5f"
            },
            "marker": {
             "line": {
              "color": "#E5ECF6",
              "width": 0.5
             }
            },
            "type": "bar"
           }
          ],
          "barpolar": [
           {
            "marker": {
             "line": {
              "color": "#E5ECF6",
              "width": 0.5
             }
            },
            "type": "barpolar"
           }
          ],
          "carpet": [
           {
            "aaxis": {
             "endlinecolor": "#2a3f5f",
             "gridcolor": "white",
             "linecolor": "white",
             "minorgridcolor": "white",
             "startlinecolor": "#2a3f5f"
            },
            "baxis": {
             "endlinecolor": "#2a3f5f",
             "gridcolor": "white",
             "linecolor": "white",
             "minorgridcolor": "white",
             "startlinecolor": "#2a3f5f"
            },
            "type": "carpet"
           }
          ],
          "choropleth": [
           {
            "colorbar": {
             "outlinewidth": 0,
             "ticks": ""
            },
            "type": "choropleth"
           }
          ],
          "contour": [
           {
            "colorbar": {
             "outlinewidth": 0,
             "ticks": ""
            },
            "colorscale": [
             [
              0,
              "#0d0887"
             ],
             [
              0.1111111111111111,
              "#46039f"
             ],
             [
              0.2222222222222222,
              "#7201a8"
             ],
             [
              0.3333333333333333,
              "#9c179e"
             ],
             [
              0.4444444444444444,
              "#bd3786"
             ],
             [
              0.5555555555555556,
              "#d8576b"
             ],
             [
              0.6666666666666666,
              "#ed7953"
             ],
             [
              0.7777777777777778,
              "#fb9f3a"
             ],
             [
              0.8888888888888888,
              "#fdca26"
             ],
             [
              1,
              "#f0f921"
             ]
            ],
            "type": "contour"
           }
          ],
          "contourcarpet": [
           {
            "colorbar": {
             "outlinewidth": 0,
             "ticks": ""
            },
            "type": "contourcarpet"
           }
          ],
          "heatmap": [
           {
            "colorbar": {
             "outlinewidth": 0,
             "ticks": ""
            },
            "colorscale": [
             [
              0,
              "#0d0887"
             ],
             [
              0.1111111111111111,
              "#46039f"
             ],
             [
              0.2222222222222222,
              "#7201a8"
             ],
             [
              0.3333333333333333,
              "#9c179e"
             ],
             [
              0.4444444444444444,
              "#bd3786"
             ],
             [
              0.5555555555555556,
              "#d8576b"
             ],
             [
              0.6666666666666666,
              "#ed7953"
             ],
             [
              0.7777777777777778,
              "#fb9f3a"
             ],
             [
              0.8888888888888888,
              "#fdca26"
             ],
             [
              1,
              "#f0f921"
             ]
            ],
            "type": "heatmap"
           }
          ],
          "heatmapgl": [
           {
            "colorbar": {
             "outlinewidth": 0,
             "ticks": ""
            },
            "colorscale": [
             [
              0,
              "#0d0887"
             ],
             [
              0.1111111111111111,
              "#46039f"
             ],
             [
              0.2222222222222222,
              "#7201a8"
             ],
             [
              0.3333333333333333,
              "#9c179e"
             ],
             [
              0.4444444444444444,
              "#bd3786"
             ],
             [
              0.5555555555555556,
              "#d8576b"
             ],
             [
              0.6666666666666666,
              "#ed7953"
             ],
             [
              0.7777777777777778,
              "#fb9f3a"
             ],
             [
              0.8888888888888888,
              "#fdca26"
             ],
             [
              1,
              "#f0f921"
             ]
            ],
            "type": "heatmapgl"
           }
          ],
          "histogram": [
           {
            "marker": {
             "colorbar": {
              "outlinewidth": 0,
              "ticks": ""
             }
            },
            "type": "histogram"
           }
          ],
          "histogram2d": [
           {
            "colorbar": {
             "outlinewidth": 0,
             "ticks": ""
            },
            "colorscale": [
             [
              0,
              "#0d0887"
             ],
             [
              0.1111111111111111,
              "#46039f"
             ],
             [
              0.2222222222222222,
              "#7201a8"
             ],
             [
              0.3333333333333333,
              "#9c179e"
             ],
             [
              0.4444444444444444,
              "#bd3786"
             ],
             [
              0.5555555555555556,
              "#d8576b"
             ],
             [
              0.6666666666666666,
              "#ed7953"
             ],
             [
              0.7777777777777778,
              "#fb9f3a"
             ],
             [
              0.8888888888888888,
              "#fdca26"
             ],
             [
              1,
              "#f0f921"
             ]
            ],
            "type": "histogram2d"
           }
          ],
          "histogram2dcontour": [
           {
            "colorbar": {
             "outlinewidth": 0,
             "ticks": ""
            },
            "colorscale": [
             [
              0,
              "#0d0887"
             ],
             [
              0.1111111111111111,
              "#46039f"
             ],
             [
              0.2222222222222222,
              "#7201a8"
             ],
             [
              0.3333333333333333,
              "#9c179e"
             ],
             [
              0.4444444444444444,
              "#bd3786"
             ],
             [
              0.5555555555555556,
              "#d8576b"
             ],
             [
              0.6666666666666666,
              "#ed7953"
             ],
             [
              0.7777777777777778,
              "#fb9f3a"
             ],
             [
              0.8888888888888888,
              "#fdca26"
             ],
             [
              1,
              "#f0f921"
             ]
            ],
            "type": "histogram2dcontour"
           }
          ],
          "mesh3d": [
           {
            "colorbar": {
             "outlinewidth": 0,
             "ticks": ""
            },
            "type": "mesh3d"
           }
          ],
          "parcoords": [
           {
            "line": {
             "colorbar": {
              "outlinewidth": 0,
              "ticks": ""
             }
            },
            "type": "parcoords"
           }
          ],
          "pie": [
           {
            "automargin": true,
            "type": "pie"
           }
          ],
          "scatter": [
           {
            "marker": {
             "colorbar": {
              "outlinewidth": 0,
              "ticks": ""
             }
            },
            "type": "scatter"
           }
          ],
          "scatter3d": [
           {
            "line": {
             "colorbar": {
              "outlinewidth": 0,
              "ticks": ""
             }
            },
            "marker": {
             "colorbar": {
              "outlinewidth": 0,
              "ticks": ""
             }
            },
            "type": "scatter3d"
           }
          ],
          "scattercarpet": [
           {
            "marker": {
             "colorbar": {
              "outlinewidth": 0,
              "ticks": ""
             }
            },
            "type": "scattercarpet"
           }
          ],
          "scattergeo": [
           {
            "marker": {
             "colorbar": {
              "outlinewidth": 0,
              "ticks": ""
             }
            },
            "type": "scattergeo"
           }
          ],
          "scattergl": [
           {
            "marker": {
             "colorbar": {
              "outlinewidth": 0,
              "ticks": ""
             }
            },
            "type": "scattergl"
           }
          ],
          "scattermapbox": [
           {
            "marker": {
             "colorbar": {
              "outlinewidth": 0,
              "ticks": ""
             }
            },
            "type": "scattermapbox"
           }
          ],
          "scatterpolar": [
           {
            "marker": {
             "colorbar": {
              "outlinewidth": 0,
              "ticks": ""
             }
            },
            "type": "scatterpolar"
           }
          ],
          "scatterpolargl": [
           {
            "marker": {
             "colorbar": {
              "outlinewidth": 0,
              "ticks": ""
             }
            },
            "type": "scatterpolargl"
           }
          ],
          "scatterternary": [
           {
            "marker": {
             "colorbar": {
              "outlinewidth": 0,
              "ticks": ""
             }
            },
            "type": "scatterternary"
           }
          ],
          "surface": [
           {
            "colorbar": {
             "outlinewidth": 0,
             "ticks": ""
            },
            "colorscale": [
             [
              0,
              "#0d0887"
             ],
             [
              0.1111111111111111,
              "#46039f"
             ],
             [
              0.2222222222222222,
              "#7201a8"
             ],
             [
              0.3333333333333333,
              "#9c179e"
             ],
             [
              0.4444444444444444,
              "#bd3786"
             ],
             [
              0.5555555555555556,
              "#d8576b"
             ],
             [
              0.6666666666666666,
              "#ed7953"
             ],
             [
              0.7777777777777778,
              "#fb9f3a"
             ],
             [
              0.8888888888888888,
              "#fdca26"
             ],
             [
              1,
              "#f0f921"
             ]
            ],
            "type": "surface"
           }
          ],
          "table": [
           {
            "cells": {
             "fill": {
              "color": "#EBF0F8"
             },
             "line": {
              "color": "white"
             }
            },
            "header": {
             "fill": {
              "color": "#C8D4E3"
             },
             "line": {
              "color": "white"
             }
            },
            "type": "table"
           }
          ]
         },
         "layout": {
          "annotationdefaults": {
           "arrowcolor": "#2a3f5f",
           "arrowhead": 0,
           "arrowwidth": 1
          },
          "coloraxis": {
           "colorbar": {
            "outlinewidth": 0,
            "ticks": ""
           }
          },
          "colorscale": {
           "diverging": [
            [
             0,
             "#8e0152"
            ],
            [
             0.1,
             "#c51b7d"
            ],
            [
             0.2,
             "#de77ae"
            ],
            [
             0.3,
             "#f1b6da"
            ],
            [
             0.4,
             "#fde0ef"
            ],
            [
             0.5,
             "#f7f7f7"
            ],
            [
             0.6,
             "#e6f5d0"
            ],
            [
             0.7,
             "#b8e186"
            ],
            [
             0.8,
             "#7fbc41"
            ],
            [
             0.9,
             "#4d9221"
            ],
            [
             1,
             "#276419"
            ]
           ],
           "sequential": [
            [
             0,
             "#0d0887"
            ],
            [
             0.1111111111111111,
             "#46039f"
            ],
            [
             0.2222222222222222,
             "#7201a8"
            ],
            [
             0.3333333333333333,
             "#9c179e"
            ],
            [
             0.4444444444444444,
             "#bd3786"
            ],
            [
             0.5555555555555556,
             "#d8576b"
            ],
            [
             0.6666666666666666,
             "#ed7953"
            ],
            [
             0.7777777777777778,
             "#fb9f3a"
            ],
            [
             0.8888888888888888,
             "#fdca26"
            ],
            [
             1,
             "#f0f921"
            ]
           ],
           "sequentialminus": [
            [
             0,
             "#0d0887"
            ],
            [
             0.1111111111111111,
             "#46039f"
            ],
            [
             0.2222222222222222,
             "#7201a8"
            ],
            [
             0.3333333333333333,
             "#9c179e"
            ],
            [
             0.4444444444444444,
             "#bd3786"
            ],
            [
             0.5555555555555556,
             "#d8576b"
            ],
            [
             0.6666666666666666,
             "#ed7953"
            ],
            [
             0.7777777777777778,
             "#fb9f3a"
            ],
            [
             0.8888888888888888,
             "#fdca26"
            ],
            [
             1,
             "#f0f921"
            ]
           ]
          },
          "colorway": [
           "#636efa",
           "#EF553B",
           "#00cc96",
           "#ab63fa",
           "#FFA15A",
           "#19d3f3",
           "#FF6692",
           "#B6E880",
           "#FF97FF",
           "#FECB52"
          ],
          "font": {
           "color": "#2a3f5f"
          },
          "geo": {
           "bgcolor": "white",
           "lakecolor": "white",
           "landcolor": "#E5ECF6",
           "showlakes": true,
           "showland": true,
           "subunitcolor": "white"
          },
          "hoverlabel": {
           "align": "left"
          },
          "hovermode": "closest",
          "mapbox": {
           "style": "light"
          },
          "paper_bgcolor": "white",
          "plot_bgcolor": "#E5ECF6",
          "polar": {
           "angularaxis": {
            "gridcolor": "white",
            "linecolor": "white",
            "ticks": ""
           },
           "bgcolor": "#E5ECF6",
           "radialaxis": {
            "gridcolor": "white",
            "linecolor": "white",
            "ticks": ""
           }
          },
          "scene": {
           "xaxis": {
            "backgroundcolor": "#E5ECF6",
            "gridcolor": "white",
            "gridwidth": 2,
            "linecolor": "white",
            "showbackground": true,
            "ticks": "",
            "zerolinecolor": "white"
           },
           "yaxis": {
            "backgroundcolor": "#E5ECF6",
            "gridcolor": "white",
            "gridwidth": 2,
            "linecolor": "white",
            "showbackground": true,
            "ticks": "",
            "zerolinecolor": "white"
           },
           "zaxis": {
            "backgroundcolor": "#E5ECF6",
            "gridcolor": "white",
            "gridwidth": 2,
            "linecolor": "white",
            "showbackground": true,
            "ticks": "",
            "zerolinecolor": "white"
           }
          },
          "shapedefaults": {
           "line": {
            "color": "#2a3f5f"
           }
          },
          "ternary": {
           "aaxis": {
            "gridcolor": "white",
            "linecolor": "white",
            "ticks": ""
           },
           "baxis": {
            "gridcolor": "white",
            "linecolor": "white",
            "ticks": ""
           },
           "bgcolor": "#E5ECF6",
           "caxis": {
            "gridcolor": "white",
            "linecolor": "white",
            "ticks": ""
           }
          },
          "title": {
           "x": 0.05
          },
          "xaxis": {
           "automargin": true,
           "gridcolor": "white",
           "linecolor": "white",
           "ticks": "",
           "title": {
            "standoff": 15
           },
           "zerolinecolor": "white",
           "zerolinewidth": 2
          },
          "yaxis": {
           "automargin": true,
           "gridcolor": "white",
           "linecolor": "white",
           "ticks": "",
           "title": {
            "standoff": 15
           },
           "zerolinecolor": "white",
           "zerolinewidth": 2
          }
         }
        },
        "title": {
         "text": "Current lockdowns (2020 04 10)",
         "x": 0.5,
         "xanchor": "center"
        }
       }
      },
      "text/html": [
       "<div>\n",
       "        \n",
       "        \n",
       "            <div id=\"896334b4-e9b4-4c1b-98b9-f88e4c424f9e\" class=\"plotly-graph-div\" style=\"height:525px; width:100%;\"></div>\n",
       "            <script type=\"text/javascript\">\n",
       "                require([\"plotly\"], function(Plotly) {\n",
       "                    window.PLOTLYENV=window.PLOTLYENV || {};\n",
       "                    \n",
       "                if (document.getElementById(\"896334b4-e9b4-4c1b-98b9-f88e4c424f9e\")) {\n",
       "                    Plotly.newPlot(\n",
       "                        '896334b4-e9b4-4c1b-98b9-f88e4c424f9e',\n",
       "                        [{\"hovertext\": \"<b>Algeria, Algiers</b><br>2020 03 23 start<br>2020 04 14 end\", \"lat\": [36.753768], \"lon\": [3.0587561], \"marker\": {\"size\": 25}, \"mode\": \"markers\", \"name\": \"Algeria, Algiers\", \"opacity\": 0.5, \"type\": \"scattergeo\"}, {\"hovertext\": \"<b>Algeria, Blida</b><br>2020 03 23 start<br>2020 04 14 end\", \"lat\": [36.47357150000001], \"lon\": [2.8323153], \"marker\": {\"size\": 25}, \"mode\": \"markers\", \"name\": \"Algeria, Blida\", \"opacity\": 0.5, \"type\": \"scattergeo\"}, {\"hovertext\": \"<b>Argentina</b><br>2020 03 19 start<br>2020 04 12 end\", \"lat\": [-38.416097], \"lon\": [-63.61667199999999], \"marker\": {\"size\": 25}, \"mode\": \"markers\", \"name\": \"Argentina\", \"opacity\": 0.5, \"type\": \"scattergeo\"}, {\"hovertext\": \"<b>Australia</b><br>2020 03 23 start<br>2020 04 24 end\", \"lat\": [-25.274398], \"lon\": [133.775136], \"marker\": {\"size\": 25}, \"mode\": \"markers\", \"name\": \"Australia\", \"opacity\": 0.5, \"type\": \"scattergeo\"}, {\"hovertext\": \"<b>Austria</b><br>2020 03 16 start<br>2020 04 13 end\", \"lat\": [47.516231], \"lon\": [14.550072], \"marker\": {\"size\": 25}, \"mode\": \"markers\", \"name\": \"Austria\", \"opacity\": 0.5, \"type\": \"scattergeo\"}, {\"hovertext\": \"<b>Belgium</b><br>2020 03 18 start<br>2020 04 18 end\", \"lat\": [50.503887], \"lon\": [4.469936], \"marker\": {\"size\": 25}, \"mode\": \"markers\", \"name\": \"Belgium\", \"opacity\": 0.5, \"type\": \"scattergeo\"}, {\"hovertext\": \"<b>Bolivia</b><br>2020 03 22 start<br>2020 04 14 end\", \"lat\": [-16.290154], \"lon\": [-63.588653], \"marker\": {\"size\": 25}, \"mode\": \"markers\", \"name\": \"Bolivia\", \"opacity\": 0.5, \"type\": \"scattergeo\"}, {\"hovertext\": \"<b>Chile</b><br>2020 03 19 start<br>2020 04 14 end\", \"lat\": [-35.675147], \"lon\": [-71.542969], \"marker\": {\"size\": 25}, \"mode\": \"markers\", \"name\": \"Chile\", \"opacity\": 0.5, \"type\": \"scattergeo\"}, {\"hovertext\": \"<b>Colombia</b><br>2020 03 25 start<br>2020 04 13 end\", \"lat\": [4.570868], \"lon\": [-74.297333], \"marker\": {\"size\": 25}, \"mode\": \"markers\", \"name\": \"Colombia\", \"opacity\": 0.5, \"type\": \"scattergeo\"}, {\"hovertext\": \"<b>Costa Rica</b><br>2020 03 23 start<br>2020 04 13 end\", \"lat\": [9.748917], \"lon\": [-83.753428], \"marker\": {\"size\": 25}, \"mode\": \"markers\", \"name\": \"Costa Rica\", \"opacity\": 0.5, \"type\": \"scattergeo\"}, {\"hovertext\": \"<b>Cuba</b><br>2020 03 23 start<br>2020 04 19 end\", \"lat\": [21.521757], \"lon\": [-77.78116700000002], \"marker\": {\"size\": 25}, \"mode\": \"markers\", \"name\": \"Cuba\", \"opacity\": 0.5, \"type\": \"scattergeo\"}, {\"hovertext\": \"<b>Denmark</b><br>2020 03 11 start<br>2020 04 13 end\", \"lat\": [56.26392], \"lon\": [9.501785], \"marker\": {\"size\": 25}, \"mode\": \"markers\", \"name\": \"Denmark\", \"opacity\": 0.5, \"type\": \"scattergeo\"}, {\"hovertext\": \"<b>Finland, Uusimaa</b><br>2020 03 27 start<br>2020 04 14 end\", \"lat\": [60.21872], \"lon\": [25.271621], \"marker\": {\"size\": 25}, \"mode\": \"markers\", \"name\": \"Finland, Uusimaa\", \"opacity\": 0.5, \"type\": \"scattergeo\"}, {\"hovertext\": \"<b>France</b><br>2020 03 17 start<br>2020 04 15 end\", \"lat\": [46.227638], \"lon\": [2.213749], \"marker\": {\"size\": 25}, \"mode\": \"markers\", \"name\": \"France\", \"opacity\": 0.5, \"type\": \"scattergeo\"}, {\"hovertext\": \"<b>Ghana, Accra</b><br>2020 03 30 start<br>2020 04 14 end\", \"lat\": [5.6037168], \"lon\": [-0.1869644], \"marker\": {\"size\": 25}, \"mode\": \"markers\", \"name\": \"Ghana, Accra\", \"opacity\": 0.5, \"type\": \"scattergeo\"}, {\"hovertext\": \"<b>Ghana, Kumasi</b><br>2020 03 30 start<br>2020 04 14 end\", \"lat\": [6.6666004], \"lon\": [-1.6162709], \"marker\": {\"size\": 25}, \"mode\": \"markers\", \"name\": \"Ghana, Kumasi\", \"opacity\": 0.5, \"type\": \"scattergeo\"}, {\"hovertext\": \"<b>Honduras</b><br>2020 03 17 start<br>2020 04 12 end\", \"lat\": [15.199998999999998], \"lon\": [-86.241905], \"marker\": {\"size\": 25}, \"mode\": \"markers\", \"name\": \"Honduras\", \"opacity\": 0.5, \"type\": \"scattergeo\"}, {\"hovertext\": \"<b>Hungary</b><br>2020 03 28 start<br>2020 04 11 end\", \"lat\": [47.162494], \"lon\": [19.5033041], \"marker\": {\"size\": 25}, \"mode\": \"markers\", \"name\": \"Hungary\", \"opacity\": 0.5, \"type\": \"scattergeo\"}, {\"hovertext\": \"<b>Indonesia, Tegal</b><br>2020 03 26 start<br>2020 07 25 end\", \"lat\": [-6.879704100000001], \"lon\": [109.12559170000002], \"marker\": {\"size\": 25}, \"mode\": \"markers\", \"name\": \"Indonesia, Tegal\", \"opacity\": 0.5, \"type\": \"scattergeo\"}, {\"hovertext\": \"<b>Iraq</b><br>2020 03 22 start<br>2020 04 11 end\", \"lat\": [33.223191], \"lon\": [43.679291], \"marker\": {\"size\": 25}, \"mode\": \"markers\", \"name\": \"Iraq\", \"opacity\": 0.5, \"type\": \"scattergeo\"}, {\"hovertext\": \"<b>Ireland</b><br>2020 03 12 start<br>2020 04 12 end\", \"lat\": [53.1423672], \"lon\": [-7.692053599999999], \"marker\": {\"size\": 25}, \"mode\": \"markers\", \"name\": \"Ireland\", \"opacity\": 0.5, \"type\": \"scattergeo\"}, {\"hovertext\": \"<b>Italy</b><br>2020 03 09 start<br>2020 04 12 end\", \"lat\": [41.87194], \"lon\": [12.56738], \"marker\": {\"size\": 25}, \"mode\": \"markers\", \"name\": \"Italy\", \"opacity\": 0.5, \"type\": \"scattergeo\"}, {\"hovertext\": \"<b>Jordan</b><br>2020 03 21 start<br>2020 04 12 end\", \"lat\": [30.585164], \"lon\": [36.238414], \"marker\": {\"size\": 25}, \"mode\": \"markers\", \"name\": \"Jordan\", \"opacity\": 0.5, \"type\": \"scattergeo\"}, {\"hovertext\": \"<b>Liberia, Margibi</b><br>2020 03 23 start<br>2020 04 14 end\", \"lat\": [6.5151875], \"lon\": [-10.3048897], \"marker\": {\"size\": 25}, \"mode\": \"markers\", \"name\": \"Liberia, Margibi\", \"opacity\": 0.5, \"type\": \"scattergeo\"}, {\"hovertext\": \"<b>Liberia, Montserrado</b><br>2020 03 23 start<br>2020 04 14 end\", \"lat\": [6.5525815000000005], \"lon\": [-10.5296115], \"marker\": {\"size\": 25}, \"mode\": \"markers\", \"name\": \"Liberia, Montserrado\", \"opacity\": 0.5, \"type\": \"scattergeo\"}, {\"hovertext\": \"<b>Libya</b><br>2020 03 22 start<br>2020 04 20 end\", \"lat\": [26.3351], \"lon\": [17.228331], \"marker\": {\"size\": 25}, \"mode\": \"markers\", \"name\": \"Libya\", \"opacity\": 0.5, \"type\": \"scattergeo\"}, {\"hovertext\": \"<b>Madagascar, Antananarivo</b><br>2020 03 23 start<br>2020 04 12 end\", \"lat\": [-18.8791902], \"lon\": [47.5079055], \"marker\": {\"size\": 25}, \"mode\": \"markers\", \"name\": \"Madagascar, Antananarivo\", \"opacity\": 0.5, \"type\": \"scattergeo\"}, {\"hovertext\": \"<b>Madagascar, Toamasina</b><br>2020 03 23 start<br>2020 04 12 end\", \"lat\": [-18.1442811], \"lon\": [49.3957836], \"marker\": {\"size\": 25}, \"mode\": \"markers\", \"name\": \"Madagascar, Toamasina\", \"opacity\": 0.5, \"type\": \"scattergeo\"}, {\"hovertext\": \"<b>Malaysia</b><br>2020 03 18 start<br>2020 04 14 end\", \"lat\": [4.210483999999999], \"lon\": [101.975766], \"marker\": {\"size\": 25}, \"mode\": \"markers\", \"name\": \"Malaysia\", \"opacity\": 0.5, \"type\": \"scattergeo\"}, {\"hovertext\": \"<b>Montenegro, Tuzi</b><br>2020 03 24 start<br>2020 04 14 end\", \"lat\": [42.36894239999999], \"lon\": [19.3128909], \"marker\": {\"size\": 25}, \"mode\": \"markers\", \"name\": \"Montenegro, Tuzi\", \"opacity\": 0.5, \"type\": \"scattergeo\"}, {\"hovertext\": \"<b>Morocco</b><br>2020 03 19 start<br>2020 04 20 end\", \"lat\": [31.791702], \"lon\": [-7.0926199999999975], \"marker\": {\"size\": 25}, \"mode\": \"markers\", \"name\": \"Morocco\", \"opacity\": 0.5, \"type\": \"scattergeo\"}, {\"hovertext\": \"<b>New Zealand</b><br>2020 03 26 start<br>2020 04 19 end\", \"lat\": [-40.900557], \"lon\": [174.88597099999996], \"marker\": {\"size\": 25}, \"mode\": \"markers\", \"name\": \"New Zealand\", \"opacity\": 0.5, \"type\": \"scattergeo\"}, {\"hovertext\": \"<b>Nigeria, Abuja</b><br>2020 03 30 start<br>2020 04 14 end\", \"lat\": [9.0764785], \"lon\": [7.398574000000001], \"marker\": {\"size\": 25}, \"mode\": \"markers\", \"name\": \"Nigeria, Abuja\", \"opacity\": 0.5, \"type\": \"scattergeo\"}, {\"hovertext\": \"<b>Nigeria, Lagos</b><br>2020 03 30 start<br>2020 04 14 end\", \"lat\": [6.5243793], \"lon\": [3.3792057], \"marker\": {\"size\": 25}, \"mode\": \"markers\", \"name\": \"Nigeria, Lagos\", \"opacity\": 0.5, \"type\": \"scattergeo\"}, {\"hovertext\": \"<b>Nigeria, Ogun</b><br>2020 03 30 start<br>2020 04 14 end\", \"lat\": [6.997974699999999], \"lon\": [3.4737378], \"marker\": {\"size\": 25}, \"mode\": \"markers\", \"name\": \"Nigeria, Ogun\", \"opacity\": 0.5, \"type\": \"scattergeo\"}, {\"hovertext\": \"<b>Norway</b><br>2020 03 12 start<br>2020 04 13 end\", \"lat\": [60.47202399999999], \"lon\": [8.468945999999999], \"marker\": {\"size\": 25}, \"mode\": \"markers\", \"name\": \"Norway\", \"opacity\": 0.5, \"type\": \"scattergeo\"}, {\"hovertext\": \"<b>Panama</b><br>2020 03 25 start<br>2020 04 13 end\", \"lat\": [8.537981], \"lon\": [-80.782127], \"marker\": {\"size\": 25}, \"mode\": \"markers\", \"name\": \"Panama\", \"opacity\": 0.5, \"type\": \"scattergeo\"}, {\"hovertext\": \"<b>Papua New Guinea</b><br>2020 03 24 start<br>2020 04 13 end\", \"lat\": [-6.314992999999999], \"lon\": [143.95555], \"marker\": {\"size\": 25}, \"mode\": \"markers\", \"name\": \"Papua New Guinea\", \"opacity\": 0.5, \"type\": \"scattergeo\"}, {\"hovertext\": \"<b>Paraguay</b><br>2020 03 20 start<br>2020 04 12 end\", \"lat\": [-23.442503], \"lon\": [-58.44383199999999], \"marker\": {\"size\": 25}, \"mode\": \"markers\", \"name\": \"Paraguay\", \"opacity\": 0.5, \"type\": \"scattergeo\"}, {\"hovertext\": \"<b>Philippines, Cebu</b><br>2020 03 27 start<br>2020 04 15 end\", \"lat\": [10.607936], \"lon\": [123.8857747], \"marker\": {\"size\": 25}, \"mode\": \"markers\", \"name\": \"Philippines, Cebu\", \"opacity\": 0.5, \"type\": \"scattergeo\"}, {\"hovertext\": \"<b>Philippines, Davao Region</b><br>2020 03 19 start<br>2020 04 14 end\", \"lat\": [7.3041622], \"lon\": [126.0893406], \"marker\": {\"size\": 25}, \"mode\": \"markers\", \"name\": \"Philippines, Davao Region\", \"opacity\": 0.5, \"type\": \"scattergeo\"}, {\"hovertext\": \"<b>Philippines, Luzon</b><br>2020 03 15 start<br>2020 04 14 end\", \"lat\": [16.5662318], \"lon\": [121.2626366], \"marker\": {\"size\": 25}, \"mode\": \"markers\", \"name\": \"Philippines, Luzon\", \"opacity\": 0.5, \"type\": \"scattergeo\"}, {\"hovertext\": \"<b>Philippines, Soccsksargen</b><br>2020 03 23 start<br>2020 04 14 end\", \"lat\": [6.2706918], \"lon\": [124.6856509], \"marker\": {\"size\": 25}, \"mode\": \"markers\", \"name\": \"Philippines, Soccsksargen\", \"opacity\": 0.5, \"type\": \"scattergeo\"}, {\"hovertext\": \"<b>Poland</b><br>2020 03 13 start<br>2020 04 12 end\", \"lat\": [51.919438], \"lon\": [19.145136], \"marker\": {\"size\": 25}, \"mode\": \"markers\", \"name\": \"Poland\", \"opacity\": 0.5, \"type\": \"scattergeo\"}, {\"hovertext\": \"<b>Romania</b><br>2020 03 25 start<br>2020 04 14 end\", \"lat\": [45.943161], \"lon\": [24.96676], \"marker\": {\"size\": 25}, \"mode\": \"markers\", \"name\": \"Romania\", \"opacity\": 0.5, \"type\": \"scattergeo\"}, {\"hovertext\": \"<b>Russia, Moscow</b><br>2020 03 30 start<br>2020 04 12 end\", \"lat\": [55.755826], \"lon\": [37.6172999], \"marker\": {\"size\": 25}, \"mode\": \"markers\", \"name\": \"Russia, Moscow\", \"opacity\": 0.5, \"type\": \"scattergeo\"}, {\"hovertext\": \"<b>Rwanda</b><br>2020 03 21 start<br>2020 04 12 end\", \"lat\": [-1.940278], \"lon\": [29.873888], \"marker\": {\"size\": 25}, \"mode\": \"markers\", \"name\": \"Rwanda\", \"opacity\": 0.5, \"type\": \"scattergeo\"}, {\"hovertext\": \"<b>Saudi Arabia, Jeddah</b><br>2020 03 29 start<br>2020 04 14 end\", \"lat\": [21.485811], \"lon\": [39.19250479999999], \"marker\": {\"size\": 25}, \"mode\": \"markers\", \"name\": \"Saudi Arabia, Jeddah\", \"opacity\": 0.5, \"type\": \"scattergeo\"}, {\"hovertext\": \"<b>Saudi Arabia, Mecca</b><br>2020 03 26 start<br>2020 04 14 end\", \"lat\": [21.3890824], \"lon\": [39.8579118], \"marker\": {\"size\": 25}, \"mode\": \"markers\", \"name\": \"Saudi Arabia, Mecca\", \"opacity\": 0.5, \"type\": \"scattergeo\"}, {\"hovertext\": \"<b>Saudi Arabia, Medina</b><br>2020 03 26 start<br>2020 04 14 end\", \"lat\": [24.5246542], \"lon\": [39.5691841], \"marker\": {\"size\": 25}, \"mode\": \"markers\", \"name\": \"Saudi Arabia, Medina\", \"opacity\": 0.5, \"type\": \"scattergeo\"}, {\"hovertext\": \"<b>Saudi Arabia, Qatif</b><br>2020 03 09 start<br>2020 04 14 end\", \"lat\": [26.5764917], \"lon\": [49.998236], \"marker\": {\"size\": 25}, \"mode\": \"markers\", \"name\": \"Saudi Arabia, Qatif\", \"opacity\": 0.5, \"type\": \"scattergeo\"}, {\"hovertext\": \"<b>Saudi Arabia, Riyadh</b><br>2020 03 26 start<br>2020 04 14 end\", \"lat\": [24.7135517], \"lon\": [46.67529570000001], \"marker\": {\"size\": 25}, \"mode\": \"markers\", \"name\": \"Saudi Arabia, Riyadh\", \"opacity\": 0.5, \"type\": \"scattergeo\"}, {\"hovertext\": \"<b>South Africa</b><br>2020 03 26 start<br>2020 04 16 end\", \"lat\": [-30.559482], \"lon\": [22.937506], \"marker\": {\"size\": 25}, \"mode\": \"markers\", \"name\": \"South Africa\", \"opacity\": 0.5, \"type\": \"scattergeo\"}, {\"hovertext\": \"<b>Spain</b><br>2020 03 14 start<br>2020 04 14 end\", \"lat\": [40.46366700000001], \"lon\": [-3.74922], \"marker\": {\"size\": 25}, \"mode\": \"markers\", \"name\": \"Spain\", \"opacity\": 0.5, \"type\": \"scattergeo\"}, {\"hovertext\": \"<b>Tunisia</b><br>2020 03 22 start<br>2020 04 11 end\", \"lat\": [33.886917], \"lon\": [9.537499], \"marker\": {\"size\": 25}, \"mode\": \"markers\", \"name\": \"Tunisia\", \"opacity\": 0.5, \"type\": \"scattergeo\"}, {\"hovertext\": \"<b>United Kingdom</b><br>2020 03 23 start<br>2020 04 13 end\", \"lat\": [55.378051], \"lon\": [-3.435973], \"marker\": {\"size\": 25}, \"mode\": \"markers\", \"name\": \"United Kingdom\", \"opacity\": 0.5, \"type\": \"scattergeo\"}, {\"hovertext\": \"<b>United States, Clark County, NV</b><br>2020 03 20 start<br>2020 04 20 end\", \"lat\": [36.0795613], \"lon\": [-115.094045], \"marker\": {\"size\": 25}, \"mode\": \"markers\", \"name\": \"United States, Clark County, NV\", \"opacity\": 0.5, \"type\": \"scattergeo\"}, {\"hovertext\": \"<b>United States, Kansas City, KS</b><br>2020 03 24 start<br>2020 04 23 end\", \"lat\": [39.11553139999999], \"lon\": [-94.6267873], \"marker\": {\"size\": 25}, \"mode\": \"markers\", \"name\": \"United States, Kansas City, KS\", \"opacity\": 0.5, \"type\": \"scattergeo\"}, {\"hovertext\": \"<b>Zimbabwe</b><br>2020 03 30 start<br>2020 04 12 end\", \"lat\": [-19.015438], \"lon\": [29.154857], \"marker\": {\"size\": 25}, \"mode\": \"markers\", \"name\": \"Zimbabwe\", \"opacity\": 0.5, \"type\": \"scattergeo\"}, {\"hovertext\": \"<b>United States, Alaska</b><br>2020 03 28 start<br>2020 04 11 end\", \"lat\": [64.2008413], \"lon\": [-149.4936733], \"marker\": {\"size\": 25}, \"mode\": \"markers\", \"name\": \"United States, Alaska\", \"opacity\": 0.5, \"type\": \"scattergeo\"}, {\"hovertext\": \"<b>United States, Arizona</b><br>2020 03 31 start<br>undefined end\", \"lat\": [34.048928100000005], \"lon\": [-111.0937311], \"marker\": {\"size\": 25}, \"mode\": \"markers\", \"name\": \"United States, Arizona\", \"opacity\": 0.5, \"type\": \"scattergeo\"}, {\"hovertext\": \"<b>United States, California</b><br>2020 03 19 start<br>undefined end\", \"lat\": [36.778261], \"lon\": [-119.4179324], \"marker\": {\"size\": 25}, \"mode\": \"markers\", \"name\": \"United States, California\", \"opacity\": 0.5, \"type\": \"scattergeo\"}, {\"hovertext\": \"<b>United States, Colorado</b><br>2020 03 26 start<br>2020 04 11 end\", \"lat\": [39.55005070000001], \"lon\": [-105.78206740000002], \"marker\": {\"size\": 25}, \"mode\": \"markers\", \"name\": \"United States, Colorado\", \"opacity\": 0.5, \"type\": \"scattergeo\"}, {\"hovertext\": \"<b>United States, Connecticut</b><br>2020 03 23 start<br>undefined end\", \"lat\": [41.60322070000001], \"lon\": [-73.087749], \"marker\": {\"size\": 25}, \"mode\": \"markers\", \"name\": \"United States, Connecticut\", \"opacity\": 0.5, \"type\": \"scattergeo\"}, {\"hovertext\": \"<b>United States, Delaware</b><br>2020 03 24 start<br>2020 05 15 end\", \"lat\": [38.9108325], \"lon\": [-75.52766989999998], \"marker\": {\"size\": 25}, \"mode\": \"markers\", \"name\": \"United States, Delaware\", \"opacity\": 0.5, \"type\": \"scattergeo\"}, {\"hovertext\": \"<b>United States, District of Columbia</b><br>2020 04 01 start<br>undefined end\", \"lat\": [38.9071923], \"lon\": [-77.03687070000002], \"marker\": {\"size\": 25}, \"mode\": \"markers\", \"name\": \"United States, District of Columbia\", \"opacity\": 0.5, \"type\": \"scattergeo\"}, {\"hovertext\": \"<b>United States, Hawaii</b><br>2020 03 25 start<br>2020 04 30 end\", \"lat\": [19.8967662], \"lon\": [-155.58278180000005], \"marker\": {\"size\": 25}, \"mode\": \"markers\", \"name\": \"United States, Hawaii\", \"opacity\": 0.5, \"type\": \"scattergeo\"}, {\"hovertext\": \"<b>United States, Idaho</b><br>2020 03 25 start<br>2020 04 15 end\", \"lat\": [44.0682019], \"lon\": [-114.7420408], \"marker\": {\"size\": 25}, \"mode\": \"markers\", \"name\": \"United States, Idaho\", \"opacity\": 0.5, \"type\": \"scattergeo\"}, {\"hovertext\": \"<b>United States, Kansas</b><br>2020 03 30 start<br>2020 04 19 end\", \"lat\": [39.011902], \"lon\": [-98.4842465], \"marker\": {\"size\": 25}, \"mode\": \"markers\", \"name\": \"United States, Kansas\", \"opacity\": 0.5, \"type\": \"scattergeo\"}, {\"hovertext\": \"<b>United States, Louisiana</b><br>2020 03 23 start<br>2020 04 12 end\", \"lat\": [30.98429770000001], \"lon\": [-91.9623327], \"marker\": {\"size\": 25}, \"mode\": \"markers\", \"name\": \"United States, Louisiana\", \"opacity\": 0.5, \"type\": \"scattergeo\"}, {\"hovertext\": \"<b>United States, Massachusetts</b><br>2020 03 24 start<br>2020 05 04 end\", \"lat\": [42.4072107], \"lon\": [-71.3824374], \"marker\": {\"size\": 25}, \"mode\": \"markers\", \"name\": \"United States, Massachusetts\", \"opacity\": 0.5, \"type\": \"scattergeo\"}, {\"hovertext\": \"<b>United States, Michigan</b><br>2020 03 24 start<br>2020 04 14 end\", \"lat\": [44.3148443], \"lon\": [-85.60236429999998], \"marker\": {\"size\": 25}, \"mode\": \"markers\", \"name\": \"United States, Michigan\", \"opacity\": 0.5, \"type\": \"scattergeo\"}, {\"hovertext\": \"<b>United States, Montana</b><br>2020 03 28 start<br>undefined end\", \"lat\": [46.87968220000001], \"lon\": [-110.3625658], \"marker\": {\"size\": 25}, \"mode\": \"markers\", \"name\": \"United States, Montana\", \"opacity\": 0.5, \"type\": \"scattergeo\"}, {\"hovertext\": \"<b>United States, New Hampshire</b><br>2020 03 27 start<br>2020 05 04 end\", \"lat\": [43.1938516], \"lon\": [-71.5723953], \"marker\": {\"size\": 25}, \"mode\": \"markers\", \"name\": \"United States, New Hampshire\", \"opacity\": 0.5, \"type\": \"scattergeo\"}, {\"hovertext\": \"<b>United States, New Jersey</b><br>2020 03 21 start<br>undefined end\", \"lat\": [40.0583238], \"lon\": [-74.40566120000003], \"marker\": {\"size\": 25}, \"mode\": \"markers\", \"name\": \"United States, New Jersey\", \"opacity\": 0.5, \"type\": \"scattergeo\"}, {\"hovertext\": \"<b>United States, New Mexico</b><br>2020 03 24 start<br>undefined end\", \"lat\": [34.5199402], \"lon\": [-105.87009009999998], \"marker\": {\"size\": 25}, \"mode\": \"markers\", \"name\": \"United States, New Mexico\", \"opacity\": 0.5, \"type\": \"scattergeo\"}, {\"hovertext\": \"<b>United States, New York</b><br>2020 03 22 start<br>undefined end\", \"lat\": [40.7127753], \"lon\": [-74.0059728], \"marker\": {\"size\": 25}, \"mode\": \"markers\", \"name\": \"United States, New York\", \"opacity\": 0.5, \"type\": \"scattergeo\"}, {\"hovertext\": \"<b>United States, North Carolina</b><br>2020 03 30 start<br>undefined end\", \"lat\": [35.75957310000001], \"lon\": [-79.01929969999998], \"marker\": {\"size\": 25}, \"mode\": \"markers\", \"name\": \"United States, North Carolina\", \"opacity\": 0.5, \"type\": \"scattergeo\"}, {\"hovertext\": \"<b>United States, Oregon</b><br>2020 03 23 start<br>undefined end\", \"lat\": [43.8041334], \"lon\": [-120.5542012], \"marker\": {\"size\": 25}, \"mode\": \"markers\", \"name\": \"United States, Oregon\", \"opacity\": 0.5, \"type\": \"scattergeo\"}, {\"hovertext\": \"<b>United States, Rhode Island</b><br>2020 03 30 start<br>2020 04 26 end\", \"lat\": [41.5800945], \"lon\": [-71.4774291], \"marker\": {\"size\": 25}, \"mode\": \"markers\", \"name\": \"United States, Rhode Island\", \"opacity\": 0.5, \"type\": \"scattergeo\"}, {\"hovertext\": \"<b>United States, Washington</b><br>2020 03 25 start<br>undefined end\", \"lat\": [47.7510741], \"lon\": [-120.7401385], \"marker\": {\"size\": 25}, \"mode\": \"markers\", \"name\": \"United States, Washington\", \"opacity\": 0.5, \"type\": \"scattergeo\"}, {\"hovertext\": \"<b>United States, West Virginia</b><br>2020 03 24 start<br>undefined end\", \"lat\": [38.59762620000001], \"lon\": [-80.4549026], \"marker\": {\"size\": 25}, \"mode\": \"markers\", \"name\": \"United States, West Virginia\", \"opacity\": 0.5, \"type\": \"scattergeo\"}, {\"hovertext\": \"<b>United States, Wisconsin</b><br>2020 03 25 start<br>2020 04 24 end\", \"lat\": [43.78443970000001], \"lon\": [-88.7878678], \"marker\": {\"size\": 25}, \"mode\": \"markers\", \"name\": \"United States, Wisconsin\", \"opacity\": 0.5, \"type\": \"scattergeo\"}, {\"hovertext\": \"<b>United States, Vermont</b><br>2020 03 25 start<br>2020 04 15 end\", \"lat\": [44.5588028], \"lon\": [-72.57784149999998], \"marker\": {\"size\": 25}, \"mode\": \"markers\", \"name\": \"United States, Vermont\", \"opacity\": 0.5, \"type\": \"scattergeo\"}, {\"hovertext\": \"<b>United States, Nevada</b><br>2020 03 17 start<br>undefined end\", \"lat\": [38.8026097], \"lon\": [-116.419389], \"marker\": {\"size\": 25}, \"mode\": \"markers\", \"name\": \"United States, Nevada\", \"opacity\": 0.5, \"type\": \"scattergeo\"}, {\"hovertext\": \"<b>United States, Virginia</b><br>2020 03 24 start<br>2020 04 23 end\", \"lat\": [37.4315734], \"lon\": [-78.65689420000002], \"marker\": {\"size\": 25}, \"mode\": \"markers\", \"name\": \"United States, Virginia\", \"opacity\": 0.5, \"type\": \"scattergeo\"}, {\"hovertext\": \"<b>United States, Kentucky</b><br>2020 03 23 start<br>undefined end\", \"lat\": [37.83933320000001], \"lon\": [-84.2700179], \"marker\": {\"size\": 25}, \"mode\": \"markers\", \"name\": \"United States, Kentucky\", \"opacity\": 0.5, \"type\": \"scattergeo\"}, {\"hovertext\": \"<b>United States, Georgia</b><br>2020 03 23 start<br>undefined end\", \"lat\": [32.1656221], \"lon\": [-82.9000751], \"marker\": {\"size\": 25}, \"mode\": \"markers\", \"name\": \"United States, Georgia\", \"opacity\": 0.5, \"type\": \"scattergeo\"}, {\"hovertext\": \"<b>United States, Oklahoma</b><br>2020 03 25 start<br>2020 04 30 end\", \"lat\": [35.007751899999995], \"lon\": [-97.092877], \"marker\": {\"size\": 25}, \"mode\": \"markers\", \"name\": \"United States, Oklahoma\", \"opacity\": 0.5, \"type\": \"scattergeo\"}, {\"hovertext\": \"<b>Lithuania</b><br>2020 03 16 start<br>2020 04 13 end\", \"lat\": [55.169438], \"lon\": [23.881275], \"marker\": {\"size\": 25}, \"mode\": \"markers\", \"name\": \"Lithuania\", \"opacity\": 0.5, \"type\": \"scattergeo\"}, {\"hovertext\": \"<b>Lebanon</b><br>2020 03 22 start<br>2020 04 12 end\", \"lat\": [33.854721000000005], \"lon\": [35.862285], \"marker\": {\"size\": 25}, \"mode\": \"markers\", \"name\": \"Lebanon\", \"opacity\": 0.5, \"type\": \"scattergeo\"}, {\"hovertext\": \"<b>Kuwait</b><br>2020 03 14 start<br>undefined end\", \"lat\": [29.31166], \"lon\": [47.481766], \"marker\": {\"size\": 25}, \"mode\": \"markers\", \"name\": \"Kuwait\", \"opacity\": 0.5, \"type\": \"scattergeo\"}, {\"hovertext\": \"<b>India</b><br>2020 03 24 start<br>2020 04 14 end\", \"lat\": [20.593684], \"lon\": [78.96288], \"marker\": {\"size\": 25}, \"mode\": \"markers\", \"name\": \"India\", \"opacity\": 0.5, \"type\": \"scattergeo\"}, {\"hovertext\": \"<b>Peru</b><br>2020 03 16 start<br>2020 04 12 end\", \"lat\": [-9.189967], \"lon\": [-75.015152], \"marker\": {\"size\": 25}, \"mode\": \"markers\", \"name\": \"Peru\", \"opacity\": 0.5, \"type\": \"scattergeo\"}, {\"hovertext\": \"<b>Canada, Quebec</b><br>2020 03 13 start<br>undefined end\", \"lat\": [52.9399159], \"lon\": [-73.5491361], \"marker\": {\"size\": 25}, \"mode\": \"markers\", \"name\": \"Canada, Quebec\", \"opacity\": 0.5, \"type\": \"scattergeo\"}, {\"hovertext\": \"<b>El Salvador</b><br>2020 03 21 start<br>2020 04 20 end\", \"lat\": [13.794185], \"lon\": [-88.89653], \"marker\": {\"size\": 25}, \"mode\": \"markers\", \"name\": \"El Salvador\", \"opacity\": 0.5, \"type\": \"scattergeo\"}, {\"hovertext\": \"<b>Czech Republic</b><br>2020 03 22 start<br>2020 04 12 end\", \"lat\": [49.81749199999999], \"lon\": [15.472962], \"marker\": {\"size\": 25}, \"mode\": \"markers\", \"name\": \"Czech Republic\", \"opacity\": 0.5, \"type\": \"scattergeo\"}, {\"hovertext\": \"<b>Venezuela</b><br>2020 03 16 start<br>undefined end\", \"lat\": [6.42375], \"lon\": [-66.58973], \"marker\": {\"size\": 25}, \"mode\": \"markers\", \"name\": \"Venezuela\", \"opacity\": 0.5, \"type\": \"scattergeo\"}, {\"hovertext\": \"<b>Mexico, Mexico City</b><br>2020 03 30 start<br>2020 04 30 end\", \"lat\": [19.4326077], \"lon\": [-99.133208], \"marker\": {\"size\": 25}, \"mode\": \"markers\", \"name\": \"Mexico, Mexico City\", \"opacity\": 0.5, \"type\": \"scattergeo\"}, {\"hovertext\": \"<b>Ukraine, Kiev Oblast</b><br>2020 03 20 start<br>undefined end\", \"lat\": [50.0529506], \"lon\": [30.7667134], \"marker\": {\"size\": 25}, \"mode\": \"markers\", \"name\": \"Ukraine, Kiev Oblast\", \"opacity\": 0.5, \"type\": \"scattergeo\"}, {\"hovertext\": \"<b>Ukraine, Chernivtsi Oblast</b><br>2020 03 20 start<br>undefined end\", \"lat\": [48.291683], \"lon\": [25.935217], \"marker\": {\"size\": 25}, \"mode\": \"markers\", \"name\": \"Ukraine, Chernivtsi Oblast\", \"opacity\": 0.5, \"type\": \"scattergeo\"}, {\"hovertext\": \"<b>Ukraine, Zhytomyr Oblast</b><br>2020 03 20 start<br>undefined end\", \"lat\": [50.25465], \"lon\": [28.6586669], \"marker\": {\"size\": 25}, \"mode\": \"markers\", \"name\": \"Ukraine, Zhytomyr Oblast\", \"opacity\": 0.5, \"type\": \"scattergeo\"}, {\"hovertext\": \"<b>Ukraine, Dnipropetrovsk Oblast</b><br>2020 03 20 start<br>undefined end\", \"lat\": [48.464717], \"lon\": [35.046183], \"marker\": {\"size\": 25}, \"mode\": \"markers\", \"name\": \"Ukraine, Dnipropetrovsk Oblast\", \"opacity\": 0.5, \"type\": \"scattergeo\"}, {\"hovertext\": \"<b>Ukraine, Ivano-Frankivsk Oblast</b><br>2020 03 20 start<br>undefined end\", \"lat\": [48.92263300000001], \"lon\": [24.711117], \"marker\": {\"size\": 25}, \"mode\": \"markers\", \"name\": \"Ukraine, Ivano-Frankivsk Oblast\", \"opacity\": 0.5, \"type\": \"scattergeo\"}, {\"hovertext\": \"<b>Sri Lanka</b><br>2020 03 20 start<br>undefined end\", \"lat\": [7.873053999999999], \"lon\": [80.77179699999998], \"marker\": {\"size\": 25}, \"mode\": \"markers\", \"name\": \"Sri Lanka\", \"opacity\": 0.5, \"type\": \"scattergeo\"}, {\"hovertext\": \"<b>Russia</b><br>2020 03 30 start<br>undefined end\", \"lat\": [61.52401], \"lon\": [105.318756], \"marker\": {\"size\": 25}, \"mode\": \"markers\", \"name\": \"Russia\", \"opacity\": 0.5, \"type\": \"scattergeo\"}, {\"hovertext\": \"<b>Puerto Rico</b><br>2020 03 15 start<br>undefined end\", \"lat\": [18.220833], \"lon\": [-66.590149], \"marker\": {\"size\": 25}, \"mode\": \"markers\", \"name\": \"Puerto Rico\", \"opacity\": 0.5, \"type\": \"scattergeo\"}],\n",
       "                        {\"geo\": {\"showcountries\": true}, \"showlegend\": false, \"template\": {\"data\": {\"bar\": [{\"error_x\": {\"color\": \"#2a3f5f\"}, \"error_y\": {\"color\": \"#2a3f5f\"}, \"marker\": {\"line\": {\"color\": \"#E5ECF6\", \"width\": 0.5}}, \"type\": \"bar\"}], \"barpolar\": [{\"marker\": {\"line\": {\"color\": \"#E5ECF6\", \"width\": 0.5}}, \"type\": \"barpolar\"}], \"carpet\": [{\"aaxis\": {\"endlinecolor\": \"#2a3f5f\", \"gridcolor\": \"white\", \"linecolor\": \"white\", \"minorgridcolor\": \"white\", \"startlinecolor\": \"#2a3f5f\"}, \"baxis\": {\"endlinecolor\": \"#2a3f5f\", \"gridcolor\": \"white\", \"linecolor\": \"white\", \"minorgridcolor\": \"white\", \"startlinecolor\": \"#2a3f5f\"}, \"type\": \"carpet\"}], \"choropleth\": [{\"colorbar\": {\"outlinewidth\": 0, \"ticks\": \"\"}, \"type\": \"choropleth\"}], \"contour\": [{\"colorbar\": {\"outlinewidth\": 0, \"ticks\": \"\"}, \"colorscale\": [[0.0, \"#0d0887\"], [0.1111111111111111, \"#46039f\"], [0.2222222222222222, \"#7201a8\"], [0.3333333333333333, \"#9c179e\"], [0.4444444444444444, \"#bd3786\"], [0.5555555555555556, \"#d8576b\"], [0.6666666666666666, \"#ed7953\"], [0.7777777777777778, \"#fb9f3a\"], [0.8888888888888888, \"#fdca26\"], [1.0, \"#f0f921\"]], \"type\": \"contour\"}], \"contourcarpet\": [{\"colorbar\": {\"outlinewidth\": 0, \"ticks\": \"\"}, \"type\": \"contourcarpet\"}], \"heatmap\": [{\"colorbar\": {\"outlinewidth\": 0, \"ticks\": \"\"}, \"colorscale\": [[0.0, \"#0d0887\"], [0.1111111111111111, \"#46039f\"], [0.2222222222222222, \"#7201a8\"], [0.3333333333333333, \"#9c179e\"], [0.4444444444444444, \"#bd3786\"], [0.5555555555555556, \"#d8576b\"], [0.6666666666666666, \"#ed7953\"], [0.7777777777777778, \"#fb9f3a\"], [0.8888888888888888, \"#fdca26\"], [1.0, \"#f0f921\"]], \"type\": \"heatmap\"}], \"heatmapgl\": [{\"colorbar\": {\"outlinewidth\": 0, \"ticks\": \"\"}, \"colorscale\": [[0.0, \"#0d0887\"], [0.1111111111111111, \"#46039f\"], [0.2222222222222222, \"#7201a8\"], [0.3333333333333333, \"#9c179e\"], [0.4444444444444444, \"#bd3786\"], [0.5555555555555556, \"#d8576b\"], [0.6666666666666666, \"#ed7953\"], [0.7777777777777778, \"#fb9f3a\"], [0.8888888888888888, \"#fdca26\"], [1.0, \"#f0f921\"]], \"type\": \"heatmapgl\"}], \"histogram\": [{\"marker\": {\"colorbar\": {\"outlinewidth\": 0, \"ticks\": \"\"}}, \"type\": \"histogram\"}], \"histogram2d\": [{\"colorbar\": {\"outlinewidth\": 0, \"ticks\": \"\"}, \"colorscale\": [[0.0, \"#0d0887\"], [0.1111111111111111, \"#46039f\"], [0.2222222222222222, \"#7201a8\"], [0.3333333333333333, \"#9c179e\"], [0.4444444444444444, \"#bd3786\"], [0.5555555555555556, \"#d8576b\"], [0.6666666666666666, \"#ed7953\"], [0.7777777777777778, \"#fb9f3a\"], [0.8888888888888888, \"#fdca26\"], [1.0, \"#f0f921\"]], \"type\": \"histogram2d\"}], \"histogram2dcontour\": [{\"colorbar\": {\"outlinewidth\": 0, \"ticks\": \"\"}, \"colorscale\": [[0.0, \"#0d0887\"], [0.1111111111111111, \"#46039f\"], [0.2222222222222222, \"#7201a8\"], [0.3333333333333333, \"#9c179e\"], [0.4444444444444444, \"#bd3786\"], [0.5555555555555556, \"#d8576b\"], [0.6666666666666666, \"#ed7953\"], [0.7777777777777778, \"#fb9f3a\"], [0.8888888888888888, \"#fdca26\"], [1.0, \"#f0f921\"]], \"type\": \"histogram2dcontour\"}], \"mesh3d\": [{\"colorbar\": {\"outlinewidth\": 0, \"ticks\": \"\"}, \"type\": \"mesh3d\"}], \"parcoords\": [{\"line\": {\"colorbar\": {\"outlinewidth\": 0, \"ticks\": \"\"}}, \"type\": \"parcoords\"}], \"pie\": [{\"automargin\": true, \"type\": \"pie\"}], \"scatter\": [{\"marker\": {\"colorbar\": {\"outlinewidth\": 0, \"ticks\": \"\"}}, \"type\": \"scatter\"}], \"scatter3d\": [{\"line\": {\"colorbar\": {\"outlinewidth\": 0, \"ticks\": \"\"}}, \"marker\": {\"colorbar\": {\"outlinewidth\": 0, \"ticks\": \"\"}}, \"type\": \"scatter3d\"}], \"scattercarpet\": [{\"marker\": {\"colorbar\": {\"outlinewidth\": 0, \"ticks\": \"\"}}, \"type\": \"scattercarpet\"}], \"scattergeo\": [{\"marker\": {\"colorbar\": {\"outlinewidth\": 0, \"ticks\": \"\"}}, \"type\": \"scattergeo\"}], \"scattergl\": [{\"marker\": {\"colorbar\": {\"outlinewidth\": 0, \"ticks\": \"\"}}, \"type\": \"scattergl\"}], \"scattermapbox\": [{\"marker\": {\"colorbar\": {\"outlinewidth\": 0, \"ticks\": \"\"}}, \"type\": \"scattermapbox\"}], \"scatterpolar\": [{\"marker\": {\"colorbar\": {\"outlinewidth\": 0, \"ticks\": \"\"}}, \"type\": \"scatterpolar\"}], \"scatterpolargl\": [{\"marker\": {\"colorbar\": {\"outlinewidth\": 0, \"ticks\": \"\"}}, \"type\": \"scatterpolargl\"}], \"scatterternary\": [{\"marker\": {\"colorbar\": {\"outlinewidth\": 0, \"ticks\": \"\"}}, \"type\": \"scatterternary\"}], \"surface\": [{\"colorbar\": {\"outlinewidth\": 0, \"ticks\": \"\"}, \"colorscale\": [[0.0, \"#0d0887\"], [0.1111111111111111, \"#46039f\"], [0.2222222222222222, \"#7201a8\"], [0.3333333333333333, \"#9c179e\"], [0.4444444444444444, \"#bd3786\"], [0.5555555555555556, \"#d8576b\"], [0.6666666666666666, \"#ed7953\"], [0.7777777777777778, \"#fb9f3a\"], [0.8888888888888888, \"#fdca26\"], [1.0, \"#f0f921\"]], \"type\": \"surface\"}], \"table\": [{\"cells\": {\"fill\": {\"color\": \"#EBF0F8\"}, \"line\": {\"color\": \"white\"}}, \"header\": {\"fill\": {\"color\": \"#C8D4E3\"}, \"line\": {\"color\": \"white\"}}, \"type\": \"table\"}]}, \"layout\": {\"annotationdefaults\": {\"arrowcolor\": \"#2a3f5f\", \"arrowhead\": 0, \"arrowwidth\": 1}, \"coloraxis\": {\"colorbar\": {\"outlinewidth\": 0, \"ticks\": \"\"}}, \"colorscale\": {\"diverging\": [[0, \"#8e0152\"], [0.1, \"#c51b7d\"], [0.2, \"#de77ae\"], [0.3, \"#f1b6da\"], [0.4, \"#fde0ef\"], [0.5, \"#f7f7f7\"], [0.6, \"#e6f5d0\"], [0.7, \"#b8e186\"], [0.8, \"#7fbc41\"], [0.9, \"#4d9221\"], [1, \"#276419\"]], \"sequential\": [[0.0, \"#0d0887\"], [0.1111111111111111, \"#46039f\"], [0.2222222222222222, \"#7201a8\"], [0.3333333333333333, \"#9c179e\"], [0.4444444444444444, \"#bd3786\"], [0.5555555555555556, \"#d8576b\"], [0.6666666666666666, \"#ed7953\"], [0.7777777777777778, \"#fb9f3a\"], [0.8888888888888888, \"#fdca26\"], [1.0, \"#f0f921\"]], \"sequentialminus\": [[0.0, \"#0d0887\"], [0.1111111111111111, \"#46039f\"], [0.2222222222222222, \"#7201a8\"], [0.3333333333333333, \"#9c179e\"], [0.4444444444444444, \"#bd3786\"], [0.5555555555555556, \"#d8576b\"], [0.6666666666666666, \"#ed7953\"], [0.7777777777777778, \"#fb9f3a\"], [0.8888888888888888, \"#fdca26\"], [1.0, \"#f0f921\"]]}, \"colorway\": [\"#636efa\", \"#EF553B\", \"#00cc96\", \"#ab63fa\", \"#FFA15A\", \"#19d3f3\", \"#FF6692\", \"#B6E880\", \"#FF97FF\", \"#FECB52\"], \"font\": {\"color\": \"#2a3f5f\"}, \"geo\": {\"bgcolor\": \"white\", \"lakecolor\": \"white\", \"landcolor\": \"#E5ECF6\", \"showlakes\": true, \"showland\": true, \"subunitcolor\": \"white\"}, \"hoverlabel\": {\"align\": \"left\"}, \"hovermode\": \"closest\", \"mapbox\": {\"style\": \"light\"}, \"paper_bgcolor\": \"white\", \"plot_bgcolor\": \"#E5ECF6\", \"polar\": {\"angularaxis\": {\"gridcolor\": \"white\", \"linecolor\": \"white\", \"ticks\": \"\"}, \"bgcolor\": \"#E5ECF6\", \"radialaxis\": {\"gridcolor\": \"white\", \"linecolor\": \"white\", \"ticks\": \"\"}}, \"scene\": {\"xaxis\": {\"backgroundcolor\": \"#E5ECF6\", \"gridcolor\": \"white\", \"gridwidth\": 2, \"linecolor\": \"white\", \"showbackground\": true, \"ticks\": \"\", \"zerolinecolor\": \"white\"}, \"yaxis\": {\"backgroundcolor\": \"#E5ECF6\", \"gridcolor\": \"white\", \"gridwidth\": 2, \"linecolor\": \"white\", \"showbackground\": true, \"ticks\": \"\", \"zerolinecolor\": \"white\"}, \"zaxis\": {\"backgroundcolor\": \"#E5ECF6\", \"gridcolor\": \"white\", \"gridwidth\": 2, \"linecolor\": \"white\", \"showbackground\": true, \"ticks\": \"\", \"zerolinecolor\": \"white\"}}, \"shapedefaults\": {\"line\": {\"color\": \"#2a3f5f\"}}, \"ternary\": {\"aaxis\": {\"gridcolor\": \"white\", \"linecolor\": \"white\", \"ticks\": \"\"}, \"baxis\": {\"gridcolor\": \"white\", \"linecolor\": \"white\", \"ticks\": \"\"}, \"bgcolor\": \"#E5ECF6\", \"caxis\": {\"gridcolor\": \"white\", \"linecolor\": \"white\", \"ticks\": \"\"}}, \"title\": {\"x\": 0.05}, \"xaxis\": {\"automargin\": true, \"gridcolor\": \"white\", \"linecolor\": \"white\", \"ticks\": \"\", \"title\": {\"standoff\": 15}, \"zerolinecolor\": \"white\", \"zerolinewidth\": 2}, \"yaxis\": {\"automargin\": true, \"gridcolor\": \"white\", \"linecolor\": \"white\", \"ticks\": \"\", \"title\": {\"standoff\": 15}, \"zerolinecolor\": \"white\", \"zerolinewidth\": 2}}}, \"title\": {\"text\": \"Current lockdowns (2020 04 10)\", \"x\": 0.5, \"xanchor\": \"center\"}},\n",
       "                        {\"responsive\": true}\n",
       "                    ).then(function(){\n",
       "                            \n",
       "var gd = document.getElementById('896334b4-e9b4-4c1b-98b9-f88e4c424f9e');\n",
       "var x = new MutationObserver(function (mutations, observer) {{\n",
       "        var display = window.getComputedStyle(gd).display;\n",
       "        if (!display || display === 'none') {{\n",
       "            console.log([gd, 'removed!']);\n",
       "            Plotly.purge(gd);\n",
       "            observer.disconnect();\n",
       "        }}\n",
       "}});\n",
       "\n",
       "// Listen for the removal of the full notebook cells\n",
       "var notebookContainer = gd.closest('#notebook-container');\n",
       "if (notebookContainer) {{\n",
       "    x.observe(notebookContainer, {childList: true});\n",
       "}}\n",
       "\n",
       "// Listen for the clearing of the current output cell\n",
       "var outputEl = gd.closest('.output');\n",
       "if (outputEl) {{\n",
       "    x.observe(outputEl, {childList: true});\n",
       "}}\n",
       "\n",
       "                        })\n",
       "                };\n",
       "                });\n",
       "            </script>\n",
       "        </div>"
      ]
     },
     "metadata": {},
     "output_type": "display_data"
    }
   ],
   "source": [
    "fig = fig = go.Figure()\n",
    "\n",
    "for i, _c in enumerate(ld[\"Country\"]):\n",
    "    start = dt.datetime.strptime(ld[\"Start date\"][i], \"%Y-%m-%d\")\n",
    "    if now < start:\n",
    "        continue\n",
    "    end = \"undefined\"\n",
    "    if ld[\"End date\"][i]:\n",
    "        end = dt.datetime.strptime(ld[\"End date\"][i], \"%Y-%m-%d\")\n",
    "        if now > end:\n",
    "            continue\n",
    "    name = \"{}{}\".format(\n",
    "        _c, \n",
    "        \", {}\".format(ld[\"Place\"][i]) if ld[\"Place\"][i] else \"\"\n",
    "    )\n",
    "    fig.add_trace(\n",
    "        go.Scattergeo(\n",
    "            mode=\"markers\", marker_size=25, opacity=.5,\n",
    "            lat=[ld[\"lat\"][i]],\n",
    "            lon=[ld[\"lon\"][i]],\n",
    "            name=name,\n",
    "            hovertext=\"<b>{}</b><br>{} start<br>{} end\".format(\n",
    "                name,\n",
    "                start.strftime(\"%Y %m %d\"),\n",
    "                end if isinstance(end, str) else end.strftime(\"%Y %m %d\")\n",
    "            )\n",
    "        )\n",
    "    )\n",
    "fig.update_layout(\n",
    "    geo = dict(\n",
    "        showcountries=True,\n",
    "    ),\n",
    "    title={\"text\": \"Current lockdowns ({})\".format(now.strftime(\"%Y %m %d\")), \"xanchor\": \"center\", \"x\": 0.5},\n",
    "    showlegend=False\n",
    ")\n",
    "fig.show()"
   ]
  },
  {
   "cell_type": "code",
   "execution_count": null,
   "metadata": {},
   "outputs": [],
   "source": []
  }
 ],
 "metadata": {
  "kernelspec": {
   "display_name": "Python 3",
   "language": "python",
   "name": "python3"
  },
  "language_info": {
   "codemirror_mode": {
    "name": "ipython",
    "version": 3
   },
   "file_extension": ".py",
   "mimetype": "text/x-python",
   "name": "python",
   "nbconvert_exporter": "python",
   "pygments_lexer": "ipython3",
   "version": "3.7.7"
  }
 },
 "nbformat": 4,
 "nbformat_minor": 4
}
