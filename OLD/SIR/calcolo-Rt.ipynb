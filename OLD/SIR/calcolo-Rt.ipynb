{
 "cells": [
  {
   "cell_type": "code",
   "execution_count": 1,
   "metadata": {},
   "outputs": [],
   "source": [
    "showPlots = False\n",
    "defaultFigsize = (12, 6)"
   ]
  },
  {
   "cell_type": "markdown",
   "metadata": {},
   "source": [
    "# Introduzione"
   ]
  },
  {
   "cell_type": "markdown",
   "metadata": {},
   "source": [
    "Si vuole calcolare il numero di riproduzione effettivo $R$ nel tempo $t$ dato il numero noto di nuovi casi $k$ in $t$.\n",
    "\n",
    "Si userà la seguente notazione:\n",
    "\n",
    "- $X \\in (a, b)$: $a < X < b$\n",
    "\n",
    "- $X \\in [a, b]$: $a \\leq X \\leq b$\n",
    "\n",
    "- $X \\in (a, b]$: $a < X \\leq b$\n",
    "\n",
    "- $X \\in [a, b)$: $a \\leq X < b$\n",
    "\n",
    "- $X_i$: valore della variabile $X$ al tempo $i$\n",
    "\n",
    "  - $R_t$: valore di $R$ in $t$\n",
    "  \n",
    "  - $k_t$: valore di $k$ in $t$\n",
    "\n",
    "- $P(X)$: probabilità **a priori** che si verifichi $X$\n",
    "\n",
    "- $P(X|Y^*)$: probabilità **a posteriori** che si verifichi $X$ noto il valore di $Y^*$\n",
    "\n",
    "- $\\mathscr{L}(Y^*|X)$: verosimiglianza (likelihood) del verificarsi noto di $Y^*$ data la variabile aleatoria $X$\n",
    "\n",
    "- $\\mathbf{X}_{n \\times m}$: matrice (o vettore) $\\mathbf{X}$ di $n$ righe e $m$ colonne\n",
    "\n",
    "- $| \\mathbf{X} |$: modulo del vettore $\\mathbf{X}$\n",
    "\n",
    "- $\\mathscr{N}(\\mu,\\sigma)$: distributione normale (Gaussiana) avente media $\\mu$ e deviazione standard $\\sigma$\n",
    "\n",
    "- $\\mathscr{P}(X,Y)$: distribuzione di Poisson di $X$ con parametro $Y$"
   ]
  },
  {
   "cell_type": "markdown",
   "metadata": {},
   "source": [
    "## Metodo"
   ]
  },
  {
   "cell_type": "markdown",
   "metadata": {},
   "source": [
    "Il metodo utilizzato è una versione modificata da Kevin Systrom (2020) <cite data-cite=\"k-sys\"></cite> di una soluzione presentata da Bettencourt e Ribeiro (2008) <cite data-cite=\"bettencourt_ribeiro_2008\"></cite>.\n",
    "\n",
    "Si calcola la probabilità **a posteriori** del verificarsi di $R_t$ dato $k_t^*$ in $t$:\n",
    "\n",
    "$$ P(R_t|k_t^*) $$\n",
    "\n",
    "dove con $k^*$ si indica che è l'evento noto (già accaduto).\n",
    "\n",
    "Per il Teorema di Bayes:\n",
    "\n",
    "\\begin{equation}\\label{eq:bayestheorem}\n",
    "P(A|B^*) = \\frac{P(B^*|A) \\cdot P(A)}{P(B^*)}\n",
    "\\end{equation}\n",
    "\n",
    "quindi\n",
    "\n",
    "\\begin{equation}\\label{eq:formula1}\n",
    "P(R_t|k_t^*) = \\frac{P(k_t^*|R) \\cdot P(R_t)}{P(k_t^*)}\n",
    "\\end{equation}\n",
    "\n",
    "sapendo che\n",
    "\n",
    "\\begin{equation}\\label{eq:denominatore}\n",
    "P(k_t^*) = \\sum_{i=0}^{t} \\bigg( P(k_i|R) \\cdot P(R_i) \\bigg)\n",
    "\\end{equation}\n",
    "\n",
    "***\n",
    "\n",
    "Quindi, per ogni $t$ si calcolerà:\n",
    "\n",
    "- $P(k_t^*|R)$: la probabilità **a posteriori** di aver osservato $k_t^*$ nuovi casi dati i possibili valori di $R$, primo termine del numeratore nella \\eqref{eq:formula1}\n",
    "\n",
    "- $P(R_t)$: la probabilità **a priori** dei possibili valori di $R_t$ in $t$ in base al valore calcolato del giorno precedente $R_{t-1}$, secondo termine del numeratore nella \\eqref{eq:formula1}\n",
    "\n",
    "- $P(k_t^*)$: la probabilità **a priori** di osservare $k_t^*$ nuovi casi in generale (pari alla sommatoria dei numeratori precedenti), denominatore \\eqref{eq:denominatore} della \\eqref{eq:formula1}"
   ]
  },
  {
   "cell_type": "code",
   "execution_count": 2,
   "metadata": {},
   "outputs": [],
   "source": [
    "import numpy as np\n",
    "import pandas as pd\n",
    "import scipy.stats as sps\n",
    "from scipy.interpolate import interp1d\n",
    "import scipy.integrate as integrate\n",
    "\n",
    "import matplotlib.pyplot as plt\n",
    "from matplotlib.animation import FuncAnimation\n",
    "from matplotlib.colors import ListedColormap\n",
    "from matplotlib.dates import date2num, num2date\n",
    "from matplotlib import dates as mdates\n",
    "from matplotlib import ticker\n",
    "from matplotlib.patches import Polygon\n",
    "\n",
    "from IPython.display import display, HTML, Markdown, Latex\n",
    "%matplotlib inline"
   ]
  },
  {
   "cell_type": "code",
   "execution_count": 3,
   "metadata": {},
   "outputs": [],
   "source": [
    "def latexplot(plt, figlabel, figcaption, showme=False):\n",
    "\n",
    "    figname = figlabel + '.png'\n",
    "    plt.savefig(figname, bbox_inches='tight')\n",
    "\n",
    "    if showPlots or showme:\n",
    "        plt.show()\n",
    "        return\n",
    "    plt.close()\n",
    "\n",
    "    strLatex=fr\"\"\"\n",
    "    \\begin{{figure}}\n",
    "    \\centering\n",
    "        \\includegraphics{{{figname}}}\n",
    "        \\caption{{{figcaption}}}\n",
    "        \\label{{fig:{figlabel}}}\n",
    "    \\end{{figure}}\"\"\"\n",
    "    \n",
    "    return display(Latex(strLatex)) "
   ]
  },
  {
   "cell_type": "markdown",
   "metadata": {},
   "source": [
    "# Costanti"
   ]
  },
  {
   "cell_type": "markdown",
   "metadata": {},
   "source": [
    "## gamma"
   ]
  },
  {
   "cell_type": "markdown",
   "metadata": {},
   "source": [
    "È noto che $R_t$ dipende da $\\gamma$, l'inverso dell'intervallo seriale $T_{serial}$ ovvero il tempo medio tra casi successivi in una catena di trasmissione, spesso calcolato come intervallo tra presunta infezione e comparsa dei sintomi (periodo di contagiosità asintomatico). Per Covid-19 è stato stimato intorno ai $7.5$ giorni <cite data-cite=\"sanche2020high\"></cite>:"
   ]
  },
  {
   "cell_type": "markdown",
   "metadata": {},
   "source": [
    "$$ T_{\\textrm{serial}} = 7.5 \\; \\textrm{days} $$\n",
    "\n",
    "\\begin{equation}\\label{eq:gamma}\n",
    "\\gamma = \\frac{1}{T_{\\textrm{serial}}}\n",
    "\\end{equation}"
   ]
  },
  {
   "cell_type": "code",
   "execution_count": 4,
   "metadata": {},
   "outputs": [
    {
     "data": {
      "text/markdown": [
       "$$\\gamma \\simeq 0.1333$$"
      ],
      "text/plain": [
       "<IPython.core.display.Markdown object>"
      ]
     },
     "metadata": {},
     "output_type": "display_data"
    }
   ],
   "source": [
    "T_serial = 7.5\n",
    "gamma = 1 / T_serial\n",
    "display(Markdown(f\"$$\\gamma \\simeq {gamma:.4f}$$\"))"
   ]
  },
  {
   "cell_type": "markdown",
   "metadata": {},
   "source": [
    "## vettori R"
   ]
  },
  {
   "cell_type": "markdown",
   "metadata": {},
   "source": [
    "Si crea un vettore $\\mathbf{R}_{1\\times1201}$ di tutti i possibili valori di $R$ da $R_{min}$, pari a $0$, ad $R_{max}$ per il quale si può assumere il valore massimo $12$ (figura $\\ref{fig:vettorer}$)."
   ]
  },
  {
   "cell_type": "markdown",
   "metadata": {},
   "source": [
    "$$ R_{min} = 0 ,\\; R_{max} = 12 $$\n",
    "\n",
    "$$ \\mathbf{R} = \\begin{Bmatrix}\n",
    "R_{min} & R_{min}+0.01 & \\cdots & R_{max}\n",
    "\\end{Bmatrix}_{1\\times1201} $$"
   ]
  },
  {
   "cell_type": "code",
   "execution_count": 5,
   "metadata": {},
   "outputs": [
    {
     "data": {
      "text/markdown": [
       "$$\\mathbf{R} = \\begin{Bmatrix} 0.00 & 0.01 & \\cdots & 11.99 & 12.00 \\end{Bmatrix}_{1\\times1201}$$"
      ],
      "text/plain": [
       "<IPython.core.display.Markdown object>"
      ]
     },
     "metadata": {},
     "output_type": "display_data"
    },
    {
     "data": {
      "text/markdown": [
       "$$| \\mathbf{R} | = 1201$$"
      ],
      "text/plain": [
       "<IPython.core.display.Markdown object>"
      ]
     },
     "metadata": {},
     "output_type": "display_data"
    }
   ],
   "source": [
    "Rt_min = 0\n",
    "Rt_max = 12\n",
    "Rt_bra = np.linspace(Rt_min, Rt_max, Rt_max*100+1)\n",
    "display(Markdown(fr\"$$\\mathbf{{R}} = \\begin{{Bmatrix}} {Rt_bra[0]:.2f} & {Rt_bra[1]:.2f} & \\cdots & {Rt_bra[-2]:.2f} & {Rt_bra[-1]:.2f} \\end{{Bmatrix}}_{{1\\times1201}}$$\"))\n",
    "display(Markdown(fr\"$$| \\mathbf{{R}} | = {len(Rt_bra)}$$\"))"
   ]
  },
  {
   "cell_type": "markdown",
   "metadata": {},
   "source": [
    "$$ \\mathbf{R}^{T} = \\begin{Bmatrix}\n",
    "R_{min}\\\\ \n",
    "\\vdots\\\\ \n",
    "R_{max}\n",
    "\\end{Bmatrix}_{1201 \\times 1} $$"
   ]
  },
  {
   "cell_type": "code",
   "execution_count": 6,
   "metadata": {},
   "outputs": [
    {
     "data": {
      "text/latex": [
       "\n",
       "    \\begin{figure}\n",
       "    \\centering\n",
       "        \\includegraphics{vettorer.png}\n",
       "        \\caption{Vettore $\\mathbf{R}$.}\n",
       "        \\label{fig:vettorer}\n",
       "    \\end{figure}"
      ],
      "text/plain": [
       "<IPython.core.display.Latex object>"
      ]
     },
     "metadata": {},
     "output_type": "display_data"
    }
   ],
   "source": [
    "ax = pd.Series(Rt_bra).plot(label=\"$\\mathbf{R}$\", figsize=defaultFigsize, title=\"Vettore $\\mathbf{R}$\")\n",
    "ax.legend(loc=\"best\", fontsize=18)\n",
    "ax.set_ylabel(\"$R$\")\n",
    "latexplot(plt, \"vettorer\", \"Vettore $\\mathbf{R}$.\")"
   ]
  },
  {
   "cell_type": "code",
   "execution_count": 7,
   "metadata": {},
   "outputs": [],
   "source": [
    "Rt_ket = Rt_bra[:, None]"
   ]
  },
  {
   "cell_type": "markdown",
   "metadata": {},
   "source": [
    "# Valori noti"
   ]
  },
  {
   "cell_type": "markdown",
   "metadata": {},
   "source": [
    "Si crea un vettore $\\mathbf{k_t}_{1\\times \\omega}$ di tutti i $k$ nuovi casi per giorno da $t=0$ fino a oggi $t=\\omega$ (figura $\\ref{fig:kt}$). I dati italiani sono estratti dalla pubblicazione del Dipartimento di Protezione Civile <cite data-cite=\"pcm_dpc_2020\"></cite>."
   ]
  },
  {
   "cell_type": "markdown",
   "metadata": {},
   "source": [
    "$$ t \\in [0, \\omega] $$\n",
    "\n",
    "$$ \\textrm{Nuovi casi al giorno } k_t $$\n",
    "\n",
    "$$ \\mathbf{k_t} = \\begin{Bmatrix}\n",
    "k_0 & k_1 & \\cdots & k_\\omega\n",
    "\\end{Bmatrix}_{1\\times\\omega} $$"
   ]
  },
  {
   "cell_type": "code",
   "execution_count": 8,
   "metadata": {},
   "outputs": [
    {
     "data": {
      "text/markdown": [
       "$$\\mathbf{k_t} = \\begin{Bmatrix} 143 & \\cdots & 1066 \\end{Bmatrix}_{1 \\times 79}$$"
      ],
      "text/plain": [
       "<IPython.core.display.Markdown object>"
      ]
     },
     "metadata": {},
     "output_type": "display_data"
    },
    {
     "data": {
      "text/markdown": [
       "$$| \\mathbf{k_t} | = 79$$"
      ],
      "text/plain": [
       "<IPython.core.display.Markdown object>"
      ]
     },
     "metadata": {},
     "output_type": "display_data"
    },
    {
     "data": {
      "text/latex": [
       "\n",
       "    \\begin{figure}\n",
       "    \\centering\n",
       "        \\includegraphics{kt.png}\n",
       "        \\caption{Curva smussata con metodo media mobile gaussiana ($\\sigma=2.5$) dei nuovi casi per giorno in Italia. I valori $k_t$ formano il vettore $\\mathbf{k_t}_{1 \\times \\omega}$}\n",
       "        \\label{fig:kt}\n",
       "    \\end{figure}"
      ],
      "text/plain": [
       "<IPython.core.display.Latex object>"
      ]
     },
     "metadata": {},
     "output_type": "display_data"
    }
   ],
   "source": [
    "def smooth(y, win=7, std=2):\n",
    "    dy = y.diff()\n",
    "    dy_smoothed = dy.rolling(win,\n",
    "            win_type='gaussian',\n",
    "            min_periods=1,\n",
    "            center=True).mean(std=std).round()\n",
    "    return dy_smoothed, dy\n",
    "\n",
    "ita = None\n",
    "url_ita = 'https://raw.githubusercontent.com/pcm-dpc/COVID-19/master/dati-andamento-nazionale/dpc-covid19-ita-andamento-nazionale.csv'\n",
    "ita = pd.read_csv(url_ita,\n",
    "                     usecols=['data', 'totale_casi'],\n",
    "                     parse_dates=['data'],\n",
    "                     index_col=['data'],\n",
    "                     squeeze=True).sort_index()\n",
    "\n",
    "k_bra, orig = smooth(ita, win=14, std=2.5)\n",
    "display(Markdown(fr\"$$\\mathbf{{k_t}} = \\begin{{Bmatrix}} {k_bra.values[0]:.0f} & \\cdots & {k_bra.values[-1]:.0f} \\end{{Bmatrix}}_{{1 \\times {len(k_bra)}}}$$\"))\n",
    "display(Markdown(fr\"$$| \\mathbf{{k_t}} | = {k_bra.size}$$\"))\n",
    "\n",
    "ax = k_bra.plot(figsize=defaultFigsize, label=\"$\\mathbf{k_t}$\", title=\"Curva smussata dei $k_t$ nuovi casi/giorno\")\n",
    "ax.plot(orig, c=\"k\", ls=\":\")\n",
    "for day in orig.index:\n",
    "    if day.strftime(\"%w\") == \"1\":\n",
    "        ax.axvline(day, ls=\"-\", c=\"y\", alpha=.25)\n",
    "ax.legend(loc=\"best\", fontsize=18)\n",
    "\n",
    "latexplot(plt, \"kt\", r\"Curva smussata con metodo media mobile gaussiana ($\\sigma=2.5$) dei nuovi casi per giorno in Italia. I valori $k_t$ formano il vettore $\\mathbf{k_t}_{1 \\times \\omega}$\",\n",
    "          showme=False)"
   ]
  },
  {
   "cell_type": "markdown",
   "metadata": {},
   "source": [
    "# P(k|R)"
   ]
  },
  {
   "cell_type": "markdown",
   "metadata": {},
   "source": [
    "Per risolvere $P(k_t^*|R)$ si nota anzitutto che, data una $\\lambda$ serie di possibili $k$ nuovi casi\n",
    "\n",
    "\\begin{equation}\\label{eq:poisson}\n",
    "P(k|\\lambda) = \\mathscr{P}(k, \\lambda) = \\frac{\\lambda^k \\cdot e^{-\\lambda}}{k!}\n",
    "\\end{equation}\n",
    "\n",
    "ovvero, la probabilità **a posteriori** di avere $k$ nuovi casi dati $\\lambda$ possibili valori $k$ è una distribuzione di Poisson di $k$ con parametro $\\lambda$.\n",
    "\n",
    "Sapendo però che il valore di $k$ è noto (tutti i valori di $k^*$ sono nel vettore $\\mathbf{k_t}$) si può dire che\n",
    "\n",
    "\\begin{equation}\\label{eq:likelihoods}\n",
    "P(k^*|\\lambda) \\propto \\mathscr{L}(\\lambda|k^*)\n",
    "\\end{equation}\n",
    "\n",
    "ovvero, la probabilità di *aver avuto* $k^*$ nuovi casi date $\\lambda$ possibilità è proporzionale alla verosimiglianza delle $\\lambda$ possibilità noto $k^*$.\n",
    "\n",
    "Dalla letteratura, è nota la relazione tra $\\lambda$, $k_t$ ed $R_t$ <cite data-cite=\"bettencourt_ribeiro_2008\"></cite> derivante dalle equazioni differenziali del modello **SIR**:\n",
    "\n",
    "\\begin{equation}\\label{eq:lambda}\n",
    "\\lambda = k_t \\cdot \\exp{\\big[ \\gamma (R_t - 1) \\big]}\n",
    "\\end{equation}\n",
    "\n",
    "Grazie a questa relazione è possibile dire che \n",
    "\n",
    "\\begin{equation}\\label{eq:pkr}\n",
    "P(k_t^*|R) = P(k_t^*|\\lambda)\n",
    "\\end{equation}\n",
    "\n",
    "e costruire una matrice $\\Lambda$ di $\\omega-1$ colonne (perché il primo giorno è di outcome) e $1201$ righe contenente per ogni giorno $t$ tutti i possibili valori di $\\lambda$ dati i possibili $1201$ valori di $R$ (tabella $\\ref{tab:lambda}$ e figura $\\ref{fig:lambda}$)."
   ]
  },
  {
   "cell_type": "markdown",
   "metadata": {},
   "source": [
    "\\begin{equation}\\label{eq:matricelambda}\n",
    "\\Lambda = \\mathbf{k_t} \\cdot \\exp\\left[ \\gamma ( \\mathbf{R}^{T} - 1) \\right], \\; t=\\left[ 0,\\omega \\right)\n",
    "\\end{equation}\n",
    "\n",
    "$$ \\Lambda = \\begin{Bmatrix}\n",
    "k_0 \\cdot e^{\\gamma (R_{min} - 1) } & \\cdots  & k_{\\omega - 1} \\cdot e^{\\gamma (R_{min} - 1) } \\\\ \n",
    "\\vdots & \\vdots & \\vdots \\\\ \n",
    "k_0 \\cdot e^{\\gamma (R_{max} - 1) } & \\cdots  &  k_{\\omega - 1} \\cdot e^{\\gamma (R_{max} - 1) }  \n",
    "\\end{Bmatrix}_{1201 \\times \\omega-1} $$"
   ]
  },
  {
   "cell_type": "code",
   "execution_count": 9,
   "metadata": {},
   "outputs": [],
   "source": [
    "lam = k_bra[:-1].values * np.exp(gamma * (Rt_ket - 1))"
   ]
  },
  {
   "cell_type": "code",
   "execution_count": 10,
   "metadata": {},
   "outputs": [
    {
     "data": {
      "text/latex": [
       "\n",
       "\\begin{table}\n",
       "  \\begin{center}\n",
       "    \\caption{Estratto di matrice $\\Lambda$: $1201 \\times 78$}\n",
       "    \\label{tab:lambda}\n",
       "    \\begin{tabular}{c|c|c|c|c|c|c|c|}\n",
       "          & 2020-02-24 & \n",
       "          2020-02-25 &\n",
       "          2020-02-26 &\n",
       "          $\\cdots$ & \n",
       "          2020-05-10 & \n",
       "          2020-05-11 & \n",
       "          2020-05-12 \\\\\n",
       "        \\toprule\n",
       "        $R=0.00$ & 125.15 & 142.65 & 164.53 & $\\cdots$ & 1019.58 & 977.57 & 947.81 \\\\\n",
       "        \\midrule\n",
       "        $R=0.01$ & 125.32 & 142.84 & 164.75 & $\\cdots$ & 1020.94 & 978.87 & 949.08 \\\\\n",
       "        \\midrule\n",
       "        $\\vdots$ & $\\vdots$ & $\\vdots$ & $\\vdots$ & $\\vdots$ & $\\vdots$ & $\\vdots$ & $\\vdots$ \\\\\n",
       "        \\midrule\n",
       "        $R=11.99$ & 619.04 & 705.62 & 813.85 & $\\cdots$ & 5043.27 & 4835.48 & 4688.29 \\\\\n",
       "        \\midrule\n",
       "        $R=12.00$ & 619.87 & 706.57 & 814.94 & $\\cdots$ & 5050.00 & 4841.93 & 4694.55 \\\\\n",
       "        \\bottomrule\n",
       "    \\end{tabular}\n",
       "  \\end{center}\n",
       "\\end{table}\n",
       "        "
      ],
      "text/plain": [
       "<IPython.core.display.Latex object>"
      ]
     },
     "metadata": {},
     "output_type": "display_data"
    }
   ],
   "source": [
    "display(\n",
    "    Latex(\n",
    "        fr\"\"\"\n",
    "\\begin{{table}}\n",
    "  \\begin{{center}}\n",
    "    \\caption{{Estratto di matrice $\\Lambda$: ${len(lam)} \\times {len(lam[0])}$}}\n",
    "    \\label{{tab:lambda}}\n",
    "    \\begin{{tabular}}{{c|c|c|c|c|c|c|c|}}\n",
    "          & {k_bra.index[0].strftime('%Y-%m-%d')} & \n",
    "          {k_bra.index[1].strftime('%Y-%m-%d')} &\n",
    "          {k_bra.index[2].strftime('%Y-%m-%d')} &\n",
    "          $\\cdots$ & \n",
    "          {k_bra.index[-3].strftime('%Y-%m-%d')} & \n",
    "          {k_bra.index[-2].strftime('%Y-%m-%d')} & \n",
    "          {k_bra.index[-1].strftime('%Y-%m-%d')} \\\\\n",
    "        \\toprule\n",
    "        $R=0.00$ & {lam[0,0]:.2f} & {lam[0,1]:.2f} & {lam[0,2]:.2f} & $\\cdots$ & {lam[0,-3]:.2f} & {lam[0,-2]:.2f} & {lam[0,-1]:.2f} \\\\\n",
    "        \\midrule\n",
    "        $R=0.01$ & {lam[1,0]:.2f} & {lam[1,1]:.2f} & {lam[1,2]:.2f} & $\\cdots$ & {lam[1,-3]:.2f} & {lam[1,-2]:.2f} & {lam[1,-1]:.2f} \\\\\n",
    "        \\midrule\n",
    "        $\\vdots$ & $\\vdots$ & $\\vdots$ & $\\vdots$ & $\\vdots$ & $\\vdots$ & $\\vdots$ & $\\vdots$ \\\\\n",
    "        \\midrule\n",
    "        $R=11.99$ & {lam[1199,0]:.2f} & {lam[1199,1]:.2f} & {lam[1199,2]:.2f} & $\\cdots$ & {lam[1199,-3]:.2f} & {lam[1199,-2]:.2f} & {lam[1199,-1]:.2f} \\\\\n",
    "        \\midrule\n",
    "        $R=12.00$ & {lam[1200,0]:.2f} & {lam[1200,1]:.2f} & {lam[1200,2]:.2f} & $\\cdots$ & {lam[1200,-3]:.2f} & {lam[1200,-2]:.2f} & {lam[1200,-1]:.2f} \\\\\n",
    "        \\bottomrule\n",
    "    \\end{{tabular}}\n",
    "  \\end{{center}}\n",
    "\\end{{table}}\n",
    "        \"\"\"\n",
    "    )\n",
    ")"
   ]
  },
  {
   "cell_type": "code",
   "execution_count": 11,
   "metadata": {},
   "outputs": [
    {
     "data": {
      "text/latex": [
       "\n",
       "    \\begin{figure}\n",
       "    \\centering\n",
       "        \\includegraphics{lambda.png}\n",
       "        \\caption{Valori del parametro $\\lambda$, ovvero matrice $\\Lambda_{1201 \\times \\omega-1}$ sulla serie temporale. Per ogni giorno i valori $\\lambda$ rappresentano tutti i possibili valori di $k_t$ dato il range di $R$ definito dal vettore $\\mathbf{R} \\in [R_{min},R_{max}]$.}\n",
       "        \\label{fig:lambda}\n",
       "    \\end{figure}"
      ],
      "text/plain": [
       "<IPython.core.display.Latex object>"
      ]
     },
     "metadata": {},
     "output_type": "display_data"
    }
   ],
   "source": [
    "fig, ax = plt.subplots(figsize=defaultFigsize)\n",
    "k_bra[:-1].plot(c=\"k\", lw=1, label=\"$\\mathbf{k_t}$\")\n",
    "ax.fill_between(\n",
    "    k_bra.index[:-1], lam[0], lam[-1],\n",
    "    label=r\"$\\mathbf{\\Lambda}$\",\n",
    "    alpha=.5\n",
    ")\n",
    "ax.set_title(\"Matrice del parametro $\\lambda$\")\n",
    "ax.legend(loc=\"best\", fontsize=15)\n",
    "latexplot(plt, \"lambda\", r\"Valori del parametro $\\lambda$, ovvero matrice $\\Lambda_{1201 \\times \\omega-1}$ sulla serie temporale. \"+\n",
    "          \"Per ogni giorno i valori $\\lambda$ rappresentano tutti i possibili valori di $k_t$ dato il range di $R$ definito dal vettore $\\mathbf{R} \\in [R_{min},R_{max}]$.\"\n",
    "         )"
   ]
  },
  {
   "cell_type": "markdown",
   "metadata": {},
   "source": [
    "Noti i valori della matrice $\\Lambda$ si può dunque applicare la distribuzione di Poisson al vettore  $\\mathbf{k_t}$ parametrizzata su $R$ con $t \\in (0,\\omega]$ e ottenere così la matrice $\\mathbf{P\\big(k_t^* \\;\\big|\\; R\\big)}$ di tutte le verosimiglianze dei possibili $1201$ valori di $R$ dati gli $\\omega-1$ valori di $k_t^*$ (figura $\\ref{fig:likelihoods}$ e tabella $\\ref{tab:likelihoods}$):"
   ]
  },
  {
   "cell_type": "markdown",
   "metadata": {},
   "source": [
    "\\begin{equation}\\label{eq:matricepkr}\n",
    "P\\big( \\mathbf{k_t^*} \\; \\big| \\; \\Lambda \\big)\n",
    "= \\mathscr{P} \\big( \\mathbf{k_t^*}, \\Lambda \\big) = \n",
    "\\frac{\\Lambda^{\\mathbf{k_t^*}} \\cdot e^{-\\Lambda}}{\\mathbf{k_t^*}!} =\n",
    "\\mathbf{P\\big( k_t^* \\;\\big|\\; R \\big)}_{1201 \\times \\omega-1}\n",
    "\\end{equation}"
   ]
  },
  {
   "cell_type": "code",
   "execution_count": 12,
   "metadata": {},
   "outputs": [],
   "source": [
    "likelihoods = pd.DataFrame(\n",
    "    data = sps.poisson.pmf(k_bra[1:].values, lam),\n",
    "    index = Rt_bra,\n",
    "    columns = k_bra.index[1:])\n",
    "\n",
    "likelihoods_norm = likelihoods / np.sum(likelihoods, axis=0)"
   ]
  },
  {
   "cell_type": "code",
   "execution_count": 13,
   "metadata": {},
   "outputs": [
    {
     "data": {
      "text/latex": [
       "\n",
       "\\begin{table}\n",
       "  \\begin{center}\n",
       "    \\caption{Estratto di matrice $\\mathbf{P\\big( k_t^* \\;\\big|\\; R \\big)}$ (valori normalizzati): $1201 \\times 78$}\n",
       "    \\label{tab:likelihoods}\n",
       "    \\begin{tabular}{c|c|c|c|c|c|c|c|}\n",
       "          & 2020-02-25 & \n",
       "          2020-02-26 &\n",
       "          2020-02-27 &\n",
       "          $\\cdots$ & \n",
       "          2020-05-10 & \n",
       "          2020-05-11 & \n",
       "          2020-05-12 \\\\\n",
       "        \\toprule\n",
       "        $R=0.00$ & 3.67e-05 & 1.05e-05 & 1.69e-06 & $\\cdots$ & 1.95e-04 & 7.22e-05 & 1.46e-05 \\\\\n",
       "        \\midrule\n",
       "        $R=0.01$ & 3.86e-05 & 1.11e-05 & 1.82e-06 & $\\cdots$ & 2.22e-04 & 8.30e-05 & 1.71e-05 \\\\\n",
       "        \\midrule\n",
       "        $\\vdots$ & $\\vdots$ & $\\vdots$ & $\\vdots$ & $\\vdots$ & $\\vdots$ & $\\vdots$ & $\\vdots$ \\\\\n",
       "        \\midrule\n",
       "        $R=11.99$ & 1.73e-106 & 1.13e-119 & 9.51e-136 & $\\cdots$ & 0.00e+00 & 0.00e+00 & 0.00e+00 \\\\\n",
       "        \\midrule\n",
       "        $R=12.00$ & 9.42e-107 & 5.64e-120 & 4.30e-136 & $\\cdots$ & 0.00e+00 & 0.00e+00 & 0.00e+00 \\\\\n",
       "        \\bottomrule\n",
       "    \\end{tabular}\n",
       "  \\end{center}\n",
       "\\end{table}\n",
       "        "
      ],
      "text/plain": [
       "<IPython.core.display.Latex object>"
      ]
     },
     "metadata": {},
     "output_type": "display_data"
    }
   ],
   "source": [
    "display(\n",
    "    Latex(\n",
    "        fr\"\"\"\n",
    "\\begin{{table}}\n",
    "  \\begin{{center}}\n",
    "    \\caption{{Estratto di matrice $\\mathbf{{P\\big( k_t^* \\;\\big|\\; R \\big)}}$ (valori normalizzati): ${len(likelihoods_norm)} \\times {len(likelihoods_norm.iloc[0])}$}}\n",
    "    \\label{{tab:likelihoods}}\n",
    "    \\begin{{tabular}}{{c|c|c|c|c|c|c|c|}}\n",
    "          & {likelihoods_norm.columns[0].strftime('%Y-%m-%d')} & \n",
    "          {likelihoods_norm.columns[1].strftime('%Y-%m-%d')} &\n",
    "          {likelihoods_norm.columns[2].strftime('%Y-%m-%d')} &\n",
    "          $\\cdots$ & \n",
    "          {likelihoods_norm.columns[-3].strftime('%Y-%m-%d')} & \n",
    "          {likelihoods_norm.columns[-2].strftime('%Y-%m-%d')} & \n",
    "          {likelihoods_norm.columns[-1].strftime('%Y-%m-%d')} \\\\\n",
    "        \\toprule\n",
    "        $R=0.00$ & {likelihoods_norm.iloc[0,0]:.2e} & {likelihoods_norm.iloc[0,1]:.2e} & {likelihoods_norm.iloc[0,2]:.2e} & $\\cdots$ & {likelihoods_norm.iloc[0,-3]:.2e} & {likelihoods_norm.iloc[0,-2]:.2e} & {likelihoods_norm.iloc[0,-1]:.2e} \\\\\n",
    "        \\midrule\n",
    "        $R=0.01$ & {likelihoods_norm.iloc[1,0]:.2e} & {likelihoods_norm.iloc[1,1]:.2e} & {likelihoods_norm.iloc[1,2]:.2e} & $\\cdots$ & {likelihoods_norm.iloc[1,-3]:.2e} & {likelihoods_norm.iloc[1,-2]:.2e} & {likelihoods_norm.iloc[1,-1]:.2e} \\\\\n",
    "        \\midrule\n",
    "        $\\vdots$ & $\\vdots$ & $\\vdots$ & $\\vdots$ & $\\vdots$ & $\\vdots$ & $\\vdots$ & $\\vdots$ \\\\\n",
    "        \\midrule\n",
    "        $R=11.99$ & {likelihoods_norm.iloc[1199,0]:.2e} & {likelihoods_norm.iloc[1199,1]:.2e} & {likelihoods_norm.iloc[1199,2]:.2e} & $\\cdots$ & {likelihoods_norm.iloc[1199,-3]:.2e} & {likelihoods_norm.iloc[1199,-2]:.2e} & {likelihoods_norm.iloc[1199,-1]:.2e} \\\\\n",
    "        \\midrule\n",
    "        $R=12.00$ & {likelihoods_norm.iloc[1200,0]:.2e} & {likelihoods_norm.iloc[1200,1]:.2e} & {likelihoods_norm.iloc[1200,2]:.2e} & $\\cdots$ & {likelihoods_norm.iloc[1200,-3]:.2e} & {likelihoods_norm.iloc[1200,-2]:.2e} & {likelihoods_norm.iloc[1200,-1]:.2e} \\\\\n",
    "        \\bottomrule\n",
    "    \\end{{tabular}}\n",
    "  \\end{{center}}\n",
    "\\end{{table}}\n",
    "        \"\"\"\n",
    "    )\n",
    ")"
   ]
  },
  {
   "cell_type": "code",
   "execution_count": 14,
   "metadata": {},
   "outputs": [
    {
     "data": {
      "text/latex": [
       "\n",
       "    \\begin{figure}\n",
       "    \\centering\n",
       "        \\includegraphics{likelihoods.png}\n",
       "        \\caption{Verosimiglianze $\\mathbf{P( k_t^* \\;|\\; R )}$ dei primi 5 giorni di dati registrati in Italia. Valori normalizzati. Nella $\\eqref{eq:formula1}$ non servirà normalizzare le verosimiglianze perché il denonimatore stesso ha funzione di normalizzazione. Si nota come ogni giorno diminuisca la deviazione standard e dunque si guadagni progressivamente in confidenza.}\n",
       "        \\label{fig:likelihoods}\n",
       "    \\end{figure}"
      ],
      "text/plain": [
       "<IPython.core.display.Latex object>"
      ]
     },
     "metadata": {},
     "output_type": "display_data"
    }
   ],
   "source": [
    "fig, ax = plt.subplots(figsize=defaultFigsize)\n",
    "for x in range(5):\n",
    "    ax.plot(\n",
    "        likelihoods_norm.loc[:,likelihoods_norm.columns[x]].index,\n",
    "        likelihoods_norm.loc[:,likelihoods_norm.columns[x]].values,\n",
    "        label=likelihoods_norm.columns[x].strftime(\"%Y-%m-%d\")\n",
    "    )\n",
    "ax.set_xlim(0,6)\n",
    "ax.legend(loc=\"best\")\n",
    "ax.set_title(r\"$\\mathscr{P} \\mathbf{(k_t^*, \\Lambda)} \\propto \\mathbf{P( k_t^* \\;|\\; R )}$\")\n",
    "ax.set_xlabel(\"$R$\")\n",
    "latexplot(plt, \"likelihoods\", r\"Verosimiglianze $\\mathbf{P( k_t^* \\;|\\; R )}$ dei primi 5 giorni di dati registrati in Italia. \" +\n",
    "          r\"Valori normalizzati. Nella $\\eqref{eq:formula1}$ non servirà normalizzare le verosimiglianze perché il denonimatore stesso ha funzione di normalizzazione. \" +\n",
    "          \"Si nota come ogni giorno diminuisca la deviazione standard e dunque si guadagni progressivamente in confidenza.\"\n",
    "         )"
   ]
  },
  {
   "cell_type": "code",
   "execution_count": 15,
   "metadata": {
    "scrolled": false
   },
   "outputs": [],
   "source": [
    "fig, ax = plt.subplots(figsize=(6, 3.5))\n",
    "ax.set_xlim(0, 6)\n",
    "ax.set_ylim(0, .035)\n",
    "line, = ax.plot([], [])\n",
    "plt.close(fig)\n",
    "\n",
    "def init():\n",
    "    ax.plot([], [])\n",
    "\n",
    "def animate(i):\n",
    "    line.set_data(lh[i].index, lh[i].values)\n",
    "    line.set_label(labels[i])\n",
    "    ax.legend(loc=\"upper right\", fontsize=12)\n",
    "    return (line,)\n",
    "\n",
    "lh = []\n",
    "labels = []\n",
    "for day in likelihoods.columns:\n",
    "    lh.append(likelihoods.loc[:,day])\n",
    "    labels.append(f\"$t=${day.strftime('%Y-%m-%d')}\")\n",
    "\n",
    "ax.set_title(\"$\\mathscr{{L}}(\\lambda|k_t^*) \\propto P(k_t^*|R)$\")\n",
    "ax.set_xlabel(\"$R$\")\n",
    "\n",
    "anim = FuncAnimation(fig, animate, init_func=init, interval=5e2, frames=likelihoods.columns.size);\n",
    "\n",
    "#HTML(anim.to_jshtml())"
   ]
  },
  {
   "cell_type": "markdown",
   "metadata": {},
   "source": [
    "# P(R)"
   ]
  },
  {
   "cell_type": "markdown",
   "metadata": {},
   "source": [
    "La probabilità **a priori** dei possibili valori $R$ può essere interpretata come una ditribuzione normale (Gaussiana) avente media $\\mu = R$ e deviazione standard $\\sigma$ che può essere stimata a $0.25$.\n",
    "\n",
    "Si può dunque creare una matrice $\\mathbf{P(R)}$ di $1201 \\times 1201$ i cui elementi $P(n)_m$ di riga $n$ e colonna $m$ sono la probabilità di $R=n$ con $\\mu=m$ (tabella $\\ref{tab:pr}$, figure $\\ref{fig:pr1}$ e $\\ref{fig:pr2}$):"
   ]
  },
  {
   "cell_type": "markdown",
   "metadata": {},
   "source": [
    "\\begin{equation}\\label{eq:pr}\n",
    "\\mathbf{P(R)} = \\mathbf{\\mathscr{N}(R,\\sigma)} = \\\\\n",
    "= \n",
    "\\begin{Bmatrix}\n",
    "P(0)_{0} & \\cdots & P(0)_{6} & \\cdots  & P(0)_{12} \\\\ \n",
    "\\vdots & \\ddots & \\vdots & & \\vdots \\\\\n",
    "P(6)_{0} & \\cdots & P(6)_{6} & \\cdots & P(6)_{12} \\\\ \n",
    "\\vdots & & \\vdots & \\ddots & \\vdots \\\\\n",
    "P(12)_{0} & \\cdots & P(12)_{6} & \\cdots & P(12)_{12}\n",
    "\\end{Bmatrix}_{1201 \\times 1201}\n",
    "\\end{equation}"
   ]
  },
  {
   "cell_type": "code",
   "execution_count": 16,
   "metadata": {},
   "outputs": [],
   "source": [
    "sigma = .25\n",
    "process_matrix = sps.norm(\n",
    "    loc=Rt_bra,\n",
    "    scale=sigma\n",
    ").pdf(Rt_ket)\n",
    "process_matrix /= process_matrix.sum(axis=0)\n",
    "#pd.DataFrame(process_matrix)"
   ]
  },
  {
   "cell_type": "code",
   "execution_count": 17,
   "metadata": {},
   "outputs": [
    {
     "data": {
      "text/latex": [
       "\n",
       "\\begin{table}\n",
       "  \\begin{center}\n",
       "    \\caption{Estratto di matrice $\\mathbf{P(R)}$: $1201 \\times 1201$}\n",
       "    \\label{tab:pr}\n",
       "    \\resizebox{\\textwidth}{!} {\n",
       "        \\begin{tabular}{c|c|c|c|c|c|c|c|c|c|}\n",
       "              & $\\mu=0.00$ &$\\mu=0.01$ & $\\mu=0.02$ & $\\cdots$ & $\\mu=6.00$ & $\\cdots$ & $\\mu=11.98$ & $\\mu=11.99$ & $\\mu=12.00$ \\\\\n",
       "            \\toprule\n",
       "            $R=0.00$ & 3.14e-02 & 3.04e-02 & 2.95e-02 & $\\cdots$ & 1.34e-127 & $\\cdots$ & 0.00e+00 & 0.00e+00 & 0.00e+00 \\\\\n",
       "            \\midrule\n",
       "            $R=0.01$ & 3.14e-02 & 3.05e-02 & 2.95e-02 & $\\cdots$ & 3.49e-127 & $\\cdots$ & 0.00e+00 & 0.00e+00 & 0.00e+00 \\\\\n",
       "            \\midrule\n",
       "            $\\vdots$ & $\\vdots$ & $\\vdots$ & $\\vdots$ & $\\vdots$ & $\\vdots$ & $\\vdots$ & $\\vdots$ & $\\vdots$ & $\\vdots$ \\\\\n",
       "            \\midrule\n",
       "            $R=6.00$ & 2.63e-127 & 6.66e-127 & 1.68e-126 & $\\cdots$ & 1.60e-02 & $\\cdots$ & 1.68e-126 & 6.66e-127 & 2.63e-127 \\\\\n",
       "            \\midrule\n",
       "            $\\vdots$ & $\\vdots$ & $\\vdots$ & $\\vdots$ & $\\vdots$ & $\\vdots$ & $\\vdots$ & $\\vdots$ & $\\vdots$ & $\\vdots$ \\\\\n",
       "            \\midrule\n",
       "            $R=11.99$ & 0.00e+00 & 0.00e+00 & 0.00e+00 & $\\cdots$ & 3.49e-127 & $\\cdots$ & 2.95e-02 & 3.05e-02 & 3.14e-02 \\\\\n",
       "            \\midrule\n",
       "            $R=12.00$ & 0.00e+00 & 0.00e+00 & 0.00e+00 & $\\cdots$ & 1.34e-127 & $\\cdots$ & 2.95e-02 & 3.04e-02 & 3.14e-02 \\\\\n",
       "            \\bottomrule\n",
       "        \\end{tabular}\n",
       "    }\n",
       "  \\end{center}\n",
       "\\end{table}\n",
       "        "
      ],
      "text/plain": [
       "<IPython.core.display.Latex object>"
      ]
     },
     "metadata": {},
     "output_type": "display_data"
    }
   ],
   "source": [
    "display(\n",
    "    Latex(\n",
    "        fr\"\"\"\n",
    "\\begin{{table}}\n",
    "  \\begin{{center}}\n",
    "    \\caption{{Estratto di matrice $\\mathbf{{P(R)}}$: ${len(process_matrix)} \\times {len(process_matrix[0])}$}}\n",
    "    \\label{{tab:pr}}\n",
    "    \\resizebox{{\\textwidth}}{{!}} {{\n",
    "        \\begin{{tabular}}{{c|c|c|c|c|c|c|c|c|c|}}\n",
    "              & $\\mu=0.00$ &$\\mu=0.01$ & $\\mu=0.02$ & $\\cdots$ & $\\mu=6.00$ & $\\cdots$ & $\\mu=11.98$ & $\\mu=11.99$ & $\\mu=12.00$ \\\\\n",
    "            \\toprule\n",
    "            $R=0.00$ & {process_matrix[0,0]:.2e} & {process_matrix[0,1]:.2e} & {process_matrix[0,2]:.2e} & $\\cdots$ & {process_matrix[0,600]:.2e} & $\\cdots$ & {process_matrix[0,-3]:.2e} & {process_matrix[0,-2]:.2e} & {process_matrix[0,-1]:.2e} \\\\\n",
    "            \\midrule\n",
    "            $R=0.01$ & {process_matrix[1,0]:.2e} & {process_matrix[1,1]:.2e} & {process_matrix[1,2]:.2e} & $\\cdots$ & {process_matrix[1,600]:.2e} & $\\cdots$ & {process_matrix[1,-3]:.2e} & {process_matrix[1,-2]:.2e} & {process_matrix[1,-1]:.2e} \\\\\n",
    "            \\midrule\n",
    "            $\\vdots$ & $\\vdots$ & $\\vdots$ & $\\vdots$ & $\\vdots$ & $\\vdots$ & $\\vdots$ & $\\vdots$ & $\\vdots$ & $\\vdots$ \\\\\n",
    "            \\midrule\n",
    "            $R=6.00$ & {process_matrix[600,0]:.2e} & {process_matrix[600,1]:.2e} & {process_matrix[600,2]:.2e} & $\\cdots$ & {process_matrix[600,600]:.2e} & $\\cdots$ & {process_matrix[600,-3]:.2e} & {process_matrix[600,-2]:.2e} & {process_matrix[600,-1]:.2e} \\\\\n",
    "            \\midrule\n",
    "            $\\vdots$ & $\\vdots$ & $\\vdots$ & $\\vdots$ & $\\vdots$ & $\\vdots$ & $\\vdots$ & $\\vdots$ & $\\vdots$ & $\\vdots$ \\\\\n",
    "            \\midrule\n",
    "            $R=11.99$ & {process_matrix[1199,0]:.2e} & {process_matrix[1199,1]:.2e} & {process_matrix[1199,2]:.2e} & $\\cdots$ & {process_matrix[1199,600]:.2e} & $\\cdots$ & {process_matrix[1199,-3]:.2e} & {process_matrix[1199,-2]:.2e} & {process_matrix[1199,-1]:.2e} \\\\\n",
    "            \\midrule\n",
    "            $R=12.00$ & {process_matrix[1200,0]:.2e} & {process_matrix[1200,1]:.2e} & {process_matrix[1200,2]:.2e} & $\\cdots$ & {process_matrix[1200,600]:.2e} & $\\cdots$ & {process_matrix[1200,-3]:.2e} & {process_matrix[1200,-2]:.2e} & {process_matrix[1200,-1]:.2e} \\\\\n",
    "            \\bottomrule\n",
    "        \\end{{tabular}}\n",
    "    }}\n",
    "  \\end{{center}}\n",
    "\\end{{table}}\n",
    "        \"\"\"\n",
    "    )\n",
    ")"
   ]
  },
  {
   "cell_type": "code",
   "execution_count": 46,
   "metadata": {},
   "outputs": [
    {
     "data": {
      "text/latex": [
       "\n",
       "    \\begin{figure}\n",
       "    \\centering\n",
       "        \\includegraphics{pr1.png}\n",
       "        \\caption{Matrice $\\mathbf{P(R)}$. Il colore indica la densità di probabilità. Essendo gaussiana, è concentrata intorno a $\\mu$ ovvero sulla diagonale della matrice.}\n",
       "        \\label{fig:pr1}\n",
       "    \\end{figure}"
      ],
      "text/plain": [
       "<IPython.core.display.Latex object>"
      ]
     },
     "metadata": {},
     "output_type": "display_data"
    }
   ],
   "source": [
    "from mpl_toolkits.axes_grid1 import make_axes_locatable\n",
    "fig, ax = plt.subplots(figsize=(7,7))\n",
    "ax.set_title(\"Matrice $\\mathbf{P(R)}$\")\n",
    "ax.set_xticks([0, 200, 400, 600, 800, 1000, 1200])\n",
    "ax.set_yticks([0, 200, 400, 600, 800, 1000, 1200])\n",
    "ax.set_xticklabels([0, 0, 2, 4, 6, 8, 10, 12])\n",
    "ax.set_yticklabels([0, 0, 2, 4, 6, 8, 10, 12])\n",
    "im = ax.matshow(process_matrix, cmap=\"Blues\")\n",
    "#ax.axhline(600, ls=\":\")\n",
    "#ax.axvline(600, ls=\":\")\n",
    "ax.set_xlabel(\"$\\mu$\", fontsize=\"xx-large\")\n",
    "ax.set_ylabel(\"R\", fontsize=\"xx-large\")\n",
    "divider = make_axes_locatable(ax)\n",
    "cax = divider.append_axes(\"right\", size=\"5%\", pad=0.05)\n",
    "plt.colorbar(im, cax=cax)\n",
    "latexplot(plt, \"pr1\", r\"Matrice $\\mathbf{P(R)}$. Il colore indica la densità di probabilità. \" +\n",
    "          r\"Essendo gaussiana, è concentrata intorno a $\\mu$ ovvero sulla diagonale della matrice.\",\n",
    "          showme=False\n",
    "         )"
   ]
  },
  {
   "cell_type": "code",
   "execution_count": 19,
   "metadata": {},
   "outputs": [
    {
     "data": {
      "text/latex": [
       "\n",
       "    \\begin{figure}\n",
       "    \\centering\n",
       "        \\includegraphics{pr2.png}\n",
       "        \\caption{Distribuzione gaussiana di $P(R)$ con $\\sigma=0.25$. Esempio per alcuni valori di $\\mu$.}\n",
       "        \\label{fig:pr2}\n",
       "    \\end{figure}"
      ],
      "text/plain": [
       "<IPython.core.display.Latex object>"
      ]
     },
     "metadata": {},
     "output_type": "display_data"
    }
   ],
   "source": [
    "process_matrix_df = pd.DataFrame(process_matrix)\n",
    "fig, ax = plt.subplots(figsize=defaultFigsize)\n",
    "for x in [15, 225, 575, 805, 1012]:\n",
    "    ax.plot(\n",
    "        process_matrix_df[x].index,\n",
    "        process_matrix_df[x].values,\n",
    "        label=f\"$\\mu={x/100:.2f}$\",\n",
    "        ls=\"-.\", lw=2\n",
    "    )\n",
    "    ax.axvline(x, ls=\":\", c=\"k\")\n",
    "ax.set_xticks([0, 200, 400, 600, 800, 1000, 1200])\n",
    "ax.set_xticklabels([0, 2, 4, 6, 8, 10, 12])\n",
    "ax.legend(loc=\"best\")\n",
    "ax.set_title(\"$\\mathscr{N}(R,\\sigma)$\")\n",
    "ax.set_xlabel(\"$R$\")\n",
    "ax.set_ylim(0, 0.025)\n",
    "ax.set_xlim(0, 1200)\n",
    "latexplot(plt, \"pr2\", r\"Distribuzione gaussiana di $P(R)$ con $\\sigma=0.25$. Esempio per alcuni valori di $\\mu$.\",\n",
    "          showme=False)"
   ]
  },
  {
   "cell_type": "code",
   "execution_count": 20,
   "metadata": {},
   "outputs": [],
   "source": [
    "fig, ax = plt.subplots(figsize=(6, 3.5))\n",
    "ax.set_xlim(0, 1200)\n",
    "ax.set_xticks([0, 200, 400, 600, 800, 1000, 1200])\n",
    "ax.set_xticklabels([0, 2, 4, 6, 8, 10, 12])\n",
    "ax.set_ylim(0, .035)\n",
    "ax.set_xlabel(\"R\")\n",
    "line, = ax.plot([], [])\n",
    "plt.close(fig)\n",
    "\n",
    "process_matrix_df = pd.DataFrame(process_matrix)\n",
    "\n",
    "def init():\n",
    "    ax.plot([], [])\n",
    "\n",
    "def animate(i):\n",
    "    line.set_data(process_matrix_df[i*10].index, process_matrix_df[i*10].values)\n",
    "    line.set_label(f\"$\\mu = {i/10:.1f}$\")\n",
    "    ax.legend(loc=\"upper left\", fontsize=15)\n",
    "    return (line,)\n",
    "\n",
    "\n",
    "ax.set_title(\"$P(R,\\sigma)$\")\n",
    "\n",
    "anim = FuncAnimation(fig, animate, init_func=init, interval=10, frames=process_matrix_df.columns.size//10+1);\n",
    "\n",
    "#HTML(anim.to_jshtml())"
   ]
  },
  {
   "cell_type": "markdown",
   "metadata": {},
   "source": [
    "# P(R|k)"
   ]
  },
  {
   "cell_type": "markdown",
   "metadata": {},
   "source": [
    "È dunque possibile ora creare una matrice vuota $\\mathbf{P\\big(R_t \\;\\big|\\; k_t^*\\big)}$ di $1201 \\times \\omega$ i cui elementi $P(R_n)_m$ di riga $n$ e colonna $m$ saranno i valori della probabilità di $R=m$ al tempo $t=n$ (tabella $\\ref{tab:prkempty}$)."
   ]
  },
  {
   "cell_type": "markdown",
   "metadata": {},
   "source": [
    "\\begin{equation}\\label{eq:matriceprk}\n",
    "\\mathbf{P\\big(R_t \\;\\big|\\; k_t^*\\big)} = \n",
    "\\begin{Bmatrix}\n",
    "P(R_0)_{0} &  P(R_1)_{0} & \\cdots  & P(R_\\omega)_{0} \\\\ \n",
    "\\vdots & \\vdots & & \\vdots \\\\\n",
    "P(R_0)_{6} &  P(R_1)_{6} & \\cdots & P(R_\\omega)_{6} \\\\ \n",
    "\\vdots & \\vdots &  & \\vdots \\\\\n",
    "P(R_0)_{12} & P(R_1)_{12} & \\cdots & P(R_\\omega)_{12}\n",
    "\\end{Bmatrix}_{1201 \\times \\omega}\n",
    "\\end{equation}"
   ]
  },
  {
   "cell_type": "markdown",
   "metadata": {},
   "source": [
    "Non avendo alcuna informazione precedente a $t=0$, si imposta la probabilità iniziale della prima colonna $\\mathbf{P\\big(R_0 \\;\\big|\\; k_0^*\\big)}$ ovvero degli elementi $P(R_0)_m$ come costante in modo che $\\sum P(R_0)_m = 1$:"
   ]
  },
  {
   "cell_type": "code",
   "execution_count": 21,
   "metadata": {},
   "outputs": [
    {
     "data": {
      "text/markdown": [
       "\n",
       "$$P(R_0)_{m} = \\frac{1}{ | \\mathbf{R} | } = \\frac{1}{1201} = 8.33e-04, \\; \\forall m \\in [R_{min}, R_{max}]$$ \n",
       "    "
      ],
      "text/plain": [
       "<IPython.core.display.Markdown object>"
      ]
     },
     "metadata": {},
     "output_type": "display_data"
    }
   ],
   "source": [
    "display(\n",
    "    Markdown(fr\"\"\"\n",
    "$$P(R_0)_{{m}} = \\frac{{1}}{{ | \\mathbf{{R}} | }} = \\frac{{1}}{{{len(Rt_bra)}}} = {1/len(Rt_bra):.2e}, \\; \\forall m \\in [R_{{min}}, R_{{max}}]$$ \n",
    "    \"\"\"\n",
    "    )\n",
    ")"
   ]
  },
  {
   "cell_type": "code",
   "execution_count": 22,
   "metadata": {},
   "outputs": [],
   "source": [
    "prior0 = np.ones_like(Rt_bra)/len(Rt_bra)\n",
    "prior0 /= prior0.sum()\n",
    "#prior0"
   ]
  },
  {
   "cell_type": "code",
   "execution_count": 23,
   "metadata": {},
   "outputs": [],
   "source": [
    "# Create a DataFrame that will hold our posteriors for each day\n",
    "# Insert our prior as the first posterior.\n",
    "posteriors = pd.DataFrame(\n",
    "    index=Rt_bra,\n",
    "    columns=k_bra.index,\n",
    "    data={k_bra.index[0]: prior0}\n",
    ")"
   ]
  },
  {
   "cell_type": "code",
   "execution_count": 24,
   "metadata": {},
   "outputs": [
    {
     "data": {
      "text/latex": [
       "\n",
       "\\begin{table}\n",
       "  \\begin{center}\n",
       "    \\caption{Estratto di matrice vuota $\\mathbf{P(R_t|k_t^*)}$: $1201 \\times 79$}\n",
       "    \\label{tab:prkempty}\n",
       "    \\begin{tabular}{c|c|c|c|c|c|c|c|}\n",
       "          & 2020-02-24 & \n",
       "          2020-02-25 &\n",
       "          2020-02-26 &\n",
       "          $\\cdots$ & \n",
       "          2020-05-10 & \n",
       "          2020-05-11 & \n",
       "          2020-05-12 \\\\\n",
       "        \\toprule\n",
       "        $R=0.00$ & 8.33e-04 & nan & nan & $\\cdots$ & nan & nan & nan \\\\\n",
       "        \\midrule\n",
       "        $R=0.01$ & 8.33e-04 & nan & nan & $\\cdots$ & nan & nan & nan \\\\\n",
       "        \\midrule\n",
       "        $\\vdots$ & $\\vdots$ & $\\vdots$ & $\\vdots$ & $\\vdots$ & $\\vdots$ & $\\vdots$ & $\\vdots$ \\\\\n",
       "        \\midrule\n",
       "        $R=11.99$ & 8.33e-04 & nan & nan & $\\cdots$ & nan & nan & nan \\\\\n",
       "        \\midrule\n",
       "        $R=12.00$ & 8.33e-04 & nan & nan & $\\cdots$ & nan & nan & nan \\\\\n",
       "        \\bottomrule\n",
       "    \\end{tabular}\n",
       "  \\end{center}\n",
       "\\end{table}\n",
       "        "
      ],
      "text/plain": [
       "<IPython.core.display.Latex object>"
      ]
     },
     "metadata": {},
     "output_type": "display_data"
    }
   ],
   "source": [
    "display(\n",
    "    Latex(\n",
    "        fr\"\"\"\n",
    "\\begin{{table}}\n",
    "  \\begin{{center}}\n",
    "    \\caption{{Estratto di matrice vuota $\\mathbf{{P(R_t|k_t^*)}}$: ${len(posteriors)} \\times {len(posteriors.iloc[0])}$}}\n",
    "    \\label{{tab:prkempty}}\n",
    "    \\begin{{tabular}}{{c|c|c|c|c|c|c|c|}}\n",
    "          & {posteriors.columns[0].strftime('%Y-%m-%d')} & \n",
    "          {posteriors.columns[1].strftime('%Y-%m-%d')} &\n",
    "          {posteriors.columns[2].strftime('%Y-%m-%d')} &\n",
    "          $\\cdots$ & \n",
    "          {posteriors.columns[-3].strftime('%Y-%m-%d')} & \n",
    "          {posteriors.columns[-2].strftime('%Y-%m-%d')} & \n",
    "          {posteriors.columns[-1].strftime('%Y-%m-%d')} \\\\\n",
    "        \\toprule\n",
    "        $R=0.00$ & {posteriors.iloc[0,0]:.2e} & {posteriors.iloc[0,1]:.2e} & {posteriors.iloc[0,2]:.2e} & $\\cdots$ & {posteriors.iloc[0,-3]:.2e} & {posteriors.iloc[0,-2]:.2e} & {posteriors.iloc[0,-1]:.2e} \\\\\n",
    "        \\midrule\n",
    "        $R=0.01$ & {posteriors.iloc[1,0]:.2e} & {posteriors.iloc[1,1]:.2e} & {posteriors.iloc[1,2]:.2e} & $\\cdots$ & {posteriors.iloc[1,-3]:.2e} & {posteriors.iloc[1,-2]:.2e} & {posteriors.iloc[1,-1]:.2e} \\\\\n",
    "        \\midrule\n",
    "        $\\vdots$ & $\\vdots$ & $\\vdots$ & $\\vdots$ & $\\vdots$ & $\\vdots$ & $\\vdots$ & $\\vdots$ \\\\\n",
    "        \\midrule\n",
    "        $R=11.99$ & {posteriors.iloc[1199,0]:.2e} & {posteriors.iloc[1199,1]:.2e} & {posteriors.iloc[1199,2]:.2e} & $\\cdots$ & {posteriors.iloc[1199,-3]:.2e} & {posteriors.iloc[1199,-2]:.2e} & {posteriors.iloc[1199,-1]:.2e} \\\\\n",
    "        \\midrule\n",
    "        $R=12.00$ & {posteriors.iloc[1200,0]:.2e} & {posteriors.iloc[1200,1]:.2e} & {posteriors.iloc[1200,2]:.2e} & $\\cdots$ & {posteriors.iloc[1200,-3]:.2e} & {posteriors.iloc[1200,-2]:.2e} & {posteriors.iloc[1200,-1]:.2e} \\\\\n",
    "        \\bottomrule\n",
    "    \\end{{tabular}}\n",
    "  \\end{{center}}\n",
    "\\end{{table}}\n",
    "        \"\"\"\n",
    "    )\n",
    ")"
   ]
  },
  {
   "cell_type": "markdown",
   "metadata": {},
   "source": [
    "Per ogni giorno $t \\in (0, \\omega]$ si calcola la probabilità di $R_t$ basata sulla distribuzione normale del giorno precedente $t-1$"
   ]
  },
  {
   "cell_type": "markdown",
   "metadata": {},
   "source": [
    "\\begin{equation}\\label{eq:prgiorno}\n",
    "\\begin{gathered}\n",
    "\\mathbf{P(R_t)_m} = \\mathbf{P(R)}_{1201 \\times 1201} \\cdot \\mathbf{P(R_{t-1})_m} = \\\\ %\n",
    "= \\begin{Bmatrix}\n",
    "P(0)_{0} & \\cdots & P(0)_{12} \\\\ \n",
    "\\vdots & \\ddots & \\vdots \\\\\n",
    "P(12)_{0} & \\cdots & P(12)_{12}\n",
    "\\end{Bmatrix}_{1201 \\times 1201}\n",
    "\\cdot\n",
    "\\begin{Bmatrix}\n",
    "P(R_{t-1})_0  \\\\\n",
    "\\vdots \\\\ \n",
    "P(R_{t-1})_{12}\n",
    "\\end{Bmatrix}_{1201 \\times 1} = \\\\ %\n",
    "= \\begin{Bmatrix}\n",
    "P(R_{t})_0 \\\\\n",
    "\\vdots \\\\ \n",
    "P(R_{t})_{12}\n",
    "\\end{Bmatrix}_{1201 \\times 1}\n",
    "\\end{gathered}\n",
    "\\end{equation}"
   ]
  },
  {
   "cell_type": "markdown",
   "metadata": {},
   "source": [
    "e si moltiplica per $\\mathbf{P(k_t^*|R)}$ calcolato in precedenza, ottenendo così il numeratore della funzione $\\eqref{eq:formula1}$:\n",
    "\n",
    "\\begin{equation}\\label{eq:numeratoreok}\n",
    "\\mathbf{P(k_t^*|R)} \\cdot \\mathbf{P(R_t)_m}\n",
    "\\end{equation}\n",
    "\n",
    "Il denominatore $P(k_t^*)$ è la sommatoria dei numeratori precedenti:"
   ]
  },
  {
   "cell_type": "markdown",
   "metadata": {},
   "source": [
    "\\begin{equation}\\label{eq:denominatoreok}\n",
    "P(k_t^*) = \\sum_{i=0}^{t} \\bigg( \\mathbf{P(k_i^*|R)} \\cdot \\mathbf{P(R_i)_m} \\bigg)\n",
    "\\end{equation}"
   ]
  },
  {
   "cell_type": "markdown",
   "metadata": {},
   "source": [
    "ottenendo dunque per ogni giorno $t$ la probabilità a posteriori di $R_t$ dato $k_t$ (tabella $\\ref{tab:prkfull}$ e figure $\\ref{fig:prk}$ e $\\ref{fig:prkmatrix}$):\n",
    "\n",
    "\\begin{equation}\\label{eq:finale}\n",
    "\\mathbf{P(R_t|k_t^*)} = \n",
    "\\left\\{\n",
    "\\frac{ \\mathbf{P(k_t^*|R)} \\cdot \\mathbf{P(R_t)_m} }{ \n",
    "\\sum_{i=0}^{t} \\bigg( \\mathbf{P(k_i^*|R)} \\cdot \\mathbf{P(R_i)_m} \\bigg)\n",
    "}\n",
    "\\right\\}_{1201 \\times \\omega}\n",
    "\\end{equation}"
   ]
  },
  {
   "cell_type": "code",
   "execution_count": 25,
   "metadata": {},
   "outputs": [],
   "source": [
    "# We said we'd keep track of the sum of the log of the probability\n",
    "# of the data for maximum likelihood calculation.\n",
    "log_likelihood = 0.0\n",
    "\n",
    "for previous_day, current_day in zip(k_bra.index[:-1], k_bra.index[1:]):\n",
    "\n",
    "    #print(posteriors[previous_day])\n",
    "    #(5a) Calculate the new prior\n",
    "    current_prior = process_matrix @ posteriors[previous_day]\n",
    "\n",
    "    #(5b) Calculate the numerator of Bayes' Rule: P(k|R_t)P(R_t)\n",
    "    numerator = likelihoods[current_day] * current_prior\n",
    "\n",
    "    #(5c) Calcluate the denominator of Bayes' Rule P(k)\n",
    "    denominator = np.sum(numerator)\n",
    "\n",
    "    # Execute full Bayes' Rule\n",
    "    posteriors[current_day] = numerator/denominator\n",
    "    \n",
    "    # Add to the running sum of log likelihoods\n",
    "    log_likelihood += np.log(denominator)"
   ]
  },
  {
   "cell_type": "code",
   "execution_count": 26,
   "metadata": {},
   "outputs": [
    {
     "data": {
      "text/latex": [
       "\n",
       "\\begin{table}\n",
       "  \\begin{center}\n",
       "    \\caption{Estratto di matrice finale $\\mathbf{P(R_t|k_t^*)}$: $1201 \\times 79$}\n",
       "    \\label{tab:prkfull}\n",
       "    \\begin{tabular}{c|c|c|c|c|c|c|c|}\n",
       "          & 2020-02-24 & \n",
       "          2020-02-25 &\n",
       "          2020-02-26 &\n",
       "          $\\cdots$ & \n",
       "          2020-05-10 & \n",
       "          2020-05-11 & \n",
       "          2020-05-12 \\\\\n",
       "        \\toprule\n",
       "        $R=0.00$ & 8.33e-04 & 2.58e-05 & 1.61e-07 & $\\cdots$ & 2.64e-05 & 9.25e-06 & 1.28e-06 \\\\\n",
       "        \\midrule\n",
       "        $R=0.01$ & 8.33e-04 & 2.78e-05 & 1.79e-07 & $\\cdots$ & 3.21e-05 & 1.14e-05 & 1.61e-06 \\\\\n",
       "        \\midrule\n",
       "        $\\vdots$ & $\\vdots$ & $\\vdots$ & $\\vdots$ & $\\vdots$ & $\\vdots$ & $\\vdots$ & $\\vdots$ \\\\\n",
       "        \\midrule\n",
       "        $R=11.99$ & 8.33e-04 & 1.25e-106 & 3.07e-192 & $\\cdots$ & 0.00e+00 & 0.00e+00 & 0.00e+00 \\\\\n",
       "        \\midrule\n",
       "        $R=12.00$ & 8.33e-04 & 6.61e-107 & 1.05e-192 & $\\cdots$ & 0.00e+00 & 0.00e+00 & 0.00e+00 \\\\\n",
       "        \\bottomrule\n",
       "    \\end{tabular}\n",
       "  \\end{center}\n",
       "\\end{table}\n",
       "        "
      ],
      "text/plain": [
       "<IPython.core.display.Latex object>"
      ]
     },
     "metadata": {},
     "output_type": "display_data"
    }
   ],
   "source": [
    "display(\n",
    "    Latex(\n",
    "        fr\"\"\"\n",
    "\\begin{{table}}\n",
    "  \\begin{{center}}\n",
    "    \\caption{{Estratto di matrice finale $\\mathbf{{P(R_t|k_t^*)}}$: ${len(posteriors)} \\times {len(posteriors.iloc[0])}$}}\n",
    "    \\label{{tab:prkfull}}\n",
    "    \\begin{{tabular}}{{c|c|c|c|c|c|c|c|}}\n",
    "          & {posteriors.columns[0].strftime('%Y-%m-%d')} & \n",
    "          {posteriors.columns[1].strftime('%Y-%m-%d')} &\n",
    "          {posteriors.columns[2].strftime('%Y-%m-%d')} &\n",
    "          $\\cdots$ & \n",
    "          {posteriors.columns[-3].strftime('%Y-%m-%d')} & \n",
    "          {posteriors.columns[-2].strftime('%Y-%m-%d')} & \n",
    "          {posteriors.columns[-1].strftime('%Y-%m-%d')} \\\\\n",
    "        \\toprule\n",
    "        $R=0.00$ & {posteriors.iloc[0,0]:.2e} & {posteriors.iloc[0,1]:.2e} & {posteriors.iloc[0,2]:.2e} & $\\cdots$ & {posteriors.iloc[0,-3]:.2e} & {posteriors.iloc[0,-2]:.2e} & {posteriors.iloc[0,-1]:.2e} \\\\\n",
    "        \\midrule\n",
    "        $R=0.01$ & {posteriors.iloc[1,0]:.2e} & {posteriors.iloc[1,1]:.2e} & {posteriors.iloc[1,2]:.2e} & $\\cdots$ & {posteriors.iloc[1,-3]:.2e} & {posteriors.iloc[1,-2]:.2e} & {posteriors.iloc[1,-1]:.2e} \\\\\n",
    "        \\midrule\n",
    "        $\\vdots$ & $\\vdots$ & $\\vdots$ & $\\vdots$ & $\\vdots$ & $\\vdots$ & $\\vdots$ & $\\vdots$ \\\\\n",
    "        \\midrule\n",
    "        $R=11.99$ & {posteriors.iloc[1199,0]:.2e} & {posteriors.iloc[1199,1]:.2e} & {posteriors.iloc[1199,2]:.2e} & $\\cdots$ & {posteriors.iloc[1199,-3]:.2e} & {posteriors.iloc[1199,-2]:.2e} & {posteriors.iloc[1199,-1]:.2e} \\\\\n",
    "        \\midrule\n",
    "        $R=12.00$ & {posteriors.iloc[1200,0]:.2e} & {posteriors.iloc[1200,1]:.2e} & {posteriors.iloc[1200,2]:.2e} & $\\cdots$ & {posteriors.iloc[1200,-3]:.2e} & {posteriors.iloc[1200,-2]:.2e} & {posteriors.iloc[1200,-1]:.2e} \\\\\n",
    "        \\bottomrule\n",
    "    \\end{{tabular}}\n",
    "  \\end{{center}}\n",
    "\\end{{table}}\n",
    "        \"\"\"\n",
    "    )\n",
    ")"
   ]
  },
  {
   "cell_type": "code",
   "execution_count": 27,
   "metadata": {
    "scrolled": true
   },
   "outputs": [
    {
     "data": {
      "text/latex": [
       "\n",
       "    \\begin{figure}\n",
       "    \\centering\n",
       "        \\includegraphics{prk.png}\n",
       "        \\caption{Ditribuzione di probabilità $P(R_t|k_t)$ dei primi 5 giorni di dati in Italia. Si nota come nel primo giorno, non avendo alcuna informazione la probabilità è equamente distribuita e successivamente ogni giorno diminuisca la deviazione standard e dunque si guadagni progressivamente in confidenza sul valore di $R_t$.}\n",
       "        \\label{fig:prk}\n",
       "    \\end{figure}"
      ],
      "text/plain": [
       "<IPython.core.display.Latex object>"
      ]
     },
     "metadata": {},
     "output_type": "display_data"
    }
   ],
   "source": [
    "fig, ax = plt.subplots(figsize=defaultFigsize)\n",
    "for x in range(5):\n",
    "    ax.plot(\n",
    "        posteriors.iloc[:, x].index,\n",
    "        posteriors.iloc[:, x].values,\n",
    "        label=f\"$t=${posteriors.iloc[:, x].name.strftime('%Y-%m-%d')}\"\n",
    "    )\n",
    "ax.legend(loc=\"best\")\n",
    "ax.set_xlim(0,5)\n",
    "ax.set_title(\"$P(R_t|k_t)$\")\n",
    "ax.set_xlabel(\"$R$\")\n",
    "latexplot(plt, \"prk\", r\"Ditribuzione di probabilità $P(R_t|k_t)$ dei primi 5 giorni di dati in Italia. \" + \n",
    "          \"Si nota come nel primo giorno, non avendo alcuna informazione la probabilità è equamente distribuita \"+\n",
    "          \"e successivamente ogni giorno diminuisca la deviazione standard e dunque si guadagni progressivamente in confidenza sul valore di $R_t$.\"\n",
    "         )"
   ]
  },
  {
   "cell_type": "code",
   "execution_count": 47,
   "metadata": {},
   "outputs": [
    {
     "data": {
      "text/latex": [
       "\n",
       "    \\begin{figure}\n",
       "    \\centering\n",
       "        \\includegraphics{prkmatrix.png}\n",
       "        \\caption{Matrice $\\mathbf{{P(R_t|k_t^*)}}$. All'asse $y$ il valore di $R_t$ è stato limitato graficamente a 4. Il colore indica la densità di probabilità.}\n",
       "        \\label{fig:prkmatrix}\n",
       "    \\end{figure}"
      ],
      "text/plain": [
       "<IPython.core.display.Latex object>"
      ]
     },
     "metadata": {},
     "output_type": "display_data"
    }
   ],
   "source": [
    "from matplotlib import cm\n",
    "fig, ax = plt.subplots(figsize=(7,7))\n",
    "im = ax.matshow(posteriors, aspect=posteriors.columns.size/400, cmap=\"Blues\")\n",
    "ax.set_ylim(400, 0)\n",
    "ax.set_yticks([0, 100, 200, 300, 400])\n",
    "ax.set_yticklabels([0, 1, 2, 3, 4])\n",
    "ax.axhline(100, ls=\":\", c=\"k\")\n",
    "ax.set_ylabel(\"$R_t$\", fontsize=\"xx-large\")\n",
    "ax.set_xlabel(\"giorni da $t_0$\", fontsize=\"xx-large\")\n",
    "ax.set_title(\"Matrice $\\mathbf{{P(R_t|k_t^*)}}$\")\n",
    "plt.colorbar(im)\n",
    "latexplot(plt, \"prkmatrix\", \"Matrice $\\mathbf{{P(R_t|k_t^*)}}$. All'asse $y$ il valore di $R_t$ è stato limitato graficamente a 4. \"+\n",
    "          \"Il colore indica la densità di probabilità.\", showme=False\n",
    "         )"
   ]
  },
  {
   "cell_type": "code",
   "execution_count": 29,
   "metadata": {
    "scrolled": false
   },
   "outputs": [],
   "source": [
    "fig, ax = plt.subplots(figsize=(6, 3.5))\n",
    "ax.set_xlim(0, 6)\n",
    "ax.set_ylim(0, .05)\n",
    "ax.set_xlabel(\"$R_t$\")\n",
    "line, = ax.plot([], [])\n",
    "plt.close(fig)\n",
    "\n",
    "def init():\n",
    "    ax.plot([], [])\n",
    "\n",
    "def animate(i):\n",
    "    line.set_data(posteriors.iloc[:, i].index, posteriors.iloc[:, i].values)\n",
    "    line.set_label(f\"$t=${posteriors.iloc[:, i].name.strftime('%Y-%m-%d')}\")\n",
    "    ax.legend(loc=\"upper right\", fontsize=12)\n",
    "    return (line,)\n",
    "\n",
    "\n",
    "ax.set_title(\"$P(R_t|k_t)$\")\n",
    "\n",
    "anim = FuncAnimation(fig, animate, init_func=init, interval=250, frames=posteriors.columns.size);\n",
    "\n",
    "#HTML(anim.to_jshtml())"
   ]
  },
  {
   "cell_type": "markdown",
   "metadata": {},
   "source": [
    "# Intervallo di credibilità"
   ]
  },
  {
   "cell_type": "markdown",
   "metadata": {},
   "source": [
    "Data una distribuzione di probabilità $f(x)$ di posteriori Bayesiani della variabile aleatoria discreta $x$, l'intervallo di credibilità $\\mathbf{HDI}_p$ (High Density Interval) corrispondente alla regione a maggior densità di probabilità, scelto il valore di $p\\in(0,1)$ è\n",
    "\n",
    "\\begin{equation}\\label{eq:hdi}\n",
    "\\mathbf{HDI}_p = [a, b] \\in x, a < b \\; : \\; f(a) \\simeq f(b), \\; \\int_{a}^{b} f(x) \\simeq p\n",
    "\\end{equation}\n",
    "\n",
    "Esistono diversi metodi per il calcolo di $\\mathbf{HDI}_p$ ed i vantaggi/svantaggi di ciascuno dipendono dal tipo di studio effettuato <cite data-cite=\"hyndman1996computing\"></cite>.\n",
    "\n",
    "In generale, laddove siano noti solo i valori \n",
    "$\\{x,f(x)\\}$ ma non la funzione di distribuzione, è possibile calcolare l'intervallo integrando con regola di Simpson a partire dal valore massimo di \n",
    "$f(x)$ fino a che \n",
    "\n",
    "$$\n",
    "\\int_{a}^{b} \\{x,f(x)\\} < p\n",
    "$$\n",
    "\n",
    "ottenenendo così il minor intervallo \n",
    "$[a,b]$ tale per cui l'area sottesa dalla curva sia \"il più possibile\" vicina a \n",
    "$p$.\n",
    "\n",
    "Un metodo equivalente \n",
    "<cite data-cite=\"k-sys\"></cite> \n",
    "consiste nel calcolare la probabilità cumulativa\n",
    "\n",
    "\\begin{equation}\\label{eq:cumf}\n",
    "F = \\sum f(x)\n",
    "\\end{equation}\n",
    "\n",
    "ottenere la matrice quadrata antisimmetrica\n",
    "\n",
    "\\begin{equation}\\label{eq:deltaf}\n",
    "\\Delta\\mathbf{F} = F - F^{T} = \n",
    "\\begin{Bmatrix}\n",
    "F_{0} - F_{0} & F_{1} - F_{0} & \\cdots & F_{|x|-1} - F_{0} & F_{|x|} - F_{0} \\\\\n",
    "F_{0} - F_{1} & F_{1} - F_{1} & \\cdots & F_{|x|-1} - F_{1} & F_{|x|} - F_{1} \\\\\n",
    "\\vdots & \\vdots & \\vdots & \\vdots & \\vdots \\\\\n",
    "F_{0} - F_{|x|-1} & F_{1} - F_{|x|-1} & \\cdots & F_{|x|-1} - F_{|x|-1} & F_{|x|} - F_{|x|-1} \\\\\n",
    "F_{0} - F_{|x|} & F_{1} - F_{|x|} & \\cdots & F_{|x|-1} - F_{|x|} & F_{|x|} - F_{|x|} \\\\\n",
    "\\end{Bmatrix}_{|x| \\times |x|}\n",
    "\\end{equation}\n",
    "\n",
    "e gli elementi $\\Delta\\mathbf{F}_{n,m}>p$ di riga $n$ e colonna $m$.\n",
    "\n",
    "Gli indici dell'elemento tale per cui è minore la differenza tra $m$ (limite superiore) ed $n$ (limite inferiore)  rappresentano l'intervallo di credibilità, ovvero\n",
    "\n",
    "\\begin{equation}\\label{eq:hdimatrix}\n",
    "\\mathbf{HDI}_p = [n, m] \\in x, n < m \\; : \\; \\min(m - n), \\; \\forall n, m \\in \\Delta\\mathbf{F}_{n,m}>p\n",
    "\\end{equation}\n",
    "\n",
    "Sia data ad esempio una distribuzione di probabilità con asimmetria positiva ($SK=3$, $\\mu=7$, $\\sigma=6$) della variabile aleatoria discreta $x \\in [0,30]$ (figura $\\ref{fig:hdiesempio}$).\n",
    "Fissando $p=.9$ l'intervallo di credibilità Bayesiano è dato dalla curva sottesa tra $x=5$ e $x=18$.\n",
    "\n",
    "Utilizzando il metodo della matrice antisimmetrica, si calcola la probabilità cumulativa $F$ e la matrice $\\Delta\\mathbf{F}$ (figura $\\ref{fig:matrixdeltaf}$). Gli elementi $\\Delta\\mathbf{F}_{n,m}>.9$ sono delimitati dall'area blu in figura $\\ref{fig:matrixdeltaf}$. L'elemento che soddisfa la $\\eqref{eq:hdimatrix}$ è $\\Delta\\mathbf{F}_{5,18}=0.91$ (quadrato giallo in figura $\\ref{fig:matrixdeltaf}$)."
   ]
  },
  {
   "cell_type": "code",
   "execution_count": 30,
   "metadata": {},
   "outputs": [
    {
     "data": {
      "text/latex": [
       "\n",
       "    \\begin{figure}\n",
       "    \\centering\n",
       "        \\includegraphics{hdiesempio.png}\n",
       "        \\caption{Esempio di distrbuzione asimmetrica positiva e intervallo di credibilità $p>.9$.}\n",
       "        \\label{fig:hdiesempio}\n",
       "    \\end{figure}"
      ],
      "text/plain": [
       "<IPython.core.display.Latex object>"
      ]
     },
     "metadata": {},
     "output_type": "display_data"
    }
   ],
   "source": [
    "num = 30; skew = 3; mean = 7; std = 6; p = .9\n",
    "x = np.linspace(0, num, num+1)\n",
    "\n",
    "PAIRS = []\n",
    "sol = None\n",
    "\n",
    "sy = sps.skewnorm.pdf(x, skew, mean, std)\n",
    "y = sps.skewnorm.cdf(x, skew, mean, std)\n",
    "\n",
    "for i in np.linspace(sy[sy.argmax()], 0, 100):\n",
    "    points = (sy >= i).nonzero()[0]\n",
    "    PAIRS.append(\n",
    "        [min(points), max(points)]\n",
    "    )\n",
    "    #ar2 = integrate.quad(lambda x: sps.skewnorm.pdf(x, skew, mean, std), min(points), max(points))\n",
    "    ar = integrate.simps(sy[min(points):max(points)+1])\n",
    "    if ar > p and not sol:\n",
    "        sol = [i, min(points), max(points), ar]\n",
    "\n",
    "fig, ax = plt.subplots(figsize=defaultFigsize)\n",
    "plt.plot(sy, lw=1, marker=\"o\")\n",
    "verts = [\n",
    "    (sol[1], 0),\n",
    "    *zip(x[sol[1]:sol[2]+1], sps.skewnorm.pdf(x[sol[1]:sol[2]+1], skew, mean, std)), \n",
    "    (sol[2], 0)\n",
    "]\n",
    "poly = Polygon(verts, facecolor='0.9', edgecolor='0.5')\n",
    "ax.add_patch(poly)\n",
    "plt.axvline(mean+skew, ls=\":\", c=\"k\")\n",
    "plt.axvline(sol[1], c=\"r\")\n",
    "plt.axvline(sol[2], c=\"r\")\n",
    "plt.axhline(sol[0], ls=\"--\", c=\"grey\")\n",
    "ax.set_ylim(0, max(sy)*1.1)\n",
    "ax.set_title(f\"$p={p}$    AREA$={sol[3]:.2f}$    $\\mathbf{{HDI}}=({sol[1]},{sol[2]})$\")\n",
    "ax.set_xlabel(\"$x$\", fontsize=\"x-large\")\n",
    "ax.set_ylabel(\"$f(x)$\", fontsize=\"x-large\")\n",
    "plt.grid()\n",
    "latexplot(\n",
    "    plt, \"hdiesempio\",\n",
    "    \"Esempio di distrbuzione asimmetrica positiva e intervallo di credibilità $p>.9$.\"\n",
    ")"
   ]
  },
  {
   "cell_type": "code",
   "execution_count": 41,
   "metadata": {},
   "outputs": [
    {
     "data": {
      "text/latex": [
       "\n",
       "    \\begin{figure}\n",
       "    \\centering\n",
       "        \\includegraphics{matrixdeltaf.png}\n",
       "        \\caption{Esempio di matrice $\\Delta\\mathbf{F}$ per $x \\in [0,30]$. Le linee verdi indicano la mediana. A sinistra la matrice completa, a destra la matrice per $\\Delta\\mathbf{F}>.90$. Gli estratti di matrice corrispondenti alla regione di interesse sono le tabelle $\\ref{tab:deltaf}$ e $\\ref{tab:deltafp}$.}\n",
       "        \\label{fig:matrixdeltaf}\n",
       "    \\end{figure}"
      ],
      "text/plain": [
       "<IPython.core.display.Latex object>"
      ]
     },
     "metadata": {},
     "output_type": "display_data"
    }
   ],
   "source": [
    "matrix = y - y[:, None]\n",
    "\n",
    "fig, ax = plt.subplots(1, 2, figsize=(15,7))\n",
    "\n",
    "im0 = ax[0].matshow(matrix, cmap=\"RdBu\")\n",
    "ax[0].plot(mean+skew, mean+skew, marker=\"s\", c=\"g\", markersize=6)\n",
    "ax[0].axvline(mean+skew, ls=\"--\", c=\"g\")\n",
    "ax[0].axhline(mean+skew, ls=\"--\", c=\"g\")\n",
    "ax[0].set_xticks(x-.5)\n",
    "ax[0].set_xticklabels([f\"      {i}\" for i in range(num+1)], fontsize=\"x-small\")\n",
    "ax[0].set_yticks(x-.5)\n",
    "ax[0].set_yticklabels([f\"\\n\\n{i}\" for i in range(num+1)], fontsize=\"x-small\")\n",
    "ax[0].set_xlim(-0.5, num+.5)\n",
    "ax[0].set_ylim(num+.5, -0.5)\n",
    "ax[0].set_title(\"Esempio Matrice $\\Delta\\mathbf{F}$\")\n",
    "divider0 = make_axes_locatable(ax[0])\n",
    "cax0 = divider0.append_axes(\"right\", size=\"5%\", pad=0.05)\n",
    "plt.colorbar(im0, cax=cax0)\n",
    "ax[0].grid()\n",
    "\n",
    "im1 = ax[1].matshow(pd.DataFrame(matrix > p), cmap=\"Blues\")\n",
    "ax[1].plot(mean+skew, mean+skew, marker=\"s\", c=\"g\", markersize=6)\n",
    "ax[1].axvline(mean+skew, ls=\"--\", c=\"g\")\n",
    "ax[1].axhline(mean+skew, ls=\"--\", c=\"g\")\n",
    "ax[1].set_xticks(x-.5)\n",
    "ax[1].set_xticklabels([f\"      {i}\" for i in range(num+1)], fontsize=\"x-small\")\n",
    "ax[1].set_yticks(x-.5)\n",
    "ax[1].set_yticklabels([f\"\\n\\n{i}\" for i in range(num+1)], fontsize=\"x-small\")\n",
    "ax[1].plot(18, 5, marker=\"s\", c=\"yellow\", markersize=6)\n",
    "ax[1].set_xlim(-0.5, num+.5)\n",
    "ax[1].set_ylim(num+.5, -0.5)\n",
    "ax[1].set_title(\"Esempio Matrice $\\Delta\\mathbf{F}>.90$\")\n",
    "divider1 = make_axes_locatable(ax[1])\n",
    "cax1 = divider1.append_axes(\"right\", size=\"5%\", pad=0.05)\n",
    "plt.colorbar(im1, cax=cax1, extend=\"min\")\n",
    "ax[1].grid()\n",
    "latexplot(\n",
    "    plt, \"matrixdeltaf\",\n",
    "    \"Esempio di matrice $\\Delta\\mathbf{F}$ per $x \\in [0,30]$. Le linee verdi indicano la mediana. \" +\n",
    "    \"A sinistra la matrice completa, a destra la matrice per $\\Delta\\mathbf{F}>.90$. \" +\n",
    "    r\"Gli estratti di matrice corrispondenti alla regione di interesse sono le tabelle $\\ref{tab:deltaf}$ e $\\ref{tab:deltafp}$.\",\n",
    "    showme=False\n",
    ")"
   ]
  },
  {
   "cell_type": "code",
   "execution_count": 32,
   "metadata": {},
   "outputs": [
    {
     "data": {
      "text/latex": [
       "\n",
       "\\begin{table}\n",
       "  \\begin{center}\n",
       "    \\caption{Estratto di matrice $\\Delta\\mathbf{F}$}\n",
       "    \\label{tab:deltaf}\n",
       "    \\resizebox{\\textwidth}{!} {\n",
       "    \\begin{tabular}{c|c|c|c|c|c|c|c|c|c|c|c|c|c|c|c|}\n",
       "        & 16 & 17 & 18 & 19 & 20 & 21 & 22 & 23 & 24 & 25 & 26 & 27 & 28 & 29 & 30 \\\\\n",
       "        \\toprule\n",
       "        0 & 0.87 & 0.90 & 0.93 & 0.95 & 0.97 & 0.98 & 0.99 & 0.99 & 1.00 & 1.00 & 1.00 & 1.00 & 1.00 & 1.00 & 1.00 \\\\\n",
       "        \\midrule\n",
       "        1 & 0.87 & 0.90 & 0.93 & 0.95 & 0.97 & 0.98 & 0.99 & 0.99 & 1.00 & 1.00 & 1.00 & 1.00 & 1.00 & 1.00 & 1.00 \\\\\n",
       "        \\midrule\n",
       "        2 & 0.87 & 0.90 & 0.93 & 0.95 & 0.97 & 0.98 & 0.99 & 0.99 & 1.00 & 1.00 & 1.00 & 1.00 & 1.00 & 1.00 & 1.00 \\\\\n",
       "        \\midrule\n",
       "        3 & 0.86 & 0.90 & 0.93 & 0.95 & 0.97 & 0.98 & 0.99 & 0.99 & 0.99 & 1.00 & 1.00 & 1.00 & 1.00 & 1.00 & 1.00 \\\\\n",
       "        \\midrule\n",
       "        4 & 0.86 & 0.90 & 0.93 & 0.95 & 0.96 & 0.97 & 0.98 & 0.99 & 0.99 & 0.99 & 0.99 & 0.99 & 0.99 & 0.99 & 0.99 \\\\\n",
       "        \\midrule\n",
       "        5 & 0.85 & 0.88 & 0.91 & 0.93 & 0.95 & 0.96 & 0.97 & 0.97 & 0.98 & 0.98 & 0.98 & 0.98 & 0.98 & 0.98 & 0.98 \\\\\n",
       "        \\midrule\n",
       "        6 & 0.82 & 0.86 & 0.88 & 0.91 & 0.92 & 0.93 & 0.94 & 0.94 & 0.95 & 0.95 & 0.95 & 0.95 & 0.95 & 0.95 & 0.95 \\\\\n",
       "        \\midrule\n",
       "        7 & 0.76 & 0.80 & 0.83 & 0.85 & 0.87 & 0.88 & 0.89 & 0.89 & 0.89 & 0.89 & 0.90 & 0.90 & 0.90 & 0.90 & 0.90 \\\\\n",
       "        \\midrule\n",
       "        \\bottomrule\n",
       "    \\end{tabular} }\n",
       "  \\end{center}\n",
       "\\end{table}\n",
       "        "
      ],
      "text/plain": [
       "<IPython.core.display.Latex object>"
      ]
     },
     "metadata": {},
     "output_type": "display_data"
    }
   ],
   "source": [
    "display(\n",
    "    Latex(\n",
    "        fr\"\"\"\n",
    "\\begin{{table}}\n",
    "  \\begin{{center}}\n",
    "    \\caption{{Estratto di matrice $\\Delta\\mathbf{{F}}$}}\n",
    "    \\label{{tab:deltaf}}\n",
    "    \\resizebox{{\\textwidth}}{{!}} {{\n",
    "    \\begin{{tabular}}{{{\"c|\" * 16}}}\n",
    "        & {\" & \".join([f\"{i+16}\" for i in range(15)])} \\\\\n",
    "        \\toprule\n",
    "        0 & {\" & \".join([f\"{matrix[0,i+16]:.2f}\" for i in range(15)])} \\\\\n",
    "        \\midrule\n",
    "        1 & {\" & \".join([f\"{matrix[1,i+16]:.2f}\" for i in range(15)])} \\\\\n",
    "        \\midrule\n",
    "        2 & {\" & \".join([f\"{matrix[2,i+16]:.2f}\" for i in range(15)])} \\\\\n",
    "        \\midrule\n",
    "        3 & {\" & \".join([f\"{matrix[3,i+16]:.2f}\" for i in range(15)])} \\\\\n",
    "        \\midrule\n",
    "        4 & {\" & \".join([f\"{matrix[4,i+16]:.2f}\" for i in range(15)])} \\\\\n",
    "        \\midrule\n",
    "        5 & {\" & \".join([f\"{matrix[5,i+16]:.2f}\" for i in range(15)])} \\\\\n",
    "        \\midrule\n",
    "        6 & {\" & \".join([f\"{matrix[6,i+16]:.2f}\" for i in range(15)])} \\\\\n",
    "        \\midrule\n",
    "        7 & {\" & \".join([f\"{matrix[7,i+16]:.2f}\" for i in range(15)])} \\\\\n",
    "        \\midrule\n",
    "        \\bottomrule\n",
    "    \\end{{tabular}} }}\n",
    "  \\end{{center}}\n",
    "\\end{{table}}\n",
    "        \"\"\"\n",
    "    )\n",
    ")"
   ]
  },
  {
   "cell_type": "code",
   "execution_count": 33,
   "metadata": {},
   "outputs": [
    {
     "data": {
      "text/latex": [
       "\n",
       "\\begin{table}\n",
       "  \\begin{center}\n",
       "    \\caption{Estratto di matrice $\\Delta\\mathbf{F}>p$}\n",
       "    \\label{tab:deltafp}\n",
       "    \\resizebox{\\textwidth}{!} {\n",
       "    \\begin{tabular}{c|c|c|c|c|c|c|c|c|c|c|c|c|c|c|c|}\n",
       "        & 16 & 17 & 18 & 19 & 20 & 21 & 22 & 23 & 24 & 25 & 26 & 27 & 28 & 29 & 30 \\\\\n",
       "        \\toprule\n",
       "        0 & False & True & True & True & True & True & True & True & True & True & True & True & True & True & True \\\\\n",
       "        \\midrule\n",
       "        1 & False & True & True & True & True & True & True & True & True & True & True & True & True & True & True \\\\\n",
       "        \\midrule\n",
       "        2 & False & True & True & True & True & True & True & True & True & True & True & True & True & True & True \\\\\n",
       "        \\midrule\n",
       "        3 & False & True & True & True & True & True & True & True & True & True & True & True & True & True & True \\\\\n",
       "        \\midrule\n",
       "        4 & False & False & True & True & True & True & True & True & True & True & True & True & True & True & True \\\\\n",
       "        \\midrule\n",
       "        5 & False & False & True & True & True & True & True & True & True & True & True & True & True & True & True \\\\\n",
       "        \\midrule\n",
       "        6 & False & False & False & True & True & True & True & True & True & True & True & True & True & True & True \\\\\n",
       "        \\midrule\n",
       "        7 & False & False & False & False & False & False & False & False & False & False & False & False & False & False & False \\\\\n",
       "        \\midrule\n",
       "        \\bottomrule\n",
       "    \\end{tabular} }\n",
       "  \\end{center}\n",
       "\\end{table}\n",
       "        "
      ],
      "text/plain": [
       "<IPython.core.display.Latex object>"
      ]
     },
     "metadata": {},
     "output_type": "display_data"
    }
   ],
   "source": [
    "matrix_p = matrix > p\n",
    "display(\n",
    "    Latex(\n",
    "        fr\"\"\"\n",
    "\\begin{{table}}\n",
    "  \\begin{{center}}\n",
    "    \\caption{{Estratto di matrice $\\Delta\\mathbf{{F}}>p$}}\n",
    "    \\label{{tab:deltafp}}\n",
    "    \\resizebox{{\\textwidth}}{{!}} {{\n",
    "    \\begin{{tabular}}{{{\"c|\" * 16}}}\n",
    "        & {\" & \".join([f\"{i+16}\" for i in range(15)])} \\\\\n",
    "        \\toprule\n",
    "        0 & {\" & \".join([f\"{matrix_p[0,i+16]}\" for i in range(15)])} \\\\\n",
    "        \\midrule\n",
    "        1 & {\" & \".join([f\"{matrix_p[1,i+16]}\" for i in range(15)])} \\\\\n",
    "        \\midrule\n",
    "        2 & {\" & \".join([f\"{matrix_p[2,i+16]}\" for i in range(15)])} \\\\\n",
    "        \\midrule\n",
    "        3 & {\" & \".join([f\"{matrix_p[3,i+16]}\" for i in range(15)])} \\\\\n",
    "        \\midrule\n",
    "        4 & {\" & \".join([f\"{matrix_p[4,i+16]}\" for i in range(15)])} \\\\\n",
    "        \\midrule\n",
    "        5 & {\" & \".join([f\"{matrix_p[5,i+16]}\" for i in range(15)])} \\\\\n",
    "        \\midrule\n",
    "        6 & {\" & \".join([f\"{matrix_p[6,i+16]}\" for i in range(15)])} \\\\\n",
    "        \\midrule\n",
    "        7 & {\" & \".join([f\"{matrix_p[7,i+16]}\" for i in range(15)])} \\\\\n",
    "        \\midrule\n",
    "        \\bottomrule\n",
    "    \\end{{tabular}} }}\n",
    "  \\end{{center}}\n",
    "\\end{{table}}\n",
    "        \"\"\"\n",
    "    )\n",
    ")"
   ]
  },
  {
   "cell_type": "code",
   "execution_count": 34,
   "metadata": {},
   "outputs": [],
   "source": [
    "def highest_density_interval(pmf, p=.9, debug=False, ax=None):\n",
    "    # If we pass a DataFrame, just call this recursively on the columns\n",
    "    if(isinstance(pmf, pd.DataFrame)):\n",
    "        #fig, ax = plt.subplots()\n",
    "        #ax.set_xlim(0,400)\n",
    "        return pd.DataFrame([highest_density_interval(pmf[col], p=p, ax=ax) for col in pmf],\n",
    "                            index=pmf.columns)\n",
    "    \n",
    "    cumsum = np.cumsum(pmf.values)\n",
    "    \n",
    "    # N x N matrix of total probability mass for each low, high\n",
    "    total_p = cumsum - cumsum[:, None]\n",
    "    \n",
    "    # Return all indices with total_p > p\n",
    "    lows, highs = (total_p > p).nonzero()\n",
    "    \n",
    "    # Find the smallest range (highest density)\n",
    "    best = (highs - lows).argmin()\n",
    "    \n",
    "    low = pmf.index[lows[best]]\n",
    "    high = pmf.index[highs[best]]\n",
    "\n",
    "    if str(pmf.name) == \"2020-02-22 18:00:00\":\n",
    "        fig, ax = plt.subplots(2, 2, figsize=(15, 15))\n",
    "        # funzione densità\n",
    "        ax[0,0].plot(cumsum, c=\"b\", lw=5, label=\"probabilità cumulativa\")\n",
    "        ax1 = ax[0,0].twinx()\n",
    "        ax1.plot(pmf.values*25, c=\"r\", lw=3, label=\"densità di probabilità\")\n",
    "        ax1.set_ylim(0,.25)\n",
    "        ax[0,0].set_xlim(0, 1200)\n",
    "        ax[0,0].set_ylim(0, 1.1)\n",
    "        ax[0,0].axvline(pmf.idxmax()*100, ls=\":\", c=\"k\")\n",
    "        ax[0,0].set_xticklabels([0, 2, 4, 6, 8, 10, 12])\n",
    "        ax[0,0].legend(loc=\"upper right\")\n",
    "        ax1.legend(loc=\"lower right\")\n",
    "        ax[0,0].tick_params(axis=\"y\", labelcolor=\"b\")\n",
    "        ax1.tick_params(axis=\"y\", labelcolor=\"r\")\n",
    "        ax[0,0].grid(color=\"b\", alpha=.25)\n",
    "        ax1.grid(color=\"r\", alpha=.25)\n",
    "        ax[0,0].text(pmf.idxmax()*100-10, 1, f\"$\\mu={pmf.idxmax()}$\", ha=\"right\", va=\"bottom\", fontsize=\"large\")\n",
    "        ax[0,0].set_title(f\"Probabilità $R_t$ {pmf.name.date()}\")\n",
    "        # matrice\n",
    "        im = ax[0,1].matshow(total_p, cmap='RdBu')\n",
    "        #ax[0,1].xaxis.tick_bottom()\n",
    "        ax[0,1].axhline(pmf.idxmax()*100, ls=\":\", c=\"k\")\n",
    "        ax[0,1].axvline(pmf.idxmax()*100, ls=\":\", c=\"k\")\n",
    "        ax[0,1].scatter(pmf.idxmax()*100, pmf.idxmax()*100, c=\"w\")\n",
    "        ax[0,1].text(600, pmf.idxmax()*100+10, f\"$\\mu={pmf.idxmax()}$\", c=\"k\", fontsize=\"large\", va=\"top\")\n",
    "        ax[0,1].text(pmf.idxmax()*100+10, 600, f\"$\\mu={pmf.idxmax()}$\", c=\"k\", fontsize=\"large\", ha=\"left\")\n",
    "        #ax[0,1].plot([0,0], [1201,1201], c=\"y\")\n",
    "        ax[0,1].set_xticklabels([None, 0, 2, 4, 6, 8, 10, 12])\n",
    "        ax[0,1].set_yticklabels([None, 0, 2, 4, 6, 8, 10, 12])\n",
    "        ax[0,1].set_xlabel(\"Limite Superiore\", fontsize=\"large\")\n",
    "        ax[0,1].set_ylabel(\"Limite Inferiore\", fontsize=\"large\")\n",
    "        ax[0,1].set_title(f\"Matrice $\\Delta\\mathbf{{F_t}}$ {pmf.name.date()}\")\n",
    "        # p > .99\n",
    "        ax[1,0].matshow(total_p > p, cmap='RdBu')\n",
    "        #ax[1,0].xaxis.tick_bottom()\n",
    "        ax[1,0].set_xticklabels([None, 0, 2, 4, 6, 8, 10, 12])\n",
    "        ax[1,0].set_yticklabels([None, 0, 2, 4, 6, 8, 10, 12])\n",
    "        ax[1,0].axhline(pmf.idxmax()*100, ls=\":\", c=\"k\")\n",
    "        ax[1,0].axvline(pmf.idxmax()*100, ls=\":\", c=\"k\")\n",
    "        ax[1,0].scatter(pmf.idxmax()*100, pmf.idxmax()*100, c=\"w\")\n",
    "        ax[1,0].axhline(lows[-1], c=\"r\")\n",
    "        ax[1,0].axvline(highs[0], c=\"c\")\n",
    "        ax[1,0].text(highs[0]+(1200-highs[0])/2, lows[-1]-10, f\"{lows[-1]/100:.2f}\", c=\"r\", fontsize=\"large\", va=\"bottom\")\n",
    "        ax[1,0].text(highs[0]+10, lows[-1]/2, f\"{highs[0]/100:.2f}\", c=\"c\", fontsize=\"large\", ha=\"left\")\n",
    "        ax[1,0].set_xlabel(\"Limite Superiore\", fontsize=\"large\")\n",
    "        ax[1,0].set_ylabel(\"Limite Inferiore\", fontsize=\"large\")\n",
    "        ax[1,0].set_title(f\"$p>{p}$\")\n",
    "        # highest density\n",
    "        ax[1,1].matshow(total_p > p, cmap='RdBu')\n",
    "        #ax[1,1].xaxis.tick_bottom()\n",
    "        ax[1,1].set_xticklabels([None, 0, 2, 4, 6, 8, 10, 12])\n",
    "        ax[1,1].set_yticklabels([None, 0, 2, 4, 6, 8, 10, 12])\n",
    "        ax[1,1].axhline(pmf.idxmax()*100, ls=\":\", c=\"k\")\n",
    "        ax[1,1].axvline(pmf.idxmax()*100, ls=\":\", c=\"k\")\n",
    "        ax[1,1].scatter(pmf.idxmax()*100, pmf.idxmax()*100, c=\"w\")\n",
    "        ax[1,1].axhline(lows[best], c=\"r\")\n",
    "        ax[1,1].axvline(highs[best], c=\"c\")\n",
    "        ax[1,1].scatter(highs[best], lows[best], color=\"w\")\n",
    "        ax[1,1].text(highs[best]+(1200-highs[best])/2, lows[best]-10, f\"{lows[best]/100:.2f}\", c=\"r\", fontsize=\"large\", ha=\"center\", va=\"bottom\")\n",
    "        ax[1,1].text(highs[best]+10, lows[best]/2, f\"{highs[best]/100:.2f}\", c=\"c\", fontsize=\"large\", ha=\"left\", va=\"center\")\n",
    "        ax[1,1].set_xlabel(\"Limite Superiore\", fontsize=\"large\")\n",
    "        ax[1,1].set_ylabel(\"Limite Inferiore\", fontsize=\"large\")\n",
    "        ax[1,1].set_title(\"Intervallo a maggior densità\")\n",
    "        divider = make_axes_locatable(ax[0,1])\n",
    "        cax = divider.append_axes(\"right\", size=\"5%\", pad=0.05)\n",
    "        im.set_clim(-1, 1)\n",
    "        plt.colorbar(im, cax=cax, cmap='RdBu')\n",
    "        plt.show()\n",
    "        plt.close()\n",
    "    \n",
    "    return pd.Series([low, high],\n",
    "                     index=[f'Low_{p*100:.0f}',\n",
    "                            f'High_{p*100:.0f}'])"
   ]
  },
  {
   "cell_type": "code",
   "execution_count": 35,
   "metadata": {
    "scrolled": false
   },
   "outputs": [],
   "source": [
    "hdis = highest_density_interval(posteriors, p=.9)"
   ]
  },
  {
   "cell_type": "code",
   "execution_count": 36,
   "metadata": {},
   "outputs": [],
   "source": [
    "most_likely = posteriors.idxmax().rename('ML')\n",
    "\n",
    "# Look into why you shift -1\n",
    "result = pd.concat([most_likely, hdis], axis=1)"
   ]
  },
  {
   "cell_type": "markdown",
   "metadata": {},
   "source": [
    "# Grafico"
   ]
  },
  {
   "cell_type": "markdown",
   "metadata": {},
   "source": [
    "Ottenuti i valori dell'intervallo di credibilità di $R_t$ per ogni $t$ (tabella $\\ref{tab:rt}$ e figura $\\ref{fig:rtbars}$) dalla distribuzione di probabilità della matrice $\\mathbf{P(R_t|k_t^*)}$ si può quindi infine produrre un grafico dell'andamento temporale di $R_t$ (figura $\\ref{fig:rtitalia}$)."
   ]
  },
  {
   "cell_type": "code",
   "execution_count": 37,
   "metadata": {},
   "outputs": [
    {
     "data": {
      "text/latex": [
       "\n",
       "\\begin{table}\n",
       "  \\begin{center}\n",
       "    \\caption{Estratto di tabella dei valori $R_t$: $79 \\times 3$}\n",
       "    \\label{tab:rt}\n",
       "    \\begin{tabular}{c|c|c|c|}\n",
       "        & Lo 90 & max & Hi 90 \\\\\n",
       "        \\toprule\n",
       "        2020-02-24 & 0.00 & 0.00 & 10.81 \\\\\n",
       "        \\midrule\n",
       "        2020-02-25 & 0.95 & 1.98 & 2.89 \\\\\n",
       "        \\midrule\n",
       "        2020-02-26 & 1.32 & 2.03 & 2.69 \\\\\n",
       "        \\midrule\n",
       "        $\\vdots$ & $\\vdots$ & $\\vdots$ & $\\vdots$ \\\\\n",
       "        \\midrule\n",
       "        2020-05-10 & 0.35 & 0.67 & 0.95 \\\\\n",
       "        \\midrule\n",
       "        2020-05-11 & 0.40 & 0.73 & 1.01 \\\\\n",
       "        \\midrule\n",
       "        2020-05-12 & 0.51 & 0.83 & 1.12 \\\\\n",
       "        \\bottomrule\n",
       "    \\end{tabular}\n",
       "  \\end{center}\n",
       "\\end{table}\n",
       "        "
      ],
      "text/plain": [
       "<IPython.core.display.Latex object>"
      ]
     },
     "metadata": {},
     "output_type": "display_data"
    }
   ],
   "source": [
    "display(\n",
    "    Latex(\n",
    "        fr\"\"\"\n",
    "\\begin{{table}}\n",
    "  \\begin{{center}}\n",
    "    \\caption{{Estratto di tabella dei valori $R_t$: ${len(result)} \\times {len(result.iloc[0])}$}}\n",
    "    \\label{{tab:rt}}\n",
    "    \\begin{{tabular}}{{c|c|c|c|}}\n",
    "        & Lo 90 & max & Hi 90 \\\\\n",
    "        \\toprule\n",
    "        {result.index[0].strftime(\"%Y-%m-%d\")} & {result.iloc[0,1]:.2f} & {result.iloc[0,0]:.2f} & {result.iloc[0,2]:.2f} \\\\\n",
    "        \\midrule\n",
    "        {result.index[1].strftime(\"%Y-%m-%d\")} & {result.iloc[1,1]:.2f} & {result.iloc[1,0]:.2f} & {result.iloc[1,2]:.2f} \\\\\n",
    "        \\midrule\n",
    "        {result.index[2].strftime(\"%Y-%m-%d\")} & {result.iloc[2,1]:.2f} & {result.iloc[2,0]:.2f} & {result.iloc[2,2]:.2f} \\\\\n",
    "        \\midrule\n",
    "        $\\vdots$ & $\\vdots$ & $\\vdots$ & $\\vdots$ \\\\\n",
    "        \\midrule\n",
    "        {result.index[-3].strftime(\"%Y-%m-%d\")} & {result.iloc[-3,1]:.2f} & {result.iloc[-3,0]:.2f} & {result.iloc[-3,2]:.2f} \\\\\n",
    "        \\midrule\n",
    "        {result.index[-2].strftime(\"%Y-%m-%d\")} & {result.iloc[-2,1]:.2f} & {result.iloc[-2,0]:.2f} & {result.iloc[-2,2]:.2f} \\\\\n",
    "        \\midrule\n",
    "        {result.index[-1].strftime(\"%Y-%m-%d\")} & {result.iloc[-1,1]:.2f} & {result.iloc[-1,0]:.2f} & {result.iloc[-1,2]:.2f} \\\\\n",
    "        \\bottomrule\n",
    "    \\end{{tabular}}\n",
    "  \\end{{center}}\n",
    "\\end{{table}}\n",
    "        \"\"\"\n",
    "    )\n",
    ")"
   ]
  },
  {
   "cell_type": "code",
   "execution_count": 38,
   "metadata": {},
   "outputs": [
    {
     "data": {
      "text/latex": [
       "\n",
       "    \\begin{figure}\n",
       "    \\centering\n",
       "        \\includegraphics{rtbars.png}\n",
       "        \\caption{Valore $R_t$ in Italia per i primi 31 giorni con itervallo di confidenza al 90\\%. Il primo giorno 2020-02-24, non avendo informazioni sui precedenti, serve solo da precedente per il calcolo della probabilità a posteriori del giorno successivo.}\n",
       "        \\label{fig:rtbars}\n",
       "    \\end{figure}"
      ],
      "text/plain": [
       "<IPython.core.display.Latex object>"
      ]
     },
     "metadata": {},
     "output_type": "display_data"
    }
   ],
   "source": [
    "first = 1\n",
    "last = 31\n",
    "err = result[['Low_90', 'High_90']][first:last].sub(result['ML'][first:last], axis=0).abs()\n",
    "fig, ax = plt.subplots(figsize=defaultFigsize)\n",
    "ax.bar(\n",
    "    [d.date() for d in result.index[first:last]],\n",
    "    result[\"ML\"][first:last],\n",
    "    width=.75, alpha=.75, color=\"grey\",\n",
    "    capsize=2,\n",
    "    error_kw={'alpha':.5, 'lw':1},\n",
    "    yerr=err.values.T\n",
    ")\n",
    "ax.axhline(1.0, linestyle=':', color='k', lw=1)\n",
    "ax.xaxis.set_major_locator(mdates.MonthLocator())\n",
    "ax.xaxis.set_major_formatter(mdates.DateFormatter('%b'))\n",
    "ax.xaxis.set_minor_locator(mdates.DayLocator())\n",
    "ax.xaxis.set_minor_formatter(mdates.DateFormatter('%d'))\n",
    "ax.set_title(fr\"Valore $R_t$ in Italia per i primi {last} giorni.\")\n",
    "latexplot(plt, \"rtbars\", fr\"Valore $R_t$ in Italia per i primi {last} giorni con itervallo di confidenza al 90\\%. \" + \n",
    "          f\"Il primo giorno {result.index[0].date()}, non avendo informazioni sui precedenti, serve solo da precedente per il calcolo della probabilità a posteriori del giorno successivo.\"\n",
    "         )"
   ]
  },
  {
   "cell_type": "code",
   "execution_count": 39,
   "metadata": {},
   "outputs": [],
   "source": [
    "#result"
   ]
  },
  {
   "cell_type": "code",
   "execution_count": 40,
   "metadata": {},
   "outputs": [
    {
     "data": {
      "text/latex": [
       "\n",
       "    \\begin{figure}\n",
       "    \\centering\n",
       "        \\includegraphics{rtitalia.png}\n",
       "        \\caption{Valori di $R_t$ in Italia con intervallo di credibilità al 90\\%. L'area ombreggiata delimitata dalle linee verticali indica il periodo di lockdown nazionale completo.}\n",
       "        \\label{fig:rtitalia}\n",
       "    \\end{figure}"
      ],
      "text/plain": [
       "<IPython.core.display.Latex object>"
      ]
     },
     "metadata": {},
     "output_type": "display_data"
    }
   ],
   "source": [
    "def plot_rt(result, ax, state_name):\n",
    "    \n",
    "    ax.set_title(f\"{state_name}\")\n",
    "    \n",
    "    # Colors\n",
    "    ABOVE = [1,0,0]\n",
    "    MIDDLE = [1,1,1]\n",
    "    BELOW = [0,0,0]\n",
    "    cmap = ListedColormap(np.r_[\n",
    "        np.linspace(BELOW,MIDDLE,25),\n",
    "        np.linspace(MIDDLE,ABOVE,25)\n",
    "    ])\n",
    "    color_mapped = lambda y: np.clip(y, .5, 1.5)-.5\n",
    "    \n",
    "    index = result['ML'].index.get_level_values('data')\n",
    "    values = result['ML'].values\n",
    "    \n",
    "    # Plot dots and line\n",
    "    ax.plot(index, values, c='k', zorder=1, alpha=.25)\n",
    "    ax.scatter(index,\n",
    "               values,\n",
    "               s=40,\n",
    "               lw=.5,\n",
    "               c=cmap(color_mapped(values)),\n",
    "               edgecolors='k', zorder=2)\n",
    "    \n",
    "    # Aesthetically, extrapolate credible interval by 1 day either side\n",
    "    lowfn = interp1d(date2num(index),\n",
    "                     result['Low_90'].values,\n",
    "                     bounds_error=False,\n",
    "                     fill_value='extrapolate')\n",
    "    \n",
    "    highfn = interp1d(date2num(index),\n",
    "                      result['High_90'].values,\n",
    "                      bounds_error=False,\n",
    "                      fill_value='extrapolate')\n",
    "    \n",
    "    extended = pd.date_range(start=index[1],\n",
    "                             end=index[-1]+pd.Timedelta(days=1))\n",
    "    \n",
    "    ax.fill_between(extended,\n",
    "                    lowfn(date2num(extended)),\n",
    "                    highfn(date2num(extended)),\n",
    "                    color='k',\n",
    "                    alpha=.1,\n",
    "                    lw=0,\n",
    "                    zorder=3)\n",
    "\n",
    "    ax.axhline(1.0, c='k', lw=1, label='$R_t=1.0$', alpha=.25);\n",
    "    \n",
    "    # Formatting\n",
    "    ax.xaxis.set_major_locator(mdates.MonthLocator())\n",
    "    ax.xaxis.set_major_formatter(mdates.DateFormatter('%b'))\n",
    "    ax.xaxis.set_minor_locator(mdates.DayLocator())\n",
    "    \n",
    "    ax.yaxis.set_major_locator(ticker.MultipleLocator(1))\n",
    "    ax.yaxis.set_major_formatter(ticker.StrMethodFormatter(\"{x:.1f}\"))\n",
    "    ax.yaxis.tick_right()\n",
    "    ax.spines['left'].set_visible(False)\n",
    "    ax.spines['bottom'].set_visible(False)\n",
    "    ax.spines['right'].set_visible(False)\n",
    "    ax.margins(0)\n",
    "    ax.grid(which='major', axis='y', c='k', alpha=.1, zorder=-2)\n",
    "    ax.margins(0)\n",
    "    ax.set_ylim(0.0, 4.0)\n",
    "    ax.set_xlim(index[1], result.index.get_level_values('data')[-1]+pd.Timedelta(days=1))\n",
    "    ax.axvline(pd.Timestamp(\"2020-03-11\"), ls=\":\", c=\"k\")\n",
    "    ax.axvline(pd.Timestamp(\"2020-05-04\"), ls=\":\", c=\"k\")\n",
    "    ax.fill_between(\n",
    "        [pd.Timestamp(\"2020-03-11\"), pd.Timestamp(\"2020-05-04\")],\n",
    "        0, 4,\n",
    "        color=\"k\", alpha=.01\n",
    "    )\n",
    "    ax.text(\n",
    "        pd.Timestamp(\"2020-04-07\"), 3,\n",
    "        \"Lockdown nazionale\", ha=\"center\"\n",
    "    )\n",
    "    fig.set_facecolor('w')\n",
    "\n",
    "state_name = \"Italia\"\n",
    "fig, ax = plt.subplots(figsize=defaultFigsize)\n",
    "\n",
    "plot_rt(result, ax, state_name)\n",
    "ax.set_title(f'$R_t$ per {state_name}')\n",
    "ax.xaxis.set_major_locator(mdates.WeekdayLocator())\n",
    "ax.xaxis.set_major_formatter(mdates.DateFormatter('%b %d'))\n",
    "latexplot(plt, \"rtitalia\", r\"Valori di $R_t$ in Italia con intervallo di credibilità al 90\\%. \"+\n",
    "          \"L'area ombreggiata delimitata dalle linee verticali indica il periodo di lockdown nazionale completo.\",\n",
    "          showme=False\n",
    "         )"
   ]
  },
  {
   "cell_type": "markdown",
   "metadata": {},
   "source": [
    "# Conclusioni"
   ]
  },
  {
   "cell_type": "markdown",
   "metadata": {},
   "source": [
    "È dunque possibile stimare il valore del numero di riproduzione effettivo $R_t$ in base al numero noto di nuovi casi giornalieri $k_t$ e al tempo seriale $T_{serial}$ con metodo Bayesiano $P(R_t|k_t)$, utilizzando i risultati del giorno precedente come base per il calcolo della probabilità a posteriori, scegliendo l'intervallo di credibilità desiderato. È consigliabile smussare la curva dei nuovi casi (con media mobile) per diminuire la variabilità dovuta ad errori e correzioni nella collezione giornaliera dei dati."
   ]
  },
  {
   "cell_type": "markdown",
   "metadata": {},
   "source": [
    "# Codice Python"
   ]
  },
  {
   "cell_type": "markdown",
   "metadata": {},
   "source": [
    "Si fornisce di seguito un esempio di codice `Python` per l'esecuzione del metodo illustrato per il calcolo di $R_t$ in Italia, adattato dalla versione di Kevin Systrom <cite data-cite=\"k-sys\"></cite>."
   ]
  },
  {
   "cell_type": "markdown",
   "metadata": {},
   "source": [
    "```python\n",
    "import numpy as np\n",
    "import pandas as pd\n",
    "import scipy.stats as sps\n",
    "\n",
    "# DEF: Calcolo nuovi casi e media mobile\n",
    "def smooth(y, std=2):\n",
    "    dy = y.diff()\n",
    "    dy_smoothed = dy.rolling(7,\n",
    "            win_type=\"gaussian\",\n",
    "            min_periods=1,\n",
    "            center=True).mean(std=std).round()\n",
    "    return dy_smoothed, dy\n",
    "\n",
    "# DEF: Estrazione intervallo di credibilità\n",
    "def highest_density_interval(pmf, p=.9):\n",
    "    if(isinstance(pmf, pd.DataFrame)):\n",
    "        return pd.DataFrame(\n",
    "            [highest_density_interval(\n",
    "                pmf[col], p=p\n",
    "            ) for col in pmf],\n",
    "            index=pmf.columns)\n",
    "    \n",
    "    cumsum = np.cumsum(pmf.values)\n",
    "    total_p = cumsum - cumsum[:, None]\n",
    "    lows, highs = (total_p > p).nonzero()\n",
    "    best = (highs - lows).argmin()\n",
    "    low = pmf.index[lows[best]]\n",
    "    high = pmf.index[highs[best]]\n",
    "    \n",
    "    return pd.Series(\n",
    "        [low, high],\n",
    "        index=[\n",
    "            f\"Low_{p*100:.0f}\",\n",
    "            f\"High_{p*100:.0f}\"])\n",
    "\n",
    "########### CALCOLO ###########\n",
    "\n",
    "# Intervallo seriale e gamma\n",
    "T_serial = 7.5\n",
    "gamma = 1 / T_serial\n",
    "\n",
    "# Vettori R\n",
    "Rt_min = 0\n",
    "Rt_max = 12\n",
    "Rt_bra = np.linspace(Rt_min, Rt_max, Rt_max*100+1)\n",
    "Rt_ket = Rt_bra[:, None]\n",
    "\n",
    "# Caricamento dati\n",
    "url_base = \"https://raw.githubusercontent.com/\"\n",
    "url_repo = \"pcm-dpc/COVID-19/master/dati-andamento-nazionale/\"\n",
    "url_file = \"dpc-covid19-ita-andamento-nazionale.csv\" \n",
    "url_ita = url_base + url_repo + url_file\n",
    "ita = pd.read_csv(\n",
    "    url_ita,\n",
    "    usecols=[\"data\", \"totale_casi\"],\n",
    "    parse_dates=[\"data\"],\n",
    "    index_col=[\"data\"],\n",
    "    squeeze=True).sort_index()\n",
    "\n",
    "# Calcolo nuovi casi e media mobile\n",
    "k_bra, orig = smooth(ita, std=2.5)\n",
    "\n",
    "# Matrice lambda\n",
    "lam = k_bra[:-1].values * np.exp(gamma * (Rt_ket - 1))\n",
    "\n",
    "# Matrice verosimiglianze P(k*|R)\n",
    "likelihoods = pd.DataFrame(\n",
    "    data = sps.poisson.pmf(k_bra[1:].values, lam),\n",
    "    index = Rt_bra,\n",
    "    columns = k_bra.index[1:])\n",
    "\n",
    "# Matrice P(R)\n",
    "sigma = .25\n",
    "process_matrix = sps.norm(\n",
    "    loc=Rt_bra,\n",
    "    scale=sigma\n",
    ").pdf(Rt_ket)\n",
    "process_matrix /= process_matrix.sum(axis=0)\n",
    "\n",
    "# Primo precedente della matrice P(R|k)\n",
    "prior0 = np.ones_like(Rt_bra)/len(Rt_bra)\n",
    "prior0 /= prior0.sum()\n",
    "\n",
    "# Matrice vuota P(R|k)\n",
    "posteriors = pd.DataFrame(\n",
    "    index=Rt_bra,\n",
    "    columns=k_bra.index,\n",
    "    data={k_bra.index[0]: prior0}\n",
    ")\n",
    "\n",
    "# Calcolo P(R|k*) giorno per giorno\n",
    "for previous_day, current_day in zip(k_bra.index[:-1], k_bra.index[1:]):\n",
    "    # Calcolo del precedente P(R_t) = P(R) * P(R_(t-1))\n",
    "    current_prior = process_matrix @ posteriors[previous_day]\n",
    "    # Calcolo numeratore P(k*|R)P(R_t) [equazione (2)]\n",
    "    numerator = likelihoods[current_day] * current_prior\n",
    "    # Calcolo denominatore P(k*) [equazione (2) e (3)]\n",
    "    denominator = np.sum(numerator)\n",
    "    # Calcolo della probabilità a posteriori P(k*|R_t) [equazione (2)]\n",
    "    posteriors[current_day] = numerator/denominator\n",
    "\n",
    "# Estrazione valori per intervallo di credibilità\n",
    "hdis = highest_density_interval(posteriors, p=.9)\n",
    "\n",
    "# Estrazione massima probabilità\n",
    "most_likely = posteriors.idxmax().rename(\"ML\")\n",
    "\n",
    "# Tabella valori di R in t\n",
    "result = pd.concat([most_likely, hdis], axis=1)\n",
    "```"
   ]
  },
  {
   "cell_type": "code",
   "execution_count": null,
   "metadata": {},
   "outputs": [],
   "source": []
  }
 ],
 "metadata": {
  "kernelspec": {
   "display_name": "Python 3",
   "language": "python",
   "name": "python3"
  },
  "language_info": {
   "codemirror_mode": {
    "name": "ipython",
    "version": 3
   },
   "file_extension": ".py",
   "mimetype": "text/x-python",
   "name": "python",
   "nbconvert_exporter": "python",
   "pygments_lexer": "ipython3",
   "version": "3.7.7"
  }
 },
 "nbformat": 4,
 "nbformat_minor": 4
}
