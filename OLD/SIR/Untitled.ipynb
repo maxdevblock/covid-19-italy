{
 "cells": [
  {
   "cell_type": "markdown",
   "metadata": {},
   "source": [
    "$\\mathbf{T}$ is infectious period known to be $\\mathbf{T} \\simeq 7.5$ days.\n",
    "\n",
    "$$ \\gamma = \\frac{1}{\\mathbf{T}} $$\n",
    "\n",
    "$$ R_0 = \\frac{\\beta}{\\gamma} $$\n",
    "\n",
    "$$ R_t = R_0 \\frac{S(t)}{N(t)} $$"
   ]
  },
  {
   "cell_type": "markdown",
   "metadata": {},
   "source": [
    "$$ \\frac{dI}{dt} = \\beta \\frac{S(t)}{N(t)}I(t) - \\gamma I(t) $$\n",
    "\n",
    "$$ \\frac{dI}{dt} = I(t) \\left( \\beta \\frac{S(t)}{N(t)} - \\gamma \\right) $$\n",
    "\n",
    "$$ \\frac{dI}{dt} = I(t) \\left[ \\gamma \\left( \\frac{\\beta}{\\gamma} \\frac{S(t)}{N(t)} - 1 \\right) \\right] $$\n",
    "\n",
    "$$ \\frac{dI}{dt} = I(t) \\left[ \\gamma \\left( R_0 \\frac{S(t)}{N(t)} - 1 \\right) \\right] $$\n",
    "\n",
    "$$ I(t+\\tau) = I(t) \\cdot \\exp \\left[ \\gamma \\int \\limits_{t}^{t+\\tau} \\left( R_0 \\frac{S(t')}{N(t')} \\right) dt' \\right] $$"
   ]
  },
  {
   "cell_type": "markdown",
   "metadata": {},
   "source": [
    "$$ \\tau = t' - t \\; (?) $$"
   ]
  },
  {
   "cell_type": "code",
   "execution_count": null,
   "metadata": {},
   "outputs": [],
   "source": []
  }
 ],
 "metadata": {
  "kernelspec": {
   "display_name": "Python 3",
   "language": "python",
   "name": "python3"
  },
  "language_info": {
   "codemirror_mode": {
    "name": "ipython",
    "version": 3
   },
   "file_extension": ".py",
   "mimetype": "text/x-python",
   "name": "python",
   "nbconvert_exporter": "python",
   "pygments_lexer": "ipython3",
   "version": "3.7.7"
  }
 },
 "nbformat": 4,
 "nbformat_minor": 4
}
