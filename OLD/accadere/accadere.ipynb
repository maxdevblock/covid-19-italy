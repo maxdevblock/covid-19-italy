{
 "cells": [
  {
   "cell_type": "code",
   "execution_count": 2,
   "metadata": {},
   "outputs": [],
   "source": [
    "from IPython.display import display, Markdown\n",
    "import numpy as np\n",
    "\n",
    "notti_di_pioggia = 40\n",
    "giorni_meteo = 365"
   ]
  },
  {
   "cell_type": "markdown",
   "metadata": {},
   "source": [
    "Ci alziamo una mattina di sole e scopriamo che il tratto di strada visibile dalla nostra finestra è bagnato, ma il giorno passato non ha piovuto. Quante probabilità ci sono che abbia piovuto mentre dormivamo la scorsa notte?\n",
    "\n",
    "Per rispondere a questa domanda possiamo affidarci alla _statistica inferenziale bayesiana_ il cui scopo è determinare, con teoremi e formule più o meno complesse, di rispondere a domande simili a questa nei campi più disparati.\n",
    "\n",
    "La categoria di \"domanda\" che abbiamo posto è chiamata probabilità **a posteriori** o **condizionata**: ci chiediamo infatti quale sia la probabilità dell'evento \"pioggia la scorsa notte\" (che chiameremo parametro $\\theta$) condizionata dal, ovvero a posteriori del, fatto noto \"tratto di strada bagnato\" (che chiameremo variabile $X$). Scriveremo \n",
    "\n",
    "$$\n",
    "P(\\theta|X) = \\; ?\n",
    "$$\n",
    "\n",
    "e leggeremo \"probabilità di $\\theta$ dato $X$\". Il parametro $\\theta$ rappresenta la _verità_ che non conosciamo e che vogliamo scoprire (ha piovuto la scorsa notte?) e la variabile $X$ ciò che abbiamo osservato (la strada è bagnata).\n",
    "\n",
    "Le probabilità vanno da 0 a 1, ovvero da 0% a 100%. Sarà questo pertanto il tipo di risultato che otterremo.\n",
    "\n",
    "Analizzando il problema, ci renderemo facilmente conto del fatto che la risposta dipende da una serie di fattori. Vediamoli uno per uno:\n",
    "\n",
    "1. che probabilità c'è che una strada si bagni se piove?\n",
    "2. che probabilità c'è, in generale, che piova una sola notte?\n",
    "3. che probabilità c'è, in generale, che una strada si bagni?\n",
    "\n",
    "La domanda 1. è ancora una probabilità condizionata (o a posteriori) ma è l'opposto della domanda iniziale: ci chiediamo infatti che probabilità ha una strada di bagnarsi a condizione (o a posteriori del fatto) che piova. Senza entrare troppo nel dettaglio, possiamo facilmente stabilire che sia piuttosto elevata: per non bagnarsi dovrebbe essere \"coperta\", ma allora ci troveremmo di fronte ad esempio a un porticato e non più ad un tratto di strada, oppure dovrebbe essere un tratto molto ristretto ad esempio coperto da un'auto parcheggiata che poi si è spostata, ecc (vedremo più avanti che in realtà il tipo di \"domanda\" posta in questo caso non è esattamente uguale alla precedente)."
   ]
  },
  {
   "cell_type": "code",
   "execution_count": 8,
   "metadata": {},
   "outputs": [
    {
     "data": {
      "text/markdown": [
       "\n",
       "Assegnamo pertanto a questa probabilità un valore prossimo al 100%, \n",
       "per esempio 99\\%. \n",
       "La probabilità a posteriori della variabile $X$ (la strada è bagnata?)\n",
       "dato lo specifico valore del parametro $\\theta$ (ha piovuto) sarà\n",
       "\n",
       "$$\n",
       "P(X|\\theta) = 99.00\\%\n",
       "$$\n"
      ],
      "text/plain": [
       "<IPython.core.display.Markdown object>"
      ]
     },
     "metadata": {},
     "output_type": "display_data"
    }
   ],
   "source": [
    "x_given_theta = .99\n",
    "\n",
    "display(Markdown(fr\"\"\"\n",
    "Assegnamo pertanto a questa probabilità un valore prossimo al 100%, \n",
    "per esempio {x_given_theta*100:.0f}\\%. \n",
    "La probabilità a posteriori della variabile $X$ (la strada è bagnata?)\n",
    "dato lo specifico valore del parametro $\\theta$ (ha piovuto) sarà\n",
    "\n",
    "$$\n",
    "P(X|\\theta) = {x_given_theta*100:.2f}\\%\n",
    "$$\n",
    "\"\"\"))"
   ]
  },
  {
   "cell_type": "markdown",
   "metadata": {},
   "source": [
    "che leggeremo \"probabilità di $X$ dato $\\theta$\".\n",
    "\n",
    "La domanda 2. è invece una probabilità non condizionata ovvero **a priori**: ci si chiede qual'è la probabilità a priori di una sola notte di pioggia. Per rispondere a questa domanda potremmo controllare gli archivi del servizio meteorologico del posto in cui viviamo e segnarci tutte le singoli notti di pioggia, diciamo, in un anno: saranno molto frequenti se viviamo, ad esempio, in Irlanda o Scozia ma molto meno se viviamo in Italia, dato che le condizioni climatiche portano più spesso a giornate intere di pioggia (magari consecutive). Supponiamo di scoprire che ci siano state 40 singole notti di pioggia nello scorso anno; la probabilità a priori della variabile pioggia $\\theta$ sarà pertanto"
   ]
  },
  {
   "cell_type": "code",
   "execution_count": 7,
   "metadata": {},
   "outputs": [
    {
     "data": {
      "text/markdown": [
       "\n",
       "$$\n",
       "P(\\theta) = 40 / 365 = 10.96\\%\n",
       "$$\n"
      ],
      "text/plain": [
       "<IPython.core.display.Markdown object>"
      ]
     },
     "metadata": {},
     "output_type": "display_data"
    }
   ],
   "source": [
    "theta_prior = notti_di_pioggia / giorni_meteo\n",
    "\n",
    "display(Markdown(fr\"\"\"\n",
    "$$\n",
    "P(\\theta) = {notti_di_pioggia} / {giorni_meteo} = {theta_prior*100:.2f}\\%\n",
    "$$\n",
    "\"\"\"))"
   ]
  },
  {
   "cell_type": "markdown",
   "metadata": {},
   "source": [
    "La domanda 3. è, come la precedente, una probabilità a priori ma più difficile da determinare. Perché? Ci chiediamo quale sia la probabilità a priori che una strada sia bagnata, dovremmo quindi tener conto di tutte le possibilità tali per cui una strada si bagni, dalle più probabili (la pioggia stessa, un camion delle pulizie stradali passato da poco ecc) alle più improbabili (il ribaltamento di un carretto di consegne di bottiglie di acqua con rottura di sufficienti bottiglie, l'esondazione di un canale di irrigazione abbastanza vicino, l'atterraggio di un'astronave aliena che usi acqua come propellente... ecc). Sembra quasi impossibile da determinare, ma esiste un metodo che può venirci in aiuto: possiamo semplicemente sommare tra loro"
   ]
  },
  {
   "cell_type": "code",
   "execution_count": 9,
   "metadata": {},
   "outputs": [
    {
     "data": {
      "text/markdown": [
       "\n",
       "- la probabilità che una strada si bagni se piove, che abbiamo già stabilito infatti\n",
       "$P(X|\\theta) = 99.00\\%$, \n",
       "moltiplicato per la probabilità che piova una notte, che conosciamo già \n",
       "$P(\\theta) = 10.96$\\%\n",
       "- la probabilità che una strada si bagni se non piove  $P(X|\\overline{\\theta})$, \n",
       "che leggeremo \"probabilità di $X$ dato non $\\theta$\"\n",
       "moltiplicato per la probabilità che non piova solo una notte $P(\\overline{\\theta})$, che leggeremo\n",
       "\"probabilità di non $\\theta$\"\n"
      ],
      "text/plain": [
       "<IPython.core.display.Markdown object>"
      ]
     },
     "metadata": {},
     "output_type": "display_data"
    }
   ],
   "source": [
    "display(Markdown(fr\"\"\"\n",
    "- la probabilità che una strada si bagni se piove, che abbiamo già stabilito infatti\n",
    "$P(X|\\theta) = {x_given_theta*100:.2f}\\%$, \n",
    "moltiplicato per la probabilità che piova una notte, che conosciamo già \n",
    "$P(\\theta) = {theta_prior*100:.2f}$\\%\n",
    "- la probabilità che una strada si bagni se non piove  $P(X|\\overline{{\\theta}})$, \n",
    "che leggeremo \"probabilità di $X$ dato non $\\theta$\"\n",
    "moltiplicato per la probabilità che non piova solo una notte $P(\\overline{{\\theta}})$, che leggeremo\n",
    "\"probabilità di non $\\theta$\"\n",
    "\"\"\"))"
   ]
  },
  {
   "cell_type": "markdown",
   "metadata": {},
   "source": [
    "del primo termine conosciamo già tutto, ma come facciamo a determinare i valori del secondo termine? Grazie alle regole delle probabilità, la probabilità \"non piova una sola notte\" è complementare alla probabilità che \"piova una sola notte\", di cui abbiamo già stabilito il valore:"
   ]
  },
  {
   "cell_type": "code",
   "execution_count": 10,
   "metadata": {},
   "outputs": [
    {
     "data": {
      "text/markdown": [
       "\n",
       "$$\n",
       "P(\\overline{\\theta}) = 1 - P(\\theta) = 1 - 10.96 \\% = \n",
       "89.04\\%\n",
       "$$\n"
      ],
      "text/plain": [
       "<IPython.core.display.Markdown object>"
      ]
     },
     "metadata": {},
     "output_type": "display_data"
    }
   ],
   "source": [
    "display(Markdown(fr\"\"\"\n",
    "$$\n",
    "P(\\overline{{\\theta}}) = 1 - P(\\theta) = 1 - {(theta_prior)*100:.2f} \\% = \n",
    "{(1-theta_prior)*100:.2f}\\%\n",
    "$$\n",
    "\"\"\"))"
   ]
  },
  {
   "cell_type": "markdown",
   "metadata": {},
   "source": [
    "Ci serve dunque assegnare un valore a $P(X|\\overline{\\theta})$. Osserviamo che, per le regole delle probabilità\n",
    "\n",
    "$$\n",
    "P(X|\\overline{\\theta}) = 1 - P(\\overline{X}|\\overline{\\theta})\n",
    "$$\n",
    "\n",
    "ovvero: la probabilità che una strada _si bagni se non piove_ è complementare alla probabilità che _non si bagni se non piove_ che corrisponde alla probabilità che una strada sia asciutta se non piove."
   ]
  },
  {
   "cell_type": "code",
   "execution_count": 12,
   "metadata": {},
   "outputs": [
    {
     "data": {
      "text/markdown": [
       "\n",
       "In questo caso specifico possiamo solo assegnare un valore arbitrario a \n",
       "$P(\\overline{X}|\\overline{\\theta})$ risparmiandoci solamente il compito di \n",
       "immaginare le situazioni più improbabili (come l'astronave aliena) \n",
       "e considerando che \"è molto probabile\" che una strada sia asciutta in assenza di pioggia,\n",
       "ad esempio 97\\%:\n",
       "\n",
       "$$\n",
       "P(X|\\overline{\\theta}) = 1 - P(\\overline{X}|\\overline{\\theta}) = \n",
       "1 - 97.00\\% = 3.00\\%\n",
       "$$\n"
      ],
      "text/plain": [
       "<IPython.core.display.Markdown object>"
      ]
     },
     "metadata": {},
     "output_type": "display_data"
    }
   ],
   "source": [
    "non_x_given_non_theta = .97\n",
    "\n",
    "display(Markdown(fr\"\"\"\n",
    "In questo caso specifico possiamo solo assegnare un valore arbitrario a \n",
    "$P(\\overline{{X}}|\\overline{{\\theta}})$ risparmiandoci solamente il compito di \n",
    "immaginare le situazioni più improbabili (come l'astronave aliena) \n",
    "e considerando che \"è molto probabile\" che una strada sia asciutta in assenza di pioggia,\n",
    "ad esempio {non_x_given_non_theta*100:.0f}\\%:\n",
    "\n",
    "$$\n",
    "P(X|\\overline{{\\theta}}) = 1 - P(\\overline{{X}}|\\overline{{\\theta}}) = \n",
    "1 - {non_x_given_non_theta*100:.2f}\\% = {(1-non_x_given_non_theta)*100:.2f}\\%\n",
    "$$\n",
    "\"\"\"))"
   ]
  },
  {
   "cell_type": "markdown",
   "metadata": {},
   "source": [
    "in altre situazioni invece è un valore noto (come nel caso dei test diagnostici in campo medico che vedremo in seguito)."
   ]
  },
  {
   "cell_type": "code",
   "execution_count": 13,
   "metadata": {},
   "outputs": [
    {
     "data": {
      "text/markdown": [
       "\n",
       "Possiamo pertanto determinare che la probabilità a priori che una strada sia bagnata è pari al\n",
       "\n",
       "$$\n",
       "P(X) = P(X|\\theta)P(\\theta) + P(X|\\overline{\\theta})P(\\overline{\\theta}) = \n",
       "99.00\\% \\cdot 10.96\\% + \n",
       "3.00\\% \\cdot 89.04\\% =\n",
       "13.52\\%\n",
       "$$\n"
      ],
      "text/plain": [
       "<IPython.core.display.Markdown object>"
      ]
     },
     "metadata": {},
     "output_type": "display_data"
    }
   ],
   "source": [
    "x_prior = x_given_theta * theta_prior + (1-non_x_given_non_theta) * (1-theta_prior)\n",
    "\n",
    "display(Markdown(fr\"\"\"\n",
    "Possiamo pertanto determinare che la probabilità a priori che una strada sia bagnata è pari al\n",
    "\n",
    "$$\n",
    "P(X) = P(X|\\theta)P(\\theta) + P(X|\\overline{{\\theta}})P(\\overline{{\\theta}}) = \n",
    "{x_given_theta*100:.2f}\\% \\cdot {theta_prior*100:.2f}\\% + \n",
    "{(1-non_x_given_non_theta)*100:.2f}\\% \\cdot {(1-theta_prior)*100:.2f}\\% =\n",
    "{x_prior*100:.2f}\\%\n",
    "$$\n",
    "\"\"\"))"
   ]
  },
  {
   "cell_type": "markdown",
   "metadata": {},
   "source": [
    "Questa operazione appena effettuata \n",
    "\n",
    "$$\n",
    "P(X) = \\sum_{i} \\Big( P(X|\\theta_i)P(\\theta_i) \\Big)\n",
    "$$\n",
    "\n",
    "è detta _marginalizzazione della variabile $X$_ e, per questo motivo, la \"domanda\" 3. è chiamata _probabilità marginale_."
   ]
  },
  {
   "cell_type": "markdown",
   "metadata": {},
   "source": [
    "Arrivati a questo punto chiediamoci: quale relazione hanno le tre probabilità determinate con la probabilità che vogliamo ottenere $P(\\theta|X)$?.\n",
    "\n",
    "Possiamo dire che\n",
    "\n",
    "- la probabilità che una strada sia bagnata se ha piovuto $P(X|\\theta)$ e la probabilità che piova una notte sola $P(\\theta)$ sono direttamente proporzionali alla probabilità che abbia piovuto la scorsa notte data la strada bagnata: entrambe queste probabilità contribuiscono in modo positivo alla risposta che cerchiamo\n",
    "- la probabilità che una strada sia bagnata in generale $P(X)$ è inversamente proporzionale alla probabilità che abbia piovuto la scorsa notte se la strada è bagnata: ci potrebbero essere una serie di altri motivi per cui la strada sia bagnata e noi vogliamo solo quelli direttamente collegati alla pioggia\n",
    "\n",
    "riassumendo\n",
    "\n",
    "$$\n",
    "P(\\theta|X) = \\frac{P(X|\\theta)P(\\theta)}{P(X)}\n",
    "$$\n",
    "\n",
    "l'equazione appena scritta è il _Teorema di Bayes_.\n",
    "\n",
    "Assegnamo ai termini del teorema i valori ricavati in precedenza e calcoliamo"
   ]
  },
  {
   "cell_type": "code",
   "execution_count": 14,
   "metadata": {},
   "outputs": [
    {
     "data": {
      "text/markdown": [
       "\n",
       "$$\n",
       "P(\\theta|X) = \\frac{P(X|\\theta)P(\\theta)}{P(X)} = \n",
       "\\frac{ 99.00\\% \\cdot 10.96\\% }{ 13.52\\% } = \n",
       "80.24\\%\n",
       "$$\n",
       "\n",
       "Siamo giunti pertanto a determinare, grazie alle regole delle probabilità e al\n",
       "Teorema di Bayes, che la probabilità che la scorsa notte abbia piovuto\n",
       "dato il fatto che vediamo un tratto di strada bagnata è pari al 80.24\\%.\n"
      ],
      "text/plain": [
       "<IPython.core.display.Markdown object>"
      ]
     },
     "metadata": {},
     "output_type": "display_data"
    }
   ],
   "source": [
    "theta_given_x = x_given_theta*theta_prior/x_prior\n",
    "\n",
    "display(Markdown(fr\"\"\"\n",
    "$$\n",
    "P(\\theta|X) = \\frac{{P(X|\\theta)P(\\theta)}}{{P(X)}} = \n",
    "\\frac{{ {x_given_theta*100:.2f}\\% \\cdot {theta_prior*100:.2f}\\% }}{{ {x_prior*100:.2f}\\% }} = \n",
    "{theta_given_x*100:.2f}\\%\n",
    "$$\n",
    "\n",
    "Siamo giunti pertanto a determinare, grazie alle regole delle probabilità e al\n",
    "Teorema di Bayes, che la probabilità che la scorsa notte abbia piovuto\n",
    "dato il fatto che vediamo un tratto di strada bagnata è pari al {theta_given_x*100:.2f}\\%.\n",
    "\"\"\"))"
   ]
  },
  {
   "cell_type": "markdown",
   "metadata": {},
   "source": [
    "***\n",
    "\n",
    "Nel caso specifico appena trattato, la risposta sembra piuttosto ovvia e vano l'intero sforzo per arrivare al risultato, ma in altre situazioni il calcolo bayesiano della probabilità a posteriori può dare responsi anche molto lontani da quelli che ci suggerirebbe il semplice intuito."
   ]
  },
  {
   "cell_type": "code",
   "execution_count": 16,
   "metadata": {},
   "outputs": [
    {
     "data": {
      "text/markdown": [
       "\n",
       "Supponiamo ad esempio che un paziente venga sottoposto ad un test di screening \n",
       "per una malattia $M$ piuttosto rara, ad esempio con una prevalenza $\\mathbf{PV}$ nella popolazione \n",
       "di appartenenza dello 0.002\\%, ovvero 2 casi su 100,000.\n",
       "\n",
       "Il test cui verrà sottoposto è di tipo qualitativo e fornirà un responso dicotomico: \n",
       "positivo $\\oplus$ oppure negativo $\\ominus$.\n",
       "Sappiamo, dalla letteratura medica che abbiamo consultato, che il test ha sensibilità $\\mathbf{SE}$\n",
       "85% e specificità $\\mathbf{SP}$ 99% (per approfondimenti, si veda [Link]()).\n",
       "\n",
       "Dal punto di vista della statistica bayesiana sensibilità e specificità sono due probabilità a posteriori, rispettivamente:\n",
       "\n",
       "$$\n",
       "\\mathbf{SE} = P(\\oplus|M) = 85.00\\%\n",
       "$$\n",
       "\n",
       "$$\n",
       "\\mathbf{SP} = P(\\ominus|\\overline{M}) = 99.00\\%\n",
       "$$\n"
      ],
      "text/plain": [
       "<IPython.core.display.Markdown object>"
      ]
     },
     "metadata": {},
     "output_type": "display_data"
    }
   ],
   "source": [
    "PR = .00002\n",
    "SE = .85\n",
    "SP = .99\n",
    "PR10 = 10**np.ceil(abs(np.log10(PR)))\n",
    "\n",
    "display(Markdown(fr\"\"\"\n",
    "Supponiamo ad esempio che un paziente venga sottoposto ad un test di screening \n",
    "per una malattia $M$ piuttosto rara, ad esempio con una prevalenza $\\mathbf{{PV}}$ nella popolazione \n",
    "di appartenenza dello {PR*100:.3f}\\%, ovvero {PR*PR10:.0f} casi su {PR10:,.0f}.\n",
    "\n",
    "Il test cui verrà sottoposto è di tipo qualitativo e fornirà un responso dicotomico: \n",
    "positivo $\\oplus$ oppure negativo $\\ominus$.\n",
    "Sappiamo, dalla letteratura medica che abbiamo consultato, che il test ha sensibilità $\\mathbf{{SE}}$\n",
    "{SE:.0%} e specificità $\\mathbf{{SP}}$ {SP:.0%} (per approfondimenti, si veda [Link]()).\n",
    "\n",
    "Dal punto di vista della statistica bayesiana sensibilità e specificità sono due probabilità a posteriori, rispettivamente:\n",
    "\n",
    "$$\n",
    "\\mathbf{{SE}} = P(\\oplus|M) = {SE*100:.2f}\\%\n",
    "$$\n",
    "\n",
    "$$\n",
    "\\mathbf{{SP}} = P(\\ominus|\\overline{{M}}) = {SP*100:.2f}\\%\n",
    "$$\n",
    "\"\"\"))"
   ]
  },
  {
   "cell_type": "markdown",
   "metadata": {},
   "source": [
    "ovvero la probabilità a posteriori di ottenere un test positivo se si è malati e la probabilità a posteriori di ottenere un test negativo se non si è affetti dalla relativa patologia.\n",
    "\n",
    "La prevalenza $\\mathbf{PV}$ della malattia in questione invece è, in questo caso, una probabilità a priori: dato che non abbiamo alcuna informazione sul paziente se non quella di appartenere alla popolazione scelta per lo screening, è la probabilità a priori che il paziente sia affetto dalla malattia $P(M)$.\n",
    "\n",
    "Quello che vogliamo ottenere sottoponendo il paziente al test è la probabilità a posteriori dato il risultato $\\odot$ del test\n",
    "\n",
    "$$\n",
    "P(M|\\odot)\n",
    "$$\n",
    "\n",
    "dove la probabilità di malattia $M$ è il parametro $\\theta$ (verità non nota) mentre il risultato $\\odot$ del test è la variabile $X$.\n",
    "\n",
    "Applicando quindi il Teorema di Bayes otteniamo che\n",
    "\n",
    "$$\n",
    "P(M|\\odot) = \\frac{P(\\odot|M)P(M)}{P(\\odot)}\n",
    "$$\n",
    "\n",
    "Supponiamo che il test sia risultato positivo $\\oplus$, la nostra formula diventerà pertanto\n",
    "\n",
    "$$\n",
    "P(M|\\oplus) = \\frac{P(\\oplus|M)P(M)}{P(\\oplus)}\n",
    "$$\n",
    "\n",
    "Osserviamo che \n",
    "\n",
    "- $P(\\oplus|M)$ altro non è che la sensibilità $\\mathbf{SE}$ del test\n",
    "- $P(M)$ è, come detto in precedenza, la prevalenza della malattia\n",
    "\n",
    "Come determiniamo $P(\\oplus)$ ovvero la probabilità a priori (probabilità _marginale_) di ottenere un test positivo?\n",
    "\n",
    "Possiamo procedere _marginalizzando_ la variabile $\\oplus$ come fatto in precedenza per la probabilità a priori di osservare una strada bagnata"
   ]
  },
  {
   "cell_type": "code",
   "execution_count": 17,
   "metadata": {},
   "outputs": [
    {
     "data": {
      "text/markdown": [
       "\n",
       "$$\n",
       "P(\\oplus) = P(\\oplus|M)P(M) + P(\\oplus|\\overline{M})P(\\overline{M})\n",
       "$$\n",
       "\n",
       "come prima, conosciamo il primo termine della somma (sensibilità e prevalenza) e\n",
       "sappiamo che \n",
       "\n",
       "$$\n",
       "P(\\overline{M}) = 1 - P(M) = 1 - 0.002\\% = 99.998\\%\n",
       "$$ \n",
       "\n",
       "ma, a differenza dell'esempio precedente, possiamo determinare con precisione il secondo termine coi dati a\n",
       "disposizione infatti\n",
       "\n",
       "$$\n",
       "P(\\oplus|\\overline{M}) = 1 - P(\\ominus|\\overline{M}) = 1 - \\mathbf{SP} =\n",
       "1 - 99.00\\% = 1.00\\%\n",
       "$$\n",
       "\n",
       "Possiamo quindi ottenere\n",
       "\n",
       "$$\n",
       "P(\\oplus) = P(\\oplus|M)P(M) + P(\\oplus|\\overline{M})P(\\overline{M}) = \n",
       "\\mathbf{SE} \\cdot \\mathbf{PV} + (1 - \\mathbf{SP}) (1 - \\mathbf{PV}) = \n",
       "85.00\\% \\cdot 0.002\\% + 1.00\\% \\cdot 99.998\\% = \n",
       "1.002\\%\n",
       "$$\n"
      ],
      "text/plain": [
       "<IPython.core.display.Markdown object>"
      ]
     },
     "metadata": {},
     "output_type": "display_data"
    }
   ],
   "source": [
    "PP = SE*PR + (1-SP)*(1-PR)\n",
    "\n",
    "display(Markdown(fr\"\"\"\n",
    "$$\n",
    "P(\\oplus) = P(\\oplus|M)P(M) + P(\\oplus|\\overline{{M}})P(\\overline{{M}})\n",
    "$$\n",
    "\n",
    "come prima, conosciamo il primo termine della somma (sensibilità e prevalenza) e\n",
    "sappiamo che \n",
    "\n",
    "$$\n",
    "P(\\overline{{M}}) = 1 - P(M) = 1 - {PR*100:.3f}\\% = {(1-PR)*100:.3f}\\%\n",
    "$$ \n",
    "\n",
    "ma, a differenza dell'esempio precedente, possiamo determinare con precisione il secondo termine coi dati a\n",
    "disposizione infatti\n",
    "\n",
    "$$\n",
    "P(\\oplus|\\overline{{M}}) = 1 - P(\\ominus|\\overline{{M}}) = 1 - \\mathbf{{SP}} =\n",
    "1 - {SP*100:.2f}\\% = {(1-SP)*100:.2f}\\%\n",
    "$$\n",
    "\n",
    "Possiamo quindi ottenere\n",
    "\n",
    "$$\n",
    "P(\\oplus) = P(\\oplus|M)P(M) + P(\\oplus|\\overline{{M}})P(\\overline{{M}}) = \n",
    "\\mathbf{{SE}} \\cdot \\mathbf{{PV}} + (1 - \\mathbf{{SP}}) (1 - \\mathbf{{PV}}) = \n",
    "{SE*100:.2f}\\% \\cdot {PR*100:.3f}\\% + {(1-SP)*100:.2f}\\% \\cdot {(1-PR)*100:.3f}\\% = \n",
    "{PP*100:.3f}\\%\n",
    "$$\n",
    "\"\"\"))"
   ]
  },
  {
   "cell_type": "markdown",
   "metadata": {},
   "source": [
    "Abbiamo perciò tutti i termini necessari a determinare la probabilità di malattia a posteriori dato il risultato positivo del test. Visto il valore molto elevato di sensibilità e specificità ci aspetteremmo di ottenere un risultato altrettanto notevole ma applicando il teorema di Bayes otteniamo"
   ]
  },
  {
   "cell_type": "code",
   "execution_count": 18,
   "metadata": {},
   "outputs": [
    {
     "data": {
      "text/markdown": [
       "\n",
       "$$\n",
       "P(M|\\oplus) = \\frac{P(\\oplus|M)P(M)}{P(\\oplus)} = \n",
       "\\frac{ 85.00\\% \\cdot 0.002\\% }{ 1.002\\% } =\n",
       "0.17\\%\n",
       "$$\n",
       "\n",
       "ovvero, in seguito a risultato positivo del test, il nostro paziente avrà\n",
       "una probabilità a posteriori di essere malato pari soltanto al \n",
       "0.17\\%...!\n",
       "\n",
       "Perché è così bassa nonostante sensibilità e specificità fossero piuttosto elevate? Il risultato\n",
       "dipende dal fatto che \n",
       "siamo partiti con un'esigua probabilità di malattia a priori $\\mathbf{PV}=0.002\\%$.\n"
      ],
      "text/plain": [
       "<IPython.core.display.Markdown object>"
      ]
     },
     "metadata": {},
     "output_type": "display_data"
    }
   ],
   "source": [
    "PO = SE*PR/PP\n",
    "\n",
    "display(Markdown(fr\"\"\"\n",
    "$$\n",
    "P(M|\\oplus) = \\frac{{P(\\oplus|M)P(M)}}{{P(\\oplus)}} = \n",
    "\\frac{{ {SE*100:.2f}\\% \\cdot {PR*100:.3f}\\% }}{{ {PP*100:.3f}\\% }} =\n",
    "{PO*100:.2f}\\%\n",
    "$$\n",
    "\n",
    "ovvero, in seguito a risultato positivo del test, il nostro paziente avrà\n",
    "una probabilità a posteriori di essere malato pari soltanto al \n",
    "{PO*100:.2f}\\%...!\n",
    "\n",
    "Perché è così bassa nonostante sensibilità e specificità fossero piuttosto elevate? Il risultato\n",
    "dipende dal fatto che \n",
    "siamo partiti con un'esigua probabilità di malattia a priori $\\mathbf{{PV}}={PR*100:.3f}\\%$.\n",
    "\"\"\"))"
   ]
  },
  {
   "cell_type": "markdown",
   "metadata": {},
   "source": [
    "Questo esempio spiega più chiaramente in cosa consista l'analisi bayesiana:\n",
    "\n",
    "> L'analisi bayesiana consiste nella rivalutazione del nostro iniziale livello di fiducia circa l'avverarsi di un evento $\\theta$ in base all'osservazione di un dato $X$ ovvero nella *ridistribuzione* della probabilità *a priori* di un parametro $\\theta$ condizionato dalla variabile $X$"
   ]
  },
  {
   "cell_type": "markdown",
   "metadata": {},
   "source": [
    "Ripensando all'esempio precedente della strada, cosa abbiamo fatto in realtà? Abbiamo _ridistribuito_ la probabilità a priori circa le nostre convinzioni di una notte isolata di pioggia in base all'osservazione del tratto di strada bagnata. Se non avessimo osservato $X=$\"strada bagnata\" o se avessimo osservato qualcosa di differente (ad esempio, solo strisce bagnate sulla strada o dei lavori in corso sulla tubazioni, ecc) la probabilità a priori di pioggia la notte scorsa sarebbe stata modificata di conseguenza."
   ]
  },
  {
   "cell_type": "markdown",
   "metadata": {},
   "source": [
    "***\n",
    "\n",
    "Ma come può il ragionamento seguito finora portare ad una stima di previsione riguardo la probabilità un determinato evento $\\theta$ nel futuro?\n",
    "\n",
    "Supponiamo che il parametro $\\theta$ di cui vogliamo calcolare la probabilità sia $R_t$ ovvero il tasso di riproduzione effettivo $R$ nel tempo $t$ di COVID-19 in Italia e i valori della variabile $X$ osservata siano i nuovi casi giornalieri $k$ di COVID-19 osservati in Italia dal primo all'ultimo giorno dei dati registrati. \n",
    "\n",
    "I calcoli saranno più complessi visto che non ci stiamo più occupando di eventi dicotomici, come malattia o salute, strada bagnata o asciutta, notte di pioggia o non, risultato positivo o negativo, bensì una scala continua dei possibili valori di $R_t$ da un minimo di 0 ad un massimo da definire e una scala discreta di valori dei nuovi casi $k$ osservati da un minimo di 0 ad un massimo virtualmente illimitato, ma ciò di cui trattiamo sono comunque probabilità. Infatti, ciò che vogliamo ottenere è sempre $P(R_t|k)$ ovvero, a partire da un livello di fiducia a priori circa le probabilità di ottenere ogni possibile valore di $R_t$, ridistribuire per ogni giorno in archivio le probabilità dei valori di $R_t$ in base all'osservazione dei $k$ nuovi casi registrati. Usando la notazione ormai nota e il Teorema di Bayes:\n",
    "\n",
    "$$\n",
    "P(R_t|k) = \\frac{P(k|R_t)P(R_t)}{P(k)}\n",
    "$$\n",
    "\n",
    "dove \n",
    "\n",
    "- $P(k|R_t)$ sono le probabilità a posteriori di osservare i nuovi casi $k$ per ciascuno dei possibili valori di $R_t$\n",
    "- $P(R_t)$ sono le probabilità a priori per ogni valore possibile del numero di riproduzione effettivo\n",
    "- $P(k)$ è la probabilità a priori (_marginale_) di osservare il numero di nuovi casi giornalieri misurato per ogni giorno in archivio\n",
    "\n",
    "È più chiara ora la differenza tra la \"domanda iniziale\" $P(R_t|k)$ e il termine $P(k|R_t)$ del teorema di Bayes: nel primo caso infatti ci chiediamo per ciascun valore possibile di $R_t$ quale la sia la probabilità di ottenerlo data l'osservazione nota di $k$ nuovi casi; nel secondo invece ci si chiede quanto sia probabile osservare i $k$ nuovi casi effettivamente misurati per ognuno dei possibili valori di $R_t$.\n",
    "\n",
    "La probabilità a posteriori di $R_t$ calcolata per ciascun giorno diventa la probabilità a priori per il giorno successivo, che verrà nuovamente ridistribuita in base ai nuovi casi giornalieri osservati, ecc... fino all'ultimo giorno (presumibilmente oggi).\n",
    "\n",
    "Come si diceva, l'inferenza bayesiana consiste nella rivalutazione del livello di fiducia inziale (a priori) su un parametro $\\theta$ data l'osservazione di un valore della variabile $X$, osserviamo perciò che il teorema di Bayes può essere riscritto così\n",
    "\n",
    "$$\n",
    "P(\\theta|X) = P(\\theta) \\cdot \\frac{P(X|\\theta)}{P(X)}\n",
    "$$\n",
    "\n",
    "dove $P(\\theta)$ è il grado di fiducia iniziale (probabilità a priori) dell'avverarsi di $\\theta$ e il secondo termine rappresenta il coefficiente che determina \"l'entità della rivalutazione\"\n",
    "\n",
    "$$\n",
    "\\frac{P(X|\\theta)}{P(X)} = \\mathscr{L}(\\theta|X)\n",
    "$$\n",
    "\n",
    "che leggeremo **verosimiglianza** $\\mathscr{L}$ (dall'inglese _Likelihood_) del parametro $\\theta$ data l'osservazione di $X$.\n",
    "\n",
    "Quindi possiamo dire che\n",
    "\n",
    "$$\n",
    "P(\\theta|X) = P(\\theta) \\cdot \\mathscr{L}(\\theta|X)\n",
    "$$\n",
    "\n",
    "> La probabilità a posteriori di $\\theta$ data l'osservazione di $X$ è direttamente proporzionale alla probabilità a priori di $\\theta$ e alla verosimiglianza di $\\theta$ dato $X$\n",
    "\n",
    "Tornando all'esempio del numero di riproduzione effettivo possiamo pertanto dire che\n",
    "\n",
    "$$\n",
    "P(R_t|k) = P(R_t) \\cdot \\frac{P(k|R_t)}{P(k)}\n",
    "$$\n",
    "\n",
    "e che\n",
    "\n",
    "$$\n",
    "P(R_t|k) = P(R_t) \\cdot \\mathscr{L}(R_t|k)\n",
    "$$"
   ]
  },
  {
   "cell_type": "markdown",
   "metadata": {},
   "source": [
    "Supponiamo ora di essere giunti a determinare la probabilità a posteriori di $R_t$ dell'ultimo giorno $t=\\omega$ in archivio (oggi) ovvero $R_\\omega$. Non abbiamo più $k$ nuovi casi da osservare, come determiamo la probabilità dei valori di $R_t$ per il giorno successivo $t=\\omega+1$ (domani) ovvero $R_{\\omega+1}$?"
   ]
  },
  {
   "cell_type": "markdown",
   "metadata": {},
   "source": [
    "***\n",
    "\n",
    "**WIP**\n",
    "\n",
    "***"
   ]
  },
  {
   "cell_type": "markdown",
   "metadata": {},
   "source": [
    "Possiamo assumere come \"nuova probabilità a priori\" non più i casi osservati ma l'ultima probabilità di $R_t$ a posteriori calcolata $R_\\omega$ e chiederci\n",
    "\n",
    "$$\n",
    "P(R_{\\omega+1}|R_\\omega) = \\; ?\n",
    "$$\n",
    "\n",
    "per ogni possibile valore di $R_t$ qual'è sarà la probabilità di osservarlo domani in base alla calcolata probabilità odierna di $R_\\omega$?\n",
    "\n",
    "Applicando il teorema di Bayes otterremmo\n",
    "\n",
    "$$\n",
    "P(R_{\\omega+1}|R_\\omega) = P(R_{\\omega+1}) \\cdot \\frac{ P(R_{\\omega}|R_{\\omega+1}) }{ P(R_{\\omega}) }\n",
    "$$\n",
    "\n",
    "dove (attenzione!) $R_{\\omega+1}$ è la probabilità a priori che verrà rivalutata ed è dunque, come in precedenza, pari a $P(R_t)$ mentre $P(R_\\omega)$ è la probabilità odierna che conosciamo già determinata per i valori di $R_t$.\n",
    "\n",
    "$$\n",
    "P(R_{\\omega+1}|R_\\omega) = P(R_{t}) \\cdot \\frac{ P(R_{\\omega}|R_{t}) }{ P(R_{\\omega}) }\n",
    "$$\n",
    "\n",
    "come calcoliamo invece $P(R_{\\omega}|R_{t})$?"
   ]
  }
 ],
 "metadata": {
  "kernelspec": {
   "display_name": "Python 3",
   "language": "python",
   "name": "python3"
  },
  "language_info": {
   "codemirror_mode": {
    "name": "ipython",
    "version": 3
   },
   "file_extension": ".py",
   "mimetype": "text/x-python",
   "name": "python",
   "nbconvert_exporter": "python",
   "pygments_lexer": "ipython3",
   "version": "3.7.7"
  }
 },
 "nbformat": 4,
 "nbformat_minor": 4
}
