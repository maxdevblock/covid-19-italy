{
 "cells": [
  {
   "cell_type": "code",
   "execution_count": 1,
   "metadata": {},
   "outputs": [],
   "source": [
    "import json\n",
    "import requests\n",
    "import urllib.request\n",
    "import io\n",
    "\n",
    "from IPython.display import display, Math, Latex, Markdown, clear_output, HTML\n",
    "\n",
    "import matplotlib.pyplot as plt\n",
    "from matplotlib.dates import date2num, num2date\n",
    "from matplotlib import dates as mdates\n",
    "from matplotlib import ticker\n",
    "from matplotlib.colors import ListedColormap\n",
    "from matplotlib.patches import Patch\n",
    "\n",
    "from tqdm.notebook import tqdm\n",
    "\n",
    "from scipy.optimize import curve_fit\n",
    "from scipy import stats\n",
    "import numpy as np\n",
    "import pandas as pd"
   ]
  },
  {
   "cell_type": "code",
   "execution_count": 2,
   "metadata": {},
   "outputs": [],
   "source": [
    "_R = pd.read_pickle(\"double-gompertz-data.pkl\")"
   ]
  },
  {
   "cell_type": "code",
   "execution_count": 3,
   "metadata": {},
   "outputs": [
    {
     "name": "stdout",
     "output_type": "stream",
     "text": [
      "----> CHECKING Afghanistan\n",
      "----> CHECKING Albania\n",
      "----> CHECKING Algeria\n",
      "----> CHECKING Andorra\n",
      "----> CHECKING Angola\n",
      "----> CHECKING Antigua and Barbuda\n",
      "----> CHECKING Argentina\n",
      "----> CHECKING Armenia\n",
      "----> CHECKING Australia\n",
      "----> CHECKING Austria\n",
      "----> CHECKING Azerbaijan\n",
      "----> CHECKING Bahamas\n",
      "----> CHECKING Bahrain\n",
      "----> CHECKING Bangladesh\n",
      "! ERROR Bangladesh with dobgomp\n",
      "----> CHECKING Barbados\n",
      "----> CHECKING Belarus\n",
      "----> CHECKING Belgium\n",
      "----> CHECKING Belize\n",
      "----> CHECKING Benin\n",
      "----> CHECKING Bhutan\n",
      "! ERROR Bhutan with dobgomp\n",
      "----> CHECKING Bolivia\n",
      "----> CHECKING Bosnia and Herzegovina\n",
      "----> CHECKING Botswana\n",
      "----> CHECKING Brazil\n",
      "! ERROR Brazil with doblogit\n",
      "----> CHECKING Brunei\n",
      "----> CHECKING Bulgaria\n",
      "----> CHECKING Burkina Faso\n",
      "----> CHECKING Burma\n",
      "! ERROR Burma with dobgomp\n",
      "----> CHECKING Burundi\n",
      "----> CHECKING Cabo Verde\n",
      "! ERROR Cabo Verde with doblogit\n",
      "----> CHECKING Cambodia\n",
      "----> CHECKING Cameroon\n",
      "----> CHECKING Canada\n",
      "----> CHECKING Central African Republic\n",
      "----> CHECKING Chad\n",
      "----> CHECKING Chile\n",
      "----> CHECKING China\n",
      "----> CHECKING Colombia\n",
      "----> CHECKING Congo (Brazzaville)\n",
      "----> CHECKING Congo (Kinshasa)\n",
      "----> CHECKING Costa Rica\n",
      "----> CHECKING Cote d'Ivoire\n",
      "----> CHECKING Croatia\n",
      "----> CHECKING Cuba\n",
      "----> CHECKING Cyprus\n",
      "----> CHECKING Czechia\n",
      "----> CHECKING Denmark\n",
      "! ERROR Denmark with dobgomp\n",
      "----> CHECKING Diamond Princess\n",
      "----> CHECKING Djibouti\n",
      "----> CHECKING Dominica\n",
      "----> CHECKING Dominican Republic\n",
      "----> CHECKING Ecuador\n",
      "----> CHECKING Egypt\n",
      "----> CHECKING El Salvador\n",
      "----> CHECKING Equatorial Guinea\n",
      "! ERROR Equatorial Guinea with dobgomp\n",
      "----> CHECKING Eritrea\n",
      "----> CHECKING Estonia\n",
      "! ERROR Estonia with doblogit\n",
      "----> CHECKING Eswatini\n",
      "! ERROR Eswatini with gomp\n",
      "----> CHECKING Ethiopia\n",
      "----> CHECKING Fiji\n",
      "----> CHECKING Finland\n",
      "----> CHECKING France\n",
      "----> CHECKING Gabon\n",
      "----> CHECKING Gambia\n",
      "----> CHECKING Georgia\n",
      "----> CHECKING Germany\n",
      "----> CHECKING Ghana\n",
      "----> CHECKING Greece\n",
      "----> CHECKING Grenada\n",
      "----> CHECKING Guatemala\n",
      "----> CHECKING Guinea\n",
      "----> CHECKING Guinea-Bissau\n",
      "----> CHECKING Guyana\n",
      "----> CHECKING Haiti\n",
      "----> CHECKING Holy See\n",
      "----> CHECKING Honduras\n",
      "----> CHECKING Hungary\n",
      "----> CHECKING Iceland\n",
      "----> CHECKING India\n",
      "----> CHECKING Indonesia\n",
      "----> CHECKING Iran\n",
      "----> CHECKING Iraq\n",
      "! ERROR Iraq with dobgomp\n",
      "----> CHECKING Ireland\n",
      "----> CHECKING Israel\n",
      "----> CHECKING Italy\n",
      "----> CHECKING Jamaica\n",
      "! ERROR Jamaica with gomp\n",
      "----> CHECKING Japan\n",
      "----> CHECKING Jordan\n",
      "----> CHECKING Kazakhstan\n",
      "----> CHECKING Kenya\n",
      "----> CHECKING Korea, South\n",
      "----> CHECKING Kosovo\n",
      "----> CHECKING Kuwait\n",
      "----> CHECKING Kyrgyzstan\n",
      "----> CHECKING Laos\n",
      "----> CHECKING Latvia\n",
      "----> CHECKING Lebanon\n",
      "----> CHECKING Liberia\n",
      "----> CHECKING Libya\n",
      "----> CHECKING Liechtenstein\n",
      "----> CHECKING Lithuania\n",
      "----> CHECKING Luxembourg\n",
      "----> CHECKING MS Zaandam\n",
      "----> CHECKING Madagascar\n",
      "----> CHECKING Malawi\n",
      "----> CHECKING Malaysia\n",
      "----> CHECKING Maldives\n",
      "----> CHECKING Mali\n",
      "----> CHECKING Malta\n",
      "! ERROR Malta with doblogit\n",
      "----> CHECKING Mauritania\n",
      "----> CHECKING Mauritius\n",
      "----> CHECKING Mexico\n",
      "----> CHECKING Moldova\n",
      "----> CHECKING Monaco\n",
      "----> CHECKING Mongolia\n",
      "----> CHECKING Montenegro\n",
      "----> CHECKING Morocco\n",
      "----> CHECKING Mozambique\n",
      "----> CHECKING Namibia\n",
      "----> CHECKING Nepal\n",
      "! ERROR Nepal with gomp\n",
      "----> CHECKING Netherlands\n",
      "----> CHECKING New Zealand\n",
      "----> CHECKING Nicaragua\n",
      "----> CHECKING Niger\n",
      "----> CHECKING Nigeria\n",
      "! ERROR Nigeria with gomp\n",
      "----> CHECKING North Macedonia\n",
      "----> CHECKING Norway\n",
      "----> CHECKING Oman\n",
      "----> CHECKING Pakistan\n",
      "----> CHECKING Panama\n",
      "----> CHECKING Papua New Guinea\n",
      "----> CHECKING Paraguay\n",
      "----> CHECKING Peru\n",
      "! ERROR Peru with dobgomp\n",
      "----> CHECKING Philippines\n",
      "----> CHECKING Poland\n",
      "----> CHECKING Portugal\n",
      "----> CHECKING Qatar\n",
      "----> CHECKING Romania\n",
      "----> CHECKING Russia\n",
      "----> CHECKING Rwanda\n",
      "----> CHECKING Saint Kitts and Nevis\n",
      "----> CHECKING Saint Lucia\n",
      "----> CHECKING Saint Vincent and the Grenadines\n",
      "----> CHECKING San Marino\n",
      "----> CHECKING Sao Tome and Principe\n",
      "----> CHECKING Saudi Arabia\n",
      "! ERROR Saudi Arabia with gomp\n",
      "----> CHECKING Senegal\n",
      "----> CHECKING Serbia\n",
      "----> CHECKING Seychelles\n",
      "----> CHECKING Sierra Leone\n",
      "----> CHECKING Singapore\n",
      "! ERROR Singapore with gomp\n",
      "----> CHECKING Slovakia\n",
      "----> CHECKING Slovenia\n",
      "----> CHECKING Somalia\n",
      "----> CHECKING South Africa\n",
      "----> CHECKING South Sudan\n",
      "----> CHECKING Spain\n",
      "----> CHECKING Sri Lanka\n",
      "----> CHECKING Sudan\n",
      "----> CHECKING Suriname\n",
      "----> CHECKING Sweden\n",
      "----> CHECKING Switzerland\n",
      "----> CHECKING Syria\n",
      "----> CHECKING Taiwan*\n",
      "----> CHECKING Tanzania\n",
      "----> CHECKING Thailand\n",
      "----> CHECKING Timor-Leste\n",
      "----> CHECKING Togo\n",
      "----> CHECKING Trinidad and Tobago\n",
      "----> CHECKING Tunisia\n",
      "----> CHECKING Turkey\n",
      "----> CHECKING US\n",
      "----> CHECKING Uganda\n",
      "----> CHECKING Ukraine\n",
      "----> CHECKING United Arab Emirates\n",
      "----> CHECKING United Kingdom\n",
      "----> CHECKING Uruguay\n",
      "----> CHECKING Uzbekistan\n",
      "----> CHECKING Venezuela\n",
      "----> CHECKING Vietnam\n",
      "----> CHECKING West Bank and Gaza\n",
      "----> CHECKING Western Sahara\n",
      "----> CHECKING Yemen\n",
      "----> CHECKING Zambia\n",
      "----> CHECKING Zimbabwe\n"
     ]
    }
   ],
   "source": [
    "errors = []\n",
    "for country in _R:\n",
    "    print(f\"----> CHECKING {country}\")\n",
    "    for function in _R[country].index:\n",
    "        if _R[country][function] is None:\n",
    "            print(f\"! ERROR {country} with {function}\")\n",
    "            if country not in errors:\n",
    "                errors.append(country)"
   ]
  },
  {
   "cell_type": "code",
   "execution_count": 4,
   "metadata": {},
   "outputs": [
    {
     "name": "stdout",
     "output_type": "stream",
     "text": [
      "COUNTRIES WITH ERRORS: 17\n",
      "COUNTRIES TO BE USED: 168\n"
     ]
    }
   ],
   "source": [
    "print(f\"COUNTRIES WITH ERRORS: {len(errors)}\")\n",
    "print(f\"COUNTRIES TO BE USED: {len(_R.columns) - len(errors)}\")"
   ]
  },
  {
   "cell_type": "code",
   "execution_count": 93,
   "metadata": {
    "scrolled": true
   },
   "outputs": [],
   "source": [
    "def get_stats(min_cases=100):\n",
    "\n",
    "    total_results = {\n",
    "        \"Function\": [],\n",
    "        \"Nations\": [],\n",
    "        \"Days\": [],\n",
    "        \"Samples\": [],\n",
    "        \"Slope\": [],\n",
    "        \"Intercept\": [],\n",
    "        \"Rho\": [],\n",
    "        \"p-value\": [],\n",
    "        \"Std Err\": [],\n",
    "    }\n",
    "    total_data = {}\n",
    "\n",
    "    for function in tqdm(_R.index, leave=False):\n",
    "        if function == \"measured\":\n",
    "            continue\n",
    "        RSD = {\"country\": [], \"slope\": [], \"intercept\": [], \"r_value\": [], \"p_value\": [], \"std_err\": []}\n",
    "        for country in tqdm(_R.columns, leave=False):\n",
    "            if country in errors:\n",
    "                continue\n",
    "            if _R[country][\"measured\"][\"valore\"].tail(1).values[0] < min_cases:\n",
    "                continue\n",
    "            slope, intercept, r_value, p_value, std_err = stats.linregress(\n",
    "                _R[country][\"measured\"][\"valore\"],\n",
    "                _R[country][function][\"valore\"]\n",
    "            )\n",
    "            if slope == 1.0 or intercept == 0.0 or r_value == 1.0 or p_value == 0.0 or std_err == 0.0:\n",
    "                if country not in errors:\n",
    "                    errors.append(country)\n",
    "                    print(f\"--------> ERROR {country}\")\n",
    "                    continue\n",
    "            RSD[\"country\"].append(country)\n",
    "            RSD[\"slope\"].append(slope)\n",
    "            RSD[\"intercept\"].append(intercept)\n",
    "            RSD[\"r_value\"].append(r_value)\n",
    "            RSD[\"p_value\"].append(p_value)\n",
    "            RSD[\"std_err\"].append(std_err)\n",
    "\n",
    "        RSDdf = pd.DataFrame(data=RSD)\n",
    "        mean_slope = np.mean(RSDdf['slope'])\n",
    "        mean_intercept = np.mean(RSDdf['intercept'])\n",
    "        mean_r_value = np.mean(RSDdf['r_value'])\n",
    "        mean_p_value = np.mean(RSDdf['p_value'])\n",
    "        mean_std_err = np.mean(RSDdf['std_err'])\n",
    "\n",
    "        total_results[\"Function\"].append(function)\n",
    "        total_results[\"Nations\"].append(RSDdf[\"country\"].size)\n",
    "        total_results[\"Days\"].append(_R[country][\"measured\"][\"valore\"].size)\n",
    "        total_results[\"Samples\"].append(RSDdf[\"country\"].size * _R[country][\"measured\"][\"valore\"].size)\n",
    "        total_results[\"Slope\"].append(mean_slope)\n",
    "        total_results[\"Intercept\"].append(mean_intercept)\n",
    "        total_results[\"Rho\"].append(mean_r_value)\n",
    "        total_results[\"p-value\"].append(mean_p_value)\n",
    "        total_results[\"Std Err\"].append(mean_std_err)\n",
    "\n",
    "        total_data.update({function: [RSDdf]})\n",
    "\n",
    "    TOTdf = pd.DataFrame(data=total_results)\n",
    "    DATdf = pd.DataFrame(total_data)\n",
    "\n",
    "    return TOTdf, DATdf"
   ]
  },
  {
   "cell_type": "code",
   "execution_count": 94,
   "metadata": {},
   "outputs": [
    {
     "data": {
      "text/markdown": [
       "## Casi minimi 0"
      ],
      "text/plain": [
       "<IPython.core.display.Markdown object>"
      ]
     },
     "metadata": {},
     "output_type": "display_data"
    },
    {
     "data": {
      "application/vnd.jupyter.widget-view+json": {
       "model_id": "",
       "version_major": 2,
       "version_minor": 0
      },
      "text/plain": [
       "HBox(children=(FloatProgress(value=0.0, max=5.0), HTML(value='')))"
      ]
     },
     "metadata": {},
     "output_type": "display_data"
    },
    {
     "data": {
      "application/vnd.jupyter.widget-view+json": {
       "model_id": "",
       "version_major": 2,
       "version_minor": 0
      },
      "text/plain": [
       "HBox(children=(FloatProgress(value=0.0, max=185.0), HTML(value='')))"
      ]
     },
     "metadata": {},
     "output_type": "display_data"
    },
    {
     "name": "stdout",
     "output_type": "stream",
     "text": [
      "--------> ERROR Sao Tome and Principe\n",
      "--------> ERROR Yemen\n"
     ]
    },
    {
     "data": {
      "application/vnd.jupyter.widget-view+json": {
       "model_id": "",
       "version_major": 2,
       "version_minor": 0
      },
      "text/plain": [
       "HBox(children=(FloatProgress(value=0.0, max=185.0), HTML(value='')))"
      ]
     },
     "metadata": {},
     "output_type": "display_data"
    },
    {
     "data": {
      "application/vnd.jupyter.widget-view+json": {
       "model_id": "",
       "version_major": 2,
       "version_minor": 0
      },
      "text/plain": [
       "HBox(children=(FloatProgress(value=0.0, max=185.0), HTML(value='')))"
      ]
     },
     "metadata": {},
     "output_type": "display_data"
    },
    {
     "name": "stdout",
     "output_type": "stream",
     "text": [
      "--------> ERROR MS Zaandam\n",
      "--------> ERROR South Sudan\n",
      "--------> ERROR Western Sahara\n"
     ]
    },
    {
     "data": {
      "application/vnd.jupyter.widget-view+json": {
       "model_id": "",
       "version_major": 2,
       "version_minor": 0
      },
      "text/plain": [
       "HBox(children=(FloatProgress(value=0.0, max=185.0), HTML(value='')))"
      ]
     },
     "metadata": {},
     "output_type": "display_data"
    },
    {
     "data": {
      "text/html": [
       "<div>\n",
       "<style scoped>\n",
       "    .dataframe tbody tr th:only-of-type {\n",
       "        vertical-align: middle;\n",
       "    }\n",
       "\n",
       "    .dataframe tbody tr th {\n",
       "        vertical-align: top;\n",
       "    }\n",
       "\n",
       "    .dataframe thead th {\n",
       "        text-align: right;\n",
       "    }\n",
       "</style>\n",
       "<table border=\"1\" class=\"dataframe\">\n",
       "  <thead>\n",
       "    <tr style=\"text-align: right;\">\n",
       "      <th style=\"min-width: 100px;\">Function</th>\n",
       "      <th style=\"min-width: 100px;\">Nations</th>\n",
       "      <th style=\"min-width: 100px;\">Days</th>\n",
       "      <th style=\"min-width: 100px;\">Samples</th>\n",
       "      <th style=\"min-width: 100px;\">Slope</th>\n",
       "      <th style=\"min-width: 100px;\">Intercept</th>\n",
       "      <th style=\"min-width: 100px;\">Rho</th>\n",
       "      <th style=\"min-width: 100px;\">p-value</th>\n",
       "      <th style=\"min-width: 100px;\">Std Err</th>\n",
       "    </tr>\n",
       "  </thead>\n",
       "  <tbody>\n",
       "    <tr>\n",
       "      <td>logit</td>\n",
       "      <td>166</td>\n",
       "      <td>93</td>\n",
       "      <td>15438</td>\n",
       "      <td>0.989002</td>\n",
       "      <td>25.132105</td>\n",
       "      <td>0.995207</td>\n",
       "      <td>4.108973e-46</td>\n",
       "      <td>0.008257</td>\n",
       "    </tr>\n",
       "    <tr>\n",
       "      <td>gomp</td>\n",
       "      <td>166</td>\n",
       "      <td>93</td>\n",
       "      <td>15438</td>\n",
       "      <td>0.992591</td>\n",
       "      <td>5.091736</td>\n",
       "      <td>0.995799</td>\n",
       "      <td>4.810899e-47</td>\n",
       "      <td>0.007503</td>\n",
       "    </tr>\n",
       "    <tr>\n",
       "      <td>doblogit</td>\n",
       "      <td>163</td>\n",
       "      <td>93</td>\n",
       "      <td>15159</td>\n",
       "      <td>0.996693</td>\n",
       "      <td>2.737228</td>\n",
       "      <td>0.998207</td>\n",
       "      <td>5.268991e-67</td>\n",
       "      <td>0.004997</td>\n",
       "    </tr>\n",
       "    <tr>\n",
       "      <td>dobgomp</td>\n",
       "      <td>163</td>\n",
       "      <td>93</td>\n",
       "      <td>15159</td>\n",
       "      <td>0.994428</td>\n",
       "      <td>4.727219</td>\n",
       "      <td>0.996844</td>\n",
       "      <td>1.762817e-45</td>\n",
       "      <td>0.006281</td>\n",
       "    </tr>\n",
       "  </tbody>\n",
       "</table>\n",
       "</div>"
      ],
      "text/plain": [
       "<IPython.core.display.HTML object>"
      ]
     },
     "metadata": {},
     "output_type": "display_data"
    },
    {
     "data": {
      "text/markdown": [
       "## Casi minimi 100"
      ],
      "text/plain": [
       "<IPython.core.display.Markdown object>"
      ]
     },
     "metadata": {},
     "output_type": "display_data"
    },
    {
     "data": {
      "application/vnd.jupyter.widget-view+json": {
       "model_id": "",
       "version_major": 2,
       "version_minor": 0
      },
      "text/plain": [
       "HBox(children=(FloatProgress(value=0.0, max=5.0), HTML(value='')))"
      ]
     },
     "metadata": {},
     "output_type": "display_data"
    },
    {
     "data": {
      "application/vnd.jupyter.widget-view+json": {
       "model_id": "",
       "version_major": 2,
       "version_minor": 0
      },
      "text/plain": [
       "HBox(children=(FloatProgress(value=0.0, max=185.0), HTML(value='')))"
      ]
     },
     "metadata": {},
     "output_type": "display_data"
    },
    {
     "data": {
      "application/vnd.jupyter.widget-view+json": {
       "model_id": "",
       "version_major": 2,
       "version_minor": 0
      },
      "text/plain": [
       "HBox(children=(FloatProgress(value=0.0, max=185.0), HTML(value='')))"
      ]
     },
     "metadata": {},
     "output_type": "display_data"
    },
    {
     "data": {
      "application/vnd.jupyter.widget-view+json": {
       "model_id": "",
       "version_major": 2,
       "version_minor": 0
      },
      "text/plain": [
       "HBox(children=(FloatProgress(value=0.0, max=185.0), HTML(value='')))"
      ]
     },
     "metadata": {},
     "output_type": "display_data"
    },
    {
     "data": {
      "application/vnd.jupyter.widget-view+json": {
       "model_id": "",
       "version_major": 2,
       "version_minor": 0
      },
      "text/plain": [
       "HBox(children=(FloatProgress(value=0.0, max=185.0), HTML(value='')))"
      ]
     },
     "metadata": {},
     "output_type": "display_data"
    },
    {
     "data": {
      "text/html": [
       "<div>\n",
       "<style scoped>\n",
       "    .dataframe tbody tr th:only-of-type {\n",
       "        vertical-align: middle;\n",
       "    }\n",
       "\n",
       "    .dataframe tbody tr th {\n",
       "        vertical-align: top;\n",
       "    }\n",
       "\n",
       "    .dataframe thead th {\n",
       "        text-align: right;\n",
       "    }\n",
       "</style>\n",
       "<table border=\"1\" class=\"dataframe\">\n",
       "  <thead>\n",
       "    <tr style=\"text-align: right;\">\n",
       "      <th style=\"min-width: 100px;\">Function</th>\n",
       "      <th style=\"min-width: 100px;\">Nations</th>\n",
       "      <th style=\"min-width: 100px;\">Days</th>\n",
       "      <th style=\"min-width: 100px;\">Samples</th>\n",
       "      <th style=\"min-width: 100px;\">Slope</th>\n",
       "      <th style=\"min-width: 100px;\">Intercept</th>\n",
       "      <th style=\"min-width: 100px;\">Rho</th>\n",
       "      <th style=\"min-width: 100px;\">p-value</th>\n",
       "      <th style=\"min-width: 100px;\">Std Err</th>\n",
       "    </tr>\n",
       "  </thead>\n",
       "  <tbody>\n",
       "    <tr>\n",
       "      <td>logit</td>\n",
       "      <td>121</td>\n",
       "      <td>93</td>\n",
       "      <td>11253</td>\n",
       "      <td>0.991689</td>\n",
       "      <td>34.439719</td>\n",
       "      <td>0.997030</td>\n",
       "      <td>2.382145e-47</td>\n",
       "      <td>0.006449</td>\n",
       "    </tr>\n",
       "    <tr>\n",
       "      <td>gomp</td>\n",
       "      <td>121</td>\n",
       "      <td>93</td>\n",
       "      <td>11253</td>\n",
       "      <td>0.995816</td>\n",
       "      <td>6.969305</td>\n",
       "      <td>0.997878</td>\n",
       "      <td>1.762017e-47</td>\n",
       "      <td>0.005392</td>\n",
       "    </tr>\n",
       "    <tr>\n",
       "      <td>doblogit</td>\n",
       "      <td>121</td>\n",
       "      <td>93</td>\n",
       "      <td>11253</td>\n",
       "      <td>0.998182</td>\n",
       "      <td>3.676204</td>\n",
       "      <td>0.999114</td>\n",
       "      <td>1.234068e-81</td>\n",
       "      <td>0.003642</td>\n",
       "    </tr>\n",
       "    <tr>\n",
       "      <td>dobgomp</td>\n",
       "      <td>121</td>\n",
       "      <td>93</td>\n",
       "      <td>11253</td>\n",
       "      <td>0.996201</td>\n",
       "      <td>6.361699</td>\n",
       "      <td>0.998072</td>\n",
       "      <td>2.328315e-45</td>\n",
       "      <td>0.004801</td>\n",
       "    </tr>\n",
       "  </tbody>\n",
       "</table>\n",
       "</div>"
      ],
      "text/plain": [
       "<IPython.core.display.HTML object>"
      ]
     },
     "metadata": {},
     "output_type": "display_data"
    },
    {
     "data": {
      "text/markdown": [
       "## Casi minimi 500"
      ],
      "text/plain": [
       "<IPython.core.display.Markdown object>"
      ]
     },
     "metadata": {},
     "output_type": "display_data"
    },
    {
     "data": {
      "application/vnd.jupyter.widget-view+json": {
       "model_id": "",
       "version_major": 2,
       "version_minor": 0
      },
      "text/plain": [
       "HBox(children=(FloatProgress(value=0.0, max=5.0), HTML(value='')))"
      ]
     },
     "metadata": {},
     "output_type": "display_data"
    },
    {
     "data": {
      "application/vnd.jupyter.widget-view+json": {
       "model_id": "",
       "version_major": 2,
       "version_minor": 0
      },
      "text/plain": [
       "HBox(children=(FloatProgress(value=0.0, max=185.0), HTML(value='')))"
      ]
     },
     "metadata": {},
     "output_type": "display_data"
    },
    {
     "data": {
      "application/vnd.jupyter.widget-view+json": {
       "model_id": "",
       "version_major": 2,
       "version_minor": 0
      },
      "text/plain": [
       "HBox(children=(FloatProgress(value=0.0, max=185.0), HTML(value='')))"
      ]
     },
     "metadata": {},
     "output_type": "display_data"
    },
    {
     "data": {
      "application/vnd.jupyter.widget-view+json": {
       "model_id": "",
       "version_major": 2,
       "version_minor": 0
      },
      "text/plain": [
       "HBox(children=(FloatProgress(value=0.0, max=185.0), HTML(value='')))"
      ]
     },
     "metadata": {},
     "output_type": "display_data"
    },
    {
     "data": {
      "application/vnd.jupyter.widget-view+json": {
       "model_id": "",
       "version_major": 2,
       "version_minor": 0
      },
      "text/plain": [
       "HBox(children=(FloatProgress(value=0.0, max=185.0), HTML(value='')))"
      ]
     },
     "metadata": {},
     "output_type": "display_data"
    },
    {
     "data": {
      "text/html": [
       "<div>\n",
       "<style scoped>\n",
       "    .dataframe tbody tr th:only-of-type {\n",
       "        vertical-align: middle;\n",
       "    }\n",
       "\n",
       "    .dataframe tbody tr th {\n",
       "        vertical-align: top;\n",
       "    }\n",
       "\n",
       "    .dataframe thead th {\n",
       "        text-align: right;\n",
       "    }\n",
       "</style>\n",
       "<table border=\"1\" class=\"dataframe\">\n",
       "  <thead>\n",
       "    <tr style=\"text-align: right;\">\n",
       "      <th style=\"min-width: 100px;\">Function</th>\n",
       "      <th style=\"min-width: 100px;\">Nations</th>\n",
       "      <th style=\"min-width: 100px;\">Days</th>\n",
       "      <th style=\"min-width: 100px;\">Samples</th>\n",
       "      <th style=\"min-width: 100px;\">Slope</th>\n",
       "      <th style=\"min-width: 100px;\">Intercept</th>\n",
       "      <th style=\"min-width: 100px;\">Rho</th>\n",
       "      <th style=\"min-width: 100px;\">p-value</th>\n",
       "      <th style=\"min-width: 100px;\">Std Err</th>\n",
       "    </tr>\n",
       "  </thead>\n",
       "  <tbody>\n",
       "    <tr>\n",
       "      <td>logit</td>\n",
       "      <td>92</td>\n",
       "      <td>93</td>\n",
       "      <td>8556</td>\n",
       "      <td>0.992434</td>\n",
       "      <td>45.181528</td>\n",
       "      <td>0.997854</td>\n",
       "      <td>4.235672e-49</td>\n",
       "      <td>0.005574</td>\n",
       "    </tr>\n",
       "    <tr>\n",
       "      <td>gomp</td>\n",
       "      <td>92</td>\n",
       "      <td>93</td>\n",
       "      <td>8556</td>\n",
       "      <td>0.997630</td>\n",
       "      <td>9.068515</td>\n",
       "      <td>0.998818</td>\n",
       "      <td>2.596661e-85</td>\n",
       "      <td>0.004387</td>\n",
       "    </tr>\n",
       "    <tr>\n",
       "      <td>doblogit</td>\n",
       "      <td>92</td>\n",
       "      <td>93</td>\n",
       "      <td>8556</td>\n",
       "      <td>0.998922</td>\n",
       "      <td>4.774485</td>\n",
       "      <td>0.999465</td>\n",
       "      <td>1.414291e-99</td>\n",
       "      <td>0.002957</td>\n",
       "    </tr>\n",
       "    <tr>\n",
       "      <td>dobgomp</td>\n",
       "      <td>92</td>\n",
       "      <td>93</td>\n",
       "      <td>8556</td>\n",
       "      <td>0.998067</td>\n",
       "      <td>8.281315</td>\n",
       "      <td>0.999024</td>\n",
       "      <td>2.596661e-85</td>\n",
       "      <td>0.003828</td>\n",
       "    </tr>\n",
       "  </tbody>\n",
       "</table>\n",
       "</div>"
      ],
      "text/plain": [
       "<IPython.core.display.HTML object>"
      ]
     },
     "metadata": {},
     "output_type": "display_data"
    },
    {
     "data": {
      "text/markdown": [
       "## Casi minimi 1000"
      ],
      "text/plain": [
       "<IPython.core.display.Markdown object>"
      ]
     },
     "metadata": {},
     "output_type": "display_data"
    },
    {
     "data": {
      "application/vnd.jupyter.widget-view+json": {
       "model_id": "",
       "version_major": 2,
       "version_minor": 0
      },
      "text/plain": [
       "HBox(children=(FloatProgress(value=0.0, max=5.0), HTML(value='')))"
      ]
     },
     "metadata": {},
     "output_type": "display_data"
    },
    {
     "data": {
      "application/vnd.jupyter.widget-view+json": {
       "model_id": "",
       "version_major": 2,
       "version_minor": 0
      },
      "text/plain": [
       "HBox(children=(FloatProgress(value=0.0, max=185.0), HTML(value='')))"
      ]
     },
     "metadata": {},
     "output_type": "display_data"
    },
    {
     "data": {
      "application/vnd.jupyter.widget-view+json": {
       "model_id": "",
       "version_major": 2,
       "version_minor": 0
      },
      "text/plain": [
       "HBox(children=(FloatProgress(value=0.0, max=185.0), HTML(value='')))"
      ]
     },
     "metadata": {},
     "output_type": "display_data"
    },
    {
     "data": {
      "application/vnd.jupyter.widget-view+json": {
       "model_id": "",
       "version_major": 2,
       "version_minor": 0
      },
      "text/plain": [
       "HBox(children=(FloatProgress(value=0.0, max=185.0), HTML(value='')))"
      ]
     },
     "metadata": {},
     "output_type": "display_data"
    },
    {
     "data": {
      "application/vnd.jupyter.widget-view+json": {
       "model_id": "",
       "version_major": 2,
       "version_minor": 0
      },
      "text/plain": [
       "HBox(children=(FloatProgress(value=0.0, max=185.0), HTML(value='')))"
      ]
     },
     "metadata": {},
     "output_type": "display_data"
    },
    {
     "data": {
      "text/html": [
       "<div>\n",
       "<style scoped>\n",
       "    .dataframe tbody tr th:only-of-type {\n",
       "        vertical-align: middle;\n",
       "    }\n",
       "\n",
       "    .dataframe tbody tr th {\n",
       "        vertical-align: top;\n",
       "    }\n",
       "\n",
       "    .dataframe thead th {\n",
       "        text-align: right;\n",
       "    }\n",
       "</style>\n",
       "<table border=\"1\" class=\"dataframe\">\n",
       "  <thead>\n",
       "    <tr style=\"text-align: right;\">\n",
       "      <th style=\"min-width: 100px;\">Function</th>\n",
       "      <th style=\"min-width: 100px;\">Nations</th>\n",
       "      <th style=\"min-width: 100px;\">Days</th>\n",
       "      <th style=\"min-width: 100px;\">Samples</th>\n",
       "      <th style=\"min-width: 100px;\">Slope</th>\n",
       "      <th style=\"min-width: 100px;\">Intercept</th>\n",
       "      <th style=\"min-width: 100px;\">Rho</th>\n",
       "      <th style=\"min-width: 100px;\">p-value</th>\n",
       "      <th style=\"min-width: 100px;\">Std Err</th>\n",
       "    </tr>\n",
       "  </thead>\n",
       "  <tbody>\n",
       "    <tr>\n",
       "      <td>logit</td>\n",
       "      <td>74</td>\n",
       "      <td>93</td>\n",
       "      <td>6882</td>\n",
       "      <td>0.991556</td>\n",
       "      <td>56.038352</td>\n",
       "      <td>0.997811</td>\n",
       "      <td>5.265970e-49</td>\n",
       "      <td>0.005440</td>\n",
       "    </tr>\n",
       "    <tr>\n",
       "      <td>gomp</td>\n",
       "      <td>74</td>\n",
       "      <td>93</td>\n",
       "      <td>6882</td>\n",
       "      <td>0.997834</td>\n",
       "      <td>11.161796</td>\n",
       "      <td>0.998926</td>\n",
       "      <td>7.659409e-90</td>\n",
       "      <td>0.004172</td>\n",
       "    </tr>\n",
       "    <tr>\n",
       "      <td>doblogit</td>\n",
       "      <td>74</td>\n",
       "      <td>93</td>\n",
       "      <td>6882</td>\n",
       "      <td>0.998959</td>\n",
       "      <td>5.891660</td>\n",
       "      <td>0.999477</td>\n",
       "      <td>1.758308e-99</td>\n",
       "      <td>0.002859</td>\n",
       "    </tr>\n",
       "    <tr>\n",
       "      <td>dobgomp</td>\n",
       "      <td>74</td>\n",
       "      <td>93</td>\n",
       "      <td>6882</td>\n",
       "      <td>0.998211</td>\n",
       "      <td>10.208164</td>\n",
       "      <td>0.999099</td>\n",
       "      <td>7.638055e-90</td>\n",
       "      <td>0.003680</td>\n",
       "    </tr>\n",
       "  </tbody>\n",
       "</table>\n",
       "</div>"
      ],
      "text/plain": [
       "<IPython.core.display.HTML object>"
      ]
     },
     "metadata": {},
     "output_type": "display_data"
    },
    {
     "data": {
      "text/markdown": [
       "## Casi minimi 2000"
      ],
      "text/plain": [
       "<IPython.core.display.Markdown object>"
      ]
     },
     "metadata": {},
     "output_type": "display_data"
    },
    {
     "data": {
      "application/vnd.jupyter.widget-view+json": {
       "model_id": "",
       "version_major": 2,
       "version_minor": 0
      },
      "text/plain": [
       "HBox(children=(FloatProgress(value=0.0, max=5.0), HTML(value='')))"
      ]
     },
     "metadata": {},
     "output_type": "display_data"
    },
    {
     "data": {
      "application/vnd.jupyter.widget-view+json": {
       "model_id": "",
       "version_major": 2,
       "version_minor": 0
      },
      "text/plain": [
       "HBox(children=(FloatProgress(value=0.0, max=185.0), HTML(value='')))"
      ]
     },
     "metadata": {},
     "output_type": "display_data"
    },
    {
     "data": {
      "application/vnd.jupyter.widget-view+json": {
       "model_id": "",
       "version_major": 2,
       "version_minor": 0
      },
      "text/plain": [
       "HBox(children=(FloatProgress(value=0.0, max=185.0), HTML(value='')))"
      ]
     },
     "metadata": {},
     "output_type": "display_data"
    },
    {
     "data": {
      "application/vnd.jupyter.widget-view+json": {
       "model_id": "",
       "version_major": 2,
       "version_minor": 0
      },
      "text/plain": [
       "HBox(children=(FloatProgress(value=0.0, max=185.0), HTML(value='')))"
      ]
     },
     "metadata": {},
     "output_type": "display_data"
    },
    {
     "data": {
      "application/vnd.jupyter.widget-view+json": {
       "model_id": "",
       "version_major": 2,
       "version_minor": 0
      },
      "text/plain": [
       "HBox(children=(FloatProgress(value=0.0, max=185.0), HTML(value='')))"
      ]
     },
     "metadata": {},
     "output_type": "display_data"
    },
    {
     "data": {
      "text/html": [
       "<div>\n",
       "<style scoped>\n",
       "    .dataframe tbody tr th:only-of-type {\n",
       "        vertical-align: middle;\n",
       "    }\n",
       "\n",
       "    .dataframe tbody tr th {\n",
       "        vertical-align: top;\n",
       "    }\n",
       "\n",
       "    .dataframe thead th {\n",
       "        text-align: right;\n",
       "    }\n",
       "</style>\n",
       "<table border=\"1\" class=\"dataframe\">\n",
       "  <thead>\n",
       "    <tr style=\"text-align: right;\">\n",
       "      <th style=\"min-width: 100px;\">Function</th>\n",
       "      <th style=\"min-width: 100px;\">Nations</th>\n",
       "      <th style=\"min-width: 100px;\">Days</th>\n",
       "      <th style=\"min-width: 100px;\">Samples</th>\n",
       "      <th style=\"min-width: 100px;\">Slope</th>\n",
       "      <th style=\"min-width: 100px;\">Intercept</th>\n",
       "      <th style=\"min-width: 100px;\">Rho</th>\n",
       "      <th style=\"min-width: 100px;\">p-value</th>\n",
       "      <th style=\"min-width: 100px;\">Std Err</th>\n",
       "    </tr>\n",
       "  </thead>\n",
       "  <tbody>\n",
       "    <tr>\n",
       "      <td>logit</td>\n",
       "      <td>56</td>\n",
       "      <td>93</td>\n",
       "      <td>5208</td>\n",
       "      <td>0.990036</td>\n",
       "      <td>73.777508</td>\n",
       "      <td>0.997715</td>\n",
       "      <td>6.958603e-49</td>\n",
       "      <td>0.005349</td>\n",
       "    </tr>\n",
       "    <tr>\n",
       "      <td>gomp</td>\n",
       "      <td>56</td>\n",
       "      <td>93</td>\n",
       "      <td>5208</td>\n",
       "      <td>0.998066</td>\n",
       "      <td>14.523613</td>\n",
       "      <td>0.999036</td>\n",
       "      <td>1.009149e-89</td>\n",
       "      <td>0.003929</td>\n",
       "    </tr>\n",
       "    <tr>\n",
       "      <td>doblogit</td>\n",
       "      <td>56</td>\n",
       "      <td>93</td>\n",
       "      <td>5208</td>\n",
       "      <td>0.999128</td>\n",
       "      <td>7.681236</td>\n",
       "      <td>0.999565</td>\n",
       "      <td>4.774051e-104</td>\n",
       "      <td>0.002637</td>\n",
       "    </tr>\n",
       "    <tr>\n",
       "      <td>dobgomp</td>\n",
       "      <td>56</td>\n",
       "      <td>93</td>\n",
       "      <td>5208</td>\n",
       "      <td>0.998301</td>\n",
       "      <td>13.343939</td>\n",
       "      <td>0.999135</td>\n",
       "      <td>1.009149e-89</td>\n",
       "      <td>0.003556</td>\n",
       "    </tr>\n",
       "  </tbody>\n",
       "</table>\n",
       "</div>"
      ],
      "text/plain": [
       "<IPython.core.display.HTML object>"
      ]
     },
     "metadata": {},
     "output_type": "display_data"
    },
    {
     "data": {
      "text/markdown": [
       "## Casi minimi 5000"
      ],
      "text/plain": [
       "<IPython.core.display.Markdown object>"
      ]
     },
     "metadata": {},
     "output_type": "display_data"
    },
    {
     "data": {
      "application/vnd.jupyter.widget-view+json": {
       "model_id": "",
       "version_major": 2,
       "version_minor": 0
      },
      "text/plain": [
       "HBox(children=(FloatProgress(value=0.0, max=5.0), HTML(value='')))"
      ]
     },
     "metadata": {},
     "output_type": "display_data"
    },
    {
     "data": {
      "application/vnd.jupyter.widget-view+json": {
       "model_id": "",
       "version_major": 2,
       "version_minor": 0
      },
      "text/plain": [
       "HBox(children=(FloatProgress(value=0.0, max=185.0), HTML(value='')))"
      ]
     },
     "metadata": {},
     "output_type": "display_data"
    },
    {
     "data": {
      "application/vnd.jupyter.widget-view+json": {
       "model_id": "",
       "version_major": 2,
       "version_minor": 0
      },
      "text/plain": [
       "HBox(children=(FloatProgress(value=0.0, max=185.0), HTML(value='')))"
      ]
     },
     "metadata": {},
     "output_type": "display_data"
    },
    {
     "data": {
      "application/vnd.jupyter.widget-view+json": {
       "model_id": "",
       "version_major": 2,
       "version_minor": 0
      },
      "text/plain": [
       "HBox(children=(FloatProgress(value=0.0, max=185.0), HTML(value='')))"
      ]
     },
     "metadata": {},
     "output_type": "display_data"
    },
    {
     "data": {
      "application/vnd.jupyter.widget-view+json": {
       "model_id": "",
       "version_major": 2,
       "version_minor": 0
      },
      "text/plain": [
       "HBox(children=(FloatProgress(value=0.0, max=185.0), HTML(value='')))"
      ]
     },
     "metadata": {},
     "output_type": "display_data"
    },
    {
     "data": {
      "text/html": [
       "<div>\n",
       "<style scoped>\n",
       "    .dataframe tbody tr th:only-of-type {\n",
       "        vertical-align: middle;\n",
       "    }\n",
       "\n",
       "    .dataframe tbody tr th {\n",
       "        vertical-align: top;\n",
       "    }\n",
       "\n",
       "    .dataframe thead th {\n",
       "        text-align: right;\n",
       "    }\n",
       "</style>\n",
       "<table border=\"1\" class=\"dataframe\">\n",
       "  <thead>\n",
       "    <tr style=\"text-align: right;\">\n",
       "      <th style=\"min-width: 100px;\">Function</th>\n",
       "      <th style=\"min-width: 100px;\">Nations</th>\n",
       "      <th style=\"min-width: 100px;\">Days</th>\n",
       "      <th style=\"min-width: 100px;\">Samples</th>\n",
       "      <th style=\"min-width: 100px;\">Slope</th>\n",
       "      <th style=\"min-width: 100px;\">Intercept</th>\n",
       "      <th style=\"min-width: 100px;\">Rho</th>\n",
       "      <th style=\"min-width: 100px;\">p-value</th>\n",
       "      <th style=\"min-width: 100px;\">Std Err</th>\n",
       "    </tr>\n",
       "  </thead>\n",
       "  <tbody>\n",
       "    <tr>\n",
       "      <td>logit</td>\n",
       "      <td>41</td>\n",
       "      <td>93</td>\n",
       "      <td>3813</td>\n",
       "      <td>0.987743</td>\n",
       "      <td>99.983467</td>\n",
       "      <td>0.997559</td>\n",
       "      <td>9.504434e-49</td>\n",
       "      <td>0.005199</td>\n",
       "    </tr>\n",
       "    <tr>\n",
       "      <td>gomp</td>\n",
       "      <td>41</td>\n",
       "      <td>93</td>\n",
       "      <td>3813</td>\n",
       "      <td>0.998371</td>\n",
       "      <td>19.291896</td>\n",
       "      <td>0.999185</td>\n",
       "      <td>4.524365e-102</td>\n",
       "      <td>0.003625</td>\n",
       "    </tr>\n",
       "    <tr>\n",
       "      <td>doblogit</td>\n",
       "      <td>41</td>\n",
       "      <td>93</td>\n",
       "      <td>3813</td>\n",
       "      <td>0.999239</td>\n",
       "      <td>10.252889</td>\n",
       "      <td>0.999620</td>\n",
       "      <td>6.520655e-104</td>\n",
       "      <td>0.002397</td>\n",
       "    </tr>\n",
       "    <tr>\n",
       "      <td>dobgomp</td>\n",
       "      <td>41</td>\n",
       "      <td>93</td>\n",
       "      <td>3813</td>\n",
       "      <td>0.998647</td>\n",
       "      <td>17.691137</td>\n",
       "      <td>0.999296</td>\n",
       "      <td>4.491526e-102</td>\n",
       "      <td>0.003200</td>\n",
       "    </tr>\n",
       "  </tbody>\n",
       "</table>\n",
       "</div>"
      ],
      "text/plain": [
       "<IPython.core.display.HTML object>"
      ]
     },
     "metadata": {},
     "output_type": "display_data"
    },
    {
     "data": {
      "text/markdown": [
       "## Casi minimi 10000"
      ],
      "text/plain": [
       "<IPython.core.display.Markdown object>"
      ]
     },
     "metadata": {},
     "output_type": "display_data"
    },
    {
     "data": {
      "application/vnd.jupyter.widget-view+json": {
       "model_id": "",
       "version_major": 2,
       "version_minor": 0
      },
      "text/plain": [
       "HBox(children=(FloatProgress(value=0.0, max=5.0), HTML(value='')))"
      ]
     },
     "metadata": {},
     "output_type": "display_data"
    },
    {
     "data": {
      "application/vnd.jupyter.widget-view+json": {
       "model_id": "",
       "version_major": 2,
       "version_minor": 0
      },
      "text/plain": [
       "HBox(children=(FloatProgress(value=0.0, max=185.0), HTML(value='')))"
      ]
     },
     "metadata": {},
     "output_type": "display_data"
    },
    {
     "data": {
      "application/vnd.jupyter.widget-view+json": {
       "model_id": "",
       "version_major": 2,
       "version_minor": 0
      },
      "text/plain": [
       "HBox(children=(FloatProgress(value=0.0, max=185.0), HTML(value='')))"
      ]
     },
     "metadata": {},
     "output_type": "display_data"
    },
    {
     "data": {
      "application/vnd.jupyter.widget-view+json": {
       "model_id": "",
       "version_major": 2,
       "version_minor": 0
      },
      "text/plain": [
       "HBox(children=(FloatProgress(value=0.0, max=185.0), HTML(value='')))"
      ]
     },
     "metadata": {},
     "output_type": "display_data"
    },
    {
     "data": {
      "application/vnd.jupyter.widget-view+json": {
       "model_id": "",
       "version_major": 2,
       "version_minor": 0
      },
      "text/plain": [
       "HBox(children=(FloatProgress(value=0.0, max=185.0), HTML(value='')))"
      ]
     },
     "metadata": {},
     "output_type": "display_data"
    },
    {
     "data": {
      "text/html": [
       "<div>\n",
       "<style scoped>\n",
       "    .dataframe tbody tr th:only-of-type {\n",
       "        vertical-align: middle;\n",
       "    }\n",
       "\n",
       "    .dataframe tbody tr th {\n",
       "        vertical-align: top;\n",
       "    }\n",
       "\n",
       "    .dataframe thead th {\n",
       "        text-align: right;\n",
       "    }\n",
       "</style>\n",
       "<table border=\"1\" class=\"dataframe\">\n",
       "  <thead>\n",
       "    <tr style=\"text-align: right;\">\n",
       "      <th style=\"min-width: 100px;\">Function</th>\n",
       "      <th style=\"min-width: 100px;\">Nations</th>\n",
       "      <th style=\"min-width: 100px;\">Days</th>\n",
       "      <th style=\"min-width: 100px;\">Samples</th>\n",
       "      <th style=\"min-width: 100px;\">Slope</th>\n",
       "      <th style=\"min-width: 100px;\">Intercept</th>\n",
       "      <th style=\"min-width: 100px;\">Rho</th>\n",
       "      <th style=\"min-width: 100px;\">p-value</th>\n",
       "      <th style=\"min-width: 100px;\">Std Err</th>\n",
       "    </tr>\n",
       "  </thead>\n",
       "  <tbody>\n",
       "    <tr>\n",
       "      <td>logit</td>\n",
       "      <td>28</td>\n",
       "      <td>93</td>\n",
       "      <td>2604</td>\n",
       "      <td>0.982971</td>\n",
       "      <td>145.397008</td>\n",
       "      <td>0.996885</td>\n",
       "      <td>1.391721e-48</td>\n",
       "      <td>0.005565</td>\n",
       "    </tr>\n",
       "    <tr>\n",
       "      <td>gomp</td>\n",
       "      <td>28</td>\n",
       "      <td>93</td>\n",
       "      <td>2604</td>\n",
       "      <td>0.998272</td>\n",
       "      <td>27.545053</td>\n",
       "      <td>0.999135</td>\n",
       "      <td>6.624963e-102</td>\n",
       "      <td>0.003597</td>\n",
       "    </tr>\n",
       "    <tr>\n",
       "      <td>doblogit</td>\n",
       "      <td>28</td>\n",
       "      <td>93</td>\n",
       "      <td>2604</td>\n",
       "      <td>0.999294</td>\n",
       "      <td>14.586274</td>\n",
       "      <td>0.999647</td>\n",
       "      <td>9.548101e-104</td>\n",
       "      <td>0.002215</td>\n",
       "    </tr>\n",
       "    <tr>\n",
       "      <td>dobgomp</td>\n",
       "      <td>28</td>\n",
       "      <td>93</td>\n",
       "      <td>2604</td>\n",
       "      <td>0.998623</td>\n",
       "      <td>25.261813</td>\n",
       "      <td>0.999268</td>\n",
       "      <td>6.576877e-102</td>\n",
       "      <td>0.003096</td>\n",
       "    </tr>\n",
       "  </tbody>\n",
       "</table>\n",
       "</div>"
      ],
      "text/plain": [
       "<IPython.core.display.HTML object>"
      ]
     },
     "metadata": {},
     "output_type": "display_data"
    },
    {
     "data": {
      "text/markdown": [
       "## Casi minimi 20000"
      ],
      "text/plain": [
       "<IPython.core.display.Markdown object>"
      ]
     },
     "metadata": {},
     "output_type": "display_data"
    },
    {
     "data": {
      "application/vnd.jupyter.widget-view+json": {
       "model_id": "",
       "version_major": 2,
       "version_minor": 0
      },
      "text/plain": [
       "HBox(children=(FloatProgress(value=0.0, max=5.0), HTML(value='')))"
      ]
     },
     "metadata": {},
     "output_type": "display_data"
    },
    {
     "data": {
      "application/vnd.jupyter.widget-view+json": {
       "model_id": "",
       "version_major": 2,
       "version_minor": 0
      },
      "text/plain": [
       "HBox(children=(FloatProgress(value=0.0, max=185.0), HTML(value='')))"
      ]
     },
     "metadata": {},
     "output_type": "display_data"
    },
    {
     "data": {
      "application/vnd.jupyter.widget-view+json": {
       "model_id": "",
       "version_major": 2,
       "version_minor": 0
      },
      "text/plain": [
       "HBox(children=(FloatProgress(value=0.0, max=185.0), HTML(value='')))"
      ]
     },
     "metadata": {},
     "output_type": "display_data"
    },
    {
     "data": {
      "application/vnd.jupyter.widget-view+json": {
       "model_id": "",
       "version_major": 2,
       "version_minor": 0
      },
      "text/plain": [
       "HBox(children=(FloatProgress(value=0.0, max=185.0), HTML(value='')))"
      ]
     },
     "metadata": {},
     "output_type": "display_data"
    },
    {
     "data": {
      "application/vnd.jupyter.widget-view+json": {
       "model_id": "",
       "version_major": 2,
       "version_minor": 0
      },
      "text/plain": [
       "HBox(children=(FloatProgress(value=0.0, max=185.0), HTML(value='')))"
      ]
     },
     "metadata": {},
     "output_type": "display_data"
    },
    {
     "data": {
      "text/html": [
       "<div>\n",
       "<style scoped>\n",
       "    .dataframe tbody tr th:only-of-type {\n",
       "        vertical-align: middle;\n",
       "    }\n",
       "\n",
       "    .dataframe tbody tr th {\n",
       "        vertical-align: top;\n",
       "    }\n",
       "\n",
       "    .dataframe thead th {\n",
       "        text-align: right;\n",
       "    }\n",
       "</style>\n",
       "<table border=\"1\" class=\"dataframe\">\n",
       "  <thead>\n",
       "    <tr style=\"text-align: right;\">\n",
       "      <th style=\"min-width: 100px;\">Function</th>\n",
       "      <th style=\"min-width: 100px;\">Nations</th>\n",
       "      <th style=\"min-width: 100px;\">Days</th>\n",
       "      <th style=\"min-width: 100px;\">Samples</th>\n",
       "      <th style=\"min-width: 100px;\">Slope</th>\n",
       "      <th style=\"min-width: 100px;\">Intercept</th>\n",
       "      <th style=\"min-width: 100px;\">Rho</th>\n",
       "      <th style=\"min-width: 100px;\">p-value</th>\n",
       "      <th style=\"min-width: 100px;\">Std Err</th>\n",
       "    </tr>\n",
       "  </thead>\n",
       "  <tbody>\n",
       "    <tr>\n",
       "      <td>logit</td>\n",
       "      <td>16</td>\n",
       "      <td>93</td>\n",
       "      <td>1488</td>\n",
       "      <td>0.972789</td>\n",
       "      <td>246.713997</td>\n",
       "      <td>0.995845</td>\n",
       "      <td>2.435511e-48</td>\n",
       "      <td>0.005453</td>\n",
       "    </tr>\n",
       "    <tr>\n",
       "      <td>gomp</td>\n",
       "      <td>16</td>\n",
       "      <td>93</td>\n",
       "      <td>1488</td>\n",
       "      <td>0.998892</td>\n",
       "      <td>43.022343</td>\n",
       "      <td>0.999445</td>\n",
       "      <td>1.241411e-104</td>\n",
       "      <td>0.002849</td>\n",
       "    </tr>\n",
       "    <tr>\n",
       "      <td>doblogit</td>\n",
       "      <td>16</td>\n",
       "      <td>93</td>\n",
       "      <td>1488</td>\n",
       "      <td>0.999469</td>\n",
       "      <td>24.092451</td>\n",
       "      <td>0.999735</td>\n",
       "      <td>3.873059e-110</td>\n",
       "      <td>0.001916</td>\n",
       "    </tr>\n",
       "    <tr>\n",
       "      <td>dobgomp</td>\n",
       "      <td>16</td>\n",
       "      <td>93</td>\n",
       "      <td>1488</td>\n",
       "      <td>0.999110</td>\n",
       "      <td>37.599265</td>\n",
       "      <td>0.999555</td>\n",
       "      <td>1.241515e-104</td>\n",
       "      <td>0.002360</td>\n",
       "    </tr>\n",
       "  </tbody>\n",
       "</table>\n",
       "</div>"
      ],
      "text/plain": [
       "<IPython.core.display.HTML object>"
      ]
     },
     "metadata": {},
     "output_type": "display_data"
    }
   ],
   "source": [
    "for min_cases in [0, 100, 500, 1000, 2000, 5000, 10000, 20000]:\n",
    "    display(Markdown(f\"## Casi minimi {min_cases}\"))\n",
    "    TOT, DAT = get_stats(min_cases)\n",
    "    display(HTML(TOT.to_html(notebook=True, col_space=100, columns=[\n",
    "        \"Function\", \"Nations\", \"Days\", \"Samples\", \"Slope\", \"Intercept\", \"Rho\", \"p-value\", \"Std Err\",\n",
    "    ], index=False)))\n",
    "    TOT.to_pickle(f\"double-gompertz-stats-{min_cases}-mean.pkl\")\n",
    "    DAT.to_pickle(f\"double-gompertz-stats-{min_cases}-data.pkl\")"
   ]
  },
  {
   "cell_type": "code",
   "execution_count": null,
   "metadata": {},
   "outputs": [],
   "source": []
  }
 ],
 "metadata": {
  "kernelspec": {
   "display_name": "Python 3",
   "language": "python",
   "name": "python3"
  },
  "language_info": {
   "codemirror_mode": {
    "name": "ipython",
    "version": 3
   },
   "file_extension": ".py",
   "mimetype": "text/x-python",
   "name": "python",
   "nbconvert_exporter": "python",
   "pygments_lexer": "ipython3",
   "version": "3.7.7"
  }
 },
 "nbformat": 4,
 "nbformat_minor": 4
}
