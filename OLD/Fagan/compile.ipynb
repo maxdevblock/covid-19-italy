{
 "cells": [
  {
   "cell_type": "code",
   "execution_count": 2,
   "metadata": {},
   "outputs": [
    {
     "name": "stderr",
     "output_type": "stream",
     "text": [
      "[NbConvertApp] Converting notebook nomogramma.ipynb to pdf\n",
      "[NbConvertApp] Support files will be in nomogramma_files/\n",
      "[NbConvertApp] Making directory ./nomogramma_files\n",
      "[NbConvertApp] Making directory ./nomogramma_files\n",
      "[NbConvertApp] Making directory ./nomogramma_files\n",
      "[NbConvertApp] Making directory ./nomogramma_files\n",
      "[NbConvertApp] Making directory ./nomogramma_files\n",
      "[NbConvertApp] Making directory ./nomogramma_files\n",
      "[NbConvertApp] Making directory ./nomogramma_files\n",
      "[NbConvertApp] Making directory ./nomogramma_files\n",
      "[NbConvertApp] Making directory ./nomogramma_files\n",
      "[NbConvertApp] Writing 85159 bytes to ./notebook.tex\n",
      "[NbConvertApp] Building PDF\n",
      "[NbConvertApp] Running xelatex 3 times: ['xelatex', './notebook.tex', '-quiet']\n",
      "[NbConvertApp] Running bibtex 1 time: ['bibtex', './notebook']\n",
      "[NbConvertApp] Running xelatex 3 times: ['xelatex', './notebook.tex', '-quiet']\n",
      "[NbConvertApp] PDF successfully created\n",
      "[NbConvertApp] Writing 310905 bytes to nomogramma.pdf\n"
     ]
    }
   ],
   "source": [
    "%%bash\n",
    "jupyter nbconvert nomogramma.ipynb --to pdf --template fagan.tplx"
   ]
  },
  {
   "cell_type": "code",
   "execution_count": 1,
   "metadata": {},
   "outputs": [
    {
     "name": "stderr",
     "output_type": "stream",
     "text": [
      "[NbConvertApp] Converting notebook fagan-repeat.ipynb to pdf\n",
      "[NbConvertApp] Support files will be in fagan-repeat_files/\n",
      "[NbConvertApp] Making directory ./fagan-repeat_files\n",
      "[NbConvertApp] Making directory ./fagan-repeat_files\n",
      "[NbConvertApp] Making directory ./fagan-repeat_files\n",
      "[NbConvertApp] Making directory ./fagan-repeat_files\n",
      "[NbConvertApp] Making directory ./fagan-repeat_files\n",
      "[NbConvertApp] Making directory ./fagan-repeat_files\n",
      "[NbConvertApp] Writing 28771 bytes to ./notebook.tex\n",
      "[NbConvertApp] Building PDF\n",
      "[NbConvertApp] Running xelatex 3 times: ['xelatex', './notebook.tex', '-quiet']\n",
      "[NbConvertApp] Running bibtex 1 time: ['bibtex', './notebook']\n",
      "[NbConvertApp] Running xelatex 3 times: ['xelatex', './notebook.tex', '-quiet']\n",
      "[NbConvertApp] PDF successfully created\n",
      "[NbConvertApp] Writing 3306344 bytes to fagan-repeat.pdf\n"
     ]
    }
   ],
   "source": [
    "%%bash\n",
    "jupyter nbconvert fagan-repeat.ipynb --to pdf --no-input --template fagan-repeat.tplx"
   ]
  },
  {
   "cell_type": "code",
   "execution_count": null,
   "metadata": {},
   "outputs": [],
   "source": []
  }
 ],
 "metadata": {
  "kernelspec": {
   "display_name": "Python 3",
   "language": "python",
   "name": "python3"
  },
  "language_info": {
   "codemirror_mode": {
    "name": "ipython",
    "version": 3
   },
   "file_extension": ".py",
   "mimetype": "text/x-python",
   "name": "python",
   "nbconvert_exporter": "python",
   "pygments_lexer": "ipython3",
   "version": "3.7.7"
  }
 },
 "nbformat": 4,
 "nbformat_minor": 4
}
