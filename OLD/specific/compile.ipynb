{
 "cells": [
  {
   "cell_type": "code",
   "execution_count": 11,
   "metadata": {},
   "outputs": [
    {
     "name": "stderr",
     "output_type": "stream",
     "text": [
      "[NbConvertApp] Converting notebook new.ipynb to pdf\n",
      "[NbConvertApp] Writing 68534 bytes to ./notebook.tex\n",
      "[NbConvertApp] Building PDF\n",
      "[NbConvertApp] Running xelatex 3 times: ['xelatex', './notebook.tex', '-quiet']\n",
      "[NbConvertApp] Running bibtex 1 time: ['bibtex', './notebook']\n",
      "[NbConvertApp] Running xelatex 3 times: ['xelatex', './notebook.tex', '-quiet']\n",
      "[NbConvertApp] PDF successfully created\n",
      "[NbConvertApp] Writing 1166396 bytes to new.pdf\n"
     ]
    }
   ],
   "source": [
    "%%bash\n",
    "jupyter nbconvert new.ipynb --to pdf --template tamponi.tplx --no-input"
   ]
  },
  {
   "cell_type": "code",
   "execution_count": 3,
   "metadata": {},
   "outputs": [
    {
     "name": "stderr",
     "output_type": "stream",
     "text": [
      "[NbConvertApp] Converting notebook new.ipynb to latex\n",
      "[NbConvertApp] Writing 41203 bytes to new.tex\n"
     ]
    }
   ],
   "source": [
    "%%bash\n",
    "jupyter nbconvert new.ipynb --to latex --template tamponi.tplx --no-input"
   ]
  },
  {
   "cell_type": "code",
   "execution_count": 1,
   "metadata": {},
   "outputs": [
    {
     "name": "stderr",
     "output_type": "stream",
     "text": [
      "[NbConvertApp] Converting notebook articolo-test.ipynb to pdf\n",
      "[NbConvertApp] Writing 39553 bytes to ./notebook.tex\n",
      "[NbConvertApp] Building PDF\n",
      "[NbConvertApp] Running xelatex 3 times: ['xelatex', './notebook.tex', '-quiet']\n",
      "[NbConvertApp] Running bibtex 1 time: ['bibtex', './notebook']\n",
      "[NbConvertApp] Running xelatex 3 times: ['xelatex', './notebook.tex', '-quiet']\n",
      "[NbConvertApp] PDF successfully created\n",
      "[NbConvertApp] Writing 511547 bytes to articolo-test.pdf\n"
     ]
    }
   ],
   "source": [
    "%%bash\n",
    "jupyter nbconvert articolo-test.ipynb --to pdf --template tamponi.tplx --no-input"
   ]
  },
  {
   "cell_type": "code",
   "execution_count": 15,
   "metadata": {},
   "outputs": [
    {
     "name": "stderr",
     "output_type": "stream",
     "text": [
      "[NbConvertApp] Converting notebook articolo-test.ipynb to latex\n",
      "[NbConvertApp] Writing 39356 bytes to articolo-test.tex\n"
     ]
    }
   ],
   "source": [
    "%%bash\n",
    "jupyter nbconvert articolo-test.ipynb --to latex --template tamponi.tplx --no-input"
   ]
  }
 ],
 "metadata": {
  "kernelspec": {
   "display_name": "Python 3",
   "language": "python",
   "name": "python3"
  },
  "language_info": {
   "codemirror_mode": {
    "name": "ipython",
    "version": 3
   },
   "file_extension": ".py",
   "mimetype": "text/x-python",
   "name": "python",
   "nbconvert_exporter": "python",
   "pygments_lexer": "ipython3",
   "version": "3.7.7"
  }
 },
 "nbformat": 4,
 "nbformat_minor": 4
}
