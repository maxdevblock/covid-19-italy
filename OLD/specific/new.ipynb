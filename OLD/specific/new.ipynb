{
 "cells": [
  {
   "cell_type": "markdown",
   "metadata": {},
   "source": [
    "# Introduzione\n",
    "\n",
    "La _prevalenza_ di una malattia infettiva corrisponde alla percentuale di popolazione affetta ovvero alla probabilità che un individuo di tale popolazione scelto a caso sia affetto dalla malattia <cite data-cite=\"porta2014dictionary\"></cite>.\n",
    "\n",
    "Dal punto di vista bayesiano la prevalenza corrisponde alla probabilità **a priori** $P(M)$ di essere malato. La probabilità dunque **a priori** di non essere affetto dalla malattia $P(\\overline{M})$ sarà pari a $1 - P(M)$.\n",
    "\n",
    "Durante un'epidemia la prevalenza, per ovvi motivi, si modifica: una percentuale nettamente superiore di popolazione è affetta dalla malattia ovvero la probabilità di essere malati aumenta.\n",
    "\n",
    "Un test diagnostico qualitativo (come il tampone naso-faringeo) ha due possibilità di esito: positivo $\\oplus$ oppure negativo $\\ominus$.\n",
    "\n",
    "La probabilità di ottenere un test positivo per un individuo malato rappresenta la _sensibilità_ del test <cite data-cite=\"porta2014dictionary\"></cite>\n",
    "\n",
    "\\begin{equation}\\label{eq:sens}\n",
    "P(\\oplus | M) = \\textrm{sensibilità}\n",
    "\\end{equation}\n",
    "\n",
    "la situazione ideale sarebbe quindi $P(\\oplus|M)=1$ ovvero ottenere 100% di test positivi su tutti i malati.\n",
    "\n",
    "La probabilità di ottenere un test negativo per un individuo sano (non affetto dalla malattia in questione) rappresenta invece la _specificità_ del test <cite data-cite=\"porta2014dictionary\"></cite>\n",
    "\n",
    "\\begin{equation}\\label{eq:spec}\n",
    "P(\\ominus | \\overline{M}) = \\textrm{specificità}\n",
    "\\end{equation}\n",
    "\n",
    "la situazione ideale sarebbe quindi $P(\\ominus|\\overline{M})=1$ ovvero ottenere 100% di test negativi su tutti i sani.\n",
    "\n",
    "Prevalenza, sensibilità e specificità influiscono sulla probabilità **a posteriori** di essere malato o sano in seguito a risultato positivo o negativo del test.\n",
    "\n",
    "# Test e Teorema di Bayes\n",
    "\n",
    "Il teorema di Bayes $\\eqref{eq:bayes}$ ci spiega il motivo e ci indica come calcolare queste probabilità.\n",
    "\n",
    "\\begin{equation}\\label{eq:bayes}\n",
    "P(A|B) = \\frac{P(B|A)P(A)}{P(B)}\n",
    "\\end{equation}\n",
    "\n",
    "dove $P(B)$ può essere calcolato come\n",
    "\n",
    "\\begin{equation}\\label{eq:denom}\n",
    "P(B) = P(B|A)P(A) + P(B|\\overline{A})P(\\overline{A})\n",
    "\\end{equation}\n",
    "\n",
    "Applichiamo il teorema di Bayes per calcolare la probabilità di essere malato in seguito a risultato positivo di un test diagnostico:\n",
    "\n",
    "\\begin{equation}\\label{eq:Pmp}\n",
    "P(M|\\oplus) = \\frac{P(\\oplus|M)P(M)}{P(\\oplus)}\n",
    "\\end{equation}\n",
    "\n",
    "Al numeratore conosciamo tutti i termini: il primo è la sensibilità $\\eqref{eq:sens}$ e il secondo, se dell'individuo non si sa nulla ed è scelto a caso, è la prevalenza (anche nel corso di un'epidemia). Al denominatore invece troviamo la probabilità a priori di avere un test positivo, che non conosciamo direttamente, ma possiamo calcolare grazie alla $\\eqref{eq:denom}$.\n",
    "\n",
    "\\begin{equation}\\label{eq:Pp}\n",
    "P(\\oplus) = P(\\oplus|M)P(M) + P(\\oplus|\\overline{M})P(\\overline{M})\n",
    "\\end{equation}\n",
    "\n",
    "dove $P(\\oplus|\\overline{M})$ ovvero la probabilità di avere un test positivo su individuo sano è $P(\\oplus|\\overline{M}) = 1 - P(\\ominus|\\overline{M})$ e, come già sappiamo, $P(\\overline{M}) = 1 - P(M)$. Dunque la $\\eqref{eq:Pmp}$ diventa:\n",
    "\n",
    "\\begin{equation}\\label{eq:Pmp2}\n",
    "P(M|\\oplus) = \\frac{P(\\oplus|M)P(M)}{P(\\oplus|M)P(M) + (1 - P(\\ominus|\\overline{M}))(1 - P(M))}\n",
    "\\end{equation}\n",
    "\n",
    "ovvero\n",
    "\n",
    "\\begin{equation}\\label{eq:Pmp3}\n",
    "P(M|\\oplus) = \\frac{\n",
    "\\textrm{sensibilità} \\cdot \\textrm{prevalenza} }{\n",
    "\\textrm{sensibilità} \\cdot \\textrm{prevalenza} + (1 - \\textrm{specificità}) \\cdot (1 - \\textrm{prevalenza})\n",
    "}\n",
    "\\end{equation}\n",
    "\n",
    "Applicando invece il teorema di Bayes per calcolare la probabilità di non essere malato in seguito ad un test negativo otteniamo\n",
    "\n",
    "\\begin{equation}\\label{eq:Psn}\n",
    "P(\\overline{M}|\\ominus) = \\frac{P(\\ominus|\\overline{M})P(\\overline{M})}{P(\\ominus)}\n",
    "\\end{equation}\n",
    "\n",
    "anche in questo caso conosciamo il numeratore (specificità e 1 - prevalenza). Il denominatore può essere espresso come\n",
    "\n",
    "\\begin{equation}\\label{eq:Pn}\n",
    "P(\\ominus) = P(\\ominus|\\overline{M})P(\\overline{M}) + P(\\ominus|M)P(M)\n",
    "\\end{equation}\n",
    "\n",
    "dove $P(\\ominus|M) = 1 - P(\\oplus|M)$. Sostituendo nella $\\eqref{eq:Psn}$ otteniamo quindi\n",
    "\n",
    "\\begin{equation}\\label{eq:Psn2}\n",
    "P(\\overline{M}|\\ominus) = \\frac{\n",
    "P(\\ominus|\\overline{M})(1 - P(M))\n",
    "}{\n",
    "P(\\ominus|\\overline{M})(1 - P(M)) + (1 - P(\\oplus|M))P(M)\n",
    "}\n",
    "\\end{equation}\n",
    "\n",
    "ovvero\n",
    "\n",
    "\\begin{equation}\\label{eq:Psn3}\n",
    "P(\\overline{M}|\\ominus) = \\frac{\n",
    "\\textrm{specificità} \\cdot (1 - \\textrm{prevalenza})\n",
    "}{\n",
    "\\textrm{specificità} \\cdot (1 - \\textrm{prevalenza}) + \n",
    "(1 - \\textrm{sensibilità}) \\cdot \\textrm{prevalenza}\n",
    "}\n",
    "\\end{equation}\n",
    "\n",
    "Abbiamo dunque ora tutti gli strumenti necessari per calcolare la probabilità a posteriori di essere malati (o sani) in seguito ad esito del test diagnostico.\n",
    "\n",
    "# Test quasi ideale\n",
    "\n",
    "Prendiamo a titolo d'esempio un buon test (\"quasi\" ideale) con specificità e sensibilità al 99.5%, supponendo un prevalenza del 10%:\n",
    "\n",
    "\\begin{equation}\\label{eq:ex995}\n",
    "P(M) = .1 \\; \\; ,\\; \\; P(\\oplus|M) = .995 \\; \\; ,\\; \\; P(\\ominus|\\overline{M}) = .995\n",
    "\\end{equation}\n",
    "\n",
    "alle ascisse metteremo la probabilità a priori di essere malato da 0 a 1 e alle ordinate la probabilità a posteriori di essere malato dato il risultato del test (figura $\\ref{fig:ideale}$). La linea blu rappresenta la probabilità a posteriori di essere malato in seguito a test positivo $P(M|\\oplus)$ mentre la linea rossa la probabilità a posteriori di essere malato in seguito a test negativo $1 - P(\\overline{M}|\\ominus)$. La linea tratteggiata verticale indica la prevalenza $P(M)$.\n",
    "\n",
    "Poniamo $p_{\\ominus}=.05$ come limite diagnostico per un individuo sano, ovvero una probabilità di essere malato $P(M|\\ominus)<.05$ (5%) è sufficiente a dichiarare sano un individuo in seguito a test negativo."
   ]
  },
  {
   "cell_type": "code",
   "execution_count": 1,
   "metadata": {},
   "outputs": [],
   "source": [
    "import numpy as np\n",
    "import pandas as pd\n",
    "import scipy.optimize as spo\n",
    "import matplotlib.pyplot as plt\n",
    "\n",
    "from IPython.display import display, Markdown, Latex"
   ]
  },
  {
   "cell_type": "code",
   "execution_count": 2,
   "metadata": {},
   "outputs": [],
   "source": [
    "def latexplot(plt, figlabel, figcaption, showme=False, single=False):\n",
    "\n",
    "    figname = figlabel + '.png'\n",
    "    plt.savefig(figname, bbox_inches='tight')\n",
    "\n",
    "    if showme:\n",
    "        plt.show()\n",
    "        return\n",
    "    plt.close()\n",
    "\n",
    "    if single:\n",
    "        strLatex=fr\"\"\"\n",
    "        \\begin{{figure}}\n",
    "        \\centering\n",
    "            \\includegraphics[width=0.5\\textwidth,height=0.5\\textheight,keepaspectratio]{{{figname}}}\n",
    "            \\caption{{{figcaption}}}\n",
    "            \\label{{fig:{figlabel}}}\n",
    "        \\end{{figure}}\"\"\"        \n",
    "    else:\n",
    "        strLatex=fr\"\"\"\n",
    "        \\begin{{figure}}\n",
    "        \\centering\n",
    "            \\includegraphics{{{figname}}}\n",
    "            \\caption{{{figcaption}}}\n",
    "            \\label{{fig:{figlabel}}}\n",
    "        \\end{{figure}}\"\"\"\n",
    "    \n",
    "    return display(Latex(strLatex)) "
   ]
  },
  {
   "cell_type": "code",
   "execution_count": 3,
   "metadata": {},
   "outputs": [],
   "source": [
    "MAL = np.linspace(0, 1, 101)\n",
    "p = .05\n",
    "\n",
    "def P_M_p(pm, spec=.5, sens=.5):\n",
    "    return (sens * pm) / (sens * pm + (1 - spec) * (1 - pm))\n",
    "\n",
    "def P_S_n(pm, spec=.5, sens=.5):\n",
    "    return (spec * (1 - pm)) / (spec * (1 - pm) + (1 - sens) * pm)\n",
    "\n",
    "def after(pm, spec=.5, sens=.5, p=.05):\n",
    "    return 1 - P_S_n(pm=pm, spec=spec, sens=sens) - p"
   ]
  },
  {
   "cell_type": "code",
   "execution_count": 4,
   "metadata": {},
   "outputs": [
    {
     "data": {
      "text/latex": [
       "\n",
       "        \\begin{figure}\n",
       "        \\centering\n",
       "            \\includegraphics[width=0.5\\textwidth,height=0.5\\textheight,keepaspectratio]{ideale.png}\n",
       "            \\caption{Esempio di test \"quasi\" ideale.}\n",
       "            \\label{fig:ideale}\n",
       "        \\end{figure}"
      ],
      "text/plain": [
       "<IPython.core.display.Latex object>"
      ]
     },
     "metadata": {},
     "output_type": "display_data"
    }
   ],
   "source": [
    "# Reliable test\n",
    "sens = .995\n",
    "spec = .995\n",
    "inc = .1\n",
    "\n",
    "fig, ax = plt.subplots(figsize=(7, 7))\n",
    "plt.plot(\n",
    "    MAL,\n",
    "    P_M_p(MAL, spec, sens),\n",
    "    lw=3, label=\"TEST positivo\", c=\"b\"\n",
    ")\n",
    "plt.plot(\n",
    "    MAL,\n",
    "    1 - P_S_n(MAL, spec, sens),\n",
    "    lw=3, label=\"TEST negativo\", c=\"r\"\n",
    ")\n",
    "plt.scatter(\n",
    "    inc,\n",
    "    P_M_p(inc, spec, sens),\n",
    "    c=\"k\", s=50, zorder=5,\n",
    ")\n",
    "plt.scatter(\n",
    "    P_M_p(inc, spec, sens),\n",
    "    1 - P_S_n(P_M_p(inc, spec, sens), spec, sens),\n",
    "    c=\"k\", s=100, zorder=5, marker=\"$1$\"\n",
    ")\n",
    "plt.scatter(\n",
    "    1 - P_S_n(P_M_p(inc, spec, sens), spec, sens),\n",
    "    1 - P_S_n(1 - P_S_n(P_M_p(inc, spec, sens), spec, sens), spec, sens) + .02,\n",
    "    c=\"k\", s=100, zorder=5, marker=\"$2$\"\n",
    ")\n",
    "plt.plot([0,1], [0,1], c=\"g\")\n",
    "plt.ylabel(\"Probabilità di Malattia a $\\mathbf{Posteriori}$\", fontsize=\"xx-large\")\n",
    "plt.xlabel(\"Probabilità di Malattia a $\\mathbf{Priori}$\", fontsize=\"xx-large\")\n",
    "plt.legend(loc=\"best\")\n",
    "\n",
    "plt.axvline(inc, ls=\":\", c=\"k\")\n",
    "plt.axhline(p, c=\"k\", alpha=.5)\n",
    "plt.table(\n",
    "    cellText=[\n",
    "        [\n",
    "            f\"{inc:.4f} = {inc:.2%}\", \n",
    "            f'{P_M_p(inc, spec, sens):.4f} = {P_M_p(inc, spec, sens):.2%}', \n",
    "            f'{(1 - P_S_n(inc, spec, sens)):.4f} = {(1 - P_S_n(inc, spec, sens)):.2%}'\n",
    "        ],\n",
    "    ],\n",
    "    colLabels=[\"Probabilità a Priori\", \"Test Positivo\", \"Test Negativo\"],\n",
    "    loc=\"top\"\n",
    ")\n",
    "plt.title(\n",
    "    f'Sensibilità {sens:.1%}  &  Specificità {spec:.1%}', \n",
    "    pad=45, fontsize=15)\n",
    "plt.xlim(0, 1); plt.ylim(0, 1)\n",
    "\n",
    "plt.arrow(.13, .92, .8, -.8, length_includes_head=True, head_width=.025, lw=1, color=\"y\")\n",
    "\n",
    "latexplot(\n",
    "    plt, \"ideale\",\n",
    "    \"Esempio di test \\\"quasi\\\" ideale.\", single=True\n",
    ")"
   ]
  },
  {
   "cell_type": "code",
   "execution_count": 5,
   "metadata": {},
   "outputs": [
    {
     "data": {
      "text/markdown": [
       "\n",
       "$$ P(M|\\ominus) = 0.0006 $$\n"
      ],
      "text/plain": [
       "<IPython.core.display.Markdown object>"
      ]
     },
     "metadata": {},
     "output_type": "display_data"
    }
   ],
   "source": [
    "display(Markdown(fr\"\"\"\n",
    "$$ P(M|\\ominus) = {1 - P_S_n(.1, .995, .995):.4f} $$\n",
    "\"\"\"))"
   ]
  },
  {
   "cell_type": "markdown",
   "metadata": {},
   "source": [
    "Notiamo come $P(M|\\ominus)$, ovvero la probabilità a posteriori di essere malato dopo un test negativo, sia nettamente inferiore a $p_{\\ominus}$. Dunque è sufficiente un solo test negativo per ritenere sano un individuo di cui non si abbiano precedenti informazioni (la sua probabilità a priori era solo la prevalenza).\n",
    "\n",
    "$P(M|\\oplus)$, ovvero la probabilità a posteriori di essere malato dopo un test positivo per un individuo nelle stesse condizioni, risulta superiore al 95% e diventa la nuova _probabilità a priori_ per quel soggetto in caso di un test successivo (punto 1 sulla curva rossa). Si può calcolare che $P(M|\\ominus)$ laddove la probabilità a priori del soggetto non sia la prevalenza ma $P(M)=P(M|\\oplus)=95.67\\%$ è superiore al 5% infatti"
   ]
  },
  {
   "cell_type": "code",
   "execution_count": 6,
   "metadata": {},
   "outputs": [
    {
     "data": {
      "text/markdown": [
       "\n",
       "$$\n",
       "P(M|\\ominus) = 1 - \\frac{\n",
       "P(\\ominus|\\overline{M})(1 - P(M|\\oplus))\n",
       "}{\n",
       "P(\\ominus|\\overline{M})(1 - P(M|\\oplus)) + (1 - P(\\oplus|M))P(M|\\oplus)\n",
       "} = 0.1000\n",
       "$$\n"
      ],
      "text/plain": [
       "<IPython.core.display.Markdown object>"
      ]
     },
     "metadata": {},
     "output_type": "display_data"
    }
   ],
   "source": [
    "display(Markdown(fr\"\"\"\n",
    "$$\n",
    "P(M|\\ominus) = 1 - \\frac{{\n",
    "P(\\ominus|\\overline{{M}})(1 - P(M|\\oplus))\n",
    "}}{{\n",
    "P(\\ominus|\\overline{{M}})(1 - P(M|\\oplus)) + (1 - P(\\oplus|M))P(M|\\oplus)\n",
    "}} = {1 - P_S_n(P_M_p(inc, spec, sens), spec, sens):.4f}\n",
    "$$\n",
    "\"\"\"))"
   ]
  },
  {
   "cell_type": "markdown",
   "metadata": {},
   "source": [
    "da cui ricaviamo che un test negativo in un individuo che abbia precedentemente ricevuto un test positivo, non è sufficiente a ritenerlo sano ma ne sarà necessario un altro. Si può calcolare che la probabilità massima a priori per la quale sia sufficiente un solo test negativo per ritenere sano l'individuo (alla condizioni poste) è pari alla risoluzione per $P(M)$ di\n",
    "\n",
    "\\begin{equation}\\label{eq:massima1}\n",
    "p_{\\ominus} = 1 - P(\\overline{M}|\\ominus)\n",
    "\\end{equation}\n",
    "\n",
    "ovvero\n",
    "\n",
    "\\begin{equation}\\label{eq:massima2}\n",
    "p_{\\ominus} = 1 - \\frac{\n",
    "P(\\ominus|\\overline{M})(1 - P(M))\n",
    "}{\n",
    "P(\\ominus|\\overline{M})(1 - P(M)) + (1 - P(\\oplus|M))P(M)\n",
    "}\n",
    "\\end{equation}\n"
   ]
  },
  {
   "cell_type": "code",
   "execution_count": 7,
   "metadata": {},
   "outputs": [
    {
     "data": {
      "text/markdown": [
       "\n",
       "da cui si ricava facilmente che $P(M)_{max} = 0.9128$.\n"
      ],
      "text/plain": [
       "<IPython.core.display.Markdown object>"
      ]
     },
     "metadata": {},
     "output_type": "display_data"
    }
   ],
   "source": [
    "display(Markdown(fr\"\"\"\n",
    "da cui si ricava facilmente che $P(M)_{{max}} = {spo.fsolve(after, x0=.9, args=(.995, .995))[0]:.4f}$.\n",
    "\"\"\"))"
   ]
  },
  {
   "cell_type": "markdown",
   "metadata": {},
   "source": [
    "Al di sotto di questa probabilità a priori, con questi valori di sensibilità e specificità, servirà un solo test negativo per escludere, stabilito $p_{\\ominus}<.05$, che l'individuo sia malato."
   ]
  },
  {
   "cell_type": "markdown",
   "metadata": {},
   "source": [
    "Notiamo anche come, a parità di sensibilità e specificità, la prevalenza (ovvero la probabilità di malattia a priori) influisca sulla probabilità di malattia a posteriori. Ad esempio per una malattia rara come la Sindrome di Cushing endogena con prevalenza in Europa di un 1 caso du 26'000 <cite data-cite=\"cushing\"></cite> ovvero "
   ]
  },
  {
   "cell_type": "code",
   "execution_count": 8,
   "metadata": {},
   "outputs": [
    {
     "data": {
      "text/markdown": [
       "\n",
       "$P(M)=0.000038=0.0038%$%, la probabilità di malattia a posteriori in seguito a test positivo (con sensibilità e specificità di $.995$) sia\n"
      ],
      "text/plain": [
       "<IPython.core.display.Markdown object>"
      ]
     },
     "metadata": {},
     "output_type": "display_data"
    }
   ],
   "source": [
    "cushing_prior = 1/26000\n",
    "display(Markdown(fr\"\"\"\n",
    "$P(M)={cushing_prior:.6f}={cushing_prior:.4%}$%, la probabilità di malattia a posteriori in seguito a test positivo (con sensibilità e specificità di $.995$) sia\n",
    "\"\"\"))"
   ]
  },
  {
   "cell_type": "code",
   "execution_count": 9,
   "metadata": {},
   "outputs": [
    {
     "data": {
      "text/markdown": [
       "\n",
       "$P(M|\\oplus)=0.0076=0.76%$% \n",
       "dunque molto bassa anche se notevolmente superiore rispetto alla probabilità a priori.\n"
      ],
      "text/plain": [
       "<IPython.core.display.Markdown object>"
      ]
     },
     "metadata": {},
     "output_type": "display_data"
    }
   ],
   "source": [
    "cushing_posterior = P_M_p(cushing_prior, .995, .995)\n",
    "display(Markdown(fr\"\"\"\n",
    "$P(M|\\oplus)={cushing_posterior:.4f}={cushing_posterior:.2%}$% \n",
    "dunque molto bassa anche se notevolmente superiore rispetto alla probabilità a priori.\n",
    "\"\"\"))"
   ]
  },
  {
   "cell_type": "markdown",
   "metadata": {},
   "source": [
    "In questo caso, a parità di sensibilità, servirebbe un test altamente specifico, ad esempio con $P(\\ominus|\\overline{M})=.9999$ col quale si otterrebbe una probabilità a posteriori per test positivo pari a "
   ]
  },
  {
   "cell_type": "code",
   "execution_count": 10,
   "metadata": {},
   "outputs": [
    {
     "data": {
      "text/markdown": [
       "\n",
       "$P(M|\\oplus)=0.2768=27.68%$% \n"
      ],
      "text/plain": [
       "<IPython.core.display.Markdown object>"
      ]
     },
     "metadata": {},
     "output_type": "display_data"
    }
   ],
   "source": [
    "cushing_posterior = P_M_p(cushing_prior, spec=.9999, sens=.995)\n",
    "display(Markdown(fr\"\"\"\n",
    "$P(M|\\oplus)={cushing_posterior:.4f}={cushing_posterior:.2%}$% \n",
    "\"\"\"))"
   ]
  },
  {
   "cell_type": "markdown",
   "metadata": {},
   "source": [
    "# Sensibilità e Specificità"
   ]
  },
  {
   "cell_type": "markdown",
   "metadata": {},
   "source": [
    "Mantenendo fissa la sensibilità a $.995$, variamo la specificità e viceversa"
   ]
  },
  {
   "cell_type": "code",
   "execution_count": 11,
   "metadata": {},
   "outputs": [
    {
     "data": {
      "text/latex": [
       "\n",
       "        \\begin{figure}\n",
       "        \\centering\n",
       "            \\includegraphics{sens-spec.png}\n",
       "            \\caption{Rapporto tra specificità e sensibilità. Le linee piene indicano $P(M|\\oplus)$, le linee tratteggiate $P(M|\\ominus).$}\n",
       "            \\label{fig:sens-spec}\n",
       "        \\end{figure}"
      ],
      "text/plain": [
       "<IPython.core.display.Latex object>"
      ]
     },
     "metadata": {},
     "output_type": "display_data"
    }
   ],
   "source": [
    "colors = [\"b\", \"r\", \"m\", \"y\"]\n",
    "inc = .1\n",
    "\n",
    "fig, ax = plt.subplots(1, 2, figsize=(15, 7))\n",
    "\n",
    "# var spec\n",
    "sens = .995\n",
    "specs = [.995, .8, .5, .25]\n",
    "for color, spec in zip(colors, specs):\n",
    "    ax[0].plot(\n",
    "        MAL,\n",
    "        P_M_p(MAL, spec, sens),\n",
    "        lw=3, label=fr\"spec={spec}\", c=color\n",
    "    )\n",
    "    ax[0].plot(\n",
    "        MAL,\n",
    "        1 - P_S_n(MAL, spec, sens),\n",
    "        lw=3, c=color, ls=\"--\"\n",
    "    )\n",
    "\n",
    "ax[0].plot([0,1], [0,1], c=\"g\")\n",
    "ax[0].set_ylabel(\"Probabilità di Malattia a $\\mathbf{Posteriori}$\", fontsize=\"xx-large\")\n",
    "ax[0].set_xlabel(\"Probabilità di Malattia a $\\mathbf{Priori}$\", fontsize=\"xx-large\")\n",
    "ax[0].legend(loc=\"best\")\n",
    "\n",
    "ax[0].axvline(inc, ls=\":\", c=\"k\")\n",
    "ax[0].axhline(p, c=\"k\", alpha=.5)\n",
    "ax[0].table(\n",
    "    cellText=[\n",
    "        [\n",
    "            f\"{spec:.3f} = {spec:.2%}\", \n",
    "            f\"{inc:.2f} = {inc:.2%}\", \n",
    "            f'{P_M_p(inc, spec, sens):.4f} = {P_M_p(inc, spec, sens):.2%}', \n",
    "            f'{(1 - P_S_n(inc, spec, sens)):.4f} = {(1 - P_S_n(inc, spec, sens)):.2%}'\n",
    "        ] for spec in specs\n",
    "    ],\n",
    "    colLabels=[\"Specificità\", \"Probabilità a Priori\", \"Test Positivo\", \"Test Negativo\"],\n",
    "    loc=\"top\"\n",
    ")\n",
    "ax[0].set_title(\n",
    "    f'Sensibilità {sens:.1%}', \n",
    "    pad=65, fontsize=\"xx-large\")\n",
    "ax[0].set_xlim(0, 1); ax[0].set_ylim(0, 1)\n",
    "\n",
    "# var sens\n",
    "senss = [.995, .8, .5, .25]\n",
    "spec = .995\n",
    "for color, sens in zip(colors, senss):\n",
    "    ax[1].plot(\n",
    "        MAL,\n",
    "        P_M_p(MAL, spec, sens),\n",
    "        lw=3, label=fr\"sens={sens}\", c=color\n",
    "    )\n",
    "    ax[1].plot(\n",
    "        MAL,\n",
    "        1 - P_S_n(MAL, spec, sens),\n",
    "        lw=3, c=color, ls=\"--\"\n",
    "    )\n",
    "\n",
    "ax[1].plot([0,1], [0,1], c=\"g\")\n",
    "ax[1].set_ylabel(\"Probabilità di Malattia a $\\mathbf{Posteriori}$\", fontsize=\"xx-large\")\n",
    "ax[1].set_xlabel(\"Probabilità di Malattia a $\\mathbf{Priori}$\", fontsize=\"xx-large\")\n",
    "ax[1].legend(loc=\"best\")\n",
    "\n",
    "ax[1].axvline(inc, ls=\":\", c=\"k\")\n",
    "ax[1].axhline(p, c=\"k\", alpha=.5)\n",
    "ax[1].table(\n",
    "    cellText=[\n",
    "        [\n",
    "            f\"{sens:.3f} = {sens:.2%}\", \n",
    "            f\"{inc:.2f} = {inc:.2%}\", \n",
    "            f'{P_M_p(inc, spec, sens):.4f} = {P_M_p(inc, spec, sens):.2%}', \n",
    "            f'{(1 - P_S_n(inc, spec, sens)):.4f} = {(1 - P_S_n(inc, spec, sens)):.2%}'\n",
    "        ] for sens in senss\n",
    "    ],\n",
    "    colLabels=[\"Sensibilità\", \"Probabilità a Priori\", \"Test Positivo\", \"Test Negativo\"],\n",
    "    loc=\"top\"\n",
    ")\n",
    "ax[1].set_title(\n",
    "    f'Specificità {spec:.1%}', \n",
    "    pad=65, fontsize=\"xx-large\")\n",
    "ax[1].set_xlim(0, 1); ax[1].set_ylim(0, 1)\n",
    "\n",
    "latexplot(\n",
    "    plt, \"sens-spec\",\n",
    "    \"Rapporto tra specificità e sensibilità. Le linee piene indicano $P(M|\\oplus)$, le linee tratteggiate $P(M|\\ominus).$\"\n",
    ")"
   ]
  },
  {
   "cell_type": "markdown",
   "metadata": {},
   "source": [
    "Notiamo come valori differenti di specificità a parità di sensibilità (o viceversa) abbiano effetti sia sulla probabibilità a posteriori per test positivo che per test negativo sebbene\n",
    "\n",
    "- variazioni nella specificità $P(\\ominus|\\overline{M})$ abbiano maggior effetto su $P(M|\\oplus)$\n",
    "- variazioni nella sensibilità $P(\\oplus|M)$ abbiano maggior effetto su $P(\\overline{M}|\\ominus)$"
   ]
  },
  {
   "cell_type": "code",
   "execution_count": 12,
   "metadata": {},
   "outputs": [
    {
     "data": {
      "text/latex": [
       "\n",
       "        \\begin{figure}\n",
       "        \\centering\n",
       "            \\includegraphics{sens-spec-2.png}\n",
       "            \\caption{Rapporto tra specificità e sensibilità. Le linee piene indicano $P(M|\\oplus)$, le linee tratteggiate $P(M|\\ominus).$ Si nota come sia necessario che i test abbiano determinate caratteristiche per poter essere utili.}\n",
       "            \\label{fig:sens-spec-2}\n",
       "        \\end{figure}"
      ],
      "text/plain": [
       "<IPython.core.display.Latex object>"
      ]
     },
     "metadata": {},
     "output_type": "display_data"
    }
   ],
   "source": [
    "colors = [\"b\", \"r\", \"m\", \"y\", \"g\"]\n",
    "inc = .1\n",
    "tickL = [i/10 for i in range(11)]\n",
    "\n",
    "fig, ax = plt.subplots(1, 2, figsize=(15, 7))\n",
    "\n",
    "# var spec\n",
    "sens = [.001, .1, .5, .9, .999]\n",
    "spec = np.linspace(.001, .999, 701)\n",
    "for col, sen in zip(colors, sens):\n",
    "    ax[0].plot(\n",
    "        spec,\n",
    "        P_M_p(inc, spec, sen),\n",
    "        lw=3, label=fr\"sens={sen:.3f}\", c=col\n",
    "    )\n",
    "    ax[0].plot(\n",
    "        spec,\n",
    "        1 - P_S_n(inc, spec, sen), ls=\"--\",\n",
    "        lw=3, c=col\n",
    "    )\n",
    "ax[0].set_ylabel(\"Probabilità di Malattia a $\\mathbf{Posteriori}$\", fontsize=\"xx-large\")\n",
    "ax[0].set_xlabel(\"Specificità\", fontsize=\"xx-large\")\n",
    "ax[0].legend(loc=\"best\")\n",
    "ax[0].axhline(inc, ls=\":\", c=\"k\")\n",
    "ax[0].set_title(f'Probabilità a priori {inc:.1%}', fontsize=\"xx-large\")\n",
    "#ax[0].set_xlim(0, 1); ax[0].set_ylim(0, 1)\n",
    "ax[0].set_xticks(tickL)\n",
    "ax[0].set_yticks(tickL)\n",
    "ax[0].grid()\n",
    "\n",
    "# var sens\n",
    "sens = np.linspace(.001, .999, 701)\n",
    "spec = [.001, .1, .5, .9, .999]\n",
    "for col, spe in zip(colors, spec):\n",
    "    ax[1].plot(\n",
    "        sens,\n",
    "        P_M_p(inc, spe, sens),\n",
    "        lw=3, label=fr\"spec={spe:.3f}\", c=col\n",
    "    )\n",
    "    ax[1].plot(\n",
    "        sens,\n",
    "        1 - P_S_n(inc, spe, sens), ls=\"--\",\n",
    "        lw=3, c=col\n",
    "    )\n",
    "ax[1].set_ylabel(\"Probabilità di Malattia a $\\mathbf{Posteriori}$\", fontsize=\"xx-large\")\n",
    "ax[1].set_xlabel(\"Sensibilità\", fontsize=\"xx-large\")\n",
    "ax[1].legend(loc=\"upper center\")\n",
    "ax[1].axhline(inc, ls=\":\", c=\"k\")\n",
    "ax[1].axhline(p, ls=\"--\", c=\"g\")\n",
    "ax[1].set_title(f'Probabilità a priori {inc:.1%}', fontsize=\"xx-large\")\n",
    "#ax[1].set_xlim(0, 1); ax[1].set_ylim(0, 1)\n",
    "ax[1].set_xticks(tickL)\n",
    "ax[1].set_yticks(tickL)\n",
    "ax[1].grid()\n",
    "\n",
    "latexplot(\n",
    "    plt, \"sens-spec-2\",\n",
    "    \"Rapporto tra specificità e sensibilità. Le linee piene indicano $P(M|\\oplus)$, le linee tratteggiate $P(M|\\ominus).$ \" +\n",
    "    \"Si nota come sia necessario che i test abbiano determinate caratteristiche per poter essere utili.\"\n",
    ")"
   ]
  },
  {
   "cell_type": "markdown",
   "metadata": {},
   "source": [
    "Si nota come sensibilità e specificità siano strettamente interconnesse. In particolare, data una probabilità di malattia a priori $P(M)$, si vuole che un test abbia\n",
    "\n",
    "- una probabilità di malattia a posteriori dato test positivo almeno $P(M|\\oplus)>P(M)$\n",
    "- una probabilità di malattia a posteriori dato test negativo almeno $P(M|\\ominus)<P(M)$\n",
    "\n",
    "Per trovare i minimi requisiti di un test diagnostico dunque, data la probabilità di malattia a priori, si può risolvere il sistema a due equazioni\n",
    "\n",
    "$$\n",
    "\\left\\{\\begin{matrix}\n",
    "P(M|\\oplus) > P(M) \\\\\n",
    "P(M|\\ominus) < P(M)\n",
    "\\end{matrix}\\right.\n",
    "$$\n",
    "\n",
    "ma avendo stabilito $p_{\\ominus}<.05$ per $P(M|\\ominus)$ si può anche assumere $p_{\\oplus}>.5$ per $P(M|\\oplus)$ ovvero che la probabilità di malattia a posteriori dato test positivo sia almeno superiore al 50%\n",
    "\n",
    "$$\n",
    "\\left\\{\\begin{matrix}\n",
    "P(M|\\oplus) > p_{\\oplus} \\\\\n",
    "P(M|\\ominus) < p_{\\ominus}\n",
    "\\end{matrix}\\right.\n",
    "$$"
   ]
  },
  {
   "cell_type": "code",
   "execution_count": 13,
   "metadata": {
    "scrolled": false
   },
   "outputs": [
    {
     "data": {
      "text/latex": [
       "\n",
       "        \\begin{figure}\n",
       "        \\centering\n",
       "            \\includegraphics{requisitimatrice10.png}\n",
       "            \\caption{Requisiti per $P(M)=.1$. L'area a destra della linea nera nell'immagine di sinistra è il requisito minimo per $P(M|\\oplus)>.5$. L'area a destra della linea bianca nell'immagine di destra è il requisito minimo per $P(M|\\ominus)<.05$.}\n",
       "            \\label{fig:requisitimatrice10}\n",
       "        \\end{figure}"
      ],
      "text/plain": [
       "<IPython.core.display.Latex object>"
      ]
     },
     "metadata": {},
     "output_type": "display_data"
    }
   ],
   "source": [
    "sens = np.linspace(.001, .999, 701)\n",
    "spec = np.linspace(.001, .999, 701)\n",
    "inc = .1\n",
    "\n",
    "ticks = [70*i for i in range(11)]\n",
    "tickL = [i/10 for i in range(11)]\n",
    "\n",
    "fig, ax = plt.subplots(1, 2, figsize=(15, 6))\n",
    "im0 = ax[0].pcolormesh(\n",
    "    P_M_p(inc, spec, sens[:, None]), cmap=\"nipy_spectral\",  # cmap=\"tab20\",\n",
    "    vmin=0, vmax=1\n",
    ")\n",
    "ax[0].plot([701, np.where(P_M_p(.1, spec, 1) >= .5)[0][0]],[0, 701], c=\"k\", zorder=1)\n",
    "ax[0].set_xticks(ticks)\n",
    "ax[0].set_xticklabels(tickL)\n",
    "ax[0].set_yticks(ticks)\n",
    "ax[0].set_yticklabels(tickL)\n",
    "ax[0].set_xlabel(\"Specificità\")\n",
    "ax[0].set_ylabel(\"Sensibilità\")\n",
    "ax[0].set_title(fr\"$P(M|\\oplus)$,   $P(M)={inc}$,   $p_{{\\oplus}}>.5$\", fontsize=15)\n",
    "plt.colorbar(im0, ax=ax[0], ticks=tickL)\n",
    "#ax[0].grid()\n",
    "\n",
    "im1 = ax[1].pcolormesh(\n",
    "    1-P_S_n(inc, spec, sens[:, None]), cmap=\"nipy_spectral\",  # cmap=\"tab20\",\n",
    "    vmin=0, vmax=1\n",
    ")\n",
    "ax[1].plot([0, 701], [701, np.where(1-P_S_n(.1, 1, sens) <= .05)[0][0]], c=\"w\", zorder=1)\n",
    "ax[1].set_xticks(ticks)\n",
    "ax[1].set_xticklabels(tickL)\n",
    "ax[1].set_yticks(ticks)\n",
    "ax[1].set_yticklabels(tickL)\n",
    "ax[1].set_xlabel(\"Specificità\")\n",
    "ax[1].set_ylabel(\"Sensibilità\")\n",
    "ax[1].set_title(fr\"$P(M|\\ominus)$,   $P(M)={inc}$,   $p_{{\\ominus}}<.05$\", fontsize=15)\n",
    "plt.colorbar(im1, ax=ax[1], ticks=tickL)\n",
    "#ax[1].grid()\n",
    "\n",
    "latexplot(\n",
    "    plt, \"requisitimatrice10\",\n",
    "    \"Requisiti per $P(M)=.1$. L'area a destra della linea nera nell'immagine di sinistra è il requisito minimo per $P(M|\\oplus)>.5$. \" +\n",
    "    \"L'area a destra della linea bianca nell'immagine di destra è il requisito minimo per $P(M|\\ominus)<.05$.\"\n",
    ")"
   ]
  },
  {
   "cell_type": "code",
   "execution_count": 14,
   "metadata": {},
   "outputs": [
    {
     "data": {
      "text/latex": [
       "\n",
       "        \\begin{figure}\n",
       "        \\centering\n",
       "            \\includegraphics[width=0.5\\textwidth,height=0.5\\textheight,keepaspectratio]{requisiti10.png}\n",
       "            \\caption{L'area nera indica i requisiti necessari $P(M|\\oplus)>.5$ e $P(M|\\ominus)<.05$ per un test con $P(M)=.1$.}\n",
       "            \\label{fig:requisiti10}\n",
       "        \\end{figure}"
      ],
      "text/plain": [
       "<IPython.core.display.Latex object>"
      ]
     },
     "metadata": {},
     "output_type": "display_data"
    }
   ],
   "source": [
    "sens = np.linspace(.001, .999, 701)\n",
    "spec = np.linspace(.001, .999, 701)\n",
    "inc = .1\n",
    "\n",
    "ticks = [70*i for i in range(11)]\n",
    "tickL = [i/10 for i in range(11)]\n",
    "\n",
    "fig, ax = plt.subplots(1, 1, figsize=(6, 6))\n",
    "im0 = ax.pcolormesh(\n",
    "    np.logical_and(\n",
    "        P_M_p(inc, spec, sens[:, None]) >= .5,\n",
    "        1-P_S_n(inc, spec, sens[:, None]) <= .05\n",
    "    ), cmap=\"gray_r\",  # cmap=\"tab20\",\n",
    "    vmin=0, vmax=1\n",
    ")\n",
    "ax.set_xticks(ticks)\n",
    "ax.set_xticklabels(tickL)\n",
    "ax.set_yticks(ticks)\n",
    "ax.set_yticklabels(tickL)\n",
    "ax.set_xlabel(\"Specificità $P(\\ominus|\\overline{M})$\", fontsize=20)\n",
    "ax.set_ylabel(\"Sensibilità $P(\\oplus|M)$\", fontsize=20)\n",
    "ax.set_title(fr\"Requisiti test per $P(M)={inc}$\", fontsize=20)\n",
    "ax.grid()\n",
    "\n",
    "latexplot(\n",
    "    plt, \"requisiti10\",\n",
    "    \"L'area nera indica i requisiti necessari $P(M|\\oplus)>.5$ e $P(M|\\ominus)<.05$ per un test con $P(M)=.1$.\",\n",
    "    single=True\n",
    ")"
   ]
  },
  {
   "cell_type": "markdown",
   "metadata": {},
   "source": [
    "# COVID-19 e tamponi naso-faringei\n",
    "\n",
    "Studi recenti suggeriscono che i tamponi naso-faringei usati per la diagnosi di COVID-19 (RT-PCR SARS-CoV-2 RNA test) abbiano sensibilità $P(\\oplus|M)=0.777$ e specificità di $P(\\ominus|\\overline{M})=0.988$ <cite data-cite=\"padhye2020reconstructed\"></cite> e che la prevalenza di COVID-19 in Italia (in fase pandemica) sia circa pari a $P(M)=0.13$ <cite data-cite=\"ceylan2020estimation\"></cite> <cite data-cite=\"vollmer2020sub\"></cite> <cite data-cite=\"flaxman2020report\"></cite>.\n",
    "\n",
    "Verifichiamo che il test abbia i requisiti richiesti (figura $\\ref{fig:requisiti13}$): il punto giallo indica i parametri di sensibilità e specificità dei test in esame per $P(M)=.13$, i test hanno quindi caratteristiche accettabili."
   ]
  },
  {
   "cell_type": "code",
   "execution_count": 15,
   "metadata": {},
   "outputs": [
    {
     "data": {
      "text/latex": [
       "\n",
       "        \\begin{figure}\n",
       "        \\centering\n",
       "            \\includegraphics[width=0.5\\textwidth,height=0.5\\textheight,keepaspectratio]{requisiti13.png}\n",
       "            \\caption{L'area nera indica i requisiti necessari $P(M|\\oplus)>.5$ e $P(M|\\ominus)<.05$ per un test con $P(M)=.13$. Il punto giallo indica i parametri di sensibilità e specificità dei test RT-PCR SARS-CoV-2 RNA test per COVID-19: sensibilità $P(\\oplus|M)=0.777$ e specificità di $P(\\ominus|\\overline{M})=0.988$}\n",
       "            \\label{fig:requisiti13}\n",
       "        \\end{figure}"
      ],
      "text/plain": [
       "<IPython.core.display.Latex object>"
      ]
     },
     "metadata": {},
     "output_type": "display_data"
    }
   ],
   "source": [
    "sens = np.linspace(.001, .999, 701)\n",
    "spec = np.linspace(.001, .999, 701)\n",
    "inc = .13\n",
    "\n",
    "ticks = [70*i for i in range(11)]\n",
    "tickL = [i/10 for i in range(11)]\n",
    "\n",
    "fig, ax = plt.subplots(1, 1, figsize=(6, 6))\n",
    "im0 = ax.pcolormesh(\n",
    "    np.logical_and(\n",
    "        P_M_p(inc, spec, sens[:, None]) >= .5,\n",
    "        1-P_S_n(inc, spec, sens[:, None]) <= .05\n",
    "    ), cmap=\"gray_r\",  # cmap=\"tab20\",\n",
    "    vmin=0, vmax=1\n",
    ")\n",
    "ax.scatter(.988*701, .777*701, c=\"yellow\", marker=\"s\")\n",
    "ax.set_xticks(ticks)\n",
    "ax.set_xticklabels(tickL)\n",
    "ax.set_yticks(ticks)\n",
    "ax.set_yticklabels(tickL)\n",
    "ax.set_xlabel(\"Specificità $P(\\ominus|\\overline{M})$\", fontsize=20)\n",
    "ax.set_ylabel(\"Sensibilità $P(\\oplus|M)$\", fontsize=20)\n",
    "ax.set_title(fr\"Requisiti test per $P(M)={inc}$\", fontsize=20)\n",
    "ax.grid()\n",
    "\n",
    "latexplot(\n",
    "    plt, \"requisiti13\",\n",
    "    \"L'area nera indica i requisiti necessari $P(M|\\oplus)>.5$ e $P(M|\\ominus)<.05$ per un test con $P(M)=.13$. Il punto giallo indica i parametri di sensibilità e specificità dei test RT-PCR SARS-CoV-2 RNA test per COVID-19: sensibilità $P(\\oplus|M)=0.777$ e specificità di $P(\\ominus|\\overline{M})=0.988$\",\n",
    "    single=True\n",
    ")"
   ]
  },
  {
   "cell_type": "markdown",
   "metadata": {},
   "source": [
    "Vediamo come si modificano le curve delle probabilità a posteriori impostando questi tre parametri (figura $\\ref{fig:covid}$)."
   ]
  },
  {
   "cell_type": "code",
   "execution_count": 16,
   "metadata": {},
   "outputs": [
    {
     "data": {
      "text/latex": [
       "\n",
       "        \\begin{figure}\n",
       "        \\centering\n",
       "            \\includegraphics[width=0.5\\textwidth,height=0.5\\textheight,keepaspectratio]{covid.png}\n",
       "            \\caption{Probabilità di malattia COVID-19 a posteriori per test RT-PCR SARS-CoV-2 RNA.}\n",
       "            \\label{fig:covid}\n",
       "        \\end{figure}"
      ],
      "text/plain": [
       "<IPython.core.display.Latex object>"
      ]
     },
     "metadata": {},
     "output_type": "display_data"
    }
   ],
   "source": [
    "# Unreliable test\n",
    "sens = .777\n",
    "spec = .988\n",
    "\n",
    "fig, ax = plt.subplots(figsize=(7, 7))\n",
    "plt.plot(\n",
    "    MAL,\n",
    "    P_M_p(MAL, spec, sens),\n",
    "    lw=3, label=\"TEST positivo\", c=\"b\"\n",
    ")\n",
    "plt.plot(\n",
    "    MAL,\n",
    "    1 - P_S_n(MAL, spec, sens),\n",
    "    lw=3, label=\"TEST negativo\", c=\"r\"\n",
    ")\n",
    "plt.scatter(\n",
    "    inc,\n",
    "    P_M_p(inc, spec, sens),\n",
    "    c=\"k\", s=50, zorder=5,\n",
    ")\n",
    "x = P_M_p(inc, spec, sens)\n",
    "for i in range(4):\n",
    "    y = 1 - P_S_n(x, spec, sens)\n",
    "    plt.scatter(x, y,\n",
    "        c=\"k\", s=100, marker=f\"${i+1}$\", zorder=10\n",
    "    )\n",
    "    x = y\n",
    "plt.plot([0,1], [0,1], c=\"g\")\n",
    "plt.ylabel(\"Probabilità di Malattia a $\\mathbf{Posteriori}$\", fontsize=\"xx-large\")\n",
    "plt.xlabel(\"Probabilità di Malattia a $\\mathbf{Priori}$\", fontsize=\"xx-large\")\n",
    "plt.legend(loc=\"best\")\n",
    "\n",
    "plt.axvline(inc, ls=\":\", c=\"k\")\n",
    "plt.axhline(p, c=\"k\", alpha=.5)\n",
    "plt.table(\n",
    "    cellText=[\n",
    "        [\n",
    "            f\"{inc:.4f} = {inc:.2%}\", \n",
    "            f'{P_M_p(inc, spec, sens):.4f} = {P_M_p(inc, spec, sens):.2%}', \n",
    "            f'{(1 - P_S_n(inc, spec, sens)):.4f} = {(1 - P_S_n(inc, spec, sens)):.2%}'\n",
    "        ],\n",
    "    ],\n",
    "    colLabels=[\"Probabilità a Priori\", \"Test Positivo\", \"Test Negativo\"],\n",
    "    loc=\"top\"\n",
    ")\n",
    "plt.title(\n",
    "    f'Sensibilità {sens:.1%}  &  Specificità {spec:.1%}', \n",
    "    pad=45)\n",
    "plt.xlim(0, 1); plt.ylim(0, 1)\n",
    "\n",
    "plt.arrow(.15, .9, .7, -.2, length_includes_head=True, head_width=.025, lw=1, color=\"y\")\n",
    "\n",
    "latexplot(\n",
    "    plt, \"covid\",\n",
    "    \"Probabilità di malattia COVID-19 a posteriori per test RT-PCR SARS-CoV-2 RNA.\",\n",
    "    single=True\n",
    ")"
   ]
  },
  {
   "cell_type": "markdown",
   "metadata": {},
   "source": [
    "Anche in questo caso dunque è sufficiente un test negativo per ritenere sano un soggetto su cui non si abbiano precedenti informazioni."
   ]
  },
  {
   "cell_type": "code",
   "execution_count": 17,
   "metadata": {},
   "outputs": [
    {
     "data": {
      "text/markdown": [
       "\n",
       "$$\n",
       "P(M|\\ominus) = 0.0326 < p_{\\ominus} = 0.05\n",
       "$$\n"
      ],
      "text/plain": [
       "<IPython.core.display.Markdown object>"
      ]
     },
     "metadata": {},
     "output_type": "display_data"
    }
   ],
   "source": [
    "display(Markdown(fr\"\"\"\n",
    "$$\n",
    "P(M|\\ominus) = {1-P_S_n(inc, spec, sens):.4f} < p_{{\\ominus}} = {p}\n",
    "$$\n",
    "\"\"\"))"
   ]
  },
  {
   "cell_type": "markdown",
   "metadata": {},
   "source": [
    "Se invece un soggetto risultasse positivo (punto nero in figura $\\ref{fig:covid}$), la sua probabilità di essere malato passerebbe da $0.13$ (prevalenza stimata di COVID-19 in Italia in fase pandemica) a"
   ]
  },
  {
   "cell_type": "code",
   "execution_count": 18,
   "metadata": {},
   "outputs": [
    {
     "data": {
      "text/markdown": [
       "\n",
       "$$\n",
       "P(M|\\oplus) = 0.9063 > p_{\\oplus} = .5\n",
       "$$\n"
      ],
      "text/plain": [
       "<IPython.core.display.Markdown object>"
      ]
     },
     "metadata": {},
     "output_type": "display_data"
    }
   ],
   "source": [
    "display(Markdown(fr\"\"\"\n",
    "$$\n",
    "P(M|\\oplus) = {P_M_p(inc, spec, sens):.4f} > p_{{\\oplus}} = .5\n",
    "$$\n",
    "\"\"\"))"
   ]
  },
  {
   "cell_type": "markdown",
   "metadata": {},
   "source": [
    "Vediamo quindi la probabilità a posteriori per test negativo $P(M|\\ominus)$ con la probabilità a priori di un soggetto precedentemente risultato positivo (punto 1 in figura $\\ref{fig:covid}$)"
   ]
  },
  {
   "cell_type": "code",
   "execution_count": 19,
   "metadata": {},
   "outputs": [
    {
     "data": {
      "text/markdown": [
       "\n",
       "$$\n",
       "P(M|\\ominus)_1 = 1 - \\frac{\n",
       "P(\\ominus|\\overline{M})(1 - 0.9063)\n",
       "}{\n",
       "P(\\ominus|\\overline{M})(1 - 0.9063) + (1 - P(\\oplus|M))0.9063\n",
       "} = 0.6859\n",
       "$$\n"
      ],
      "text/plain": [
       "<IPython.core.display.Markdown object>"
      ]
     },
     "metadata": {},
     "output_type": "display_data"
    }
   ],
   "source": [
    "prior = P_M_p(inc, spec, sens)\n",
    "new_posterior = 1 - P_S_n(prior, spec, sens)\n",
    "display(Markdown(fr\"\"\"\n",
    "$$\n",
    "P(M|\\ominus)_1 = 1 - \\frac{{\n",
    "P(\\ominus|\\overline{{M}})(1 - {prior:.4f})\n",
    "}}{{\n",
    "P(\\ominus|\\overline{{M}})(1 - {prior:.4f}) + (1 - P(\\oplus|M)){prior:.4f}\n",
    "}} = {new_posterior:.4f}\n",
    "$$\n",
    "\"\"\"))\n",
    "new_prior = new_posterior"
   ]
  },
  {
   "cell_type": "markdown",
   "metadata": {},
   "source": [
    "Dunque un tampone negativo non è sufficiente, il soggetto ha ancora un'elevata probabilità di essere infetto, supponiamo che ne venga fatto un secondo (punto 2 in figura $\\ref{fig:covid}$)"
   ]
  },
  {
   "cell_type": "code",
   "execution_count": 20,
   "metadata": {},
   "outputs": [
    {
     "data": {
      "text/markdown": [
       "\n",
       "$$\n",
       "P(M|\\ominus)_1 = 1 - \\frac{\n",
       "P(\\ominus|\\overline{M})(1 - 0.6859)\n",
       "}{\n",
       "P(\\ominus|\\overline{M})(1 - 0.6859) + (1 - P(\\oplus|M))0.6859\n",
       "} = 0.3302\n",
       "$$\n",
       "\n",
       "Ancora superiore, $33.02%$% di probabilità di essere infetto non è accettabile per ritenere guarito il paziente.\n",
       "Effettuiamo un terzo test (punto 3 in figura $\\ref{fig:covid}$)\n"
      ],
      "text/plain": [
       "<IPython.core.display.Markdown object>"
      ]
     },
     "metadata": {},
     "output_type": "display_data"
    }
   ],
   "source": [
    "new_posterior = 1 - P_S_n(new_prior, spec, sens)\n",
    "display(Markdown(fr\"\"\"\n",
    "$$\n",
    "P(M|\\ominus)_1 = 1 - \\frac{{\n",
    "P(\\ominus|\\overline{{M}})(1 - {new_prior:.4f})\n",
    "}}{{\n",
    "P(\\ominus|\\overline{{M}})(1 - {new_prior:.4f}) + (1 - P(\\oplus|M)){new_prior:.4f}\n",
    "}} = {new_posterior:.4f}\n",
    "$$\n",
    "\n",
    "Ancora superiore, ${new_posterior:.2%}$% di probabilità di essere infetto non è accettabile per ritenere guarito il paziente.\n",
    "Effettuiamo un terzo test (punto 3 in figura $\\ref{{fig:covid}}$)\n",
    "\"\"\"))\n",
    "new_prior = new_posterior"
   ]
  },
  {
   "cell_type": "code",
   "execution_count": 21,
   "metadata": {},
   "outputs": [
    {
     "data": {
      "text/markdown": [
       "\n",
       "$$\n",
       "P(M|\\ominus)_1 = 1 - \\frac{\n",
       "P(\\ominus|\\overline{M})(1 - 0.3302)\n",
       "}{\n",
       "P(\\ominus|\\overline{M})(1 - 0.3302) + (1 - P(\\oplus|M))0.3302\n",
       "} = 0.1001\n",
       "$$\n",
       "\n",
       "$10.01%$% nuovamente superiore a $p_{\\ominus}$, dunque effettuiamo un quarto test (punto 4 in figura $\\ref{fig:covid}$)\n"
      ],
      "text/plain": [
       "<IPython.core.display.Markdown object>"
      ]
     },
     "metadata": {},
     "output_type": "display_data"
    }
   ],
   "source": [
    "new_posterior = 1 - P_S_n(new_prior, spec, sens)\n",
    "display(Markdown(fr\"\"\"\n",
    "$$\n",
    "P(M|\\ominus)_1 = 1 - \\frac{{\n",
    "P(\\ominus|\\overline{{M}})(1 - {new_prior:.4f})\n",
    "}}{{\n",
    "P(\\ominus|\\overline{{M}})(1 - {new_prior:.4f}) + (1 - P(\\oplus|M)){new_prior:.4f}\n",
    "}} = {new_posterior:.4f}\n",
    "$$\n",
    "\n",
    "${new_posterior:.2%}$% nuovamente superiore a $p_{{\\ominus}}$, dunque effettuiamo un quarto test (punto 4 in figura $\\ref{{fig:covid}}$)\n",
    "\"\"\"))\n",
    "new_prior = new_posterior"
   ]
  },
  {
   "cell_type": "code",
   "execution_count": 22,
   "metadata": {},
   "outputs": [
    {
     "data": {
      "text/markdown": [
       "\n",
       "$$\n",
       "P(M|\\ominus)_1 = 1 - \\frac{\n",
       "P(\\ominus|\\overline{M})(1 - 0.1001)\n",
       "}{\n",
       "P(\\ominus|\\overline{M})(1 - 0.1001) + (1 - P(\\oplus|M))0.1001\n",
       "} = 0.0245\n",
       "$$\n",
       "\n",
       "$2.45%$% di probabilità di essere infetto è un valore che possiamo ritenere accettabile per considerarlo sano. \n",
       "Servirebbero quindi quattro tamponi nasofaringei negativi per escludere la possibilità che un soggetto precedentemente risultato positivo per COVID-19 sia considerabile attualmente guarito $P(M|\\ominus)<.05$.\n"
      ],
      "text/plain": [
       "<IPython.core.display.Markdown object>"
      ]
     },
     "metadata": {},
     "output_type": "display_data"
    }
   ],
   "source": [
    "new_posterior = 1 - P_S_n(new_prior, spec, sens)\n",
    "display(Markdown(fr\"\"\"\n",
    "$$\n",
    "P(M|\\ominus)_1 = 1 - \\frac{{\n",
    "P(\\ominus|\\overline{{M}})(1 - {new_prior:.4f})\n",
    "}}{{\n",
    "P(\\ominus|\\overline{{M}})(1 - {new_prior:.4f}) + (1 - P(\\oplus|M)){new_prior:.4f}\n",
    "}} = {new_posterior:.4f}\n",
    "$$\n",
    "\n",
    "${new_posterior:.2%}$% di probabilità di essere infetto è un valore che possiamo ritenere accettabile per considerarlo sano. \n",
    "Servirebbero quindi quattro tamponi nasofaringei negativi per escludere la possibilità che un soggetto precedentemente risultato positivo per COVID-19 sia considerabile attualmente guarito $P(M|\\ominus)<.05$.\n",
    "\"\"\"))"
   ]
  },
  {
   "cell_type": "markdown",
   "metadata": {},
   "source": [
    "Calcolando in questo caso la massima probabilità a priori $P(M)_{max}$ data la quale sia sufficiente un solo tampone negativo per considerare sano il soggetto, otteniamo"
   ]
  },
  {
   "cell_type": "code",
   "execution_count": 23,
   "metadata": {},
   "outputs": [
    {
     "data": {
      "text/markdown": [
       "\n",
       "$$P(M)_{max} = 0.1891$$\n",
       "\n",
       "ovvero per probabilità a priori $P(M^*)>18.91%$% servirà sicuramente più di un tampone.\n"
      ],
      "text/plain": [
       "<IPython.core.display.Markdown object>"
      ]
     },
     "metadata": {},
     "output_type": "display_data"
    }
   ],
   "source": [
    "max13 = spo.fsolve(after, x0=.9, args=(.988, .777))[0]\n",
    "display(Markdown(fr\"\"\"\n",
    "$$P(M)_{{max}} = {max13:.4f}$$\n",
    "\n",
    "ovvero per probabilità a priori $P(M^*)>{max13:.2%}$% servirà sicuramente più di un tampone.\n",
    "\"\"\"))"
   ]
  },
  {
   "cell_type": "code",
   "execution_count": null,
   "metadata": {},
   "outputs": [],
   "source": []
  }
 ],
 "metadata": {
  "kernelspec": {
   "display_name": "Python 3",
   "language": "python",
   "name": "python3"
  },
  "language_info": {
   "codemirror_mode": {
    "name": "ipython",
    "version": 3
   },
   "file_extension": ".py",
   "mimetype": "text/x-python",
   "name": "python",
   "nbconvert_exporter": "python",
   "pygments_lexer": "ipython3",
   "version": "3.7.7"
  }
 },
 "nbformat": 4,
 "nbformat_minor": 4
}
