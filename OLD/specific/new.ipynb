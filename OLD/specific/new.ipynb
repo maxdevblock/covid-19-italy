{
 "cells": [
  {
   "cell_type": "markdown",
   "metadata": {},
   "source": [
    "# Introduzione\n",
    "\n",
    "Si presenta una breve analisi, che non pretende di essere né esaustiva né professionale, degli strumenti matematici di base utilizzati per la definizione delle probabilità di malattia a priori e a posteriori dati i risultati di test diagnostici qualitativi ripetuti.\n",
    "\n",
    "La _prevalenza_ di una malattia infettiva corrisponde alla percentuale di popolazione affetta ovvero alla probabilità che un individuo di tale popolazione scelto a caso sia affetto dalla malattia <cite data-cite=\"porta2014dictionary\"></cite>.\n",
    "\n",
    "Dal punto di vista bayesiano la prevalenza corrisponde alla probabilità **a priori** $P(M)$ di essere malato. La probabilità dunque **a priori** di non essere affetto dalla malattia $P(\\overline{M})$ sarà pari a $1 - P(M)$ <cite data-cite=\"kruschke2014doing\"></cite>.\n",
    "\n",
    "Durante un'epidemia la prevalenza, per ovvi motivi, si modifica: una percentuale nettamente superiore di popolazione è affetta dalla malattia ovvero la probabilità di essere malati aumenta.\n",
    "\n",
    "Un test diagnostico qualitativo (come il tampone naso-faringeo) ha due possibilità di esito: positivo $\\oplus$ oppure negativo $\\ominus$.\n",
    "\n",
    "La probabilità di ottenere un test positivo per un individuo malato rappresenta la _sensibilità_ del test <cite data-cite=\"porta2014dictionary\"></cite>\n",
    "\n",
    "\\begin{equation}\\label{eq:sens}\n",
    "P(\\oplus | M) = \\textrm{sensibilità}\n",
    "\\end{equation}\n",
    "\n",
    "la situazione ideale sarebbe quindi $P(\\oplus|M)=1$ ovvero ottenere 100% di test positivi su tutti i malati che equivale ad avere 0% di _falsi negativi_ \n",
    "\n",
    "\\begin{equation}\\label{eq:falsineg}\n",
    "P(\\ominus|M)=\\overline{P(\\oplus|M)}=1-P(\\oplus|M)=0\n",
    "\\end{equation}\n",
    "\n",
    "ovvero nessun malato otterrà un test falsamente negativo.\n",
    "\n",
    "La probabilità di ottenere un test negativo per un individuo sano (non affetto dalla malattia in questione) rappresenta invece la _specificità_ del test <cite data-cite=\"porta2014dictionary\"></cite>\n",
    "\n",
    "\\begin{equation}\\label{eq:spec}\n",
    "P(\\ominus | \\overline{M}) = \\textrm{specificità}\n",
    "\\end{equation}\n",
    "\n",
    "la situazione ideale sarebbe quindi $P(\\ominus|\\overline{M})=1$ ovvero ottenere 100% di test negativi su tutti i sani che equivale ad avere 0% di _falsi positivi_ \n",
    "\n",
    "\\begin{equation}\\label{eq:falsipos}\n",
    "P(\\oplus|\\overline{M}) = \\overline{P(\\ominus|\\overline{M})} = 1-P(\\ominus|\\overline{M}) =0\n",
    "\\end{equation}\n",
    "\n",
    "ovvero nessun sano otterrà un test falsamente positivo.\n",
    "\n",
    "Prevalenza, sensibilità e specificità influiscono sulla probabilità **a posteriori** di essere malato o sano in seguito a risultato positivo o negativo del test.\n",
    "\n",
    "# Test e Teorema di Bayes\n",
    "\n",
    "Il teorema di Bayes $\\eqref{eq:bayes}$ ci spiega il motivo e ci indica come calcolare queste probabilità.\n",
    "\n",
    "\\begin{equation}\\label{eq:bayes}\n",
    "P(A|B) = \\frac{P(B|A)P(A)}{P(B)}\n",
    "\\end{equation}\n",
    "\n",
    "dove $P(B)$ può essere calcolato come\n",
    "\n",
    "\\begin{equation}\\label{eq:denom}\n",
    "P(B) = P(B|A)P(A) + P(B|\\overline{A})P(\\overline{A})\n",
    "\\end{equation}\n",
    "\n",
    "Applichiamo il teorema di Bayes per calcolare la probabilità di essere malato in seguito a risultato positivo di un test diagnostico:\n",
    "\n",
    "\\begin{equation}\\label{eq:Pmp}\n",
    "P(M|\\oplus) = \\frac{P(\\oplus|M)P(M)}{P(\\oplus)}\n",
    "\\end{equation}\n",
    "\n",
    "Al numeratore conosciamo tutti i termini: il primo è la sensibilità $\\eqref{eq:sens}$ e il secondo, se dell'individuo non si sa nulla ed è scelto a caso, è la prevalenza (anche nel corso di un'epidemia). Al denominatore invece troviamo la probabilità a priori di avere un test positivo, che non conosciamo direttamente, ma possiamo calcolare grazie alla $\\eqref{eq:denom}$.\n",
    "\n",
    "\\begin{equation}\\label{eq:Pp}\n",
    "P(\\oplus) = P(\\oplus|M)P(M) + P(\\oplus|\\overline{M})P(\\overline{M})\n",
    "\\end{equation}\n",
    "\n",
    "dove $P(\\oplus|\\overline{M})$ ovvero la probabilità di avere un test positivo su individuo sano è $P(\\oplus|\\overline{M}) = 1 - P(\\ominus|\\overline{M})$ e, come già sappiamo, $P(\\overline{M}) = 1 - P(M)$. Dunque la $\\eqref{eq:Pmp}$ diventa:\n",
    "\n",
    "\\begin{equation}\\label{eq:Pmp2}\n",
    "P(M|\\oplus) = \\frac{P(\\oplus|M)P(M)}{P(\\oplus|M)P(M) + (1 - P(\\ominus|\\overline{M}))(1 - P(M))}\n",
    "\\end{equation}\n",
    "\n",
    "ovvero\n",
    "\n",
    "\\begin{equation}\\label{eq:Pmp3}\n",
    "P(M|\\oplus) = \\frac{\n",
    "\\textrm{sensibilità} \\cdot \\textrm{prevalenza} }{\n",
    "\\textrm{sensibilità} \\cdot \\textrm{prevalenza} + (1 - \\textrm{specificità}) \\cdot (1 - \\textrm{prevalenza})\n",
    "}\n",
    "\\end{equation}\n",
    "\n",
    "Applicando invece il teorema di Bayes per calcolare la probabilità di non essere malato in seguito ad un test negativo otteniamo\n",
    "\n",
    "\\begin{equation}\\label{eq:Psn}\n",
    "P(\\overline{M}|\\ominus) = \\frac{P(\\ominus|\\overline{M})P(\\overline{M})}{P(\\ominus)}\n",
    "\\end{equation}\n",
    "\n",
    "anche in questo caso conosciamo il numeratore (specificità e 1 - prevalenza). Il denominatore può essere espresso come\n",
    "\n",
    "\\begin{equation}\\label{eq:Pn}\n",
    "P(\\ominus) = P(\\ominus|\\overline{M})P(\\overline{M}) + P(\\ominus|M)P(M)\n",
    "\\end{equation}\n",
    "\n",
    "dove $P(\\ominus|M) = 1 - P(\\oplus|M)$. Sostituendo nella $\\eqref{eq:Psn}$ otteniamo quindi\n",
    "\n",
    "\\begin{equation}\\label{eq:Psn2}\n",
    "P(\\overline{M}|\\ominus) = \\frac{\n",
    "P(\\ominus|\\overline{M})(1 - P(M))\n",
    "}{\n",
    "P(\\ominus|\\overline{M})(1 - P(M)) + (1 - P(\\oplus|M))P(M)\n",
    "}\n",
    "\\end{equation}\n",
    "\n",
    "ovvero\n",
    "\n",
    "\\begin{equation}\\label{eq:Psn3}\n",
    "P(\\overline{M}|\\ominus) = \\frac{\n",
    "\\textrm{specificità} \\cdot (1 - \\textrm{prevalenza})\n",
    "}{\n",
    "\\textrm{specificità} \\cdot (1 - \\textrm{prevalenza}) + \n",
    "(1 - \\textrm{sensibilità}) \\cdot \\textrm{prevalenza}\n",
    "}\n",
    "\\end{equation}\n",
    "\n",
    "Abbiamo dunque ora tutti gli strumenti necessari per calcolare la probabilità a posteriori di essere malati (o sani) in seguito ad esito del test diagnostico.\n",
    "\n",
    "# Test quasi ideale\n",
    "\n",
    "Prendiamo a titolo d'esempio un buon test (\"quasi\" ideale) con specificità e sensibilità al 99.5%, supponendo un prevalenza del 10%:\n",
    "\n",
    "\\begin{equation}\\label{eq:ex995}\n",
    "P(M) = .1 \\; \\; ,\\; \\; P(\\oplus|M) = .995 \\; \\; ,\\; \\; P(\\ominus|\\overline{M}) = .995\n",
    "\\end{equation}\n",
    "\n",
    "alle ascisse metteremo la probabilità a priori di essere malato da 0 a 1 e alle ordinate la probabilità a posteriori di essere malato dato il risultato del test (figura $\\ref{fig:ideale}$). La linea blu rappresenta la probabilità a posteriori di essere malato in seguito a test positivo $P(M|\\oplus)$ mentre la linea rossa la probabilità a posteriori di essere malato in seguito a test negativo $1 - P(\\overline{M}|\\ominus)$. La linea tratteggiata verticale indica la prevalenza $P(M)$.\n",
    "\n",
    "Poniamo a solo titolo esemplificativo $p_{\\ominus}=.05$ come limite diagnostico per un individuo sano, ovvero una probabilità del 5% di essere malato $P(M|\\ominus)<.05$ è sufficiente a dichiarare sano un individuo in seguito a test negativo. Questo limite in realtà è deciso in base a precise e complesse linee guida per ogni malattia in base alla valutazione dei rischi tra cui: la gravità della condizione patologica e la sua possibile evoluzione, effetti collaterali dei trattamenti, rischio per malattia non trattata ecc..."
   ]
  },
  {
   "cell_type": "code",
   "execution_count": 1,
   "metadata": {},
   "outputs": [],
   "source": [
    "import numpy as np\n",
    "import pandas as pd\n",
    "import scipy.optimize as spo\n",
    "import scipy.stats as sps\n",
    "import matplotlib.pyplot as plt\n",
    "import matplotlib.patches as patches\n",
    "\n",
    "from IPython.display import display, Markdown, Latex"
   ]
  },
  {
   "cell_type": "code",
   "execution_count": 2,
   "metadata": {},
   "outputs": [],
   "source": [
    "def latexplot(plt, figlabel, figcaption, showme=False, single=False):\n",
    "\n",
    "    figname = figlabel + '.png'\n",
    "    plt.savefig(figname, bbox_inches='tight')\n",
    "\n",
    "    if showme:\n",
    "        plt.show()\n",
    "        return\n",
    "    plt.close()\n",
    "\n",
    "    if single:\n",
    "        strLatex=fr\"\"\"\n",
    "        \\begin{{figure}}\n",
    "        \\centering\n",
    "            \\includegraphics[width=0.5\\textwidth,height=0.5\\textheight,keepaspectratio]{{{figname}}}\n",
    "            \\caption{{{figcaption}}}\n",
    "            \\label{{fig:{figlabel}}}\n",
    "        \\end{{figure}}\"\"\"        \n",
    "    else:\n",
    "        strLatex=fr\"\"\"\n",
    "        \\begin{{figure}}\n",
    "        \\centering\n",
    "            \\includegraphics{{{figname}}}\n",
    "            \\caption{{{figcaption}}}\n",
    "            \\label{{fig:{figlabel}}}\n",
    "        \\end{{figure}}\"\"\"\n",
    "    \n",
    "    return display(Latex(strLatex)) "
   ]
  },
  {
   "cell_type": "code",
   "execution_count": 3,
   "metadata": {},
   "outputs": [],
   "source": [
    "MAL = np.linspace(0, 1, 101)\n",
    "p = .05\n",
    "\n",
    "def P_M_p(pm, spec=.5, sens=.5):\n",
    "    return (sens * pm) / (sens * pm + (1 - spec) * (1 - pm))\n",
    "\n",
    "def P_S_n(pm, spec=.5, sens=.5):\n",
    "    return (spec * (1 - pm)) / (spec * (1 - pm) + (1 - sens) * pm)\n",
    "\n",
    "def after(pm, spec=.5, sens=.5, p=.05):\n",
    "    return 1 - P_S_n(pm=pm, spec=spec, sens=sens) - p"
   ]
  },
  {
   "cell_type": "code",
   "execution_count": 4,
   "metadata": {},
   "outputs": [
    {
     "data": {
      "text/latex": [
       "\n",
       "        \\begin{figure}\n",
       "        \\centering\n",
       "            \\includegraphics[width=0.5\\textwidth,height=0.5\\textheight,keepaspectratio]{ideale.png}\n",
       "            \\caption{Esempio di test \"quasi\" ideale.}\n",
       "            \\label{fig:ideale}\n",
       "        \\end{figure}"
      ],
      "text/plain": [
       "<IPython.core.display.Latex object>"
      ]
     },
     "metadata": {},
     "output_type": "display_data"
    }
   ],
   "source": [
    "# Reliable test\n",
    "sens = .995\n",
    "spec = .995\n",
    "inc = .1\n",
    "\n",
    "fig, ax = plt.subplots(figsize=(7, 7))\n",
    "plt.plot(\n",
    "    MAL,\n",
    "    P_M_p(MAL, spec, sens),\n",
    "    lw=3, label=\"TEST positivo\", c=\"b\"\n",
    ")\n",
    "plt.plot(\n",
    "    MAL,\n",
    "    1 - P_S_n(MAL, spec, sens),\n",
    "    lw=3, label=\"TEST negativo\", c=\"r\"\n",
    ")\n",
    "plt.scatter(\n",
    "    inc,\n",
    "    P_M_p(inc, spec, sens),\n",
    "    c=\"k\", s=50, zorder=5,\n",
    ")\n",
    "plt.scatter(\n",
    "    P_M_p(inc, spec, sens),\n",
    "    1 - P_S_n(P_M_p(inc, spec, sens), spec, sens),\n",
    "    c=\"k\", s=100, zorder=5, marker=\"$1$\"\n",
    ")\n",
    "plt.scatter(\n",
    "    1 - P_S_n(P_M_p(inc, spec, sens), spec, sens),\n",
    "    1 - P_S_n(1 - P_S_n(P_M_p(inc, spec, sens), spec, sens), spec, sens) + .02,\n",
    "    c=\"k\", s=100, zorder=5, marker=\"$2$\"\n",
    ")\n",
    "plt.plot([0,1], [0,1], c=\"g\")\n",
    "plt.ylabel(\"Probabilità di Malattia a $\\mathbf{Posteriori}$\", fontsize=\"xx-large\")\n",
    "plt.xlabel(\"Probabilità di Malattia a $\\mathbf{Priori}$\", fontsize=\"xx-large\")\n",
    "plt.legend(loc=\"best\")\n",
    "\n",
    "plt.axvline(inc, ls=\":\", c=\"k\")\n",
    "plt.axhline(p, c=\"k\", alpha=.5)\n",
    "plt.table(\n",
    "    cellText=[\n",
    "        [\n",
    "            f\"{inc:.4f} = {inc:.2%}\", \n",
    "            f'{P_M_p(inc, spec, sens):.4f} = {P_M_p(inc, spec, sens):.2%}', \n",
    "            f'{(1 - P_S_n(inc, spec, sens)):.4f} = {(1 - P_S_n(inc, spec, sens)):.2%}'\n",
    "        ],\n",
    "    ],\n",
    "    colLabels=[\"Probabilità a Priori\", \"Test Positivo\", \"Test Negativo\"],\n",
    "    loc=\"top\"\n",
    ")\n",
    "plt.title(\n",
    "    f'Sensibilità {sens:.1%}  &  Specificità {spec:.1%}', \n",
    "    pad=45, fontsize=15)\n",
    "plt.xlim(0, 1); plt.ylim(0, 1)\n",
    "\n",
    "plt.arrow(.13, .92, .8, -.8, length_includes_head=True, head_width=.025, lw=1, color=\"y\")\n",
    "\n",
    "latexplot(\n",
    "    plt, \"ideale\",\n",
    "    \"Esempio di test \\\"quasi\\\" ideale.\", single=True,\n",
    "    showme=False\n",
    ")"
   ]
  },
  {
   "cell_type": "code",
   "execution_count": 5,
   "metadata": {},
   "outputs": [
    {
     "data": {
      "text/markdown": [
       "\n",
       "$$ P(M|\\ominus) = 0.0006 $$\n"
      ],
      "text/plain": [
       "<IPython.core.display.Markdown object>"
      ]
     },
     "metadata": {},
     "output_type": "display_data"
    }
   ],
   "source": [
    "display(Markdown(fr\"\"\"\n",
    "$$ P(M|\\ominus) = {1 - P_S_n(.1, .995, .995):.4f} $$\n",
    "\"\"\"))"
   ]
  },
  {
   "cell_type": "markdown",
   "metadata": {},
   "source": [
    "Notiamo come $P(M|\\ominus)$, ovvero la probabilità a posteriori di essere malato dopo un test negativo, sia nettamente inferiore a $p_{\\ominus}$. Dunque è sufficiente un solo test negativo per ritenere sano un individuo di cui non si abbiano precedenti informazioni (la sua probabilità a priori era solo la prevalenza).\n",
    "\n",
    "$P(M|\\oplus)$, ovvero la probabilità a posteriori di essere malato dopo un test positivo per un individuo nelle stesse condizioni, risulta superiore al 95% e diventa la nuova _probabilità a priori_ per quel soggetto in caso di un test successivo (punto 1 sulla curva rossa). Si può calcolare che $P(M|\\ominus)$ laddove la probabilità a priori del soggetto non sia la prevalenza ma $P(M)=P(M|\\oplus)=95.67\\%$ è superiore al 5% infatti"
   ]
  },
  {
   "cell_type": "code",
   "execution_count": 6,
   "metadata": {},
   "outputs": [
    {
     "data": {
      "text/markdown": [
       "\n",
       "$$\n",
       "P(M|\\ominus) = 1 - \\frac{\n",
       "P(\\ominus|\\overline{M})(1 - P(M|\\oplus))\n",
       "}{\n",
       "P(\\ominus|\\overline{M})(1 - P(M|\\oplus)) + (1 - P(\\oplus|M))P(M|\\oplus)\n",
       "} = 0.1000\n",
       "$$\n"
      ],
      "text/plain": [
       "<IPython.core.display.Markdown object>"
      ]
     },
     "metadata": {},
     "output_type": "display_data"
    }
   ],
   "source": [
    "display(Markdown(fr\"\"\"\n",
    "$$\n",
    "P(M|\\ominus) = 1 - \\frac{{\n",
    "P(\\ominus|\\overline{{M}})(1 - P(M|\\oplus))\n",
    "}}{{\n",
    "P(\\ominus|\\overline{{M}})(1 - P(M|\\oplus)) + (1 - P(\\oplus|M))P(M|\\oplus)\n",
    "}} = {1 - P_S_n(P_M_p(inc, spec, sens), spec, sens):.4f}\n",
    "$$\n",
    "\"\"\"))"
   ]
  },
  {
   "cell_type": "markdown",
   "metadata": {},
   "source": [
    "da cui ricaviamo che un test negativo in un individuo che abbia precedentemente ricevuto un test positivo, non è sufficiente a ritenerlo sano ma ne sarà necessario un altro. Si può calcolare che la probabilità massima a priori per la quale sia sufficiente un solo test negativo per ritenere sano l'individuo (alla condizioni poste) è pari alla risoluzione per $P(M)$ di\n",
    "\n",
    "\\begin{equation}\\label{eq:massima1}\n",
    "p_{\\ominus} = 1 - P(\\overline{M}|\\ominus)\n",
    "\\end{equation}\n",
    "\n",
    "ovvero\n",
    "\n",
    "\\begin{equation}\\label{eq:massima2}\n",
    "p_{\\ominus} = 1 - \\frac{\n",
    "P(\\ominus|\\overline{M})(1 - P(M))\n",
    "}{\n",
    "P(\\ominus|\\overline{M})(1 - P(M)) + (1 - P(\\oplus|M))P(M)\n",
    "}\n",
    "\\end{equation}\n"
   ]
  },
  {
   "cell_type": "code",
   "execution_count": 7,
   "metadata": {},
   "outputs": [
    {
     "data": {
      "text/markdown": [
       "\n",
       "da cui si ricava facilmente che $P(M)_{max} = 0.9128$.\n"
      ],
      "text/plain": [
       "<IPython.core.display.Markdown object>"
      ]
     },
     "metadata": {},
     "output_type": "display_data"
    }
   ],
   "source": [
    "display(Markdown(fr\"\"\"\n",
    "da cui si ricava facilmente che $P(M)_{{max}} = {spo.fsolve(after, x0=.9, args=(.995, .995))[0]:.4f}$.\n",
    "\"\"\"))"
   ]
  },
  {
   "cell_type": "markdown",
   "metadata": {},
   "source": [
    "Al di sotto di questa probabilità a priori, con questi valori di sensibilità e specificità, servirà un solo test negativo per escludere, stabilito $p_{\\ominus}<.05$, che l'individuo sia malato.\n",
    "\n",
    "Si suppone qui che i test siano indipendenti rispetto alla diagnosi (vedi [Test ripetuti](#Test-ripetuti)) e senza considerare la possibilità che $P(M)$ si modifichi nel tempo ovvero che condizioni cliniche, anamnesi, risultati di altri test ecc portino il medico a riconsiderare la condizione dell'esaminato. In caso invece di test effettuati contemporaneamente o in successione a relativamente breve distanza di tempo, laddove diagnosi e esclusione di malattia dipendano dal risultato combinato dei test effettuati, specificità e sensibilità si modificano di conseguenza a seconda della strategia utilizzata (vedi [Test ripetuti](#Test-ripetuti))."
   ]
  },
  {
   "cell_type": "markdown",
   "metadata": {},
   "source": [
    "Notiamo anche come, a parità di sensibilità e specificità, la prevalenza (ovvero la probabilità di malattia a priori) influisca sulla probabilità di malattia a posteriori. Ad esempio per una malattia rara come la Sindrome di Cushing endogena con prevalenza in Europa di un 1 caso su 26'000 <cite data-cite=\"cushing\"></cite> ovvero "
   ]
  },
  {
   "cell_type": "code",
   "execution_count": 8,
   "metadata": {},
   "outputs": [
    {
     "data": {
      "text/markdown": [
       "\n",
       "$P(M)=0.000038=0.0038%$%, la probabilità di malattia a posteriori in seguito a test positivo (con sensibilità e specificità di $.995$) sia\n"
      ],
      "text/plain": [
       "<IPython.core.display.Markdown object>"
      ]
     },
     "metadata": {},
     "output_type": "display_data"
    }
   ],
   "source": [
    "cushing_prior = 1/26000\n",
    "display(Markdown(fr\"\"\"\n",
    "$P(M)={cushing_prior:.6f}={cushing_prior:.4%}$%, la probabilità di malattia a posteriori in seguito a test positivo (con sensibilità e specificità di $.995$) sia\n",
    "\"\"\"))"
   ]
  },
  {
   "cell_type": "code",
   "execution_count": 9,
   "metadata": {},
   "outputs": [
    {
     "data": {
      "text/markdown": [
       "\n",
       "$P(M|\\oplus)=0.0076=0.76%$% \n",
       "dunque molto bassa anche se notevolmente superiore rispetto alla probabilità a priori.\n"
      ],
      "text/plain": [
       "<IPython.core.display.Markdown object>"
      ]
     },
     "metadata": {},
     "output_type": "display_data"
    }
   ],
   "source": [
    "cushing_posterior = P_M_p(cushing_prior, .995, .995)\n",
    "display(Markdown(fr\"\"\"\n",
    "$P(M|\\oplus)={cushing_posterior:.4f}={cushing_posterior:.2%}$% \n",
    "dunque molto bassa anche se notevolmente superiore rispetto alla probabilità a priori.\n",
    "\"\"\"))"
   ]
  },
  {
   "cell_type": "markdown",
   "metadata": {},
   "source": [
    "In questo caso, a parità di sensibilità, servirebbe un test altamente specifico, ad esempio con $P(\\ominus|\\overline{M})=.9999$ col quale si otterrebbe una probabilità a posteriori per test positivo pari a "
   ]
  },
  {
   "cell_type": "code",
   "execution_count": 10,
   "metadata": {},
   "outputs": [
    {
     "data": {
      "text/markdown": [
       "\n",
       "$P(M|\\oplus)=0.2768=27.68%$% \n"
      ],
      "text/plain": [
       "<IPython.core.display.Markdown object>"
      ]
     },
     "metadata": {},
     "output_type": "display_data"
    }
   ],
   "source": [
    "cushing_posterior = P_M_p(cushing_prior, spec=.9999, sens=.995)\n",
    "display(Markdown(fr\"\"\"\n",
    "$P(M|\\oplus)={cushing_posterior:.4f}={cushing_posterior:.2%}$% \n",
    "\"\"\"))"
   ]
  },
  {
   "cell_type": "markdown",
   "metadata": {},
   "source": [
    "# Test ripetuti"
   ]
  },
  {
   "cell_type": "markdown",
   "metadata": {},
   "source": [
    "La situazione discussa nella precedente [sezione](#Test-quasi-ideale) e in figura $\\ref{fig:ideale}$ è valida però, come si diceva, solo se la diagnosi sia indipendente dal risultato combinato dei test ripetuti. \n",
    "Non considereremo qui la possibilità che $P(M)$ del paziente si modifichi nel tempo: segni, sintomi, anamnesi, ecc che possono portare il medico a rivalutare la condizione del soggetto e dunque la sua probabilità di malattia.\n",
    "\n",
    "In caso invece di test effettuati contemporaneamente o in successione (stabilita l'indipendenza condizionale dei risultati) se la diagnosi dipende dal risultato ottenuto da tutti i test, specificità e sensibilità si modificano ad ogni ripetizione <cite data-cite=\"weinstein2005clinical\"></cite>.\n",
    "\n",
    "## Test in parallelo\n",
    "\n",
    "I test in parallelo vengono effettuati contemporaneamente e la diagnosi viene effettuata in base all'insieme dei risultati ottenuti. Supponiamo inizialmente che vengano effettuati due test ed estendiamo di volta alla possibilità di $n$ test effettuati.\n",
    "\n",
    "### Regola T (tutti necessari)\n",
    "\n",
    "Entrambi i test negativi o entrambi positivi sono necessari rispettivamente a escludere o diagnosticare la malattia. La indicheremo come regola $\\mathbf{T}_{\\oplus\\ominus}$.\n",
    "\n",
    "$$\n",
    "\\oplus_1 \\wedge \\oplus_2 \\Rightarrow \\textbf{individuo malato}\n",
    "$$\n",
    "\n",
    "$$\n",
    "\\ominus_1 \\wedge \\ominus_2 \\Rightarrow \\textbf{individuo sano}\n",
    "$$\n",
    "\n",
    "$$\n",
    "\\oplus_1 \\wedge \\ominus_2 \\bigvee \\ominus_1 \\wedge \\oplus_2 \\Rightarrow \\textrm{nessuna informazione!}\n",
    "$$\n",
    "\n",
    "Non è una \"vera\" regola utilizzata nella pratica clinica perché nel caso in cui entrambi non siano positivi o negativi i test effettuati (magari anche invasivi o che presentano dei rischi o effetti indesiderati per la tecnica utilizzata) non sono in grado di fornire alcuna informazione e il problema diagnostico rimane aperto. È usata qui solamente a scopo esemplificativo.\n",
    "\n",
    "In questo caso, per la regola della probabilità totale, specificità $\\mathbf{SP}$ e sensibilità $\\mathbf{SE}$ finali sono pari alle produttorie per $i=1 \\cdots n$; non variando $\\mathbf{SP}$ e $\\mathbf{SE}$ da test a test, il risultato finale sarà dunque $\\mathbf{SE}^n$ e $\\mathbf{SP}^n$ riducendo così progressivamente entrambe ad ogni ripetizione. Non è dunque una strategia vantaggiosa (oltre alla perdita di informazione in caso di risultati discordanti):\n",
    "\n",
    "$$\n",
    "\\mathbf{SE}_{tot} = P(\\oplus|M)_{tot} = \\bigcap_{i=1}^{n} P(\\oplus|M)_i = \\prod_{i=1}^{n} \\mathbf{SE} = \\mathbf{SE}^n\n",
    "$$\n",
    "\n",
    "$$\n",
    "\\mathbf{SP}_{tot} = P(\\ominus|\\overline{M})_{tot} = \\bigcap_{i=1}^{n} P(\\ominus|\\overline{M})_i = \\prod_{i=1}^{n} \\mathbf{SP} = \\mathbf{SP}^n\n",
    "$$\n",
    "\n",
    "### Regola O (the OR rule)\n",
    "\n",
    "Solo se entrambi i test sono negativi la diagnosi è esclusa, ne è sufficiente uno solo per diagnosticare la malattia. La indicheremo come Regola $\\mathbf{O}_{\\ominus}$:\n",
    "\n",
    "$$\n",
    "\\ominus_1 \\wedge \\ominus_2 \\Rightarrow \\textrm{individuo sano}\n",
    "$$\n",
    "\n",
    "$$\n",
    "\\oplus_1 \\wedge \\ominus_2 \\bigvee \\ominus_1 \\wedge \\oplus_2 \\Rightarrow \\textbf{individuo malato}\n",
    "$$\n",
    "\n",
    "Dato che entrambi i test negativi sono necessari per escludere la diagnosi $\\overline{M}$ ed essendo $\\mathbf{SP}$ la probabilità a posteriori di avere un test negativo se l'individuo è sano $P(\\ominus|\\overline{M})$, la specificità totale sarà pari al prodotto delle specificità $\\mathbf{SP}_1 \\cdot \\mathbf{SP}_2$ che essendo uguali diventa $\\mathbf{SP}^2$. Per $n$ test ripetuti la specificità totale sarà pari alla produttoria degli $n$ test\n",
    "\n",
    "$$\n",
    "\\mathbf{SP}_{tot} = P(\\ominus|\\overline{M})_{tot} = \\bigcap_{i=1}^{n} P(\\ominus|\\overline{M}) = \\prod_{i=1}^{n} \\mathbf{SP}\n",
    "= \\mathbf{SP}^n\n",
    "$$\n",
    "\n",
    "Visto che invece un solo test positivo è sufficiente a diagnosticare la malattia $M$ ed essendo $\\mathbf{SE}$ la probabilità a posteriori di avere un test positivo in caso di malattia $P(\\oplus|M)$, la sensibilità totale sarà pari alla somma delle sensibilità dei due test meno il loro prodotto perché la concomitanza dei due test positivi non è contemplata come risultato utile alla diagnosi\n",
    "\n",
    "$$\n",
    "\\mathbf{SE}_{tot} = P(\\oplus|M)_1 + P(\\oplus|M)_2 - \\Big( P(\\oplus|M)_1 \\cdot P(\\oplus|M)_2 \\Big) = \n",
    "\\mathbf{SE}_1 + \\mathbf{SE}_2 - (\\mathbf{SE}_1 \\cdot \\mathbf{SE}_2)\n",
    "$$\n",
    "\n",
    "che essendo i due test uguali si riduce (in questo caso specifico) a \n",
    "\n",
    "$$\n",
    "\\mathbf{SE}_{tot} = 2 \\cdot P(\\oplus|M) - P(\\oplus|M)^2 = 2 \\mathbf{SE} - \\mathbf{SE}^2\n",
    "$$\n",
    "\n",
    "Per $n$ test, dato che $P(\\ominus|M)$ corrisponde al falso negativo ed è necessario che tutti i test siano negativi per escludere la malattia possiamo dire che i falsi negativi totali sono \n",
    "\n",
    "$$\n",
    "P(\\ominus|M)_{tot} = \\bigcap_{i=1}^{n} P(\\ominus|M)_i = \\prod_{i=1}^{n} P(\\ominus|M)_i\n",
    "$$ \n",
    "\n",
    "ma visto che il falso negativo è complementare alla sensibilità \n",
    "\n",
    "$$\n",
    "P(\\ominus|M)=\\overline{P(\\oplus|M)}=1-P(\\oplus|M)=1-\\mathbf{SE}\n",
    "$$ \n",
    "\n",
    "si può dire che \n",
    "\n",
    "$$\n",
    "P(\\ominus|M)_{tot}=\\prod_{i=1}^{n} (1-\\mathbf{SE})_i\n",
    "$$ \n",
    "\n",
    "e sapendo che allo stesso modo la sensibilità è il complemento del falso negativo \n",
    "\n",
    "$$\n",
    "\\mathbf{SE}=P(\\oplus|M)=1-P(\\ominus|M)\n",
    "$$ \n",
    "\n",
    "si può concludere che \n",
    "\n",
    "$$\n",
    "\\mathbf{SE}_{tot} = 1 - P(\\ominus|M)_{tot} = 1 - \\prod_{i=1}^{n} (1 - \\mathbf{SE} )_i\n",
    "$$\n",
    "\n",
    "Essendo in questo caso i test uguali otteniamo:\n",
    "\n",
    "$$\n",
    "\\mathbf{SE}_{tot} = 1 - (1 - \\mathbf{SE} )^n\n",
    "$$\n",
    "\n",
    "### Regola E (the AND rule)\n",
    "\n",
    "Solo se entrambi i test sono positivi è diagnosticata la malattia, ne è sufficiente uno negativo per escludere la condizione patologica. La indicheremo come Regola $\\mathbf{E}_{\\oplus}$:\n",
    "\n",
    "$$\n",
    "\\oplus_1 \\wedge \\oplus_2 \\Rightarrow \\textbf{individuo malato}\n",
    "$$\n",
    "\n",
    "$$\n",
    "\\oplus_1 \\wedge \\ominus_2 \\bigvee \\ominus_1 \\wedge \\oplus_2 \\Rightarrow \\textrm{individuo sano}\n",
    "$$\n",
    "\n",
    "Dato che entrambi i test positivi sono necessari per confermare la diagnosi $M$ ed essendo $\\mathbf{SE}$ la probabilità a posteriori di avere un test positivo se l'individuo è malato $P(\\oplus|M)$, la sensibilità totale sarà pari al prodotto delle sensibilità $\\mathbf{SE}_1 \\cdot \\mathbf{SE}_2$ che essendo uguali diventa $\\mathbf{SE}^2$. Per $n$ test ripetuti la sensibilità totale sarà pari alla produttoria degli $n$ test\n",
    "\n",
    "$$\n",
    "\\mathbf{SE}_{tot} = P(\\oplus|M)_n = \\bigcap_{i=1}^{n} P(\\oplus|M) = \\prod_{i=1}^{n} \\mathbf{SE}\n",
    "= \\mathbf{SE}^n\n",
    "$$\n",
    "\n",
    "Visto che invece un solo test negativo è sufficiente a escludere la malattia $\\overline{M}$ ed essendo $\\mathbf{SP}$ la probabilità a posteriori di avere un test negativo in caso di salute $P(\\ominus|\\overline{M})$, la specificità totale sarà pari alla somma delle specificità dei due test meno il loro prodotto perché la concomitanza dei due test negativi non è contemplata come risultato utile alla diagnosi\n",
    "\n",
    "$$\n",
    "\\mathbf{SP}_{tot} = P(\\ominus|\\overline{M})_1 + P(\\ominus|\\overline{M})_2 - \\Big( P(\\ominus|\\overline{M})_1 \\cdot P(\\ominus|\\overline{M})_2 \\Big) = \n",
    "\\mathbf{SP}_1 + \\mathbf{SP}_2 - (\\mathbf{SP}_1 \\cdot \\mathbf{SP}_2)\n",
    "$$\n",
    "\n",
    "che essendo i due test uguali si riduce a \n",
    "\n",
    "$$\n",
    "\\mathbf{SP}_{tot} = 2 \\cdot P(\\ominus|\\overline{M}) - P(\\ominus|\\overline{M})^2 = 2 \\mathbf{SP} - \\mathbf{SP}^2\n",
    "$$\n",
    "\n",
    "Per $n$ test, dato che $P(\\oplus|\\overline{M})$ corrisponde al falso positivo ed è necessario che tutti i test siano positivi per diagnosticare la malattia possiamo dire che i falsi positivi totali sono \n",
    "\n",
    "$$\n",
    "P(\\oplus|\\overline{M})_{tot} = \\bigcap_{i=1}^{n} P(\\oplus|\\overline{M})_i = \n",
    "\\prod_{i=1}^{n} P(\\oplus|\\overline{M})_i = P(\\oplus|\\overline{M})^n\n",
    "$$ \n",
    "\n",
    "ma visto che il falso positivo è complementare alla specificità \n",
    "\n",
    "$$\n",
    "P(\\oplus|\\overline{M})=\\overline{P(\\ominus|\\overline{M})}=1-P(\\ominus|\\overline{M})=1-\\mathbf{SP}\n",
    "$$ \n",
    "\n",
    "si può dire che \n",
    "\n",
    "$$\n",
    "P(\\oplus|\\overline{M})_{tot}= \\prod_{i=1}^{n}(1-\\mathbf{SP})_i\n",
    "$$ \n",
    "\n",
    "e sapendo che allo stesso modo la specificità è il complemento del falso positivo\n",
    "\n",
    "$$\n",
    "\\mathbf{SP}=P(\\ominus|\\overline{M})=1-P(\\oplus|\\overline{M})\n",
    "$$ \n",
    "\n",
    "si può concludere che \n",
    "\n",
    "$$\n",
    "\\mathbf{SP}_{tot} = 1 - P(\\oplus|\\overline{M})_{tot} = 1 - \\prod_{i=1}^{n}( 1 - \\mathbf{SP} )_i\n",
    "$$\n",
    "\n",
    "Essendo i test uguali in questo si riduce a\n",
    "\n",
    "$$\n",
    "\\mathbf{SP}_{tot} = 1 - ( 1 - \\mathbf{SP} )^n\n",
    "$$\n",
    "\n",
    "## Test in serie\n",
    "\n",
    "I test in serie vengono effettuati a breve distanza di tempo e ripetuti solo se il risultato precedente è positivo o negativo, in base alla strategia utilizzata.\n",
    "\n",
    "### Regola T (tutti ripetuti)\n",
    "\n",
    "Il test viene ripetuto $n$ volte sia che il precedente fosse positivo sia negativo. La indicheremo come regola $\\mathbf{T}_{\\oplus\\ominus}$ come per la regola similare dei test in parallelo.\n",
    "\n",
    "$$\n",
    "\\oplus_1 \\wedge \\oplus_2 \\Rightarrow \\textbf{individuo malato}\n",
    "$$\n",
    "\n",
    "$$\n",
    "\\ominus_1 \\wedge \\ominus_2 \\Rightarrow \\textbf{individuo sano}\n",
    "$$\n",
    "\n",
    "$$\n",
    "\\oplus_1 \\wedge \\ominus_2 \\bigvee \\ominus_1 \\wedge \\oplus_2 \\Rightarrow \\textrm{nessuna informazione!}\n",
    "$$\n",
    "\n",
    "Come il suo omonimo in parallelo, non è una \"vera\" regola utilizzata nella pratica clinica perché nel caso in cui entrambi non siano positivi o negativi i test effettuati non sono in grado di fornire alcuna informazione e il problema diagnostico rimane aperto. È anch'essa usata qui solamente a scopo esemplificativo.\n",
    "\n",
    "In questo caso, per la regola della probabilità totale, specificità $\\mathbf{SP}$ e sensibilità $\\mathbf{SE}$ finali sono pari alle produttorie per $i=1 \\cdots n$; non variando $\\mathbf{SP}$ e $\\mathbf{SE}$ da test a test, il risultato finale sarà dunque $\\mathbf{SE}^n$ e $\\mathbf{SP}^n$ riducendo così progressivamente entrambe ad ogni ripetizione. Non è dunque una strategia vantaggiosa (oltre alla perdita di informazione)\n",
    "\n",
    "$$\n",
    "\\mathbf{SE}_n = P(\\oplus|M)_{tot} = \\bigcap_{i=1}^{n} P(\\oplus|M)_i = \\prod_{i=1}^{n} \\mathbf{SE} = \\mathbf{SE}^n\n",
    "$$\n",
    "\n",
    "$$\n",
    "\\mathbf{SP}_n = P(\\ominus|\\overline{M})_{tot} = \\bigcap_{i=1}^{n} P(\\ominus|\\overline{M})_i = \\prod_{i=1}^{n} \\mathbf{SP} = \\mathbf{SP}^n\n",
    "$$\n",
    "\n",
    "### Regola O (the OR rule)\n",
    "\n",
    "Il test viene ripetuto solo se precedentemente negativo, è sufficiente che il primo o il secondo test siano positivi per diagnosticare la malattia e solo se entrambi sono negativi è eclusa la patologia. La indicheremo come Regola $\\mathbf{O}_{\\ominus}$ (come la similare in parallelo):\n",
    "\n",
    "$$\n",
    "\\ominus_1 \\wedge \\ominus_2 \\Rightarrow \\textrm{individuo sano}\n",
    "$$\n",
    "\n",
    "$$\n",
    "\\oplus_1 \\bigvee \\ominus_1 \\wedge \\oplus_2 \\Rightarrow \\textbf{individuo malato}\n",
    "$$\n",
    "\n",
    "In questo caso, dato che se negativo il test viene sicuramente ripetuto ed essendo $\\mathbf{SP}$ la probabilità a posteriori di avere un test negativo se l'individuo è sano $P(\\ominus|\\overline{M})$, la specificità totale sarà uguale al prodotto delle specificità dei due test che essendo uguali sarà dunque $\\mathbf{SP}^2$. Per test ripetuti $n$ volte sarà dunque pari a \n",
    "  \n",
    "$$\n",
    "\\mathbf{SP}_n = P(\\ominus|\\overline{M})_n = \\bigcap_{i=1}^{n} P(\\ominus|\\overline{M}) = \\prod_{i=1}^{n} \\mathbf{SP}\n",
    "= \\mathbf{SP}^n\n",
    "$$\n",
    "\n",
    "Dato che invece il test viene ripetuto solo se precedentemente non positivo e che $\\mathbf{SE}$ è la probabilità a posteriori di avere un test positivo se l'individuo è malato $P(\\oplus|M)$, la sensibilità totale sarà pari alla sensibilità del primo test più la sensibilità del secondo a condizione che il primo non fosse positivo ovvero $\\mathbf{SE}_1 + \\mathbf{SE}_2 \\cdot (1 - \\mathbf{SE}_1)$ che essendo le sensibilità uguali per i due test si riduce a $2\\mathbf{SE} - \\mathbf{SE}^2$. \n",
    "\n",
    "Per $n$ test, dato che $P(\\ominus|M)$ corrisponde al falso negativo ed è necessario che tutti i test siano negativi per essere ripetuti $n$ volte possiamo dire che i falsi negativi totali sono \n",
    "\n",
    "$$\n",
    "P(\\ominus|M)_{tot} = \\bigcap_{i=1}^{n} P(\\ominus|M)_i = \\prod_{i=1}^{n} P(\\ominus|M)_i = P(\\ominus|M)^n\n",
    "$$ \n",
    "\n",
    "ma visto che il falso negativo è complementare alla sensibilità \n",
    "\n",
    "$$\n",
    "P(\\ominus|M)=\\overline{P(\\oplus|M)}=1-P(\\oplus|M)=1-\\mathbf{SE}\n",
    "$$ \n",
    "\n",
    "si può dire che \n",
    "\n",
    "$$\n",
    "P(\\ominus|M)_{tot}= \\prod_{i=1}^{n}(1-\\mathbf{SE})_i\n",
    "$$ \n",
    "\n",
    "e sapendo che allo stesso modo la sensibilità è il complemento del falso negativo \n",
    "\n",
    "$$\n",
    "\\mathbf{SE}=P(\\oplus|M)=1-P(\\ominus|M)\n",
    "$$ \n",
    "\n",
    "si può concludere che \n",
    "\n",
    "$$\n",
    "\\mathbf{SE}_{tot} = 1 - P(\\ominus|M)_{tot} = 1 - \\prod_{i=1}^{n}( 1 - \\mathbf{SE} )_i\n",
    "$$\n",
    "\n",
    "Essendo i test uguali, come nei precedenti casi si ottiene\n",
    "\n",
    "$$\n",
    "\\mathbf{SE}_{tot} = 1 - ( 1 - \\mathbf{SE} )^n\n",
    "$$\n",
    "\n",
    "### Regola E (the AND rule)\n",
    "\n",
    "Il test viene ripetuto solo se precedentemente positivo, è sufficiente che il primo o il secondo test siano negativi per escludere la malattia e solo se entrambi sono positivi è diagnosticata la patologia. La indicheremo come Regola $\\mathbf{E}_{\\oplus}$ (come la similare in parallelo)\n",
    "\n",
    "$$\n",
    "\\oplus_1 \\wedge \\oplus_2 \\Rightarrow \\textbf{individuo malato}\n",
    "$$\n",
    "\n",
    "$$\n",
    "\\ominus_1 \\bigvee \\oplus_1 \\wedge \\ominus_2 \\Rightarrow \\textrm{individuo sano}\n",
    "$$\n",
    "\n",
    "In questo caso, dato che se positivo il test viene sicuramente ripetuto ed essendo $\\mathbf{SE}$ la probabilità a posteriori di avere un test positivo se l'individuo è malato $P(\\oplus|M)$, la sensibilità totale sarà uguale al prodotto delle sensibilità dei due test che essendo uguali sarà dunque $\\mathbf{SE}^2$. Per test ripetuti $n$ volte sarà dunque pari a \n",
    "\n",
    "$$\n",
    "\\mathbf{SE}_n = P(\\oplus|M)_n = \\bigcap_{i=1}^{n} P(\\oplus|M) = \\prod_{i=1}^{n} \\mathbf{SE}\n",
    "= \\mathbf{SE}^n\n",
    "$$\n",
    "\n",
    "Dato che invece il test viene ripetuto solo se precedentemente non negativo e che $\\mathbf{SP}$ è la probabilità a posteriori di avere un test negativo se l'individuo è sano $P(\\ominus|\\overline{M})$, la specificità totale sarà pari alla specificità del primo test più la specificità del secondo a condizione che il primo non fosse negativo ovvero $\\mathbf{SP}_1 + \\mathbf{SP}_2 \\cdot (1 - \\mathbf{SP}_1)$ che, essendo le specificità uguali, si riduce a $2\\mathbf{SP} - \\mathbf{SP}^2$. \n",
    "\n",
    "Per $n$ test, dato che $P(\\oplus|\\overline{M})$ corrisponde al falso positivo ed è necessario che tutti i test siano positivi per essere ripetuti $n$ volte, possiamo dire che i falsi positivi totali sono \n",
    "\n",
    "$$\n",
    "P(\\oplus|\\overline{M})_{tot} = \\bigcap_{i=1}^{n} P(\\oplus|\\overline{M})_i = \n",
    "\\prod_{i=1}^{n} P(\\oplus|\\overline{M})_i = P(\\oplus|\\overline{M})^n\n",
    "$$ \n",
    "\n",
    "ma visto che il falso positivo è complementare alla specificità \n",
    "\n",
    "$$\n",
    "P(\\oplus|\\overline{M})=\\overline{P(\\ominus|\\overline{M})}=1-P(\\ominus|\\overline{M})=1-\\mathbf{SP}\n",
    "$$ \n",
    "\n",
    "si può dire che \n",
    "\n",
    "$$\n",
    "P(\\oplus|\\overline{M})_{tot}= \\prod_{i=1}^{n} (1-\\mathbf{SP})_i\n",
    "$$ \n",
    "\n",
    "e sapendo che allo stesso modo la specificità è il complemento del falso positivo\n",
    "\n",
    "$$\n",
    "\\mathbf{SP}=P(\\ominus|\\overline{M})=1-P(\\oplus|\\overline{M})\n",
    "$$ \n",
    "\n",
    "si può concludere che \n",
    "\n",
    "$$\n",
    "\\mathbf{SP}_{tot} = 1 - P(\\oplus|\\overline{M})_{tot} = 1 - \\prod_{i=1}^{n}( 1 - \\mathbf{SP} )_i\n",
    "$$\n",
    "\n",
    "Anche in questo caso dato i test sono uguali si ottiene quindi\n",
    "\n",
    "$$\n",
    "\\mathbf{SP}_{tot} = 1 - ( 1 - \\mathbf{SP} )^n\n",
    "$$\n",
    "\n",
    "## Falsi positivi e falsi negativi\n",
    "\n",
    "Dunque nel caso di ripetizioni del medesimo test (dove si intende lo stesso tipo di test sul medesimo soggetto ma su prelievi o reperti differenti) specificità e sensibilità totali sono le stesse sia in caso la ripetizione fosse in parallelo o in serie (vedi tabella $\\ref{tab:regole}$).\n",
    "\n",
    "Notiamo come (vedi figura $\\ref{fig:ripetizione}$), nel caso della regola $\\mathbf{T}_{\\oplus\\ominus}$ (tutti i test necessari se in parallello o tutti i test ripetuti se in serie), sia sensibilità che specificità \"degradino\" rapidamente portando ben presto a percentuali inaccettabili di falsi positivi ($P(f_+)$) e falsi negativi ($P(f_-)$) loro complementari.\n",
    "\n",
    "Ripetendo invece solo nel caso di test negativo (regola $\\mathbf{O}_{\\ominus}$) o di test positivo (regola $\\mathbf{E}_{\\oplus}$) rispettivamente sensibilità e specificità tendono presto a 1 portando rispettivamente $P(f_-)$ ed $P(f_+)$ (loro complementari) quasi a 0 ma al contempo i parametri rispettivamente di specificità e sensibilità degradano rapidamente, soprattutto se già inizialmente non sufficientemente elevati.\n",
    "\n",
    "Quindi si può utilizzare \n",
    "\n",
    "- la regola $\\mathbf{O}_{\\ominus}$ per migliorare una bassa sensibilità, a patto di avere una buona specificità, riducendo i falsi negativi\n",
    "- la regola $\\mathbf{E}_{\\oplus}$ per migliorare una bassa specificità, a patto di avere una buona sensibilità, riducendo i falsi positivi"
   ]
  },
  {
   "cell_type": "code",
   "execution_count": 11,
   "metadata": {},
   "outputs": [
    {
     "data": {
      "text/latex": [
       "\n",
       "\\begin{table}\n",
       "  \\begin{center}\n",
       "    \\caption{Specificità, sensibilità e falsi per $n$ test ripetuti}\n",
       "    \\label{tab:regole}\n",
       "    \\begin{tabular}{c|c|c|c|c|}\n",
       "        Regola & $\\mathbf{SE}_{tot}$ & $P(f_-)$ & $\\mathbf{SP}_{tot}$ & $P(f_+)$ \\\\\n",
       "        \\toprule\n",
       "        \\midrule\n",
       "        $\\mathbf{T}_{\\oplus\\ominus}$ & $\\mathbf{SE}^n$ & $1-\\mathbf{SE}^n$ & $\\mathbf{SP}^n$ & $1-\\mathbf{SP}^n$ \\\\\n",
       "        \\midrule\n",
       "        $\\mathbf{O}_{\\ominus}$ & $1-(1-\\mathbf{SE})^n$ & $(1-\\mathbf{SE})^n$ & $\\mathbf{SP}^n$ & $1-\\mathbf{SP}^n$ \\\\\n",
       "        \\midrule\n",
       "        $\\mathbf{E}_{\\oplus}$ & $\\mathbf{SE}^n$ & $1-\\mathbf{SE}^n$ & $1-(1-\\mathbf{SP})^n$ & $(1-\\mathbf{SP})^n$ \\\\\n",
       "        \\midrule\n",
       "    \\end{tabular}\n",
       "  \\end{center}\n",
       "\\end{table}\n",
       "        "
      ],
      "text/plain": [
       "<IPython.core.display.Latex object>"
      ]
     },
     "metadata": {},
     "output_type": "display_data"
    }
   ],
   "source": [
    "display(\n",
    "    Latex(\n",
    "        r\"\"\"\n",
    "\\begin{table}\n",
    "  \\begin{center}\n",
    "    \\caption{Specificità, sensibilità e falsi per $n$ test ripetuti}\n",
    "    \\label{tab:regole}\n",
    "    \\begin{tabular}{c|c|c|c|c|}\n",
    "        Regola & $\\mathbf{SE}_{tot}$ & $P(f_-)$ & $\\mathbf{SP}_{tot}$ & $P(f_+)$ \\\\\n",
    "        \\toprule\n",
    "        \\midrule\n",
    "        $\\mathbf{T}_{\\oplus\\ominus}$ & $\\mathbf{SE}^n$ & $1-\\mathbf{SE}^n$ & $\\mathbf{SP}^n$ & $1-\\mathbf{SP}^n$ \\\\\n",
    "        \\midrule\n",
    "        $\\mathbf{O}_{\\ominus}$ & $1-(1-\\mathbf{SE})^n$ & $(1-\\mathbf{SE})^n$ & $\\mathbf{SP}^n$ & $1-\\mathbf{SP}^n$ \\\\\n",
    "        \\midrule\n",
    "        $\\mathbf{E}_{\\oplus}$ & $\\mathbf{SE}^n$ & $1-\\mathbf{SE}^n$ & $1-(1-\\mathbf{SP})^n$ & $(1-\\mathbf{SP})^n$ \\\\\n",
    "        \\midrule\n",
    "    \\end{tabular}\n",
    "  \\end{center}\n",
    "\\end{table}\n",
    "        \"\"\"\n",
    "    )\n",
    ")"
   ]
  },
  {
   "cell_type": "code",
   "execution_count": 12,
   "metadata": {},
   "outputs": [
    {
     "data": {
      "text/latex": [
       "\n",
       "        \\begin{figure}\n",
       "        \\centering\n",
       "            \\includegraphics{ripetizione.png}\n",
       "            \\caption{Esempio di ripetizione di 10 test ed effetto delle regole su sensibilità e specificità.}\n",
       "            \\label{fig:ripetizione}\n",
       "        \\end{figure}"
      ],
      "text/plain": [
       "<IPython.core.display.Latex object>"
      ]
     },
     "metadata": {},
     "output_type": "display_data"
    }
   ],
   "source": [
    "SE = .95\n",
    "SP = .82\n",
    "n = 10\n",
    "\n",
    "fig, ax = plt.subplots(1, 3, figsize=(15, 4), dpi=150)\n",
    "\n",
    "fig.suptitle(f\"Ripetizione di 10 test, $\\mathbf{{SE}}={SE}$  $\\mathbf{{SP}}={SP}$\", fontsize=20, y=1.5)\n",
    "\n",
    "ax[0].set_title(\"Ripetizione per tutti i test\", y=1.6, fontsize=15)\n",
    "ax[0].set_xlabel(\"Sensibilità\", fontsize=15)\n",
    "ax[0].set_ylabel(\"Specificità\", fontsize=15)\n",
    "ax[0].grid()\n",
    "cellText = [[1, f\"{SP:.2%}\", f\"{1-SP:.2%}\", f\"{SE:.2%}\", f\"{1-SE:.2%}\"]]\n",
    "ax[0].scatter(SE, SP, marker=\"$1$\", s=100)\n",
    "for i in range(n-1):\n",
    "    SEn = SE ** (i+2)\n",
    "    SPn = SP ** (i+2)\n",
    "    ax[0].scatter(SEn, SPn, marker=f\"${i+2}$\", s=100)\n",
    "    cellText.append([i+2, f\"{SPn:.2%}\", f\"{1-SPn:.2%}\", f\"{SEn:.2%}\", f\"{1-SEn:.2%}\"])\n",
    "ax[0].table(cellText=cellText, colLabels=[\"TEST\", \"SP\", \"$f+$\", \"SE\", \"$f-$\"], loc=\"top\", fontsize=20,\n",
    "            colColours=[(0,0,0,.05), (0,0,0,.25), (0,0,0,.1), (0,0,0,.25), (0,0,0,.1)])\n",
    "    \n",
    "ax[1].set_title(\"Regola O, ripetizione se $\\ominus$\", y=1.6, fontsize=15)\n",
    "ax[1].set_xlabel(\"Sensibilità\", fontsize=15)\n",
    "ax[1].grid()\n",
    "cellText = [[1, f\"{SP:.2%}\", f\"{1-SP:.2%}\", f\"{SE:.2%}\", f\"{1-SE:.2%}\"]]\n",
    "ax[1].scatter(SE, SP, marker=\"$1$\", s=100)\n",
    "for i in range(n-1):\n",
    "    SEn = 1 - (1 - SE) ** (i + 2)\n",
    "    SPn = SP ** (i+2)\n",
    "    ax[1].scatter(SEn, SPn, marker=f\"${i+2}$\", s=100)\n",
    "    cellText.append([i+2, f\"{SPn:.2%}\", f\"{1-SPn:.2%}\", f\"{SEn:.2%}\", f\"{1-SEn:.2%}\"])\n",
    "ax[1].table(cellText=cellText, colLabels=[\"TEST\", \"SP\", \"$f+$\", \"SE\", \"$f-$\"], loc=\"top\", fontsize=20,\n",
    "           colColours=[(0,0,0,.05), (0,0,0,.25), (0,0,0,.1), (0,0,0,.25), (0,0,0,.1)])\n",
    "    \n",
    "ax[2].set_xlabel(\"Sensibilità\", fontsize=15)\n",
    "ax[2].grid()\n",
    "cellText = [[1, f\"{SP:.2%}\", f\"{1-SP:.2%}\", f\"{SE:.2%}\", f\"{1-SE:.2%}\"]]\n",
    "ax[2].scatter(SE, SP, marker=\"$1$\", s=100)\n",
    "for i in range(n-1):\n",
    "    SPn = 1 - (1 - SP) ** (i + 2)\n",
    "    SEn = SE ** (i+2)\n",
    "    ax[2].scatter(SEn, SPn, marker=f\"${i+2}$\", s=100)\n",
    "    cellText.append([i+2, f\"{SPn:.2%}\", f\"{1-SPn:.2%}\", f\"{SEn:.2%}\", f\"{1-SEn:.2%}\"])\n",
    "ax[2].table(cellText=cellText, colLabels=[\"TEST\", \"SP\", \"$f+$\", \"SE\", \"$f-$\"], loc=\"top\", fontsize=20,\n",
    "           colColours=[(0,0,0,.05), (0,0,0,.25), (0,0,0,.1), (0,0,0,.25), (0,0,0,.1)])\n",
    "ax[2].set_title(\"Regola E, ripetizione se $\\oplus$\", y=1.6, fontsize=15)\n",
    "\n",
    "latexplot(plt, \"ripetizione\",\n",
    "         \"Esempio di ripetizione di 10 test ed effetto delle regole su sensibilità e specificità.\")"
   ]
  },
  {
   "cell_type": "markdown",
   "metadata": {},
   "source": [
    "# Sensibilità e Specificità"
   ]
  },
  {
   "cell_type": "markdown",
   "metadata": {},
   "source": [
    "Mantenendo fissa la sensibilità a $.995$, variamo la specificità e viceversa"
   ]
  },
  {
   "cell_type": "code",
   "execution_count": 13,
   "metadata": {},
   "outputs": [
    {
     "data": {
      "text/latex": [
       "\n",
       "        \\begin{figure}\n",
       "        \\centering\n",
       "            \\includegraphics{sens-spec.png}\n",
       "            \\caption{Rapporto tra specificità e sensibilità. Le linee piene indicano $P(M|\\oplus)$, le linee tratteggiate $P(M|\\ominus).$}\n",
       "            \\label{fig:sens-spec}\n",
       "        \\end{figure}"
      ],
      "text/plain": [
       "<IPython.core.display.Latex object>"
      ]
     },
     "metadata": {},
     "output_type": "display_data"
    }
   ],
   "source": [
    "colors = [\"b\", \"r\", \"m\", \"y\"]\n",
    "inc = .1\n",
    "\n",
    "fig, ax = plt.subplots(1, 2, figsize=(15, 7))\n",
    "\n",
    "# var spec\n",
    "sens = .995\n",
    "specs = [.995, .8, .5, .25]\n",
    "for color, spec in zip(colors, specs):\n",
    "    ax[0].plot(\n",
    "        MAL,\n",
    "        P_M_p(MAL, spec, sens),\n",
    "        lw=3, label=fr\"spec={spec}\", c=color\n",
    "    )\n",
    "    ax[0].plot(\n",
    "        MAL,\n",
    "        1 - P_S_n(MAL, spec, sens),\n",
    "        lw=3, c=color, ls=\"--\"\n",
    "    )\n",
    "\n",
    "ax[0].plot([0,1], [0,1], c=\"g\")\n",
    "ax[0].set_ylabel(\"Probabilità di Malattia a $\\mathbf{Posteriori}$\", fontsize=\"xx-large\")\n",
    "ax[0].set_xlabel(\"Probabilità di Malattia a $\\mathbf{Priori}$\", fontsize=\"xx-large\")\n",
    "ax[0].legend(loc=\"best\")\n",
    "\n",
    "ax[0].axvline(inc, ls=\":\", c=\"k\")\n",
    "ax[0].axhline(p, c=\"k\", alpha=.5)\n",
    "ax[0].table(\n",
    "    cellText=[\n",
    "        [\n",
    "            f\"{spec:.3f} = {spec:.2%}\", \n",
    "            f\"{inc:.2f} = {inc:.2%}\", \n",
    "            f'{P_M_p(inc, spec, sens):.4f} = {P_M_p(inc, spec, sens):.2%}', \n",
    "            f'{(1 - P_S_n(inc, spec, sens)):.4f} = {(1 - P_S_n(inc, spec, sens)):.2%}'\n",
    "        ] for spec in specs\n",
    "    ],\n",
    "    colLabels=[\"Specificità\", \"Probabilità a Priori\", \"Test Positivo\", \"Test Negativo\"],\n",
    "    loc=\"top\"\n",
    ")\n",
    "ax[0].set_title(\n",
    "    f'Sensibilità {sens:.1%}', \n",
    "    pad=65, fontsize=\"xx-large\")\n",
    "ax[0].set_xlim(0, 1); ax[0].set_ylim(0, 1)\n",
    "\n",
    "# var sens\n",
    "senss = [.995, .8, .5, .25]\n",
    "spec = .995\n",
    "for color, sens in zip(colors, senss):\n",
    "    ax[1].plot(\n",
    "        MAL,\n",
    "        P_M_p(MAL, spec, sens),\n",
    "        lw=3, label=fr\"sens={sens}\", c=color\n",
    "    )\n",
    "    ax[1].plot(\n",
    "        MAL,\n",
    "        1 - P_S_n(MAL, spec, sens),\n",
    "        lw=3, c=color, ls=\"--\"\n",
    "    )\n",
    "\n",
    "ax[1].plot([0,1], [0,1], c=\"g\")\n",
    "ax[1].set_ylabel(\"Probabilità di Malattia a $\\mathbf{Posteriori}$\", fontsize=\"xx-large\")\n",
    "ax[1].set_xlabel(\"Probabilità di Malattia a $\\mathbf{Priori}$\", fontsize=\"xx-large\")\n",
    "ax[1].legend(loc=\"best\")\n",
    "\n",
    "ax[1].axvline(inc, ls=\":\", c=\"k\")\n",
    "ax[1].axhline(p, c=\"k\", alpha=.5)\n",
    "ax[1].table(\n",
    "    cellText=[\n",
    "        [\n",
    "            f\"{sens:.3f} = {sens:.2%}\", \n",
    "            f\"{inc:.2f} = {inc:.2%}\", \n",
    "            f'{P_M_p(inc, spec, sens):.4f} = {P_M_p(inc, spec, sens):.2%}', \n",
    "            f'{(1 - P_S_n(inc, spec, sens)):.4f} = {(1 - P_S_n(inc, spec, sens)):.2%}'\n",
    "        ] for sens in senss\n",
    "    ],\n",
    "    colLabels=[\"Sensibilità\", \"Probabilità a Priori\", \"Test Positivo\", \"Test Negativo\"],\n",
    "    loc=\"top\"\n",
    ")\n",
    "ax[1].set_title(\n",
    "    f'Specificità {spec:.1%}', \n",
    "    pad=65, fontsize=\"xx-large\")\n",
    "ax[1].set_xlim(0, 1); ax[1].set_ylim(0, 1)\n",
    "\n",
    "latexplot(\n",
    "    plt, \"sens-spec\",\n",
    "    \"Rapporto tra specificità e sensibilità. Le linee piene indicano $P(M|\\oplus)$, le linee tratteggiate $P(M|\\ominus).$\"\n",
    ")"
   ]
  },
  {
   "cell_type": "markdown",
   "metadata": {},
   "source": [
    "Notiamo come valori differenti di specificità a parità di sensibilità (o viceversa) abbiano effetti sia sulla probabilità a posteriori per test positivo che per test negativo sebbene\n",
    "\n",
    "- variazioni nella specificità $P(\\ominus|\\overline{M})$ abbiano maggior effetto su $P(M|\\oplus)$\n",
    "- variazioni nella sensibilità $P(\\oplus|M)$ abbiano maggior effetto su $P(\\overline{M}|\\ominus)$"
   ]
  },
  {
   "cell_type": "code",
   "execution_count": 14,
   "metadata": {},
   "outputs": [
    {
     "data": {
      "text/latex": [
       "\n",
       "        \\begin{figure}\n",
       "        \\centering\n",
       "            \\includegraphics{sens-spec-2.png}\n",
       "            \\caption{Rapporto tra specificità e sensibilità. Le linee piene indicano $P(M|\\oplus)$, le linee tratteggiate $P(M|\\ominus).$ Si nota come sia necessario che i test abbiano determinate caratteristiche per poter essere utili.}\n",
       "            \\label{fig:sens-spec-2}\n",
       "        \\end{figure}"
      ],
      "text/plain": [
       "<IPython.core.display.Latex object>"
      ]
     },
     "metadata": {},
     "output_type": "display_data"
    }
   ],
   "source": [
    "colors = [\"b\", \"r\", \"m\", \"y\", \"g\"]\n",
    "inc = .1\n",
    "tickL = [i/10 for i in range(11)]\n",
    "\n",
    "fig, ax = plt.subplots(1, 2, figsize=(15, 7))\n",
    "\n",
    "# var spec\n",
    "sens = [.001, .1, .5, .9, .999]\n",
    "spec = np.linspace(.001, .999, 701)\n",
    "for col, sen in zip(colors, sens):\n",
    "    ax[0].plot(\n",
    "        spec,\n",
    "        P_M_p(inc, spec, sen),\n",
    "        lw=3, label=fr\"sens={sen:.3f}\", c=col\n",
    "    )\n",
    "    ax[0].plot(\n",
    "        spec,\n",
    "        1 - P_S_n(inc, spec, sen), ls=\"--\",\n",
    "        lw=3, c=col\n",
    "    )\n",
    "ax[0].set_ylabel(\"Probabilità di Malattia a $\\mathbf{Posteriori}$\", fontsize=\"xx-large\")\n",
    "ax[0].set_xlabel(\"Specificità\", fontsize=\"xx-large\")\n",
    "ax[0].legend(loc=\"best\")\n",
    "ax[0].axhline(inc, ls=\":\", c=\"k\")\n",
    "ax[0].set_title(f'Probabilità a priori {inc:.1%}', fontsize=\"xx-large\")\n",
    "#ax[0].set_xlim(0, 1); ax[0].set_ylim(0, 1)\n",
    "ax[0].set_xticks(tickL)\n",
    "ax[0].set_yticks(tickL)\n",
    "ax[0].grid()\n",
    "\n",
    "# var sens\n",
    "sens = np.linspace(.001, .999, 701)\n",
    "spec = [.001, .1, .5, .9, .999]\n",
    "for col, spe in zip(colors, spec):\n",
    "    ax[1].plot(\n",
    "        sens,\n",
    "        P_M_p(inc, spe, sens),\n",
    "        lw=3, label=fr\"spec={spe:.3f}\", c=col\n",
    "    )\n",
    "    ax[1].plot(\n",
    "        sens,\n",
    "        1 - P_S_n(inc, spe, sens), ls=\"--\",\n",
    "        lw=3, c=col\n",
    "    )\n",
    "ax[1].set_ylabel(\"Probabilità di Malattia a $\\mathbf{Posteriori}$\", fontsize=\"xx-large\")\n",
    "ax[1].set_xlabel(\"Sensibilità\", fontsize=\"xx-large\")\n",
    "ax[1].legend(loc=\"upper center\")\n",
    "ax[1].axhline(inc, ls=\":\", c=\"k\")\n",
    "ax[1].axhline(p, ls=\"--\", c=\"g\")\n",
    "ax[1].set_title(f'Probabilità a priori {inc:.1%}', fontsize=\"xx-large\")\n",
    "#ax[1].set_xlim(0, 1); ax[1].set_ylim(0, 1)\n",
    "ax[1].set_xticks(tickL)\n",
    "ax[1].set_yticks(tickL)\n",
    "ax[1].grid()\n",
    "\n",
    "latexplot(\n",
    "    plt, \"sens-spec-2\",\n",
    "    \"Rapporto tra specificità e sensibilità. Le linee piene indicano $P(M|\\oplus)$, le linee tratteggiate $P(M|\\ominus).$ \" +\n",
    "    \"Si nota come sia necessario che i test abbiano determinate caratteristiche per poter essere utili.\"\n",
    ")"
   ]
  },
  {
   "cell_type": "markdown",
   "metadata": {},
   "source": [
    "Si nota come sensibilità e specificità siano strettamente interconnesse. In particolare, data una probabilità di malattia a priori $P(M)$, si vuole che un test abbia\n",
    "\n",
    "- una probabilità di malattia a posteriori dato test positivo almeno $P(M|\\oplus)>P(M)$\n",
    "- una probabilità di malattia a posteriori dato test negativo almeno $P(M|\\ominus)<P(M)$\n",
    "\n",
    "Per trovare i minimi requisiti di un test diagnostico dunque, data la probabilità di malattia a priori, si può risolvere il sistema a due equazioni\n",
    "\n",
    "$$\n",
    "\\left\\{\\begin{matrix}\n",
    "P(M|\\oplus) > P(M) \\\\\n",
    "P(M|\\ominus) < P(M)\n",
    "\\end{matrix}\\right.\n",
    "$$\n",
    "\n",
    "ma avendo stabilito $p_{\\ominus}<.05$ per $P(M|\\ominus)$ si può anche assumere $p_{\\oplus}>.5$ per $P(M|\\oplus)$ ovvero che la probabilità di malattia a posteriori dato test positivo sia almeno superiore al 50% come requisito minimo e $p_{\\oplus}>.9$ (ovvero superiore al 90%) come requisito ottimale.\n",
    "\n",
    "$$\n",
    "\\left\\{\\begin{matrix}\n",
    "P(M|\\oplus) > p_{\\oplus} \\\\\n",
    "P(M|\\ominus) < p_{\\ominus}\n",
    "\\end{matrix}\\right.\n",
    "$$\n",
    "\n",
    "Nella realtà della pratica clinica, i valori limite $p_{\\ominus}$ e $p_{\\oplus}$ sono stabiliti secondo linee guida per ogni malattia dato il rischio per malattia non trattata, il rischio dovuto ai trattamenti (effetti collaterali e/o indesiderati), ulteriori fattori di rischio derivanti da storia clinica e anamnesi ecc."
   ]
  },
  {
   "cell_type": "code",
   "execution_count": 15,
   "metadata": {},
   "outputs": [],
   "source": [
    "p_plus_min = .5\n",
    "p_plus_opt = .9"
   ]
  },
  {
   "cell_type": "code",
   "execution_count": 16,
   "metadata": {
    "scrolled": false
   },
   "outputs": [
    {
     "data": {
      "text/latex": [
       "\n",
       "        \\begin{figure}\n",
       "        \\centering\n",
       "            \\includegraphics{requisitimatrice10.png}\n",
       "            \\caption{Requisiti per $P(M)=.1$. L'area a destra della linea nera nell'immagine di sinistra è il requisito minimo per $P(M|\\oplus)>.5$  e a destra della linea bianca i requisito ideale per $p(M|\\oplus)>.9$. L'area a destra della linea bianca nell'immagine di destra è il requisito minimo per $P(M|\\ominus)<.05$.}\n",
       "            \\label{fig:requisitimatrice10}\n",
       "        \\end{figure}"
      ],
      "text/plain": [
       "<IPython.core.display.Latex object>"
      ]
     },
     "metadata": {},
     "output_type": "display_data"
    }
   ],
   "source": [
    "sens = np.linspace(.001, .999, 701)\n",
    "spec = np.linspace(.001, .999, 701)\n",
    "inc = .1\n",
    "\n",
    "ticks = [70*i for i in range(11)]\n",
    "tickL = [i/10 for i in range(11)]\n",
    "\n",
    "fig, ax = plt.subplots(1, 2, figsize=(15, 6))\n",
    "im0 = ax[0].pcolormesh(\n",
    "    P_M_p(inc, spec, sens[:, None]), cmap=\"nipy_spectral\",  # cmap=\"tab20\",\n",
    "    vmin=0, vmax=1\n",
    ")\n",
    "ax[0].plot([701, np.where(P_M_p(.1, spec, 1) >= p_plus_min)[0][0]],[0, 701], c=\"k\", zorder=1)\n",
    "ax[0].plot([701, np.where(P_M_p(.1, spec, 1) >= p_plus_opt)[0][0]],[0, 701], c=\"w\", zorder=1)\n",
    "ax[0].set_xticks(ticks)\n",
    "ax[0].set_xticklabels(tickL)\n",
    "ax[0].set_yticks(ticks)\n",
    "ax[0].set_yticklabels(tickL)\n",
    "ax[0].set_xlabel(\"Specificità\")\n",
    "ax[0].set_ylabel(\"Sensibilità\")\n",
    "ax[0].set_title(fr\"$P(M|\\oplus)$,   $P(M)={inc}$,   $p_{{\\oplus}}>.5, .9$\", fontsize=15)\n",
    "plt.colorbar(im0, ax=ax[0], ticks=tickL)\n",
    "#ax[0].grid()\n",
    "\n",
    "im1 = ax[1].pcolormesh(\n",
    "    1-P_S_n(inc, spec, sens[:, None]), cmap=\"nipy_spectral\",  # cmap=\"tab20\",\n",
    "    vmin=0, vmax=1\n",
    ")\n",
    "ax[1].plot([0, 701], [701, np.where(1-P_S_n(.1, 1, sens) <= .05)[0][0]], c=\"w\", zorder=1)\n",
    "ax[1].set_xticks(ticks)\n",
    "ax[1].set_xticklabels(tickL)\n",
    "ax[1].set_yticks(ticks)\n",
    "ax[1].set_yticklabels(tickL)\n",
    "ax[1].set_xlabel(\"Specificità\")\n",
    "ax[1].set_ylabel(\"Sensibilità\")\n",
    "ax[1].set_title(fr\"$P(M|\\ominus)$,   $P(M)={inc}$,   $p_{{\\ominus}}<.05$\", fontsize=15)\n",
    "plt.colorbar(im1, ax=ax[1], ticks=tickL)\n",
    "#ax[1].grid()\n",
    "\n",
    "latexplot(\n",
    "    plt, \"requisitimatrice10\",\n",
    "    \"Requisiti per $P(M)=.1$. \"+\n",
    "    \"L'area a destra della linea nera nell'immagine di sinistra è il requisito minimo per $P(M|\\oplus)>.5$ \"+\n",
    "    \" e a destra della linea bianca i requisito ideale per $p(M|\\oplus)>.9$. \" +\n",
    "    \"L'area a destra della linea bianca nell'immagine di destra è il requisito minimo per $P(M|\\ominus)<.05$.\",\n",
    "    showme=False\n",
    ")"
   ]
  },
  {
   "cell_type": "code",
   "execution_count": 17,
   "metadata": {},
   "outputs": [
    {
     "data": {
      "text/latex": [
       "\n",
       "        \\begin{figure}\n",
       "        \\centering\n",
       "            \\includegraphics[width=0.5\\textwidth,height=0.5\\textheight,keepaspectratio]{requisiti10.png}\n",
       "            \\caption{L'area nera indica i requisiti minimi necessari $P(M|\\oplus)>.5$ e $P(M|\\ominus)<.05$ per un test con $P(M)=.1$. L'area azzurra i requisiti ottimali per $P(M|\\oplus)>.9$.}\n",
       "            \\label{fig:requisiti10}\n",
       "        \\end{figure}"
      ],
      "text/plain": [
       "<IPython.core.display.Latex object>"
      ]
     },
     "metadata": {},
     "output_type": "display_data"
    }
   ],
   "source": [
    "from matplotlib.colors import ListedColormap\n",
    "\n",
    "sens = np.linspace(.001, .999, 701)\n",
    "spec = np.linspace(.001, .999, 701)\n",
    "inc = .1\n",
    "cmp = ListedColormap([[0, 0, 0, 0], [.1, .5, .9, 1]])\n",
    "\n",
    "ticks = [70*i for i in range(11)]\n",
    "tickL = [i/10 for i in range(11)]\n",
    "\n",
    "fig, ax = plt.subplots(1, 1, figsize=(6, 6))\n",
    "im0 = ax.pcolormesh(\n",
    "    np.logical_and(\n",
    "        P_M_p(inc, spec, sens[:, None]) >= p_plus_min,\n",
    "        1-P_S_n(inc, spec, sens[:, None]) <= .05\n",
    "    ), cmap=\"gray_r\",  # cmap=\"tab20\",\n",
    "    vmin=0, vmax=1\n",
    ")\n",
    "im1 = ax.pcolormesh(\n",
    "    np.logical_and(\n",
    "        P_M_p(inc, spec, sens[:, None]) >= p_plus_opt,\n",
    "        1-P_S_n(inc, spec, sens[:, None]) <= .05\n",
    "    ), cmap=cmp,  # cmap=\"tab20\",\n",
    "    vmin=0, vmax=1\n",
    ")\n",
    "ax.set_xticks(ticks)\n",
    "ax.set_xticklabels(tickL)\n",
    "ax.set_yticks(ticks)\n",
    "ax.set_yticklabels(tickL)\n",
    "ax.set_xlabel(\"Specificità $P(\\ominus|\\overline{M})$\", fontsize=20)\n",
    "ax.set_ylabel(\"Sensibilità $P(\\oplus|M)$\", fontsize=20)\n",
    "ax.set_title(fr\"Requisiti test per $P(M)={inc}$\", fontsize=20)\n",
    "ax.grid()\n",
    "\n",
    "latexplot(\n",
    "    plt, \"requisiti10\",\n",
    "    \"L'area nera indica i requisiti minimi necessari $P(M|\\oplus)>.5$ e $P(M|\\ominus)<.05$ per un test con $P(M)=.1$. \"+\n",
    "    \"L'area azzurra i requisiti ottimali per $P(M|\\oplus)>.9$.\",\n",
    "    single=True, showme=False\n",
    ")"
   ]
  },
  {
   "cell_type": "markdown",
   "metadata": {},
   "source": [
    "# COVID-19 e tamponi naso-faringei\n",
    "\n",
    "Studi recenti suggeriscono che i tamponi naso-faringei usati per la diagnosi di COVID-19 (RT-PCR SARS-CoV-2 RNA test) abbiano sensibilità $\\mathbf{SE}=P(\\oplus|M)=0.777$ e specificità di $\\mathbf{SP}=P(\\ominus|\\overline{M})=0.988$ <cite data-cite=\"padhye2020reconstructed\"></cite> e che la prevalenza di COVID-19 in Italia (in fase pandemica) sia circa pari a $P(M)=0.13$ <cite data-cite=\"ceylan2020estimation\"></cite> <cite data-cite=\"vollmer2020sub\"></cite> <cite data-cite=\"flaxman2020report\"></cite>.\n",
    "\n",
    "Verifichiamo che il test abbia i requisiti richiesti (figura $\\ref{fig:requisiti13}$): il punto giallo indica i parametri di sensibilità e specificità dei test in esame per $P(M)=.13$, i test hanno quindi caratteristiche ottimali.\n",
    "\n",
    "Si sottolinea che la presente è una semplice analisi matematica delle probabilità a posteriori in seguito ai risultati dei test. La valutazione dei risultati e delle conseguenti azioni (osservazione o isolamento domiciliare, trattamento farmacologico, ospedalizzazione, dimissione ecc) è presa in sede clinica in base anche ad anamnesi, tracciamento dei contatti, rischi terapeutici, rischi per malattia non trattata e rischi per poteziali infetti non isolati in base alle più recenti indicazioni pubblicate <cite data-cite=\"centers2020interim\"></cite> <cite data-cite=\"bai2020presumed\"></cite> <cite data-cite=\"national2020coronavirus\"></cite>."
   ]
  },
  {
   "cell_type": "code",
   "execution_count": 18,
   "metadata": {},
   "outputs": [
    {
     "data": {
      "text/latex": [
       "\n",
       "        \\begin{figure}\n",
       "        \\centering\n",
       "            \\includegraphics[width=0.5\\textwidth,height=0.5\\textheight,keepaspectratio]{requisiti13.png}\n",
       "            \\caption{L'area nera indica i requisiti necessari $P(M|\\oplus)>.5$ e $P(M|\\ominus)<.05$ per un test con $P(M)=.13$ (azzurra ottimali per $P(M|\\oplus)>.9$). Il punto giallo indica i parametri di sensibilità e specificità dei test RT-PCR SARS-CoV-2 RNA test per COVID-19: sensibilità $P(\\oplus|M)=0.777$ e specificità di $P(\\ominus|\\overline{M})=0.988$}\n",
       "            \\label{fig:requisiti13}\n",
       "        \\end{figure}"
      ],
      "text/plain": [
       "<IPython.core.display.Latex object>"
      ]
     },
     "metadata": {},
     "output_type": "display_data"
    }
   ],
   "source": [
    "sens = np.linspace(.001, .999, 701)\n",
    "spec = np.linspace(.001, .999, 701)\n",
    "inc = .13\n",
    "\n",
    "ticks = [70*i for i in range(11)]\n",
    "tickL = [i/10 for i in range(11)]\n",
    "\n",
    "fig, ax = plt.subplots(1, 1, figsize=(6, 6))\n",
    "im0 = ax.pcolormesh(\n",
    "    np.logical_and(\n",
    "        P_M_p(inc, spec, sens[:, None]) >= p_plus_min,\n",
    "        1-P_S_n(inc, spec, sens[:, None]) <= .05\n",
    "    ), cmap=\"gray_r\",  # cmap=\"tab20\",\n",
    "    vmin=0, vmax=1\n",
    ")\n",
    "im1 = ax.pcolormesh(\n",
    "    np.logical_and(\n",
    "        P_M_p(inc, spec, sens[:, None]) >= p_plus_opt,\n",
    "        1-P_S_n(inc, spec, sens[:, None]) <= .05\n",
    "    ), cmap=cmp,  # cmap=\"tab20\",\n",
    "    vmin=0, vmax=1\n",
    ")\n",
    "ax.scatter(.988*701, .777*701, c=\"yellow\", s=40, ec=\"r\")\n",
    "ax.set_xticks(ticks)\n",
    "ax.set_xticklabels(tickL)\n",
    "ax.set_yticks(ticks)\n",
    "ax.set_yticklabels(tickL)\n",
    "ax.set_xlabel(\"Specificità $P(\\ominus|\\overline{M})$\", fontsize=20)\n",
    "ax.set_ylabel(\"Sensibilità $P(\\oplus|M)$\", fontsize=20)\n",
    "ax.set_title(fr\"Requisiti test per $P(M)={inc}$\", fontsize=20)\n",
    "ax.set_xlim(.8*701,1*701)\n",
    "ax.set_ylim(.6*701,1*701)\n",
    "ax.grid()\n",
    "\n",
    "latexplot(\n",
    "    plt, \"requisiti13\",\n",
    "    \"L'area nera indica i requisiti necessari $P(M|\\oplus)>.5$ e $P(M|\\ominus)<.05$ per un test con $P(M)=.13$ (azzurra ottimali per $P(M|\\oplus)>.9$). Il punto giallo indica i parametri di sensibilità e specificità dei test RT-PCR SARS-CoV-2 RNA test per COVID-19: sensibilità $P(\\oplus|M)=0.777$ e specificità di $P(\\ominus|\\overline{M})=0.988$\",\n",
    "    single=True, showme=False\n",
    ")"
   ]
  },
  {
   "cell_type": "markdown",
   "metadata": {},
   "source": [
    "Vediamo come si modificano le curve delle probabilità a posteriori impostando questi tre parametri (figura $\\ref{fig:covid}$)."
   ]
  },
  {
   "cell_type": "code",
   "execution_count": 19,
   "metadata": {},
   "outputs": [],
   "source": [
    "sens = .777\n",
    "spec = .988"
   ]
  },
  {
   "cell_type": "markdown",
   "metadata": {},
   "source": [
    "Anche in questo caso dunque è sufficiente un test negativo per ritenere sano un soggetto su cui non si abbiano precedenti informazioni."
   ]
  },
  {
   "cell_type": "code",
   "execution_count": 20,
   "metadata": {},
   "outputs": [
    {
     "data": {
      "text/markdown": [
       "\n",
       "$$\n",
       "P(M|\\ominus) = 0.0326 < p_{\\ominus} = 0.05\n",
       "$$\n"
      ],
      "text/plain": [
       "<IPython.core.display.Markdown object>"
      ]
     },
     "metadata": {},
     "output_type": "display_data"
    }
   ],
   "source": [
    "display(Markdown(fr\"\"\"\n",
    "$$\n",
    "P(M|\\ominus) = {1-P_S_n(inc, spec, sens):.4f} < p_{{\\ominus}} = {p}\n",
    "$$\n",
    "\"\"\"))"
   ]
  },
  {
   "cell_type": "markdown",
   "metadata": {},
   "source": [
    "Se invece un soggetto risultasse positivo (punto nero in figura $\\ref{fig:covid}$), la sua probabilità di essere malato passerebbe da $0.13$ (prevalenza stimata di COVID-19 in Italia in fase pandemica) a"
   ]
  },
  {
   "cell_type": "code",
   "execution_count": 21,
   "metadata": {},
   "outputs": [
    {
     "data": {
      "text/markdown": [
       "\n",
       "$$\n",
       "P(M|\\oplus) = 0.9063 > p_{\\oplus} = .9\n",
       "$$\n"
      ],
      "text/plain": [
       "<IPython.core.display.Markdown object>"
      ]
     },
     "metadata": {},
     "output_type": "display_data"
    }
   ],
   "source": [
    "display(Markdown(fr\"\"\"\n",
    "$$\n",
    "P(M|\\oplus) = {P_M_p(inc, spec, sens):.4f} > p_{{\\oplus}} = .9\n",
    "$$\n",
    "\"\"\"))"
   ]
  },
  {
   "cell_type": "markdown",
   "metadata": {},
   "source": [
    "Recentemente per pazienti dimessi affetti da COVID-19, si effettuano 3 test (tampone naso-faringeo RT-PCR RNA) di controllo: uno alla dimissione (se negativo), uno dopo una settimana circa e il terzo dopo un'altra settimana circa. Se i test sono negativi vengono ripetuti, se tutti i tre test risultano negativi è esclusa definitavamente la malattia e il paziente è ritenuto guarito.\n",
    "\n",
    "Quindi si tratta di una ripetizione seriale di tre test con regola $\\mathbf{O}_{\\ominus}$: un solo test positivo è sufficiente a ritenere il paziente ancora malato e tutti i tre test negativi sono necessari a ritenerlo sano."
   ]
  },
  {
   "cell_type": "code",
   "execution_count": 22,
   "metadata": {},
   "outputs": [
    {
     "data": {
      "text/markdown": [
       "\n",
       "La condizione di partenza è pertanto di falsi positivi\n",
       "\n",
       "$$\n",
       "P(f_+) = P(\\oplus|\\overline{M}) = 1 - \\mathbf{SP} = 0.012000 \\simeq 1.20\\%\n",
       "$$\n",
       "\n",
       "e falsi negativi\n",
       "\n",
       "$$\n",
       "P(f_-) = P(\\ominus|M) = 1 - \\mathbf{SE} = 0.223000 \\simeq 22.30\\%\n",
       "$$\n"
      ],
      "text/plain": [
       "<IPython.core.display.Markdown object>"
      ]
     },
     "metadata": {},
     "output_type": "display_data"
    }
   ],
   "source": [
    "display(Markdown(fr\"\"\"\n",
    "La condizione di partenza è pertanto di falsi positivi\n",
    "\n",
    "$$\n",
    "P(f_+) = P(\\oplus|\\overline{{M}}) = 1 - \\mathbf{{SP}} = {1-spec:.6f} \\simeq {(1-.988)*100:.2f}\\%\n",
    "$$\n",
    "\n",
    "e falsi negativi\n",
    "\n",
    "$$\n",
    "P(f_-) = P(\\ominus|M) = 1 - \\mathbf{{SE}} = {1-sens:.6f} \\simeq {(1-.777)*100:.2f}\\%\n",
    "$$\n",
    "\"\"\"))"
   ]
  },
  {
   "cell_type": "code",
   "execution_count": 23,
   "metadata": {},
   "outputs": [
    {
     "data": {
      "text/markdown": [
       "\n",
       "Applicando il test ripetuto con regola $\\mathbf{O}_{\\ominus}$ e le formule derivate sopra abbiamo quindi:\n",
       "\n",
       "$$\n",
       "\\mathbf{SE}_{tot} = 1 - (1 - \\mathbf{SE})^3 = 1 - (1 - \\mathbf{.777})^3 = 0.988910\n",
       "$$\n",
       "\n",
       "$$\n",
       "\\mathbf{SP}_{tot} = \\mathbf{SP}^3 = \\mathbf{.988}^3 = 0.964430\n",
       "$$\n",
       "\n",
       "aumentando dunque la sensibilità inizialmente bassa e non degradando eccessivamente la specificità, \n",
       "infatti otteniamo una percentuale di falsi positivi lievemente aumentata\n",
       "\n",
       "$$\n",
       "P(f_+) = P(\\oplus|\\overline{M}) = 1 - \\mathbf{SP} = 0.035570 \\simeq 3.56\\%\n",
       "$$\n",
       "\n",
       "e una percentuale di falsi negativi notevolmente ridotta\n",
       "\n",
       "$$\n",
       "P(f_-) = P(\\ominus|M) = 1 - \\mathbf{SE} = 0.011090 \\simeq 1.11\\%\n",
       "$$\n",
       "\n",
       "Vedi riquadro e corrispondente tabella in figura $\\ref{fig:ripetizione-covid}$.\n"
      ],
      "text/plain": [
       "<IPython.core.display.Markdown object>"
      ]
     },
     "metadata": {},
     "output_type": "display_data"
    }
   ],
   "source": [
    "display(Markdown(fr\"\"\"\n",
    "Applicando il test ripetuto con regola $\\mathbf{{O}}_{{\\ominus}}$ e le formule derivate sopra abbiamo quindi:\n",
    "\n",
    "$$\n",
    "\\mathbf{{SE}}_{{tot}} = 1 - (1 - \\mathbf{{SE}})^3 = 1 - (1 - \\mathbf{{.777}})^3 = {1-(1-sens)**3:.6f}\n",
    "$$\n",
    "\n",
    "$$\n",
    "\\mathbf{{SP}}_{{tot}} = \\mathbf{{SP}}^3 = \\mathbf{{.988}}^3 = {spec**3:.6f}\n",
    "$$\n",
    "\n",
    "aumentando dunque la sensibilità inizialmente bassa e non degradando eccessivamente la specificità, \n",
    "infatti otteniamo una percentuale di falsi positivi lievemente aumentata\n",
    "\n",
    "$$\n",
    "P(f_+) = P(\\oplus|\\overline{{M}}) = 1 - \\mathbf{{SP}} = {1-spec**3:.6f} \\simeq {(1-spec**3)*100:.2f}\\%\n",
    "$$\n",
    "\n",
    "e una percentuale di falsi negativi notevolmente ridotta\n",
    "\n",
    "$$\n",
    "P(f_-) = P(\\ominus|M) = 1 - \\mathbf{{SE}} = {1-(1-(1-sens)**3):.6f} \\simeq {(1-sens)**3*100:.2f}\\%\n",
    "$$\n",
    "\n",
    "Vedi riquadro e corrispondente tabella in figura $\\ref{{fig:ripetizione-covid}}$.\n",
    "\"\"\"))"
   ]
  },
  {
   "cell_type": "code",
   "execution_count": 24,
   "metadata": {},
   "outputs": [
    {
     "data": {
      "text/latex": [
       "\n",
       "        \\begin{figure}\n",
       "        \\centering\n",
       "            \\includegraphics{ripetizione-covid.png}\n",
       "            \\caption{Effetto delle regole di ripetizione sui test RT-PCR per COVID-19}\n",
       "            \\label{fig:ripetizione-covid}\n",
       "        \\end{figure}"
      ],
      "text/plain": [
       "<IPython.core.display.Latex object>"
      ]
     },
     "metadata": {},
     "output_type": "display_data"
    }
   ],
   "source": [
    "SE = sens\n",
    "SP = spec\n",
    "n = 10\n",
    "\n",
    "COVID_SE = [SE]\n",
    "COVID_SP = [SP]\n",
    "\n",
    "fig, ax = plt.subplots(1, 3, figsize=(15, 4), dpi=150)\n",
    "\n",
    "fig.suptitle(f\"Ripetizione di 10 test, $\\mathbf{{SE}}={SE}$  $\\mathbf{{SP}}={SP}$\", fontsize=20, y=1.5)\n",
    "\n",
    "ax[0].set_title(\"Ripetizione per tutti i test\", y=1.6, fontsize=15)\n",
    "ax[0].set_xlabel(\"Sensibilità\", fontsize=15)\n",
    "ax[0].set_ylabel(\"Specificità\", fontsize=15)\n",
    "ax[0].grid()\n",
    "cellText = [[1, f\"{SP:.2%}\", f\"{1-SP:.2%}\", f\"{SE:.2%}\", f\"{1-SE:.2%}\"]]\n",
    "ax[0].scatter(SE, SP, marker=\"$1$\", s=100)\n",
    "for i in range(n-1):\n",
    "    SEn = SE ** (i+2)\n",
    "    SPn = SP ** (i+2)\n",
    "    ax[0].scatter(SEn, SPn, marker=f\"${i+2}$\", s=100)\n",
    "    cellText.append([i+2, f\"{SPn:.2%}\", f\"{1-SPn:.2%}\", f\"{SEn:.2%}\", f\"{1-SEn:.2%}\"])\n",
    "ax[0].table(cellText=cellText, colLabels=[\"TEST\", \"SP\", \"f $+$\", \"SE\", \"f $-$\"], loc=\"top\", fontsize=20,\n",
    "            colColours=[(0,0,0,.05), (0,0,0,.25), (0,0,0,.1), (0,0,0,.25), (0,0,0,.1)])\n",
    "    \n",
    "ax[1].set_title(\"Regola O, ripetizione se $\\ominus$\", y=1.6, fontsize=15)\n",
    "ax[1].set_xlabel(\"Sensibilità\", fontsize=15)\n",
    "ax[1].grid()\n",
    "cellText = [[1, f\"{SP:.2%}\", f\"{1-SP:.2%}\", f\"{SE:.2%}\", f\"{1-SE:.2%}\"]]\n",
    "ax[1].scatter(SE, SP, marker=\"$1$\", s=100)\n",
    "for i in range(n-1):\n",
    "    SEn = 1 - (1 - SE) ** (i + 2)\n",
    "    SPn = SP ** (i+2)\n",
    "    COVID_SE.append(SEn)\n",
    "    COVID_SP.append(SPn)\n",
    "    ax[1].scatter(SEn, SPn, marker=f\"${i+2}$\", s=100)\n",
    "    cellText.append([i+2, f\"{SPn:.2%}\", f\"{1-SPn:.2%}\", f\"{SEn:.2%}\", f\"{1-SEn:.2%}\"])\n",
    "ax[1].table(\n",
    "    cellText=cellText, \n",
    "    colLabels=[\"TEST\", \"SP\", \"f $+$\", \"SE\", \"f $-$\"], \n",
    "    loc=\"top\", fontsize=20,\n",
    "    colColours=[(0,0,0,.05), (0,0,0,.25), (0,0,0,.1), (0,0,0,.25), (0,0,0,.1)],\n",
    "    cellColours=[\n",
    "        [(1,1,0,.5) for _ in range(5)], [(1,1,0,.5) for _ in range(5)], [(1,1,0,.5) for _ in range(5)],\n",
    "        [(1,1,1,1) for _ in range(5)],[(1,1,1,1) for _ in range(5)],[(1,1,1,1) for _ in range(5)],\n",
    "        [(1,1,1,1) for _ in range(5)],[(1,1,1,1) for _ in range(5)],[(1,1,1,1) for _ in range(5)],\n",
    "        [(1,1,1,1) for _ in range(5)],\n",
    "    ]\n",
    ")\n",
    "    \n",
    "ax[2].set_xlabel(\"Sensibilità\", fontsize=15)\n",
    "ax[2].grid()\n",
    "cellText = [[1, f\"{SP:.2%}\", f\"{1-SP:.2%}\", f\"{SE:.2%}\", f\"{1-SE:.2%}\"]]\n",
    "ax[2].scatter(SE, SP, marker=\"$1$\", s=100)\n",
    "for i in range(n-1):\n",
    "    SPn = 1 - (1 - SP) ** (i + 2)\n",
    "    SEn = SE ** (i+2)\n",
    "    ax[2].scatter(SEn, SPn, marker=f\"${i+2}$\", s=100)\n",
    "    cellText.append([i+2, f\"{SPn:.2%}\", f\"{1-SPn:.2%}\", f\"{SEn:.2%}\", f\"{1-SEn:.2%}\"])\n",
    "ax[2].table(cellText=cellText, colLabels=[\"TEST\", \"SP\", \"f $+$\", \"SE\", \"f $-$\"], loc=\"top\", fontsize=20,\n",
    "           colColours=[(0,0,0,.05), (0,0,0,.25), (0,0,0,.1), (0,0,0,.25), (0,0,0,.1)])\n",
    "ax[2].set_title(\"Regola E, ripetizione se $\\oplus$\", y=1.6, fontsize=15)\n",
    "\n",
    "rect = patches.Rectangle((.77,.992),.235,-.035,linewidth=1,edgecolor='r',facecolor='none')\n",
    "ax[1].add_patch(rect)\n",
    "\n",
    "latexplot(plt, \"ripetizione-covid\",\n",
    "         \"Effetto delle regole di ripetizione sui test RT-PCR per COVID-19\")"
   ]
  },
  {
   "cell_type": "code",
   "execution_count": 25,
   "metadata": {},
   "outputs": [
    {
     "data": {
      "text/latex": [
       "\n",
       "        \\begin{figure}\n",
       "        \\centering\n",
       "            \\includegraphics[width=0.5\\textwidth,height=0.5\\textheight,keepaspectratio]{covid.png}\n",
       "            \\caption{Probabilità di malattia COVID-19 a posteriori per test RT-PCR SARS-CoV-2 RNA.}\n",
       "            \\label{fig:covid}\n",
       "        \\end{figure}"
      ],
      "text/plain": [
       "<IPython.core.display.Latex object>"
      ]
     },
     "metadata": {},
     "output_type": "display_data"
    }
   ],
   "source": [
    "# COVID-TEST\n",
    "\n",
    "fig, ax = plt.subplots(figsize=(7, 7))\n",
    "plt.plot(\n",
    "    MAL,\n",
    "    P_M_p(MAL, spec, sens),\n",
    "    lw=4, label=\"TEST positivo\", c=\"b\"\n",
    ")\n",
    "plt.plot(\n",
    "    MAL,\n",
    "    1 - P_S_n(MAL, spec, sens),\n",
    "    lw=4, label=\"TEST negativo\", c=\"r\"\n",
    ")\n",
    "for z in range(3):\n",
    "    plt.plot(\n",
    "        MAL,\n",
    "        P_M_p(MAL, COVID_SP[z+1], COVID_SE[z+1]),\n",
    "        lw=3-z, c=\"b\", ls=\":\"\n",
    "    )\n",
    "    plt.plot(\n",
    "        MAL,\n",
    "        1 - P_S_n(MAL, COVID_SP[z+1], COVID_SE[z+1]),\n",
    "        lw=3-z, c=\"r\", ls=\":\"\n",
    "    )\n",
    "plt.scatter(\n",
    "    inc,\n",
    "    P_M_p(inc, spec, sens),\n",
    "    c=\"k\", s=50, zorder=5,\n",
    ")\n",
    "x = P_M_p(inc, spec, sens)\n",
    "for i in range(4):\n",
    "    y = 1 - P_S_n(x, COVID_SP[i], COVID_SE[i])\n",
    "    plt.scatter(x, y,\n",
    "        c=\"k\", s=100, marker=f\"${i+1}$\", zorder=10\n",
    "    )\n",
    "    x = y\n",
    "plt.plot([0,1], [0,1], c=\"g\")\n",
    "plt.ylabel(\"Probabilità di Malattia a $\\mathbf{Posteriori}$\", fontsize=\"xx-large\")\n",
    "plt.xlabel(\"Probabilità di Malattia a $\\mathbf{Priori}$\", fontsize=\"xx-large\")\n",
    "plt.legend(loc=\"best\")\n",
    "\n",
    "plt.axvline(inc, ls=\":\", c=\"k\")\n",
    "plt.axhline(p, c=\"k\", alpha=.5)\n",
    "plt.axhline(p_plus_min, ls=\"--\", c=\"k\", alpha=.5)\n",
    "plt.axhline(p_plus_opt, c=\"k\", alpha=.5)\n",
    "plt.table(\n",
    "    cellText=[\n",
    "        [\n",
    "            f\"{inc:.4f} = {inc:.2%}\", \n",
    "            f'{P_M_p(inc, spec, sens):.4f} = {P_M_p(inc, spec, sens):.2%}', \n",
    "            f'{(1 - P_S_n(inc, spec, sens)):.4f} = {(1 - P_S_n(inc, spec, sens)):.2%}'\n",
    "        ],\n",
    "    ],\n",
    "    colLabels=[\"Probabilità a Priori\", \"Test Positivo\", \"Test Negativo\"],\n",
    "    loc=\"top\"\n",
    ")\n",
    "plt.title(\n",
    "    f'Sensibilità {sens:.1%}  &  Specificità {spec:.1%}', \n",
    "    pad=45, fontsize=15)\n",
    "plt.xlim(0, 1); plt.ylim(0, 1)\n",
    "\n",
    "plt.arrow(.15, .9, .7, -.2, length_includes_head=True, head_width=.025, lw=1, color=\"y\")\n",
    "\n",
    "latexplot(\n",
    "    plt, \"covid\",\n",
    "    \"Probabilità di malattia COVID-19 a posteriori per test RT-PCR SARS-CoV-2 RNA.\",\n",
    "    single=True, showme=False\n",
    ")"
   ]
  },
  {
   "cell_type": "markdown",
   "metadata": {},
   "source": [
    "Vediamo quindi la probabilità a posteriori per test negativo $P(M|\\ominus)$ con la probabilità a priori di un soggetto precedentemente risultato positivo (punto 1 in figura $\\ref{fig:covid}$)"
   ]
  },
  {
   "cell_type": "code",
   "execution_count": 26,
   "metadata": {},
   "outputs": [
    {
     "data": {
      "text/markdown": [
       "\n",
       "$$\n",
       "P(M|\\ominus)_1 = 1 - \\frac{\n",
       "\\mathbf{SP}(1 - P(M))\n",
       "}{\n",
       "\\mathbf{SP}(1 - P(M)) + (1 - \\mathbf{SE})P(M)\n",
       "} = \n",
       "1 - \\frac{\n",
       "0.988(1 - 0.906)\n",
       "}{\n",
       "0.988(1 - 0.906) + (1 - 0.777)0.906\n",
       "} =\n",
       "0.6859\n",
       "$$\n"
      ],
      "text/plain": [
       "<IPython.core.display.Markdown object>"
      ]
     },
     "metadata": {},
     "output_type": "display_data"
    }
   ],
   "source": [
    "prior = P_M_p(inc, COVID_SP[0], COVID_SE[0])\n",
    "new_posterior = 1 - P_S_n(prior, COVID_SP[0], COVID_SE[0])\n",
    "display(Markdown(fr\"\"\"\n",
    "$$\n",
    "P(M|\\ominus)_1 = 1 - \\frac{{\n",
    "\\mathbf{{SP}}(1 - P(M))\n",
    "}}{{\n",
    "\\mathbf{{SP}}(1 - P(M)) + (1 - \\mathbf{{SE}})P(M)\n",
    "}} = \n",
    "1 - \\frac{{\n",
    "{COVID_SP[0]:.3f}(1 - {prior:.3f})\n",
    "}}{{\n",
    "{COVID_SP[0]:.3f}(1 - {prior:.3f}) + (1 - {COVID_SE[0]:.3f}){prior:.3f}\n",
    "}} =\n",
    "{new_posterior:.4f}\n",
    "$$\n",
    "\"\"\"))\n",
    "new_prior = new_posterior"
   ]
  },
  {
   "cell_type": "markdown",
   "metadata": {},
   "source": [
    "Dunque un tampone negativo non è sufficiente, il soggetto ha ancora un'elevata probabilità di essere infetto, supponiamo che ne venga fatto un secondo tenendo conto delle modifiche subite da sensibilità e specificità con regola $\\mathbf{O}_{\\ominus}$ (punto 2 in figura $\\ref{fig:covid}$)"
   ]
  },
  {
   "cell_type": "code",
   "execution_count": 27,
   "metadata": {},
   "outputs": [
    {
     "data": {
      "text/markdown": [
       "\n",
       "$$\n",
       "P(M|\\ominus)_2 = 1 - \\frac{\n",
       "\\mathbf{SP}(1 - P(M))\n",
       "}{\n",
       "\\mathbf{SP}(1 - P(M)) + (1 - \\mathbf{SE})P(M)\n",
       "} = \n",
       "1 - \\frac{\n",
       "0.976(1 - 0.686)\n",
       "}{\n",
       "0.976(1 - 0.686) + (1 - 0.950)0.686\n",
       "} =\n",
       "0.1001\n",
       "$$\n",
       "\n",
       "Ancora superiore, $10.01%$% di probabilità di essere infetto non è accettabile per ritenere guarito il paziente.\n",
       "Effettuiamo un terzo test ricordando che sensibilità e specificità si modificano di conseguenza per la regola \n",
       "$\\mathbf{O}_{\\ominus}$\n",
       "(punto 3 in figura $\\ref{fig:covid}$)\n"
      ],
      "text/plain": [
       "<IPython.core.display.Markdown object>"
      ]
     },
     "metadata": {},
     "output_type": "display_data"
    }
   ],
   "source": [
    "new_posterior = 1 - P_S_n(new_prior, COVID_SP[1], COVID_SE[1])\n",
    "display(Markdown(fr\"\"\"\n",
    "$$\n",
    "P(M|\\ominus)_2 = 1 - \\frac{{\n",
    "\\mathbf{{SP}}(1 - P(M))\n",
    "}}{{\n",
    "\\mathbf{{SP}}(1 - P(M)) + (1 - \\mathbf{{SE}})P(M)\n",
    "}} = \n",
    "1 - \\frac{{\n",
    "{COVID_SP[1]:.3f}(1 - {new_prior:.3f})\n",
    "}}{{\n",
    "{COVID_SP[1]:.3f}(1 - {new_prior:.3f}) + (1 - {COVID_SE[1]:.3f}){new_prior:.3f}\n",
    "}} =\n",
    "{new_posterior:.4f}\n",
    "$$\n",
    "\n",
    "Ancora superiore, ${new_posterior:.2%}$% di probabilità di essere infetto non è accettabile per ritenere guarito il paziente.\n",
    "Effettuiamo un terzo test ricordando che sensibilità e specificità si modificano di conseguenza per la regola \n",
    "$\\mathbf{{O}}_{{\\ominus}}$\n",
    "(punto 3 in figura $\\ref{{fig:covid}}$)\n",
    "\"\"\"))\n",
    "new_prior = new_posterior"
   ]
  },
  {
   "cell_type": "code",
   "execution_count": 28,
   "metadata": {},
   "outputs": [
    {
     "data": {
      "text/markdown": [
       "\n",
       "$$\n",
       "P(M|\\ominus)_3 = 1 - \\frac{\n",
       "\\mathbf{SP}(1 - P(M))\n",
       "}{\n",
       "\\mathbf{SP}(1 - P(M)) + (1 - \\mathbf{SE})P(M)\n",
       "} = \n",
       "1 - \\frac{\n",
       "0.964(1 - 0.100)\n",
       "}{\n",
       "0.964(1 - 0.100) + (1 - 0.989)0.100\n",
       "} =\n",
       "0.0013\n",
       "$$\n",
       "\n",
       "$0.13%$% è inferiore a $p_{\\ominus}$ stabilito in precedenza, \n",
       "dunque effettuare un quarto test non è necessario e, così facendo, \n",
       "aumenteremmo a livelli non più accettabili i falsi negativi, per la degradazione della specificità data \n",
       "dalla regola $\\mathbf{O}_{\\ominus}$ utilizzata.\n"
      ],
      "text/plain": [
       "<IPython.core.display.Markdown object>"
      ]
     },
     "metadata": {},
     "output_type": "display_data"
    }
   ],
   "source": [
    "new_posterior = 1 - P_S_n(new_prior, COVID_SP[2], COVID_SE[2])\n",
    "display(Markdown(fr\"\"\"\n",
    "$$\n",
    "P(M|\\ominus)_3 = 1 - \\frac{{\n",
    "\\mathbf{{SP}}(1 - P(M))\n",
    "}}{{\n",
    "\\mathbf{{SP}}(1 - P(M)) + (1 - \\mathbf{{SE}})P(M)\n",
    "}} = \n",
    "1 - \\frac{{\n",
    "{COVID_SP[2]:.3f}(1 - {new_prior:.3f})\n",
    "}}{{\n",
    "{COVID_SP[2]:.3f}(1 - {new_prior:.3f}) + (1 - {COVID_SE[2]:.3f}){new_prior:.3f}\n",
    "}} =\n",
    "{new_posterior:.4f}\n",
    "$$\n",
    "\n",
    "${new_posterior:.2%}$% è inferiore a $p_{{\\ominus}}$ stabilito in precedenza, \n",
    "dunque effettuare un quarto test non è necessario e, così facendo, \n",
    "aumenteremmo a livelli non più accettabili i falsi negativi, per la degradazione della specificità data \n",
    "dalla regola $\\mathbf{{O}}_{{\\ominus}}$ utilizzata.\n",
    "\"\"\"))\n",
    "new_prior = new_posterior"
   ]
  },
  {
   "cell_type": "code",
   "execution_count": 29,
   "metadata": {},
   "outputs": [
    {
     "data": {
      "text/markdown": [
       "\n",
       "Se infatti effettuassimo un quarto test\n",
       "\n",
       "$$\n",
       "P(M|\\ominus)_4 = 1 - \\frac{\n",
       "\\mathbf{SP}(1 - P(M))\n",
       "}{\n",
       "\\mathbf{SP}(1 - P(M)) + (1 - \\mathbf{SE})P(M)\n",
       "} = \n",
       "1 - \\frac{\n",
       "0.953(1 - 0.001)\n",
       "}{\n",
       "0.953(1 - 0.001) + (1 - 0.998)0.001\n",
       "} \\simeq\n",
       "0.0000\n",
       "$$\n",
       "\n",
       "otterremmo quasi $0.00%$% di probabilità di essere infetto ma \n",
       "avremmo aumentato il rischio di falsi negativi\n",
       "\n",
       "$$\n",
       "P(f_-) = 4.71\\%\n",
       "$$\n"
      ],
      "text/plain": [
       "<IPython.core.display.Markdown object>"
      ]
     },
     "metadata": {},
     "output_type": "display_data"
    }
   ],
   "source": [
    "new_posterior = 1 - P_S_n(new_prior, COVID_SP[3], COVID_SE[3])\n",
    "display(Markdown(fr\"\"\"\n",
    "Se infatti effettuassimo un quarto test\n",
    "\n",
    "$$\n",
    "P(M|\\ominus)_4 = 1 - \\frac{{\n",
    "\\mathbf{{SP}}(1 - P(M))\n",
    "}}{{\n",
    "\\mathbf{{SP}}(1 - P(M)) + (1 - \\mathbf{{SE}})P(M)\n",
    "}} = \n",
    "1 - \\frac{{\n",
    "{COVID_SP[3]:.3f}(1 - {new_prior:.3f})\n",
    "}}{{\n",
    "{COVID_SP[3]:.3f}(1 - {new_prior:.3f}) + (1 - {COVID_SE[3]:.3f}){new_prior:.3f}\n",
    "}} \\simeq\n",
    "{new_posterior:.4f}\n",
    "$$\n",
    "\n",
    "otterremmo quasi ${new_posterior:.2%}$% di probabilità di essere infetto ma \n",
    "avremmo aumentato il rischio di falsi negativi\n",
    "\n",
    "$$\n",
    "P(f_-) = {(1 - COVID_SP[3])*100:.2f}\\%\n",
    "$$\n",
    "\"\"\"))"
   ]
  },
  {
   "cell_type": "markdown",
   "metadata": {},
   "source": [
    "# COVID-19 e test sierologici rapidi"
   ]
  },
  {
   "cell_type": "markdown",
   "metadata": {},
   "source": [
    "Nella cosiddetta \"fase-2\" verranno probabilmente utilizzati test sierologici rapidi (**RDT**) <cite data-cite=\"rdtdiagram\"></cite>.\n",
    "\n",
    "I test RDT evidenziano la presenza di immunoglobuline (anticorpi) di tipo IgM (risposta primaria) e IgG (risposta secondaria) nel siero. Le concentrazioni di IgM e IgG variano a seconda del periodo trascorso dall'infezione e sono differenti in caso di prima o seconda esposizione. Attualmente non ci sono sufficienti informazioni su SARS-nCoV-2 per determinare con certezza la cinetica della risposta immunitaria ma alcuni studi hanno suggerito delle ipotesi plausibili, in base ai dati di altri coronavirus noti e a recenti studi su piccoli gruppi di pazienti affetti da COVID-19 <cite data-cite=\"thevarajan2020breadth\"></cite> <cite data-cite=\"liu2020viral\"></cite> <cite data-cite=\"lauer2020incubation\"></cite> <cite data-cite=\"margiottirapid\"></cite> <cite data-cite=\"wan2003ifa\"></cite> <cite data-cite=\"racine2009igm\"></cite>. \n",
    "\n",
    "La figura $\\ref{fig:ig}$ mostra un sunto delle attuali ipotesi: alla prima esposizione concentrazioni di IgM sono misurabili dopo 10 giorni circa dall'infezione e 3 dalla comparsa dei sintomi con un massimo 12-13 giorni dopo l'infezione; livelli di IgG sono misurabili 11-12 giorni dopo l'infezione con un massimo a 20 giorni. Dopo circa 30 giorni i livelli di IgM e IgG non sono più misurabili. Dalla seconda esposizione in poi basse concentrazioni di IgM e IgG sono misurabili 4-5 giorni dopo l'infezione; dopo circa 10 giorni i livelli di IgM sono più misurabili mentre si riscontrano alte concentrazioni di IgG con un massimo a 15 giorni per poi calare molto lentamente. Il periodo di maggior rischio di contagio alla prima esposizione coincide grosso modo con l'espressione di IgM, ovvero tra i 9-10 e i 15-16 giorni dall'infezione ed è medio per tutto il resto del periodo sintomatico ovvero tra i 6-7 e i 25-26 giorni dall'infezione. Alla seconda esposizione un basso rischio di contagio è probabile solamente durante l'espressione di IgM tra i 4-5 e 9-10 giorni dall'esposizione. Non si hanno sufficienti informazioni rispetto ai portatori sani e al primo periodo asintomatico fino a 5-6 giorni dalla prima esposizione.\n",
    "\n",
    "Dunque il riscontro di IgM indica sicuramente un'esposizione al virus 4-16 giorni prima e livelli di IgG un'esposizione tra 11-30+ giorni prima ed avvenuta immunizzazione (le IgG sono prodotte dai linfociti B della memoria e rispondono ad alte concentrazione soprattutto nelle eposizioni successive). Il mancato riscontro però di immunoglobuline nel siero non assicura che il soggetto non sia venuto a contatto con il virus e/o che non abbia guadagnato immunità perché potrebbe trovarsi nel periodo tra la prima e, l'eventuale, seconda esposizione.\n",
    "\n",
    "Specificità e sensibilità dichiarate sono piuttosto variabili nei test RDT <cite data-cite=\"rdt\"></cite>, vedi tabella $\\ref{tab:rdtall}$ e $\\ref{tab:rdtstats}$. I valori dovranno essere validati con test e pratica clinica, per ora saranno utilizzati i dati pubblicati dalle case produttrici."
   ]
  },
  {
   "cell_type": "code",
   "execution_count": 30,
   "metadata": {},
   "outputs": [
    {
     "data": {
      "text/latex": [
       "\n",
       "        \\begin{figure}\n",
       "        \\centering\n",
       "            \\includegraphics{ig.png}\n",
       "            \\caption{Ipotesi di cinetica della risposta immunitaria per COVID-19. Le concentrazione anticorpali sono solo livelli indicativi, non effettivi.}\n",
       "            \\label{fig:ig}\n",
       "        \\end{figure}"
      ],
      "text/plain": [
       "<IPython.core.display.Latex object>"
      ]
     },
     "metadata": {},
     "output_type": "display_data"
    }
   ],
   "source": [
    "def gaussian(x, a, b, c):\n",
    "    d = - ((x - b) ** 2)\n",
    "    return a * np.exp( d / (c ** 2) )\n",
    "\n",
    "def line(x, x1, x2, y1, y2):\n",
    "    return (x - x1) * ( (y2 - y1) / (x2 - x1) ) + y1\n",
    "\n",
    "desease_a = 7\n",
    "desease_z = desease_a + 19\n",
    "igM_m_day = (12+15)/2\n",
    "igM_m_lev = 50\n",
    "igM2_m_day = (12+15)/4\n",
    "igM2_m_lev = 30/1.5\n",
    "igG_m_day = 20\n",
    "igG_m_lev = 60\n",
    "igG2_m_day = 15\n",
    "igG2_m_lev = 60*1.5\n",
    "\n",
    "x = np.linspace(0, 42, 200)\n",
    "IgM = gaussian(x, igM_m_lev, igM_m_day, 1.75)\n",
    "IgG = gaussian(x, igG_m_lev, igG_m_day, 4)\n",
    "IgM2 = gaussian(x, igM2_m_lev, igM2_m_day, 1.75)\n",
    "IgG2a = gaussian(x[np.where(x<igG2_m_day)], igG2_m_lev, igG2_m_day, 5)\n",
    "IgG2b = line(x[np.where(x>=igG2_m_day)], igG2_m_day, x[-1], IgG2a[-1], IgG2a[-1]/1.25)\n",
    "IgG2 = np.concatenate((IgG2a, IgG2b))\n",
    "\n",
    "\n",
    "ylim = 100\n",
    "prop_cycle = plt.rcParams['axes.prop_cycle']\n",
    "colors = prop_cycle.by_key()['color']\n",
    "\n",
    "fig, ax = plt.subplots(1, 2, figsize=(15, 5))\n",
    "\n",
    "# prima\n",
    "ax[0].fill_betweenx([0,ylim], 0, desease_a, color=\"k\", alpha=.1, label=\"Periodo asintomatico\")\n",
    "ax[0].fill_betweenx([0,ylim], desease_a, desease_z, color=\"g\", alpha=.1, label=\"Periodo sintomatico\")\n",
    "#ax[0].axvline(igM_m_day, ls=\":\", c=colors[0])\n",
    "ax[0].plot(x, IgM, lw=8, c=colors[0], zorder=3, label=\"IgM\")\n",
    "#ax[0].axvline(igG_m_day, ls=\":\", c=colors[1])\n",
    "ax[0].plot(x, IgG, c=colors[1], lw=8, label=\"IgG\")\n",
    "ax[0].set_ylim(-10, ylim)\n",
    "ax[0].set_yticks([])\n",
    "ax[0].set_ylabel(\"Concentrazione anticorpi nel siero\")\n",
    "ax[0].set_xlim(0, 32)\n",
    "ax[0].set_xlabel(\"Giorni dall'infezione e rischio di contagio\")\n",
    "rect1 = patches.Rectangle((0,-5),5,3,linewidth=1,edgecolor='g',facecolor='g',alpha=.5)\n",
    "ax[0].add_patch(rect1)\n",
    "rect2 = patches.Rectangle((5,-5),4,3,linewidth=1,edgecolor='y',facecolor='y',alpha=.5)\n",
    "ax[0].add_patch(rect2)\n",
    "rect3 = patches.Rectangle((9,-5),6,3,linewidth=1,edgecolor='r',facecolor='r',alpha=.5)\n",
    "ax[0].add_patch(rect3)\n",
    "rect4 = patches.Rectangle((15,-5),11,3,linewidth=1,edgecolor='y',facecolor='y',alpha=.5)\n",
    "ax[0].add_patch(rect4)\n",
    "rect5 = patches.Rectangle((26,-5),10,3,linewidth=1,edgecolor='g',facecolor='g',alpha=.5)\n",
    "ax[0].add_patch(rect5)\n",
    "ax[0].legend(loc=\"upper left\")\n",
    "ax[0].set_title(\"Prima esposizione\", fontsize=20)\n",
    "ax[0].text(2.5, -9, r\"Nessuno\", ha=\"center\")\n",
    "ax[0].text(7, -9, r\"Medio\", ha=\"center\")\n",
    "ax[0].text(12, -9, r\"Alto\", ha=\"center\")\n",
    "ax[0].text(20, -9, r\"Medio\", ha=\"center\")\n",
    "ax[0].text(29, -9, r\"Nessuno\", ha=\"center\")\n",
    "\n",
    "# seconda\n",
    "#ax[1].axvline(igM2_m_day, ls=\":\", c=colors[0])\n",
    "ax[1].plot(x, IgM2, lw=8, c=colors[0], zorder=3, label=\"IgM\")\n",
    "#ax[1].axvline(igG2_m_day, ls=\":\", c=colors[1])\n",
    "ax[1].plot(x, IgG2, c=colors[1], lw=8, label=\"IgG\")\n",
    "ax[1].set_ylim(-10, ylim)\n",
    "ax[1].set_yticks([])\n",
    "ax[1].set_ylabel(\"Concentrazione anticorpi nel siero\")\n",
    "ax[1].set_xlim(0, 32)\n",
    "ax[1].set_xlabel(\"Giorni dall'infezione e rischio di contagio\")\n",
    "ax[1].legend(loc=\"upper left\")\n",
    "ax[1].set_title(\"Seconda esposizione\", fontsize=20)\n",
    "rect1 = patches.Rectangle((0,-5),4,3,linewidth=1,edgecolor='g',facecolor='g',alpha=.5)\n",
    "ax[1].add_patch(rect1)\n",
    "rect2 = patches.Rectangle((4,-5),5,3,linewidth=1,edgecolor='y',facecolor='y',alpha=.25)\n",
    "ax[1].add_patch(rect2)\n",
    "rect3 = patches.Rectangle((9,-5),30,3,linewidth=1,edgecolor='g',facecolor='g',alpha=.5)\n",
    "ax[1].add_patch(rect3)\n",
    "ax[1].text(2, -9, r\"Nessuno\", ha=\"center\")\n",
    "ax[1].text(6.5, -9, r\"Basso\", ha=\"center\")\n",
    "ax[1].text(15, -9, r\"Nessuno\", ha=\"center\")\n",
    "\n",
    "latexplot(plt, \"ig\",\n",
    "          \"Ipotesi di cinetica della risposta immunitaria per COVID-19. \"+\n",
    "          \"Le concentrazione anticorpali sono solo livelli indicativi, non effettivi.\")"
   ]
  },
  {
   "cell_type": "code",
   "execution_count": 31,
   "metadata": {},
   "outputs": [],
   "source": [
    "RDTsenss = np.array([.938, .9735, .9255, .82, 1, .969, .886, .841, .87, .91, .82, .95, .931, .931, .934, .9585])\n",
    "\n",
    "RDTspecs = np.array([.956, .99, 1, .97, .987, .994, .9063, .923, .955, .967, .96, 1, 1, .991, .977, .9935])"
   ]
  },
  {
   "cell_type": "code",
   "execution_count": 32,
   "metadata": {},
   "outputs": [],
   "source": [
    "t = r\"\\\\ \\midrule \".join([f\"{i+1} & {se} & {(1-se)*100:.2f}\\% & {sp} & {(1-sp)*100:.2f}\\%\" for i, (sp, se) in enumerate(zip(RDTspecs, RDTsenss))])"
   ]
  },
  {
   "cell_type": "code",
   "execution_count": 33,
   "metadata": {},
   "outputs": [
    {
     "data": {
      "text/latex": [
       "\n",
       "\\begin{table}\n",
       "  \\begin{center}\n",
       "    \\caption{Specificità e sensibilità di alcuni test rapidi RDT}\n",
       "    \\label{tab:rdtall}\n",
       "    \\begin{tabular}{c|c|c|c|c|}\n",
       "        & $\\mathbf{SE}$ & $P(f_-)$ & $\\mathbf{SP}$ & $P(f_+)$ \\\\\n",
       "        \\toprule\n",
       "        \\midrule\n",
       "        1 & 0.938 & 6.20\\% & 0.956 & 4.40\\%\\\\ \\midrule 2 & 0.9735 & 2.65\\% & 0.99 & 1.00\\%\\\\ \\midrule 3 & 0.9255 & 7.45\\% & 1.0 & 0.00\\%\\\\ \\midrule 4 & 0.82 & 18.00\\% & 0.97 & 3.00\\%\\\\ \\midrule 5 & 1.0 & 0.00\\% & 0.987 & 1.30\\%\\\\ \\midrule 6 & 0.969 & 3.10\\% & 0.994 & 0.60\\%\\\\ \\midrule 7 & 0.886 & 11.40\\% & 0.9063 & 9.37\\%\\\\ \\midrule 8 & 0.841 & 15.90\\% & 0.923 & 7.70\\%\\\\ \\midrule 9 & 0.87 & 13.00\\% & 0.955 & 4.50\\%\\\\ \\midrule 10 & 0.91 & 9.00\\% & 0.967 & 3.30\\%\\\\ \\midrule 11 & 0.82 & 18.00\\% & 0.96 & 4.00\\%\\\\ \\midrule 12 & 0.95 & 5.00\\% & 1.0 & 0.00\\%\\\\ \\midrule 13 & 0.931 & 6.90\\% & 1.0 & 0.00\\%\\\\ \\midrule 14 & 0.931 & 6.90\\% & 0.991 & 0.90\\%\\\\ \\midrule 15 & 0.934 & 6.60\\% & 0.977 & 2.30\\%\\\\ \\midrule 16 & 0.9585 & 4.15\\% & 0.9935 & 0.65\\%\n",
       "    \\end{tabular}\n",
       "  \\end{center}\n",
       "\\end{table}\n",
       "        "
      ],
      "text/plain": [
       "<IPython.core.display.Latex object>"
      ]
     },
     "metadata": {},
     "output_type": "display_data"
    }
   ],
   "source": [
    "display(\n",
    "    Latex(\n",
    "        fr\"\"\"\n",
    "\\begin{{table}}\n",
    "  \\begin{{center}}\n",
    "    \\caption{{Specificità e sensibilità di alcuni test rapidi RDT}}\n",
    "    \\label{{tab:rdtall}}\n",
    "    \\begin{{tabular}}{{c|c|c|c|c|}}\n",
    "        & $\\mathbf{{SE}}$ & $P(f_-)$ & $\\mathbf{{SP}}$ & $P(f_+)$ \\\\\n",
    "        \\toprule\n",
    "        \\midrule\n",
    "        {t}\n",
    "    \\end{{tabular}}\n",
    "  \\end{{center}}\n",
    "\\end{{table}}\n",
    "        \"\"\"\n",
    "    )\n",
    ")"
   ]
  },
  {
   "cell_type": "code",
   "execution_count": 34,
   "metadata": {},
   "outputs": [
    {
     "data": {
      "text/latex": [
       "\n",
       "        \\begin{figure}\n",
       "        \\centering\n",
       "            \\includegraphics{requisitiRDT.png}\n",
       "            \\caption{L'area nera indica i requisiti necessari $P(M|\\oplus)>.5$ e $P(M|\\ominus)<.05$ per un test con $P(M)=.13$. Il punti gialli indicano i parametri di sensibilità e specificità dei test RDT per COVID-19.}\n",
       "            \\label{fig:requisitiRDT}\n",
       "        \\end{figure}"
      ],
      "text/plain": [
       "<IPython.core.display.Latex object>"
      ]
     },
     "metadata": {},
     "output_type": "display_data"
    }
   ],
   "source": [
    "sens = np.linspace(.001, .999, 701)\n",
    "spec = np.linspace(.001, .999, 701)\n",
    "inc = .13\n",
    "\n",
    "ticks = [70*i for i in range(11)]\n",
    "tickL = [i/10 for i in range(11)]\n",
    "\n",
    "fig, ax = plt.subplots(1, 2, figsize=(12, 6))\n",
    "\n",
    "ax[0].scatter(RDTspecs, RDTsenss, zorder=5, c=\"r\", s=50, ec=\"k\")\n",
    "ax[0].set_xlim(.8, 1.01)\n",
    "ax[0].set_ylim(.8, 1.01)\n",
    "ax[0].axvline(1, c=\"k\")\n",
    "ax[0].axhline(1, c=\"k\")\n",
    "ax[0].set_title(\"Parametri test RDT\", fontsize=20)\n",
    "ax[0].set_xlabel(\"Specificità $P(\\ominus|\\overline{M})$\", fontsize=15)\n",
    "ax[0].set_ylabel(\"Sensibilità $P(\\oplus|M)$\", fontsize=15)\n",
    "ax[0].grid()\n",
    "\n",
    "im0 = ax[1].pcolormesh(\n",
    "    np.logical_and(\n",
    "        P_M_p(inc, spec, sens[:, None]) >= p_plus_min,\n",
    "        1-P_S_n(inc, spec, sens[:, None]) <= .05\n",
    "    ), cmap=\"gray_r\",  # cmap=\"tab20\",\n",
    "    vmin=0, vmax=1\n",
    ")\n",
    "im0 = ax[1].pcolormesh(\n",
    "    np.logical_and(\n",
    "        P_M_p(inc, spec, sens[:, None]) >= p_plus_opt,\n",
    "        1-P_S_n(inc, spec, sens[:, None]) <= .05\n",
    "    ), cmap=cmp,  # cmap=\"tab20\",\n",
    "    vmin=0, vmax=1\n",
    ")\n",
    "ax[1].scatter(RDTspecs*701, RDTsenss*701, c=\"yellow\", s=40, ec=\"r\")\n",
    "ax[1].set_xticks(ticks)\n",
    "ax[1].set_xticklabels(tickL)\n",
    "ax[1].set_yticks(ticks)\n",
    "ax[1].set_yticklabels(tickL)\n",
    "ax[1].set_xlabel(\"Specificità $P(\\ominus|\\overline{M})$\", fontsize=15)\n",
    "ax[1].set_ylabel(\"Sensibilità $P(\\oplus|M)$\", fontsize=15)\n",
    "ax[1].set_title(fr\"Requisiti test per $P(M)={inc}$\", fontsize=20)\n",
    "ax[1].set_xlim(.8*701, 1.01*701)\n",
    "ax[1].set_ylim(.6*701, 1.01*701)\n",
    "ax[1].grid()\n",
    "\n",
    "latexplot(\n",
    "    plt, \"requisitiRDT\",\n",
    "    \"L'area nera indica i requisiti necessari $P(M|\\oplus)>.5$ e $P(M|\\ominus)<.05$ per un test con $P(M)=.13$. Il punti gialli indicano i parametri di sensibilità e specificità dei test RDT per COVID-19.\",\n",
    "    showme=False\n",
    ")"
   ]
  },
  {
   "cell_type": "markdown",
   "metadata": {},
   "source": [
    "I parametri di specificità e sensibilità sono nell'area dei parametri minimi accettabili stabiliti in precedenza, figura $\\ref{fig:requisitiRDT}$ e per metà dei test i parametri risultano ottimali.\n",
    "\n",
    "Verifichiamo le probabilità a posteriori per i test con minor sensibilità o specificità (figura $\\ref{fig:covidrdtpeggio}$) e con maggior sensibilità o specificità (figura $\\ref{fig:covidrdtmeglio}$)."
   ]
  },
  {
   "cell_type": "code",
   "execution_count": 35,
   "metadata": {},
   "outputs": [],
   "source": [
    "RDTsenss_df = pd.DataFrame(RDTsenss)\n",
    "RDTsenss_desc = RDTsenss_df.describe()"
   ]
  },
  {
   "cell_type": "code",
   "execution_count": 36,
   "metadata": {},
   "outputs": [],
   "source": [
    "RDTspecs_df = pd.DataFrame(RDTspecs)\n",
    "RDTspecs_desc = RDTspecs_df.describe()"
   ]
  },
  {
   "cell_type": "code",
   "execution_count": 37,
   "metadata": {},
   "outputs": [
    {
     "data": {
      "text/latex": [
       "\n",
       "\\begin{table}\n",
       "  \\begin{center}\n",
       "    \\caption{Specificità e sensibilità dei test rapidi RDT}\n",
       "    \\label{tab:rdtstats}\n",
       "    \\begin{tabular}{c|c|c|c|c|c|}\n",
       "        & n & mean & std & min & max \\\\\n",
       "        \\toprule\n",
       "        Sensibilità & 16 & 0.916 & 0.055\n",
       "        & 0.820 & 1.000 \\\\\n",
       "        \\midrule\n",
       "        Specificità & 16 & 0.973 & 0.028\n",
       "        & 0.906 & 1.000 \\\\\n",
       "    \\end{tabular}\n",
       "  \\end{center}\n",
       "\\end{table}\n",
       "        "
      ],
      "text/plain": [
       "<IPython.core.display.Latex object>"
      ]
     },
     "metadata": {},
     "output_type": "display_data"
    }
   ],
   "source": [
    "display(\n",
    "    Latex(\n",
    "        fr\"\"\"\n",
    "\\begin{{table}}\n",
    "  \\begin{{center}}\n",
    "    \\caption{{Specificità e sensibilità dei test rapidi RDT}}\n",
    "    \\label{{tab:rdtstats}}\n",
    "    \\begin{{tabular}}{{c|c|c|c|c|c|}}\n",
    "        & n & mean & std & min & max \\\\\n",
    "        \\toprule\n",
    "        Sensibilità & {RDTsenss_desc[0][\"count\"]:.0f} & {RDTsenss_desc[0][\"mean\"]:.3f} & {RDTsenss_desc[0][\"std\"]:.3f}\n",
    "        & {RDTsenss_desc[0][\"min\"]:.3f} & {RDTsenss_desc[0][\"max\"]:.3f} \\\\\n",
    "        \\midrule\n",
    "        Specificità & {RDTspecs_desc[0][\"count\"]:.0f} & {RDTspecs_desc[0][\"mean\"]:.3f} & {RDTspecs_desc[0][\"std\"]:.3f}\n",
    "        & {RDTspecs_desc[0][\"min\"]:.3f} & {RDTspecs_desc[0][\"max\"]:.3f} \\\\\n",
    "    \\end{{tabular}}\n",
    "  \\end{{center}}\n",
    "\\end{{table}}\n",
    "        \"\"\"\n",
    "    )\n",
    ")"
   ]
  },
  {
   "cell_type": "code",
   "execution_count": 38,
   "metadata": {},
   "outputs": [
    {
     "data": {
      "text/latex": [
       "\n",
       "        \\begin{figure}\n",
       "        \\centering\n",
       "            \\includegraphics{covidrdtpeggio.png}\n",
       "            \\caption{Probabilità di malattia COVID-19 a posteriori per test RDT per le peggiori sensibilità o specificità.}\n",
       "            \\label{fig:covidrdtpeggio}\n",
       "        \\end{figure}"
      ],
      "text/plain": [
       "<IPython.core.display.Latex object>"
      ]
     },
     "metadata": {},
     "output_type": "display_data"
    }
   ],
   "source": [
    "rdt_df = pd.DataFrame([RDTspecs, RDTsenss], index=[\"spec\", \"sens\"])\n",
    "\n",
    "fig, ax = plt.subplots(1, 2, figsize=(15, 7))\n",
    "\n",
    "for i, P in enumerate([\"spec\", \"sens\"]):\n",
    "    spec, sens = rdt_df[rdt_df.loc[P].idxmin()]\n",
    "    ax[i].plot(\n",
    "        MAL,\n",
    "        P_M_p(MAL, spec, sens),\n",
    "        lw=2, label=\"TEST positivo\",\n",
    "    )\n",
    "    ax[i].plot(\n",
    "        MAL,\n",
    "        1 - P_S_n(MAL, spec, sens),\n",
    "        lw=2, label=\"TEST negativo\"\n",
    "    )\n",
    "    ax[i].scatter(\n",
    "        inc,\n",
    "        P_M_p(inc, spec, sens),\n",
    "        c=\"k\", s=40, zorder=5,\n",
    "    )\n",
    "    x = P_M_p(inc, spec, sens)\n",
    "    for j in range(1):\n",
    "        y = 1 - P_S_n(x, spec, sens)\n",
    "        ax[i].scatter(x, y,\n",
    "            c=\"k\", s=100, marker=f\"${j+1}$\", zorder=10\n",
    "        )\n",
    "        if y < .05:\n",
    "            break\n",
    "        x = y\n",
    "    ax[i].plot([0,1], [0,1], c=\"g\")\n",
    "    ax[i].set_ylabel(\"Probabilità di Malattia a $\\mathbf{Posteriori}$\", fontsize=\"xx-large\")\n",
    "    ax[i].set_xlabel(\"Probabilità di Malattia a $\\mathbf{Priori}$\", fontsize=\"xx-large\")\n",
    "    ax[i].legend(loc=\"lower right\")\n",
    "\n",
    "    ax[i].axvline(inc, ls=\":\", c=\"k\")\n",
    "    ax[i].axhline(.05, c=\"k\", alpha=.5)\n",
    "    ax[i].axhline(p_plus_min, ls=\"--\", c=\"k\", alpha=.5)\n",
    "    ax[i].axhline(p_plus_opt, c=\"k\", alpha=.5)\n",
    "    ax[i].table(\n",
    "        cellText=[\n",
    "            [\n",
    "                f\"{inc:.4f} = {inc:.2%}\", \n",
    "                f'{P_M_p(inc, spec, sens):.4f} = {P_M_p(inc, spec, sens):.2%}', \n",
    "                f'{(1 - P_S_n(inc, spec, sens)):.4f} = {(1 - P_S_n(inc, spec, sens)):.2%}'\n",
    "            ],\n",
    "        ],\n",
    "        colLabels=[\"Probabilità a Priori\", \"Test Positivo\", \"Test Negativo\"],\n",
    "        loc=\"top\"\n",
    "    )\n",
    "    x1 = inc\n",
    "    y1 = P_M_p(inc, spec, sens)\n",
    "    x2 = y1\n",
    "    y2 = 1-P_S_n(y1, spec, sens)\n",
    "    ax[i].arrow(x1+.02, y1-.02, x2-x1-.04, y2-y1+.04, \n",
    "        length_includes_head=True, head_width=.025, lw=1, color=\"y\")\n",
    "    ax[i].set_title(\n",
    "        f'Sensibilità {sens:.1%}  &  Specificità {spec:.1%}', \n",
    "        pad=30, fontsize=15)\n",
    "    ax[i].set_xlim(0, 1); ax[i].set_ylim(0, 1)\n",
    "\n",
    "\n",
    "latexplot(\n",
    "    plt, \"covidrdtpeggio\",\n",
    "    \"Probabilità di malattia COVID-19 a posteriori per test RDT per le peggiori sensibilità o specificità.\",\n",
    "    showme=False\n",
    ")"
   ]
  },
  {
   "cell_type": "code",
   "execution_count": 39,
   "metadata": {},
   "outputs": [
    {
     "data": {
      "text/latex": [
       "\n",
       "        \\begin{figure}\n",
       "        \\centering\n",
       "            \\includegraphics{covidrdtmeglio.png}\n",
       "            \\caption{Probabilità di malattia COVID-19 a posteriori per test RDT con miglior specificità o sensibilità.}\n",
       "            \\label{fig:covidrdtmeglio}\n",
       "        \\end{figure}"
      ],
      "text/plain": [
       "<IPython.core.display.Latex object>"
      ]
     },
     "metadata": {},
     "output_type": "display_data"
    }
   ],
   "source": [
    "fig, ax = plt.subplots(1, 2, figsize=(15, 7))\n",
    "\n",
    "for i, P in enumerate([\"spec\", \"sens\"]):\n",
    "    spec, sens = rdt_df[rdt_df.loc[P].idxmax()]\n",
    "    if spec == 1:\n",
    "        spec = .9999\n",
    "    if sens == 1:\n",
    "        sens = .9999\n",
    "    ax[i].plot(\n",
    "        MAL,\n",
    "        P_M_p(MAL, spec, sens),\n",
    "        lw=2, label=\"TEST positivo\",\n",
    "    )\n",
    "    ax[i].plot(\n",
    "        MAL,\n",
    "        1 - P_S_n(MAL, spec, sens),\n",
    "        lw=2, label=\"TEST negativo\"\n",
    "    )\n",
    "    ax[i].scatter(\n",
    "        inc,\n",
    "        P_M_p(inc, spec, sens),\n",
    "        c=\"k\", s=40, zorder=5,\n",
    "    )\n",
    "    x = P_M_p(inc, spec, sens)\n",
    "    for j in range(1):\n",
    "        y = 1 - P_S_n(x, spec, sens)\n",
    "        ax[i].scatter(x, y,\n",
    "            c=\"k\", s=100, marker=f\"${j+1}$\", zorder=10\n",
    "        )\n",
    "        if y < .05:\n",
    "            break\n",
    "        x = y\n",
    "    ax[i].plot([0,1], [0,1], c=\"g\")\n",
    "    ax[i].set_ylabel(\"Probabilità di Malattia a $\\mathbf{Posteriori}$\", fontsize=\"xx-large\")\n",
    "    ax[i].set_xlabel(\"Probabilità di Malattia a $\\mathbf{Priori}$\", fontsize=\"xx-large\")\n",
    "    ax[i].legend(loc=\"center\")\n",
    "\n",
    "    ax[i].axvline(inc, ls=\":\", c=\"k\")\n",
    "    ax[i].axhline(.05, c=\"k\", alpha=.5)\n",
    "    ax[i].axhline(p_plus_min, ls=\"--\", c=\"k\", alpha=.5)\n",
    "    ax[i].axhline(p_plus_opt, c=\"k\", alpha=.5)\n",
    "    ax[i].table(\n",
    "        cellText=[\n",
    "            [\n",
    "                f\"{inc:.4f} = {inc:.2%}\", \n",
    "                f'{P_M_p(inc, spec, sens):.4f} = {P_M_p(inc, spec, sens):.2%}', \n",
    "                f'{(1 - P_S_n(inc, spec, sens)):.4f} = {(1 - P_S_n(inc, spec, sens)):.2%}'\n",
    "            ],\n",
    "        ],\n",
    "        colLabels=[\"Probabilità a Priori\", \"Test Positivo\", \"Test Negativo\"],\n",
    "        loc=\"top\"\n",
    "    )\n",
    "    x1 = inc\n",
    "    y1 = P_M_p(inc, spec, sens)\n",
    "    x2 = y1\n",
    "    y2 = 1-P_S_n(y1, spec, sens)\n",
    "    dy = y2-y1+.04\n",
    "    ax[i].arrow(x1+.02, y1-.02, x2-x1-.04, dy if dy < 0 else 0, \n",
    "        length_includes_head=True, head_width=.025, lw=1, color=\"y\")\n",
    "    ax[i].set_title(\n",
    "        f'Sensibilità {sens:.1%}  &  Specificità {spec:.1%}', \n",
    "        pad=30, fontsize=15)\n",
    "    ax[i].set_xlim(0, 1); ax[i].set_ylim(0, 1)\n",
    "\n",
    "\n",
    "latexplot(\n",
    "    plt, \"covidrdtmeglio\",\n",
    "    \"Probabilità di malattia COVID-19 a posteriori per test RDT con miglior specificità o sensibilità.\",\n",
    "    showme=False\n",
    ")"
   ]
  },
  {
   "cell_type": "code",
   "execution_count": 40,
   "metadata": {},
   "outputs": [
    {
     "data": {
      "text/latex": [
       "\n",
       "        \\begin{figure}\n",
       "        \\centering\n",
       "            \\includegraphics[width=0.5\\textwidth,height=0.5\\textheight,keepaspectratio]{allrdt.png}\n",
       "            \\caption{Probabilità di malattia a posteriori per i test RDT.}\n",
       "            \\label{fig:allrdt}\n",
       "        \\end{figure}"
      ],
      "text/plain": [
       "<IPython.core.display.Latex object>"
      ]
     },
     "metadata": {},
     "output_type": "display_data"
    }
   ],
   "source": [
    "PMP = P_M_p(inc, RDTspecs, RDTsenss)\n",
    "PMN = 1 - P_S_n(inc, RDTspecs, RDTsenss)\n",
    "\n",
    "tickL = [f\"$\\mathbf{{SPEC}}$:{sp:.2%} $\\mathbf{{SENS}}$:{se:.2%}\" for sp, se in zip(RDTspecs, RDTsenss)]\n",
    "\n",
    "fig, ax = plt.subplots(figsize=(10, 10))\n",
    "ax.scatter(np.arange(len(PMP)), PMP, marker=\"$\\oplus$\", s=150)\n",
    "ax.scatter(np.arange(len(PMN)), PMN, marker=\"$\\ominus$\", s=150)\n",
    "for i in range(len(PMP)):\n",
    "    ax.plot([i, i], [PMP[i], PMN[i]], lw=1, ls=\":\", c=\"k\")\n",
    "for i, (spec, sens) in enumerate(zip(RDTspecs, RDTsenss)):\n",
    "    if spec == 1:\n",
    "        spec = .9999\n",
    "    if sens == 1:\n",
    "        sens = .9999\n",
    "    x = P_M_p(inc, spec, sens)\n",
    "    for j in range(1):\n",
    "        y = 1 - P_S_n(x, spec, sens)\n",
    "        ax.scatter(i+.3, y,\n",
    "            c=\"k\", s=50, marker=f\"${j+1}$\", zorder=1\n",
    "        )\n",
    "        if y < .05:\n",
    "            break\n",
    "        x = y\n",
    "\n",
    "# Create a Rectangle patch\n",
    "rect = patches.Rectangle((3.5,-.05),1,1,linewidth=1,edgecolor='r',facecolor='none')\n",
    "# Add the patch to the Axes\n",
    "ax.add_patch(rect)\n",
    "\n",
    "ax.axhline(0, c=\"k\", alpha=.25)\n",
    "ax.axhline(.05, c=\"k\", alpha=.25)\n",
    "ax.axhline(.5, c=\"k\", alpha=.25)\n",
    "ax.axhline(.9, c=\"k\", alpha=.25)\n",
    "ax.axhline(1, c=\"k\", alpha=.25)\n",
    "ax.set_xticks(np.arange(len(PMP)))\n",
    "ax.set_xticklabels(tickL, rotation=90)\n",
    "ax.set_ylabel(\"Probabilità di Malattia a $\\mathbf{Posteriori}$\", fontsize=\"xx-large\")\n",
    "latexplot(plt, \"allrdt\", \n",
    "         \"Probabilità di malattia a posteriori per i test RDT.\", single=True, showme=False)"
   ]
  },
  {
   "cell_type": "markdown",
   "metadata": {},
   "source": [
    "Tutti i test RDT sono dunque utili per escludere la probabilità a posteriori di malattia in caso di test negativi $P(M|\\ominus)$ su individui di cui non si abbiano precedenti informazioni, figura $\\ref{fig:allrdt}$, ma molti test presentano probabilità a posteriori in caso di test positivi $P(M|\\oplus)$ molto al di sotto dei parametri ottimali $p_{\\oplus}=.90$ e nella maggior parte il primo test di controllo con in pazienti precedentemente risultati positivi non è sufficiente a escludere la patologia.\n",
    "\n",
    "Tra i test con $P(M|\\oplus)>.90$ è probabilmente preferibile il quinto da sinistra in figura $\\ref{fig:allrdt}$ (e grafico a destra in figura $\\ref{fig:covidrdtmeglio}$) con specificità 98.7% e sensibilità 100% dato che è sufficiente un solo test in tutti i casi, anche per escludere la probabilità a posteriori di malattia in un soggetto precedentemente risultato positivo e dunque non è necessario effettuare test multipli con regola $\\mathbf{E}_{\\oplus}$ degradando l'ottima sensibilità e aumentando il rischio di falsi negativi. Infatti abbiamo"
   ]
  },
  {
   "cell_type": "code",
   "execution_count": 41,
   "metadata": {},
   "outputs": [
    {
     "data": {
      "text/markdown": [
       "\n",
       "$$\n",
       "P(f_-) = 1 - \\mathbf{SE} = 1 - 1.000 = 0.000 = 0.00\\%\n",
       "$$\n",
       "\n",
       "$$\n",
       "P(f_+) = 1 - \\mathbf{SP} = 1 - 0.987 = 0.013 = 1.30\\%\n",
       "$$\n"
      ],
      "text/plain": [
       "<IPython.core.display.Markdown object>"
      ]
     },
     "metadata": {},
     "output_type": "display_data"
    }
   ],
   "source": [
    "display(Markdown(fr\"\"\"\n",
    "$$\n",
    "P(f_-) = 1 - \\mathbf{{SE}} = 1 - 1.000 = {1 - 1:.3f} = {(1 - 1)*100:.2f}\\%\n",
    "$$\n",
    "\n",
    "$$\n",
    "P(f_+) = 1 - \\mathbf{{SP}} = 1 - 0.987 = {1 - .987:.3f} = {(1 - .987)*100:.2f}\\%\n",
    "$$\n",
    "\"\"\"))"
   ]
  },
  {
   "cell_type": "markdown",
   "metadata": {},
   "source": [
    "Per tutti gli altri test è necessario stabilire delle regole di ripetizione per migliorare sensibilità o specificità senza degradare eccessivamente il parametro opposto."
   ]
  },
  {
   "cell_type": "markdown",
   "metadata": {},
   "source": [
    "# Conclusioni\n",
    "\n",
    "Data la prevalenza di COVID-19 in fase pandemica, sensibilità e specificità dei test attualmente effettuati (tamponi naso-faringeri RT-PCR RNA), un solo tampone positivo o negativo è sufficiente per diagnosticare o escludere la patologia in soggetti di cui non si abbiano precedenti informazioni (utile, ad esempio, per screening).\n",
    "\n",
    "La necessità di ripetizione di 3 tamponi naso-faringei se negativi per escludere la patologia in pazienti precedentemente affetti da COVID-19 è giustificata dalla non ottimale sensibilità dei tamponi e dalla buona specificità, ottenendo probabilità di malattia o salute molto elevate e percentuali accettabili di falsi negativi e positivi.\n",
    "\n",
    "L'estrema variabilità di sensibilità e specificità dei test diagnostici rapidi (RDT per IgM e IgG) rende necessario lo studio _ad hoc_ di standard di utilizzo e strategie di ripetizione per ridurre falsi positivi e negativi, a meno di avere a disposizione test con accertate sensibilità e specificità prossime al 100%."
   ]
  },
  {
   "cell_type": "code",
   "execution_count": null,
   "metadata": {},
   "outputs": [],
   "source": []
  }
 ],
 "metadata": {
  "kernelspec": {
   "display_name": "Python 3",
   "language": "python",
   "name": "python3"
  },
  "language_info": {
   "codemirror_mode": {
    "name": "ipython",
    "version": 3
   },
   "file_extension": ".py",
   "mimetype": "text/x-python",
   "name": "python",
   "nbconvert_exporter": "python",
   "pygments_lexer": "ipython3",
   "version": "3.7.7"
  }
 },
 "nbformat": 4,
 "nbformat_minor": 4
}
